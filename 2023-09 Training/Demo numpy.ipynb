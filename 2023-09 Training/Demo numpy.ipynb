{
 "cells": [
  {
   "cell_type": "code",
   "execution_count": 1,
   "id": "6f48d431-515d-42e5-b593-2a1754ee2d1b",
   "metadata": {},
   "outputs": [],
   "source": [
    "import numpy as np"
   ]
  },
  {
   "cell_type": "code",
   "execution_count": 7,
   "id": "329c9d8c-3903-4c79-8e69-8f72df4cd32e",
   "metadata": {},
   "outputs": [
    {
     "data": {
      "text/plain": [
       "[23, 435, 56, 78, 89, 65, 34, 6, 8, 2.5]"
      ]
     },
     "execution_count": 7,
     "metadata": {},
     "output_type": "execute_result"
    }
   ],
   "source": [
    "numbers = [23,435,56,78,89,65,34,6,8,2.5]\n",
    "numbers"
   ]
  },
  {
   "cell_type": "code",
   "execution_count": 123,
   "id": "0fde0c88-6de9-4564-8234-9a589cdc5c88",
   "metadata": {},
   "outputs": [
    {
     "data": {
      "text/plain": [
       "array([ 23. , 435. ,  56. ,  78. ,  89. ,  65. ,  34. ,   6. ,   8. ,\n",
       "         2.5])"
      ]
     },
     "execution_count": 123,
     "metadata": {},
     "output_type": "execute_result"
    }
   ],
   "source": [
    "anumbers = np.array(numbers)\n",
    "anumbers"
   ]
  },
  {
   "cell_type": "code",
   "execution_count": 9,
   "id": "d6054877-84c8-47c5-9cce-0b799b621d68",
   "metadata": {},
   "outputs": [
    {
     "data": {
      "text/plain": [
       "numpy.ndarray"
      ]
     },
     "execution_count": 9,
     "metadata": {},
     "output_type": "execute_result"
    }
   ],
   "source": [
    "type(anumbers)"
   ]
  },
  {
   "cell_type": "code",
   "execution_count": 10,
   "id": "04e8adba-05ec-40ab-a600-ed1f8570b428",
   "metadata": {},
   "outputs": [
    {
     "data": {
      "text/plain": [
       "dtype('float64')"
      ]
     },
     "execution_count": 10,
     "metadata": {},
     "output_type": "execute_result"
    }
   ],
   "source": [
    "anumbers.dtype"
   ]
  },
  {
   "cell_type": "code",
   "execution_count": 11,
   "id": "859e82f1-8bd4-4751-86fb-43daf570fdf6",
   "metadata": {},
   "outputs": [
    {
     "name": "stdout",
     "output_type": "stream",
     "text": [
      "[ 23.  435.   56.   78.   89.   65.   34.    6.    8.    2.5]\n"
     ]
    }
   ],
   "source": [
    "print(anumbers)"
   ]
  },
  {
   "cell_type": "code",
   "execution_count": 12,
   "id": "a7838d99-dcfe-45d3-83a8-458aa6de3bac",
   "metadata": {},
   "outputs": [
    {
     "data": {
      "text/plain": [
       "10"
      ]
     },
     "execution_count": 12,
     "metadata": {},
     "output_type": "execute_result"
    }
   ],
   "source": [
    "len(anumbers)"
   ]
  },
  {
   "cell_type": "code",
   "execution_count": 16,
   "id": "1bc73c69-e9b1-4159-bbb5-bb418c8072a7",
   "metadata": {},
   "outputs": [
    {
     "data": {
      "text/plain": [
       "(10,)"
      ]
     },
     "execution_count": 16,
     "metadata": {},
     "output_type": "execute_result"
    }
   ],
   "source": [
    "anumbers.shape"
   ]
  },
  {
   "cell_type": "code",
   "execution_count": 17,
   "id": "0f50ab02-3037-41af-bec6-5f3b6e9cceb4",
   "metadata": {},
   "outputs": [
    {
     "data": {
      "text/plain": [
       "1"
      ]
     },
     "execution_count": 17,
     "metadata": {},
     "output_type": "execute_result"
    }
   ],
   "source": [
    "anumbers.ndim"
   ]
  },
  {
   "cell_type": "code",
   "execution_count": 18,
   "id": "6386eba1-b018-4c0e-a91c-635c2c1db0e4",
   "metadata": {},
   "outputs": [
    {
     "data": {
      "text/plain": [
       "array([[ 23. , 435. ,  56. ,  78. ,  89. ],\n",
       "       [ 65. ,  34. ,   6. ,   8. ,   2.5]])"
      ]
     },
     "execution_count": 18,
     "metadata": {},
     "output_type": "execute_result"
    }
   ],
   "source": [
    "anumbers.reshape(2, 5)"
   ]
  },
  {
   "cell_type": "code",
   "execution_count": 20,
   "id": "0cec9ec2-7714-449e-b841-b61e0196bad5",
   "metadata": {},
   "outputs": [
    {
     "data": {
      "text/plain": [
       "array([[ 23. , 435. ],\n",
       "       [ 56. ,  78. ],\n",
       "       [ 89. ,  65. ],\n",
       "       [ 34. ,   6. ],\n",
       "       [  8. ,   2.5]])"
      ]
     },
     "execution_count": 20,
     "metadata": {},
     "output_type": "execute_result"
    }
   ],
   "source": [
    "m = anumbers.reshape(5, 2)\n",
    "m"
   ]
  },
  {
   "cell_type": "code",
   "execution_count": 21,
   "id": "1b5a5cef-e7d2-450e-b4af-9a7b161b3124",
   "metadata": {},
   "outputs": [
    {
     "data": {
      "text/plain": [
       "numpy.ndarray"
      ]
     },
     "execution_count": 21,
     "metadata": {},
     "output_type": "execute_result"
    }
   ],
   "source": [
    "type(m)"
   ]
  },
  {
   "cell_type": "code",
   "execution_count": 22,
   "id": "7ea71fdc-ee3a-48a6-ad01-8645e8480807",
   "metadata": {},
   "outputs": [
    {
     "data": {
      "text/plain": [
       "2"
      ]
     },
     "execution_count": 22,
     "metadata": {},
     "output_type": "execute_result"
    }
   ],
   "source": [
    "m.ndim"
   ]
  },
  {
   "cell_type": "code",
   "execution_count": 23,
   "id": "77b2990b-fa27-4024-8750-9a6b2e474470",
   "metadata": {},
   "outputs": [
    {
     "data": {
      "text/plain": [
       "(5, 2)"
      ]
     },
     "execution_count": 23,
     "metadata": {},
     "output_type": "execute_result"
    }
   ],
   "source": [
    "m.shape"
   ]
  },
  {
   "cell_type": "code",
   "execution_count": 24,
   "id": "15d8488e-3953-4b74-a79a-e4c918a9e813",
   "metadata": {},
   "outputs": [
    {
     "data": {
      "text/plain": [
       "array([[ 23. ,  56. ,  89. ,  34. ,   8. ],\n",
       "       [435. ,  78. ,  65. ,   6. ,   2.5]])"
      ]
     },
     "execution_count": 24,
     "metadata": {},
     "output_type": "execute_result"
    }
   ],
   "source": [
    "m.transpose()"
   ]
  },
  {
   "cell_type": "code",
   "execution_count": 30,
   "id": "fc941d34-636f-49d2-80d1-9df7f746380a",
   "metadata": {},
   "outputs": [
    {
     "data": {
      "text/plain": [
       "array([[0, 0, 0, 0, 0, 0, 0, 0, 0, 0],\n",
       "       [0, 0, 0, 0, 0, 0, 0, 0, 0, 0],\n",
       "       [0, 0, 0, 0, 0, 0, 0, 0, 0, 0],\n",
       "       [0, 0, 0, 0, 0, 0, 0, 0, 0, 0],\n",
       "       [0, 0, 0, 0, 0, 0, 0, 0, 0, 0],\n",
       "       [0, 0, 0, 0, 0, 0, 0, 0, 0, 0],\n",
       "       [0, 0, 0, 0, 0, 0, 0, 0, 0, 0],\n",
       "       [0, 0, 0, 0, 0, 0, 0, 0, 0, 0],\n",
       "       [0, 0, 0, 0, 0, 0, 0, 0, 0, 0],\n",
       "       [0, 0, 0, 0, 0, 0, 0, 0, 0, 0]])"
      ]
     },
     "execution_count": 30,
     "metadata": {},
     "output_type": "execute_result"
    }
   ],
   "source": [
    "np.zeros((10, 10), dtype = 'int')"
   ]
  },
  {
   "cell_type": "code",
   "execution_count": 35,
   "id": "dbe1f00c-9089-4002-a2b2-8fe29676e66f",
   "metadata": {},
   "outputs": [
    {
     "data": {
      "text/plain": [
       "array([ 1. ,  1.5,  2. ,  2.5,  3. ,  3.5,  4. ,  4.5,  5. ,  5.5,  6. ,\n",
       "        6.5,  7. ,  7.5,  8. ,  8.5,  9. ,  9.5, 10. , 10.5, 11. , 11.5,\n",
       "       12. , 12.5, 13. , 13.5, 14. , 14.5, 15. , 15.5, 16. , 16.5, 17. ,\n",
       "       17.5, 18. , 18.5, 19. , 19.5, 20. , 20.5])"
      ]
     },
     "execution_count": 35,
     "metadata": {},
     "output_type": "execute_result"
    }
   ],
   "source": [
    "np.arange(1, 21, 0.5)"
   ]
  },
  {
   "cell_type": "code",
   "execution_count": 39,
   "id": "29b70dda-d5d5-4655-b9de-7d19e7626cc6",
   "metadata": {},
   "outputs": [
    {
     "data": {
      "text/plain": [
       "array([ 1. ,  1.5,  2. ,  2.5,  3. ,  3.5,  4. ,  4.5,  5. ,  5.5,  6. ,\n",
       "        6.5,  7. ,  7.5,  8. ,  8.5,  9. ,  9.5, 10. , 10.5, 11. , 11.5,\n",
       "       12. , 12.5, 13. , 13.5, 14. , 14.5, 15. , 15.5, 16. , 16.5, 17. ,\n",
       "       17.5, 18. , 18.5, 19. , 19.5, 20. , 20.5, 21. ])"
      ]
     },
     "execution_count": 39,
     "metadata": {},
     "output_type": "execute_result"
    }
   ],
   "source": [
    "np.linspace(1, 21, 41)"
   ]
  },
  {
   "cell_type": "code",
   "execution_count": 40,
   "id": "5bc38acc-5b0f-453e-84c1-6c81dd19835e",
   "metadata": {},
   "outputs": [],
   "source": [
    "x = np.linspace(1, 10, 1000)"
   ]
  },
  {
   "cell_type": "code",
   "execution_count": 44,
   "id": "173685c3-ede8-49ff-896a-9f593cd9be91",
   "metadata": {},
   "outputs": [],
   "source": [
    "y1 = np.sin(x)\n",
    "y2 = np.cos(x)"
   ]
  },
  {
   "cell_type": "code",
   "execution_count": 45,
   "id": "4316dbd1-f826-47e7-b6bf-8549bfc0fbe6",
   "metadata": {},
   "outputs": [],
   "source": [
    "import matplotlib.pyplot as plt"
   ]
  },
  {
   "cell_type": "code",
   "execution_count": 47,
   "id": "3f0b8a0b-f694-4200-bcc2-2a73d08b07ea",
   "metadata": {},
   "outputs": [
    {
     "data": {
      "image/png": "[encoded data removed]",
      "text/plain": [
       "<Figure size 640x480 with 1 Axes>"
      ]
     },
     "metadata": {},
     "output_type": "display_data"
    }
   ],
   "source": [
    "plt.plot(x, y1)\n",
    "plt.plot(x, y2)\n",
    "plt.show()"
   ]
  },
  {
   "cell_type": "code",
   "execution_count": 48,
   "id": "ec318019-d2b9-4256-bbc1-26104da47123",
   "metadata": {},
   "outputs": [
    {
     "data": {
      "text/plain": [
       "[1, 4, 9, 16, 25, 36, 49, 64, 81]"
      ]
     },
     "execution_count": 48,
     "metadata": {},
     "output_type": "execute_result"
    }
   ],
   "source": [
    "getallen = [1,2,3,4,5,6,7,8,9]\n",
    "kwardraten = [x ** 2 for x in getallen]\n",
    "kwardraten"
   ]
  },
  {
   "cell_type": "code",
   "execution_count": 49,
   "id": "fac4b2e4-9e62-437d-8917-8c736886e73c",
   "metadata": {},
   "outputs": [
    {
     "data": {
      "text/plain": [
       "array([1, 2, 3, 4, 5, 6, 7, 8, 9])"
      ]
     },
     "execution_count": 49,
     "metadata": {},
     "output_type": "execute_result"
    }
   ],
   "source": [
    "agetallen = np.array(getallen)\n",
    "agetallen"
   ]
  },
  {
   "cell_type": "code",
   "execution_count": 50,
   "id": "cbd1cba3-7579-4335-8613-49ca5b945c94",
   "metadata": {},
   "outputs": [
    {
     "data": {
      "text/plain": [
       "array([ 1,  4,  9, 16, 25, 36, 49, 64, 81])"
      ]
     },
     "execution_count": 50,
     "metadata": {},
     "output_type": "execute_result"
    }
   ],
   "source": [
    "agetallen ** 2"
   ]
  },
  {
   "cell_type": "code",
   "execution_count": 58,
   "id": "0c484d6f-2697-4084-a2b4-b7dde32572cd",
   "metadata": {},
   "outputs": [
    {
     "data": {
      "text/plain": [
       "array([ 2,  4,  6,  8, 10, 12, 14, 16, 18])"
      ]
     },
     "execution_count": 58,
     "metadata": {},
     "output_type": "execute_result"
    }
   ],
   "source": [
    "agetallen * 2"
   ]
  },
  {
   "cell_type": "code",
   "execution_count": 57,
   "id": "2bee5553-de6c-4c82-bdea-17701c2fef93",
   "metadata": {},
   "outputs": [
    {
     "data": {
      "text/plain": [
       "[1, 2, 3, 4, 5, 6, 7, 8, 9, 1, 2, 3, 4, 5, 6, 7, 8, 9]"
      ]
     },
     "execution_count": 57,
     "metadata": {},
     "output_type": "execute_result"
    }
   ],
   "source": [
    "getallen * 2"
   ]
  },
  {
   "cell_type": "code",
   "execution_count": 59,
   "id": "a5e948e3-7217-45cd-9940-fee8e0772e9e",
   "metadata": {},
   "outputs": [
    {
     "data": {
      "text/plain": [
       "array([1, 2, 3, 4, 5, 6, 7, 8, 9])"
      ]
     },
     "execution_count": 59,
     "metadata": {},
     "output_type": "execute_result"
    }
   ],
   "source": [
    "agetallen"
   ]
  },
  {
   "cell_type": "code",
   "execution_count": 62,
   "id": "aa18e8bb-8b36-4075-bbc0-58d3232948d8",
   "metadata": {},
   "outputs": [
    {
     "data": {
      "text/plain": [
       "array([100, 200, 300, 400, 500, 600, 700, 800, 900])"
      ]
     },
     "execution_count": 62,
     "metadata": {},
     "output_type": "execute_result"
    }
   ],
   "source": [
    "agetallen2 = agetallen * 100\n",
    "agetallen2"
   ]
  },
  {
   "cell_type": "code",
   "execution_count": 63,
   "id": "6fb598f1-21bc-4521-9402-c74b9f9d054b",
   "metadata": {},
   "outputs": [
    {
     "data": {
      "text/plain": [
       "array([101, 202, 303, 404, 505, 606, 707, 808, 909])"
      ]
     },
     "execution_count": 63,
     "metadata": {},
     "output_type": "execute_result"
    }
   ],
   "source": [
    "agetallen2 + agetallen"
   ]
  },
  {
   "cell_type": "code",
   "execution_count": 65,
   "id": "8d0cb9de-384d-4953-becb-7cc5be4940a2",
   "metadata": {},
   "outputs": [
    {
     "data": {
      "text/plain": [
       "array([ 23. , 435. ,  56. ,  78. ,  89. ,  65. ,  34. ,   6. ,   8. ,\n",
       "         2.5])"
      ]
     },
     "execution_count": 65,
     "metadata": {},
     "output_type": "execute_result"
    }
   ],
   "source": [
    "anumbers"
   ]
  },
  {
   "cell_type": "code",
   "execution_count": 77,
   "id": "5cfd82f8-103c-4ec2-96ca-1cd70f49d254",
   "metadata": {},
   "outputs": [
    {
     "data": {
      "text/plain": [
       "array([ 23., 435.,  56.,  78.,  89.])"
      ]
     },
     "execution_count": 77,
     "metadata": {},
     "output_type": "execute_result"
    }
   ],
   "source": [
    "anumbers[:5]"
   ]
  },
  {
   "cell_type": "code",
   "execution_count": 78,
   "id": "c016ed49-e636-45d4-b29a-c531de18547d",
   "metadata": {},
   "outputs": [
    {
     "data": {
      "text/plain": [
       "array([[ 23. , 435. ],\n",
       "       [ 56. ,  78. ],\n",
       "       [ 89. ,  65. ],\n",
       "       [ 34. ,   6. ],\n",
       "       [  8. ,   2.5]])"
      ]
     },
     "execution_count": 78,
     "metadata": {},
     "output_type": "execute_result"
    }
   ],
   "source": [
    "m"
   ]
  },
  {
   "cell_type": "code",
   "execution_count": 75,
   "id": "fb9c71d4-1fe3-4f29-a84b-9c8caf069976",
   "metadata": {},
   "outputs": [
    {
     "data": {
      "text/plain": [
       "65.0"
      ]
     },
     "execution_count": 75,
     "metadata": {},
     "output_type": "execute_result"
    }
   ],
   "source": [
    "m[2][1]"
   ]
  },
  {
   "cell_type": "code",
   "execution_count": 76,
   "id": "fc3bc3b7-6144-474d-8c8d-9876b69b0ccd",
   "metadata": {},
   "outputs": [
    {
     "data": {
      "text/plain": [
       "65.0"
      ]
     },
     "execution_count": 76,
     "metadata": {},
     "output_type": "execute_result"
    }
   ],
   "source": [
    "m[2, 1]"
   ]
  },
  {
   "cell_type": "code",
   "execution_count": 79,
   "id": "92922a86-b3e0-4f01-8ef9-4de4c94049a6",
   "metadata": {},
   "outputs": [
    {
     "data": {
      "text/plain": [
       "array([[89., 65.],\n",
       "       [34.,  6.]])"
      ]
     },
     "execution_count": 79,
     "metadata": {},
     "output_type": "execute_result"
    }
   ],
   "source": [
    "m[2:4]"
   ]
  },
  {
   "cell_type": "code",
   "execution_count": 80,
   "id": "a9331969-58ea-4cb5-9718-5970e67a85a6",
   "metadata": {},
   "outputs": [
    {
     "data": {
      "text/plain": [
       "array([65.,  6.])"
      ]
     },
     "execution_count": 80,
     "metadata": {},
     "output_type": "execute_result"
    }
   ],
   "source": [
    "m[2:4, 1]"
   ]
  },
  {
   "cell_type": "code",
   "execution_count": 83,
   "id": "e0b75eb0-53ef-4045-9bfd-f70184cbe3d0",
   "metadata": {},
   "outputs": [
    {
     "data": {
      "text/plain": [
       "array([34.,  8.])"
      ]
     },
     "execution_count": 83,
     "metadata": {},
     "output_type": "execute_result"
    }
   ],
   "source": [
    "m[-2:, 0]"
   ]
  },
  {
   "cell_type": "code",
   "execution_count": 84,
   "id": "8be8dc6b-df47-4ee6-b83d-9b3de9f18ba7",
   "metadata": {},
   "outputs": [
    {
     "data": {
      "text/plain": [
       "array([[ 23. , 435. ],\n",
       "       [ 56. ,  78. ],\n",
       "       [ 89. ,  65. ],\n",
       "       [ 34. ,   6. ],\n",
       "       [  8. ,   2.5]])"
      ]
     },
     "execution_count": 84,
     "metadata": {},
     "output_type": "execute_result"
    }
   ],
   "source": [
    "m"
   ]
  },
  {
   "cell_type": "code",
   "execution_count": 106,
   "id": "b0dc7a03-eb67-49ee-803a-b36d2a43f968",
   "metadata": {},
   "outputs": [],
   "source": [
    "m[4, 0] = 0"
   ]
  },
  {
   "cell_type": "code",
   "execution_count": 107,
   "id": "126be9a0-75ea-4352-b386-85bea42e5dd5",
   "metadata": {},
   "outputs": [
    {
     "data": {
      "text/plain": [
       "array([[ 23. , 435. ],\n",
       "       [ 56. ,  78. ],\n",
       "       [ 89. ,  65. ],\n",
       "       [ 34. ,   6. ],\n",
       "       [  0. ,   2.5]])"
      ]
     },
     "execution_count": 107,
     "metadata": {},
     "output_type": "execute_result"
    }
   ],
   "source": [
    "m"
   ]
  },
  {
   "cell_type": "code",
   "execution_count": 104,
   "id": "d14cf643-4d64-44c9-9b87-c087c139683b",
   "metadata": {},
   "outputs": [],
   "source": [
    "v = m[-2:, 0]"
   ]
  },
  {
   "cell_type": "code",
   "execution_count": 108,
   "id": "61d2b8ee-0866-4238-be02-1c5903fb802c",
   "metadata": {},
   "outputs": [
    {
     "data": {
      "text/plain": [
       "array([34.,  0.])"
      ]
     },
     "execution_count": 108,
     "metadata": {},
     "output_type": "execute_result"
    }
   ],
   "source": [
    "v"
   ]
  },
  {
   "cell_type": "code",
   "execution_count": 109,
   "id": "cca86aa5-60b8-4837-9ccd-438ab01fa745",
   "metadata": {},
   "outputs": [
    {
     "data": {
      "text/plain": [
       "array([ 23. , 435. ,  56. ,  78. ,  89. ,  65. ,  34. ,   6. ,   0. ,\n",
       "         2.5])"
      ]
     },
     "execution_count": 109,
     "metadata": {},
     "output_type": "execute_result"
    }
   ],
   "source": [
    "anumbers"
   ]
  },
  {
   "cell_type": "code",
   "execution_count": 115,
   "id": "6801d227-4a0c-4459-80f4-e7b3f3134298",
   "metadata": {},
   "outputs": [
    {
     "data": {
      "text/plain": [
       "array([89. , 56. , 23. , 34. ,  6. ,  2.5])"
      ]
     },
     "execution_count": 115,
     "metadata": {},
     "output_type": "execute_result"
    }
   ],
   "source": [
    "anumbers[[4, 2, 0, 6, 7, -1]]"
   ]
  },
  {
   "cell_type": "code",
   "execution_count": 117,
   "id": "04b14b3b-15ff-489f-acbf-e7df3dd58e54",
   "metadata": {},
   "outputs": [
    {
     "data": {
      "text/plain": [
       "array([8, 9, 7, 0, 6, 2, 5, 3, 4, 1])"
      ]
     },
     "execution_count": 117,
     "metadata": {},
     "output_type": "execute_result"
    }
   ],
   "source": [
    "np.argsort(anumbers)"
   ]
  },
  {
   "cell_type": "code",
   "execution_count": 118,
   "id": "b8344651-8133-4588-90ff-fb12212a4f9d",
   "metadata": {},
   "outputs": [
    {
     "data": {
      "text/plain": [
       "array([  0. ,   2.5,   6. ,  23. ,  34. ,  56. ,  65. ,  78. ,  89. ,\n",
       "       435. ])"
      ]
     },
     "execution_count": 118,
     "metadata": {},
     "output_type": "execute_result"
    }
   ],
   "source": [
    "anumbers[np.argsort(anumbers)]"
   ]
  },
  {
   "cell_type": "code",
   "execution_count": 126,
   "id": "95b6e483-05cc-41da-a240-f0d20c52c495",
   "metadata": {},
   "outputs": [
    {
     "data": {
      "text/plain": [
       "array([  2.5,   6. ,   8. ,  23. ,  34. ,  56. ,  65. ,  78. ,  89. ,\n",
       "       435. ])"
      ]
     },
     "execution_count": 126,
     "metadata": {},
     "output_type": "execute_result"
    }
   ],
   "source": [
    "asorted = np.sort(anumbers)\n",
    "asorted"
   ]
  },
  {
   "cell_type": "code",
   "execution_count": 127,
   "id": "b20169c1-f74a-4d98-9a7e-fe79360155ad",
   "metadata": {},
   "outputs": [],
   "source": [
    "anumbers[5]= 999"
   ]
  },
  {
   "cell_type": "code",
   "execution_count": 128,
   "id": "6a345f90-8d48-47ab-b6ae-8827d257f0bb",
   "metadata": {},
   "outputs": [
    {
     "data": {
      "text/plain": [
       "array([  2.5,   6. ,   8. ,  23. ,  34. ,  56. ,  65. ,  78. ,  89. ,\n",
       "       435. ])"
      ]
     },
     "execution_count": 128,
     "metadata": {},
     "output_type": "execute_result"
    }
   ],
   "source": [
    "asorted"
   ]
  },
  {
   "cell_type": "code",
   "execution_count": 129,
   "id": "a5c28154-9802-4bbb-9cd5-77b6a56ee249",
   "metadata": {},
   "outputs": [
    {
     "data": {
      "text/plain": [
       "array([  2.5,   6. ,   8. ,  23. ,  34. ,  56. ,  78. ,  89. , 435. ,\n",
       "       999. ])"
      ]
     },
     "execution_count": 129,
     "metadata": {},
     "output_type": "execute_result"
    }
   ],
   "source": [
    "np.sort(anumbers)"
   ]
  },
  {
   "cell_type": "code",
   "execution_count": 130,
   "id": "374f6a2b-c967-43b6-a78f-cb4b4983b592",
   "metadata": {},
   "outputs": [
    {
     "data": {
      "text/plain": [
       "array([ 23. , 435. ,  56. ,  78. ,  89. , 999. ,  34. ,   6. ,   8. ,\n",
       "         2.5])"
      ]
     },
     "execution_count": 130,
     "metadata": {},
     "output_type": "execute_result"
    }
   ],
   "source": [
    "anumbers"
   ]
  },
  {
   "cell_type": "code",
   "execution_count": 131,
   "id": "2ee5f988-81f9-42c3-96d5-e87eebc657ee",
   "metadata": {},
   "outputs": [
    {
     "data": {
      "text/plain": [
       "array([False,  True,  True,  True,  True,  True, False, False, False,\n",
       "       False])"
      ]
     },
     "execution_count": 131,
     "metadata": {},
     "output_type": "execute_result"
    }
   ],
   "source": [
    "anumbers > 50"
   ]
  },
  {
   "cell_type": "code",
   "execution_count": 132,
   "id": "1e5ad0c8-43a4-43dc-aef7-e51f5bf7036d",
   "metadata": {},
   "outputs": [
    {
     "data": {
      "text/plain": [
       "array([435.,  56.,  78.,  89., 999.])"
      ]
     },
     "execution_count": 132,
     "metadata": {},
     "output_type": "execute_result"
    }
   ],
   "source": [
    "anumbers[[False,  True,  True,  True,  True,  True, False, False, False,\n",
    "       False]]"
   ]
  },
  {
   "cell_type": "code",
   "execution_count": 133,
   "id": "1b4f1851-dcf3-48e8-aacd-8119008ed032",
   "metadata": {},
   "outputs": [
    {
     "data": {
      "text/plain": [
       "array([435.,  56.,  78.,  89., 999.])"
      ]
     },
     "execution_count": 133,
     "metadata": {},
     "output_type": "execute_result"
    }
   ],
   "source": [
    "anumbers[anumbers > 50]"
   ]
  },
  {
   "cell_type": "code",
   "execution_count": 134,
   "id": "eb7e191d-b3ad-4987-95aa-b5ce5513b024",
   "metadata": {},
   "outputs": [
    {
     "data": {
      "text/plain": [
       "array([ 23. , 435. ,  56. ,  78. ,  89. , 999. ,  34. ,   6. ,   8. ,\n",
       "         2.5])"
      ]
     },
     "execution_count": 134,
     "metadata": {},
     "output_type": "execute_result"
    }
   ],
   "source": [
    "anumbers"
   ]
  },
  {
   "cell_type": "code",
   "execution_count": 137,
   "id": "0a613d16-2cf3-45a8-ad04-4903e5ae68a4",
   "metadata": {},
   "outputs": [],
   "source": [
    "def afronden(x):\n",
    "    return (x // 10) * 10"
   ]
  },
  {
   "cell_type": "code",
   "execution_count": 140,
   "id": "2947dd72-21c4-403a-b7a0-7f6fdf579549",
   "metadata": {},
   "outputs": [
    {
     "data": {
      "text/plain": [
       "50"
      ]
     },
     "execution_count": 140,
     "metadata": {},
     "output_type": "execute_result"
    }
   ],
   "source": [
    "afronden(56)"
   ]
  },
  {
   "cell_type": "code",
   "execution_count": 142,
   "id": "70bade44-a3cc-46b9-8a2e-86f5cb0af9b9",
   "metadata": {},
   "outputs": [
    {
     "data": {
      "text/plain": [
       "[20.0, 430.0, 50.0, 70.0, 80.0, 990.0, 30.0, 0.0, 0.0, 0.0]"
      ]
     },
     "execution_count": 142,
     "metadata": {},
     "output_type": "execute_result"
    }
   ],
   "source": [
    "[afronden(x) for x in anumbers]"
   ]
  },
  {
   "cell_type": "code",
   "execution_count": 144,
   "id": "dfe44271-4670-4298-acbb-e4c15bf94591",
   "metadata": {},
   "outputs": [
    {
     "data": {
      "text/plain": [
       "array([ 20., 430.,  50.,  70.,  80., 990.,  30.,   0.,   0.,   0.])"
      ]
     },
     "execution_count": 144,
     "metadata": {},
     "output_type": "execute_result"
    }
   ],
   "source": [
    "anumbers // 10 * 10"
   ]
  },
  {
   "cell_type": "code",
   "execution_count": 145,
   "id": "4b8c2b83-d616-43d2-8b63-e52c5eeb6794",
   "metadata": {},
   "outputs": [
    {
     "data": {
      "text/plain": [
       "array([ 1.        ,  1.00900901,  1.01801802,  1.02702703,  1.03603604,\n",
       "        1.04504505,  1.05405405,  1.06306306,  1.07207207,  1.08108108,\n",
       "        1.09009009,  1.0990991 ,  1.10810811,  1.11711712,  1.12612613,\n",
       "        1.13513514,  1.14414414,  1.15315315,  1.16216216,  1.17117117,\n",
       "        1.18018018,  1.18918919,  1.1981982 ,  1.20720721,  1.21621622,\n",
       "        1.22522523,  1.23423423,  1.24324324,  1.25225225,  1.26126126,\n",
       "        1.27027027,  1.27927928,  1.28828829,  1.2972973 ,  1.30630631,\n",
       "        1.31531532,  1.32432432,  1.33333333,  1.34234234,  1.35135135,\n",
       "        1.36036036,  1.36936937,  1.37837838,  1.38738739,  1.3963964 ,\n",
       "        1.40540541,  1.41441441,  1.42342342,  1.43243243,  1.44144144,\n",
       "        1.45045045,  1.45945946,  1.46846847,  1.47747748,  1.48648649,\n",
       "        1.4954955 ,  1.5045045 ,  1.51351351,  1.52252252,  1.53153153,\n",
       "        1.54054054,  1.54954955,  1.55855856,  1.56756757,  1.57657658,\n",
       "        1.58558559,  1.59459459,  1.6036036 ,  1.61261261,  1.62162162,\n",
       "        1.63063063,  1.63963964,  1.64864865,  1.65765766,  1.66666667,\n",
       "        1.67567568,  1.68468468,  1.69369369,  1.7027027 ,  1.71171171,\n",
       "        1.72072072,  1.72972973,  1.73873874,  1.74774775,  1.75675676,\n",
       "        1.76576577,  1.77477477,  1.78378378,  1.79279279,  1.8018018 ,\n",
       "        1.81081081,  1.81981982,  1.82882883,  1.83783784,  1.84684685,\n",
       "        1.85585586,  1.86486486,  1.87387387,  1.88288288,  1.89189189,\n",
       "        1.9009009 ,  1.90990991,  1.91891892,  1.92792793,  1.93693694,\n",
       "        1.94594595,  1.95495495,  1.96396396,  1.97297297,  1.98198198,\n",
       "        1.99099099,  2.        ,  2.00900901,  2.01801802,  2.02702703,\n",
       "        2.03603604,  2.04504505,  2.05405405,  2.06306306,  2.07207207,\n",
       "        2.08108108,  2.09009009,  2.0990991 ,  2.10810811,  2.11711712,\n",
       "        2.12612613,  2.13513514,  2.14414414,  2.15315315,  2.16216216,\n",
       "        2.17117117,  2.18018018,  2.18918919,  2.1981982 ,  2.20720721,\n",
       "        2.21621622,  2.22522523,  2.23423423,  2.24324324,  2.25225225,\n",
       "        2.26126126,  2.27027027,  2.27927928,  2.28828829,  2.2972973 ,\n",
       "        2.30630631,  2.31531532,  2.32432432,  2.33333333,  2.34234234,\n",
       "        2.35135135,  2.36036036,  2.36936937,  2.37837838,  2.38738739,\n",
       "        2.3963964 ,  2.40540541,  2.41441441,  2.42342342,  2.43243243,\n",
       "        2.44144144,  2.45045045,  2.45945946,  2.46846847,  2.47747748,\n",
       "        2.48648649,  2.4954955 ,  2.5045045 ,  2.51351351,  2.52252252,\n",
       "        2.53153153,  2.54054054,  2.54954955,  2.55855856,  2.56756757,\n",
       "        2.57657658,  2.58558559,  2.59459459,  2.6036036 ,  2.61261261,\n",
       "        2.62162162,  2.63063063,  2.63963964,  2.64864865,  2.65765766,\n",
       "        2.66666667,  2.67567568,  2.68468468,  2.69369369,  2.7027027 ,\n",
       "        2.71171171,  2.72072072,  2.72972973,  2.73873874,  2.74774775,\n",
       "        2.75675676,  2.76576577,  2.77477477,  2.78378378,  2.79279279,\n",
       "        2.8018018 ,  2.81081081,  2.81981982,  2.82882883,  2.83783784,\n",
       "        2.84684685,  2.85585586,  2.86486486,  2.87387387,  2.88288288,\n",
       "        2.89189189,  2.9009009 ,  2.90990991,  2.91891892,  2.92792793,\n",
       "        2.93693694,  2.94594595,  2.95495495,  2.96396396,  2.97297297,\n",
       "        2.98198198,  2.99099099,  3.        ,  3.00900901,  3.01801802,\n",
       "        3.02702703,  3.03603604,  3.04504505,  3.05405405,  3.06306306,\n",
       "        3.07207207,  3.08108108,  3.09009009,  3.0990991 ,  3.10810811,\n",
       "        3.11711712,  3.12612613,  3.13513514,  3.14414414,  3.15315315,\n",
       "        3.16216216,  3.17117117,  3.18018018,  3.18918919,  3.1981982 ,\n",
       "        3.20720721,  3.21621622,  3.22522523,  3.23423423,  3.24324324,\n",
       "        3.25225225,  3.26126126,  3.27027027,  3.27927928,  3.28828829,\n",
       "        3.2972973 ,  3.30630631,  3.31531532,  3.32432432,  3.33333333,\n",
       "        3.34234234,  3.35135135,  3.36036036,  3.36936937,  3.37837838,\n",
       "        3.38738739,  3.3963964 ,  3.40540541,  3.41441441,  3.42342342,\n",
       "        3.43243243,  3.44144144,  3.45045045,  3.45945946,  3.46846847,\n",
       "        3.47747748,  3.48648649,  3.4954955 ,  3.5045045 ,  3.51351351,\n",
       "        3.52252252,  3.53153153,  3.54054054,  3.54954955,  3.55855856,\n",
       "        3.56756757,  3.57657658,  3.58558559,  3.59459459,  3.6036036 ,\n",
       "        3.61261261,  3.62162162,  3.63063063,  3.63963964,  3.64864865,\n",
       "        3.65765766,  3.66666667,  3.67567568,  3.68468468,  3.69369369,\n",
       "        3.7027027 ,  3.71171171,  3.72072072,  3.72972973,  3.73873874,\n",
       "        3.74774775,  3.75675676,  3.76576577,  3.77477477,  3.78378378,\n",
       "        3.79279279,  3.8018018 ,  3.81081081,  3.81981982,  3.82882883,\n",
       "        3.83783784,  3.84684685,  3.85585586,  3.86486486,  3.87387387,\n",
       "        3.88288288,  3.89189189,  3.9009009 ,  3.90990991,  3.91891892,\n",
       "        3.92792793,  3.93693694,  3.94594595,  3.95495495,  3.96396396,\n",
       "        3.97297297,  3.98198198,  3.99099099,  4.        ,  4.00900901,\n",
       "        4.01801802,  4.02702703,  4.03603604,  4.04504505,  4.05405405,\n",
       "        4.06306306,  4.07207207,  4.08108108,  4.09009009,  4.0990991 ,\n",
       "        4.10810811,  4.11711712,  4.12612613,  4.13513514,  4.14414414,\n",
       "        4.15315315,  4.16216216,  4.17117117,  4.18018018,  4.18918919,\n",
       "        4.1981982 ,  4.20720721,  4.21621622,  4.22522523,  4.23423423,\n",
       "        4.24324324,  4.25225225,  4.26126126,  4.27027027,  4.27927928,\n",
       "        4.28828829,  4.2972973 ,  4.30630631,  4.31531532,  4.32432432,\n",
       "        4.33333333,  4.34234234,  4.35135135,  4.36036036,  4.36936937,\n",
       "        4.37837838,  4.38738739,  4.3963964 ,  4.40540541,  4.41441441,\n",
       "        4.42342342,  4.43243243,  4.44144144,  4.45045045,  4.45945946,\n",
       "        4.46846847,  4.47747748,  4.48648649,  4.4954955 ,  4.5045045 ,\n",
       "        4.51351351,  4.52252252,  4.53153153,  4.54054054,  4.54954955,\n",
       "        4.55855856,  4.56756757,  4.57657658,  4.58558559,  4.59459459,\n",
       "        4.6036036 ,  4.61261261,  4.62162162,  4.63063063,  4.63963964,\n",
       "        4.64864865,  4.65765766,  4.66666667,  4.67567568,  4.68468468,\n",
       "        4.69369369,  4.7027027 ,  4.71171171,  4.72072072,  4.72972973,\n",
       "        4.73873874,  4.74774775,  4.75675676,  4.76576577,  4.77477477,\n",
       "        4.78378378,  4.79279279,  4.8018018 ,  4.81081081,  4.81981982,\n",
       "        4.82882883,  4.83783784,  4.84684685,  4.85585586,  4.86486486,\n",
       "        4.87387387,  4.88288288,  4.89189189,  4.9009009 ,  4.90990991,\n",
       "        4.91891892,  4.92792793,  4.93693694,  4.94594595,  4.95495495,\n",
       "        4.96396396,  4.97297297,  4.98198198,  4.99099099,  5.        ,\n",
       "        5.00900901,  5.01801802,  5.02702703,  5.03603604,  5.04504505,\n",
       "        5.05405405,  5.06306306,  5.07207207,  5.08108108,  5.09009009,\n",
       "        5.0990991 ,  5.10810811,  5.11711712,  5.12612613,  5.13513514,\n",
       "        5.14414414,  5.15315315,  5.16216216,  5.17117117,  5.18018018,\n",
       "        5.18918919,  5.1981982 ,  5.20720721,  5.21621622,  5.22522523,\n",
       "        5.23423423,  5.24324324,  5.25225225,  5.26126126,  5.27027027,\n",
       "        5.27927928,  5.28828829,  5.2972973 ,  5.30630631,  5.31531532,\n",
       "        5.32432432,  5.33333333,  5.34234234,  5.35135135,  5.36036036,\n",
       "        5.36936937,  5.37837838,  5.38738739,  5.3963964 ,  5.40540541,\n",
       "        5.41441441,  5.42342342,  5.43243243,  5.44144144,  5.45045045,\n",
       "        5.45945946,  5.46846847,  5.47747748,  5.48648649,  5.4954955 ,\n",
       "        5.5045045 ,  5.51351351,  5.52252252,  5.53153153,  5.54054054,\n",
       "        5.54954955,  5.55855856,  5.56756757,  5.57657658,  5.58558559,\n",
       "        5.59459459,  5.6036036 ,  5.61261261,  5.62162162,  5.63063063,\n",
       "        5.63963964,  5.64864865,  5.65765766,  5.66666667,  5.67567568,\n",
       "        5.68468468,  5.69369369,  5.7027027 ,  5.71171171,  5.72072072,\n",
       "        5.72972973,  5.73873874,  5.74774775,  5.75675676,  5.76576577,\n",
       "        5.77477477,  5.78378378,  5.79279279,  5.8018018 ,  5.81081081,\n",
       "        5.81981982,  5.82882883,  5.83783784,  5.84684685,  5.85585586,\n",
       "        5.86486486,  5.87387387,  5.88288288,  5.89189189,  5.9009009 ,\n",
       "        5.90990991,  5.91891892,  5.92792793,  5.93693694,  5.94594595,\n",
       "        5.95495495,  5.96396396,  5.97297297,  5.98198198,  5.99099099,\n",
       "        6.        ,  6.00900901,  6.01801802,  6.02702703,  6.03603604,\n",
       "        6.04504505,  6.05405405,  6.06306306,  6.07207207,  6.08108108,\n",
       "        6.09009009,  6.0990991 ,  6.10810811,  6.11711712,  6.12612613,\n",
       "        6.13513514,  6.14414414,  6.15315315,  6.16216216,  6.17117117,\n",
       "        6.18018018,  6.18918919,  6.1981982 ,  6.20720721,  6.21621622,\n",
       "        6.22522523,  6.23423423,  6.24324324,  6.25225225,  6.26126126,\n",
       "        6.27027027,  6.27927928,  6.28828829,  6.2972973 ,  6.30630631,\n",
       "        6.31531532,  6.32432432,  6.33333333,  6.34234234,  6.35135135,\n",
       "        6.36036036,  6.36936937,  6.37837838,  6.38738739,  6.3963964 ,\n",
       "        6.40540541,  6.41441441,  6.42342342,  6.43243243,  6.44144144,\n",
       "        6.45045045,  6.45945946,  6.46846847,  6.47747748,  6.48648649,\n",
       "        6.4954955 ,  6.5045045 ,  6.51351351,  6.52252252,  6.53153153,\n",
       "        6.54054054,  6.54954955,  6.55855856,  6.56756757,  6.57657658,\n",
       "        6.58558559,  6.59459459,  6.6036036 ,  6.61261261,  6.62162162,\n",
       "        6.63063063,  6.63963964,  6.64864865,  6.65765766,  6.66666667,\n",
       "        6.67567568,  6.68468468,  6.69369369,  6.7027027 ,  6.71171171,\n",
       "        6.72072072,  6.72972973,  6.73873874,  6.74774775,  6.75675676,\n",
       "        6.76576577,  6.77477477,  6.78378378,  6.79279279,  6.8018018 ,\n",
       "        6.81081081,  6.81981982,  6.82882883,  6.83783784,  6.84684685,\n",
       "        6.85585586,  6.86486486,  6.87387387,  6.88288288,  6.89189189,\n",
       "        6.9009009 ,  6.90990991,  6.91891892,  6.92792793,  6.93693694,\n",
       "        6.94594595,  6.95495495,  6.96396396,  6.97297297,  6.98198198,\n",
       "        6.99099099,  7.        ,  7.00900901,  7.01801802,  7.02702703,\n",
       "        7.03603604,  7.04504505,  7.05405405,  7.06306306,  7.07207207,\n",
       "        7.08108108,  7.09009009,  7.0990991 ,  7.10810811,  7.11711712,\n",
       "        7.12612613,  7.13513514,  7.14414414,  7.15315315,  7.16216216,\n",
       "        7.17117117,  7.18018018,  7.18918919,  7.1981982 ,  7.20720721,\n",
       "        7.21621622,  7.22522523,  7.23423423,  7.24324324,  7.25225225,\n",
       "        7.26126126,  7.27027027,  7.27927928,  7.28828829,  7.2972973 ,\n",
       "        7.30630631,  7.31531532,  7.32432432,  7.33333333,  7.34234234,\n",
       "        7.35135135,  7.36036036,  7.36936937,  7.37837838,  7.38738739,\n",
       "        7.3963964 ,  7.40540541,  7.41441441,  7.42342342,  7.43243243,\n",
       "        7.44144144,  7.45045045,  7.45945946,  7.46846847,  7.47747748,\n",
       "        7.48648649,  7.4954955 ,  7.5045045 ,  7.51351351,  7.52252252,\n",
       "        7.53153153,  7.54054054,  7.54954955,  7.55855856,  7.56756757,\n",
       "        7.57657658,  7.58558559,  7.59459459,  7.6036036 ,  7.61261261,\n",
       "        7.62162162,  7.63063063,  7.63963964,  7.64864865,  7.65765766,\n",
       "        7.66666667,  7.67567568,  7.68468468,  7.69369369,  7.7027027 ,\n",
       "        7.71171171,  7.72072072,  7.72972973,  7.73873874,  7.74774775,\n",
       "        7.75675676,  7.76576577,  7.77477477,  7.78378378,  7.79279279,\n",
       "        7.8018018 ,  7.81081081,  7.81981982,  7.82882883,  7.83783784,\n",
       "        7.84684685,  7.85585586,  7.86486486,  7.87387387,  7.88288288,\n",
       "        7.89189189,  7.9009009 ,  7.90990991,  7.91891892,  7.92792793,\n",
       "        7.93693694,  7.94594595,  7.95495495,  7.96396396,  7.97297297,\n",
       "        7.98198198,  7.99099099,  8.        ,  8.00900901,  8.01801802,\n",
       "        8.02702703,  8.03603604,  8.04504505,  8.05405405,  8.06306306,\n",
       "        8.07207207,  8.08108108,  8.09009009,  8.0990991 ,  8.10810811,\n",
       "        8.11711712,  8.12612613,  8.13513514,  8.14414414,  8.15315315,\n",
       "        8.16216216,  8.17117117,  8.18018018,  8.18918919,  8.1981982 ,\n",
       "        8.20720721,  8.21621622,  8.22522523,  8.23423423,  8.24324324,\n",
       "        8.25225225,  8.26126126,  8.27027027,  8.27927928,  8.28828829,\n",
       "        8.2972973 ,  8.30630631,  8.31531532,  8.32432432,  8.33333333,\n",
       "        8.34234234,  8.35135135,  8.36036036,  8.36936937,  8.37837838,\n",
       "        8.38738739,  8.3963964 ,  8.40540541,  8.41441441,  8.42342342,\n",
       "        8.43243243,  8.44144144,  8.45045045,  8.45945946,  8.46846847,\n",
       "        8.47747748,  8.48648649,  8.4954955 ,  8.5045045 ,  8.51351351,\n",
       "        8.52252252,  8.53153153,  8.54054054,  8.54954955,  8.55855856,\n",
       "        8.56756757,  8.57657658,  8.58558559,  8.59459459,  8.6036036 ,\n",
       "        8.61261261,  8.62162162,  8.63063063,  8.63963964,  8.64864865,\n",
       "        8.65765766,  8.66666667,  8.67567568,  8.68468468,  8.69369369,\n",
       "        8.7027027 ,  8.71171171,  8.72072072,  8.72972973,  8.73873874,\n",
       "        8.74774775,  8.75675676,  8.76576577,  8.77477477,  8.78378378,\n",
       "        8.79279279,  8.8018018 ,  8.81081081,  8.81981982,  8.82882883,\n",
       "        8.83783784,  8.84684685,  8.85585586,  8.86486486,  8.87387387,\n",
       "        8.88288288,  8.89189189,  8.9009009 ,  8.90990991,  8.91891892,\n",
       "        8.92792793,  8.93693694,  8.94594595,  8.95495495,  8.96396396,\n",
       "        8.97297297,  8.98198198,  8.99099099,  9.        ,  9.00900901,\n",
       "        9.01801802,  9.02702703,  9.03603604,  9.04504505,  9.05405405,\n",
       "        9.06306306,  9.07207207,  9.08108108,  9.09009009,  9.0990991 ,\n",
       "        9.10810811,  9.11711712,  9.12612613,  9.13513514,  9.14414414,\n",
       "        9.15315315,  9.16216216,  9.17117117,  9.18018018,  9.18918919,\n",
       "        9.1981982 ,  9.20720721,  9.21621622,  9.22522523,  9.23423423,\n",
       "        9.24324324,  9.25225225,  9.26126126,  9.27027027,  9.27927928,\n",
       "        9.28828829,  9.2972973 ,  9.30630631,  9.31531532,  9.32432432,\n",
       "        9.33333333,  9.34234234,  9.35135135,  9.36036036,  9.36936937,\n",
       "        9.37837838,  9.38738739,  9.3963964 ,  9.40540541,  9.41441441,\n",
       "        9.42342342,  9.43243243,  9.44144144,  9.45045045,  9.45945946,\n",
       "        9.46846847,  9.47747748,  9.48648649,  9.4954955 ,  9.5045045 ,\n",
       "        9.51351351,  9.52252252,  9.53153153,  9.54054054,  9.54954955,\n",
       "        9.55855856,  9.56756757,  9.57657658,  9.58558559,  9.59459459,\n",
       "        9.6036036 ,  9.61261261,  9.62162162,  9.63063063,  9.63963964,\n",
       "        9.64864865,  9.65765766,  9.66666667,  9.67567568,  9.68468468,\n",
       "        9.69369369,  9.7027027 ,  9.71171171,  9.72072072,  9.72972973,\n",
       "        9.73873874,  9.74774775,  9.75675676,  9.76576577,  9.77477477,\n",
       "        9.78378378,  9.79279279,  9.8018018 ,  9.81081081,  9.81981982,\n",
       "        9.82882883,  9.83783784,  9.84684685,  9.85585586,  9.86486486,\n",
       "        9.87387387,  9.88288288,  9.89189189,  9.9009009 ,  9.90990991,\n",
       "        9.91891892,  9.92792793,  9.93693694,  9.94594595,  9.95495495,\n",
       "        9.96396396,  9.97297297,  9.98198198,  9.99099099, 10.        ])"
      ]
     },
     "execution_count": 145,
     "metadata": {},
     "output_type": "execute_result"
    }
   ],
   "source": [
    "x"
   ]
  },
  {
   "cell_type": "code",
   "execution_count": 150,
   "id": "697810c5-c6e6-4d6f-9a29-edcd464bd177",
   "metadata": {},
   "outputs": [
    {
     "name": "stdout",
     "output_type": "stream",
     "text": [
      "3.52 µs ± 23.1 ns per loop (mean ± std. dev. of 7 runs, 100,000 loops each)\n"
     ]
    }
   ],
   "source": [
    "%timeit s = np.sin(x)"
   ]
  },
  {
   "cell_type": "code",
   "execution_count": 151,
   "id": "e2364bc4-6d69-480c-bc2b-d75d5f27cb16",
   "metadata": {},
   "outputs": [
    {
     "name": "stdout",
     "output_type": "stream",
     "text": [
      "63.3 µs ± 222 ns per loop (mean ± std. dev. of 7 runs, 10,000 loops each)\n"
     ]
    }
   ],
   "source": [
    "%timeit s = [math.sin(xx) for xx in x]"
   ]
  },
  {
   "cell_type": "code",
   "execution_count": 154,
   "id": "572ef1d5-b0ad-421d-a5f3-ec505d3b20e3",
   "metadata": {},
   "outputs": [
    {
     "data": {
      "text/plain": [
       "array([ 23. , 435. ,  56. ,  78. ,  89. , 999. ,  34. ,   6. ,   8. ,\n",
       "         2.5])"
      ]
     },
     "execution_count": 154,
     "metadata": {},
     "output_type": "execute_result"
    }
   ],
   "source": [
    "anumbers"
   ]
  },
  {
   "cell_type": "code",
   "execution_count": 155,
   "id": "cd5c2157-4245-4c6c-93d8-b74009488c80",
   "metadata": {},
   "outputs": [
    {
     "data": {
      "text/plain": [
       "array([  46.,  870.,  112.,  156.,  178., 1998.,   68.,   12.,   16.,\n",
       "          5.])"
      ]
     },
     "execution_count": 155,
     "metadata": {},
     "output_type": "execute_result"
    }
   ],
   "source": [
    "anumbers + anumbers"
   ]
  },
  {
   "cell_type": "code",
   "execution_count": 157,
   "id": "73036641-f646-4555-9ee1-9ce908e71677",
   "metadata": {},
   "outputs": [
    {
     "data": {
      "text/plain": [
       "array([  46.,  870.,  112.,  156.,  178., 1998.,   68.,   12.,   16.,\n",
       "          5.])"
      ]
     },
     "execution_count": 157,
     "metadata": {},
     "output_type": "execute_result"
    }
   ],
   "source": [
    "np.add(anumbers, anumbers)"
   ]
  },
  {
   "cell_type": "code",
   "execution_count": 158,
   "id": "8928c89e-164d-43a0-89fc-08c2d784ac66",
   "metadata": {},
   "outputs": [
    {
     "data": {
      "text/plain": [
       "173.05"
      ]
     },
     "execution_count": 158,
     "metadata": {},
     "output_type": "execute_result"
    }
   ],
   "source": [
    "np.mean(anumbers)"
   ]
  },
  {
   "cell_type": "code",
   "execution_count": 159,
   "id": "757ffd9f-56f5-469e-a35d-9b2b85af9587",
   "metadata": {},
   "outputs": [
    {
     "data": {
      "text/plain": [
       "45.0"
      ]
     },
     "execution_count": 159,
     "metadata": {},
     "output_type": "execute_result"
    }
   ],
   "source": [
    "np.median(anumbers)"
   ]
  },
  {
   "cell_type": "code",
   "execution_count": 164,
   "id": "ff2a71de-29d7-490b-8b4b-0abec45e49d5",
   "metadata": {},
   "outputs": [
    {
     "data": {
      "text/plain": [
       "86.25"
      ]
     },
     "execution_count": 164,
     "metadata": {},
     "output_type": "execute_result"
    }
   ],
   "source": [
    "np.percentile(anumbers, q = 75)"
   ]
  },
  {
   "cell_type": "code",
   "execution_count": 166,
   "id": "83f1cd5b-fb17-4bfe-822c-2404604d3884",
   "metadata": {},
   "outputs": [
    {
     "data": {
      "text/plain": [
       "array([53, 42, 69, 51, 91, 82, 42, 77, 28,  3, 75, 49, 44, 44, 44, 80, 49,\n",
       "       48, 49, 33])"
      ]
     },
     "execution_count": 166,
     "metadata": {},
     "output_type": "execute_result"
    }
   ],
   "source": [
    "np.random.randint(1, 100, 20)"
   ]
  },
  {
   "cell_type": "code",
   "execution_count": 169,
   "id": "25e11071-c48f-4f3a-b4c4-a46e2cb2d981",
   "metadata": {},
   "outputs": [],
   "source": [
    "data = np.random.randn(1000)"
   ]
  },
  {
   "cell_type": "code",
   "execution_count": 170,
   "id": "a6055693-aa98-4a1c-87a4-20b41a891e91",
   "metadata": {},
   "outputs": [
    {
     "data": {
      "text/plain": [
       "(array([  1.,  22.,  53., 144., 220., 239., 166., 107.,  41.,   7.]),\n",
       " array([-3.29386471, -2.65834567, -2.02282663, -1.38730759, -0.75178854,\n",
       "        -0.1162695 ,  0.51924954,  1.15476858,  1.79028763,  2.42580667,\n",
       "         3.06132571]),\n",
       " <BarContainer object of 10 artists>)"
      ]
     },
     "execution_count": 170,
     "metadata": {},
     "output_type": "execute_result"
    },
    {
     "data": {
      "image/png": "[encoded data removed]",
      "text/plain": [
       "<Figure size 640x480 with 1 Axes>"
      ]
     },
     "metadata": {},
     "output_type": "display_data"
    }
   ],
   "source": [
    "plt.hist(data)"
   ]
  },
  {
   "cell_type": "code",
   "execution_count": 172,
   "id": "f42aa306-7c86-4d73-9dbd-43876cce7266",
   "metadata": {},
   "outputs": [],
   "source": [
    "bomen = np.random.normal(30, 5, 355)"
   ]
  },
  {
   "cell_type": "code",
   "execution_count": 180,
   "id": "e565d8ce-9e04-4804-94bf-2fb0b0a6440d",
   "metadata": {},
   "outputs": [
    {
     "data": {
      "image/png": "[encoded data removed]",
      "text/plain": [
       "<Figure size 640x480 with 1 Axes>"
      ]
     },
     "metadata": {},
     "output_type": "display_data"
    }
   ],
   "source": [
    "plt.hist(bomen, bins = 25)\n",
    "plt.show()"
   ]
  },
  {
   "cell_type": "code",
   "execution_count": null,
   "id": "100fa2f2-7f5e-454e-9afa-9df08aa583cc",
   "metadata": {},
   "outputs": [],
   "source": []
  }
 ],
 "metadata": {
  "kernelspec": {
   "display_name": "Python 3 (ipykernel)",
   "language": "python",
   "name": "python3"
  },
  "language_info": {
   "codemirror_mode": {
    "name": "ipython",
    "version": 3
   },
   "file_extension": ".py",
   "mimetype": "text/x-python",
   "name": "python",
   "nbconvert_exporter": "python",
   "pygments_lexer": "ipython3",
   "version": "3.11.4"
  }
 },
 "nbformat": 4,
 "nbformat_minor": 5
}
