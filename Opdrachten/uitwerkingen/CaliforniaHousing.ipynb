{
 "cells": [
  {
   "cell_type": "markdown",
   "id": "a4d517ac-de4a-4ca2-a660-8f33e6abf793",
   "metadata": {},
   "source": [
    "# Califonia Housing\n",
    "\n",
    "https://inria.github.io/scikit-learn-mooc/python_scripts/datasets_california_housing.html"
   ]
  },
  {
   "cell_type": "code",
   "execution_count": 114,
   "id": "1ba06da9-dabe-44ce-8744-c9ade35812a0",
   "metadata": {},
   "outputs": [],
   "source": [
    "import numpy as np\n",
    "import pandas as pd\n",
    "import matplotlib.pyplot as plt\n",
    "import seaborn as sns"
   ]
  },
  {
   "cell_type": "code",
   "execution_count": 3,
   "id": "f41833b9-fdfa-4896-a933-bacb41b37521",
   "metadata": {},
   "outputs": [],
   "source": [
    "from sklearn.datasets import fetch_california_housing\n",
    "\n",
    "california_housing = fetch_california_housing(as_frame=True)"
   ]
  },
  {
   "cell_type": "code",
   "execution_count": 4,
   "id": "3bc511a0-9a3f-4d30-9ea8-69fbea4e1c53",
   "metadata": {
    "scrolled": true
   },
   "outputs": [
    {
     "name": "stdout",
     "output_type": "stream",
     "text": [
      ".. _california_housing_dataset:\n",
      "\n",
      "California Housing dataset\n",
      "--------------------------\n",
      "\n",
      "**Data Set Characteristics:**\n",
      "\n",
      "    :Number of Instances: 20640\n",
      "\n",
      "    :Number of Attributes: 8 numeric, predictive attributes and the target\n",
      "\n",
      "    :Attribute Information:\n",
      "        - MedInc        median income in block group\n",
      "        - HouseAge      median house age in block group\n",
      "        - AveRooms      average number of rooms per household\n",
      "        - AveBedrms     average number of bedrooms per household\n",
      "        - Population    block group population\n",
      "        - AveOccup      average number of household members\n",
      "        - Latitude      block group latitude\n",
      "        - Longitude     block group longitude\n",
      "\n",
      "    :Missing Attribute Values: None\n",
      "\n",
      "This dataset was obtained from the StatLib repository.\n",
      "https://www.dcc.fc.up.pt/~ltorgo/Regression/cal_housing.html\n",
      "\n",
      "The target variable is the median house value for California districts,\n",
      "expressed in hundreds of thousands of dollars ($100,000).\n",
      "\n",
      "This dataset was derived from the 1990 U.S. census, using one row per census\n",
      "block group. A block group is the smallest geographical unit for which the U.S.\n",
      "Census Bureau publishes sample data (a block group typically has a population\n",
      "of 600 to 3,000 people).\n",
      "\n",
      "A household is a group of people residing within a home. Since the average\n",
      "number of rooms and bedrooms in this dataset are provided per household, these\n",
      "columns may take surprisingly large values for block groups with few households\n",
      "and many empty houses, such as vacation resorts.\n",
      "\n",
      "It can be downloaded/loaded using the\n",
      ":func:`sklearn.datasets.fetch_california_housing` function.\n",
      "\n",
      ".. topic:: References\n",
      "\n",
      "    - Pace, R. Kelley and Ronald Barry, Sparse Spatial Autoregressions,\n",
      "      Statistics and Probability Letters, 33 (1997) 291-297\n",
      "\n"
     ]
    }
   ],
   "source": [
    "print(california_housing.DESCR)"
   ]
  },
  {
   "cell_type": "code",
   "execution_count": 5,
   "id": "a5c072a1-1cfe-4767-869f-5363064d998c",
   "metadata": {},
   "outputs": [
    {
     "data": {
      "text/html": [
       "<div>\n",
       "<style scoped>\n",
       "    .dataframe tbody tr th:only-of-type {\n",
       "        vertical-align: middle;\n",
       "    }\n",
       "\n",
       "    .dataframe tbody tr th {\n",
       "        vertical-align: top;\n",
       "    }\n",
       "\n",
       "    .dataframe thead th {\n",
       "        text-align: right;\n",
       "    }\n",
       "</style>\n",
       "<table border=\"1\" class=\"dataframe\">\n",
       "  <thead>\n",
       "    <tr style=\"text-align: right;\">\n",
       "      <th></th>\n",
       "      <th>MedInc</th>\n",
       "      <th>HouseAge</th>\n",
       "      <th>AveRooms</th>\n",
       "      <th>AveBedrms</th>\n",
       "      <th>Population</th>\n",
       "      <th>AveOccup</th>\n",
       "      <th>Latitude</th>\n",
       "      <th>Longitude</th>\n",
       "      <th>MedHouseVal</th>\n",
       "    </tr>\n",
       "  </thead>\n",
       "  <tbody>\n",
       "    <tr>\n",
       "      <th>0</th>\n",
       "      <td>8.3252</td>\n",
       "      <td>41.0</td>\n",
       "      <td>6.984127</td>\n",
       "      <td>1.023810</td>\n",
       "      <td>322.0</td>\n",
       "      <td>2.555556</td>\n",
       "      <td>37.88</td>\n",
       "      <td>-122.23</td>\n",
       "      <td>4.526</td>\n",
       "    </tr>\n",
       "    <tr>\n",
       "      <th>1</th>\n",
       "      <td>8.3014</td>\n",
       "      <td>21.0</td>\n",
       "      <td>6.238137</td>\n",
       "      <td>0.971880</td>\n",
       "      <td>2401.0</td>\n",
       "      <td>2.109842</td>\n",
       "      <td>37.86</td>\n",
       "      <td>-122.22</td>\n",
       "      <td>3.585</td>\n",
       "    </tr>\n",
       "    <tr>\n",
       "      <th>2</th>\n",
       "      <td>7.2574</td>\n",
       "      <td>52.0</td>\n",
       "      <td>8.288136</td>\n",
       "      <td>1.073446</td>\n",
       "      <td>496.0</td>\n",
       "      <td>2.802260</td>\n",
       "      <td>37.85</td>\n",
       "      <td>-122.24</td>\n",
       "      <td>3.521</td>\n",
       "    </tr>\n",
       "    <tr>\n",
       "      <th>3</th>\n",
       "      <td>5.6431</td>\n",
       "      <td>52.0</td>\n",
       "      <td>5.817352</td>\n",
       "      <td>1.073059</td>\n",
       "      <td>558.0</td>\n",
       "      <td>2.547945</td>\n",
       "      <td>37.85</td>\n",
       "      <td>-122.25</td>\n",
       "      <td>3.413</td>\n",
       "    </tr>\n",
       "    <tr>\n",
       "      <th>4</th>\n",
       "      <td>3.8462</td>\n",
       "      <td>52.0</td>\n",
       "      <td>6.281853</td>\n",
       "      <td>1.081081</td>\n",
       "      <td>565.0</td>\n",
       "      <td>2.181467</td>\n",
       "      <td>37.85</td>\n",
       "      <td>-122.25</td>\n",
       "      <td>3.422</td>\n",
       "    </tr>\n",
       "  </tbody>\n",
       "</table>\n",
       "</div>"
      ],
      "text/plain": [
       "   MedInc  HouseAge  AveRooms  AveBedrms  Population  AveOccup  Latitude  \\\n",
       "0  8.3252      41.0  6.984127   1.023810       322.0  2.555556     37.88   \n",
       "1  8.3014      21.0  6.238137   0.971880      2401.0  2.109842     37.86   \n",
       "2  7.2574      52.0  8.288136   1.073446       496.0  2.802260     37.85   \n",
       "3  5.6431      52.0  5.817352   1.073059       558.0  2.547945     37.85   \n",
       "4  3.8462      52.0  6.281853   1.081081       565.0  2.181467     37.85   \n",
       "\n",
       "   Longitude  MedHouseVal  \n",
       "0    -122.23        4.526  \n",
       "1    -122.22        3.585  \n",
       "2    -122.24        3.521  \n",
       "3    -122.25        3.413  \n",
       "4    -122.25        3.422  "
      ]
     },
     "execution_count": 5,
     "metadata": {},
     "output_type": "execute_result"
    }
   ],
   "source": [
    "california_housing.frame.head()"
   ]
  },
  {
   "cell_type": "code",
   "execution_count": 6,
   "id": "250168c1-9629-4017-a101-cd6c1059bca0",
   "metadata": {},
   "outputs": [
    {
     "name": "stdout",
     "output_type": "stream",
     "text": [
      "<class 'pandas.core.frame.DataFrame'>\n",
      "RangeIndex: 20640 entries, 0 to 20639\n",
      "Data columns (total 9 columns):\n",
      " #   Column       Non-Null Count  Dtype  \n",
      "---  ------       --------------  -----  \n",
      " 0   MedInc       20640 non-null  float64\n",
      " 1   HouseAge     20640 non-null  float64\n",
      " 2   AveRooms     20640 non-null  float64\n",
      " 3   AveBedrms    20640 non-null  float64\n",
      " 4   Population   20640 non-null  float64\n",
      " 5   AveOccup     20640 non-null  float64\n",
      " 6   Latitude     20640 non-null  float64\n",
      " 7   Longitude    20640 non-null  float64\n",
      " 8   MedHouseVal  20640 non-null  float64\n",
      "dtypes: float64(9)\n",
      "memory usage: 1.4 MB\n"
     ]
    }
   ],
   "source": [
    "california_housing.frame.info()"
   ]
  },
  {
   "cell_type": "markdown",
   "id": "cfeb4017-8cf3-4ec1-b101-a6d7e168688a",
   "metadata": {},
   "source": [
    "### Split in training and test dataframe"
   ]
  },
  {
   "cell_type": "code",
   "execution_count": 7,
   "id": "aa7fb6f5-e031-4ed5-9be7-b5674f42e7bf",
   "metadata": {},
   "outputs": [],
   "source": [
    "from sklearn.model_selection import train_test_split\n",
    "\n",
    "df_train, df_test = train_test_split(california_housing.frame, test_size = 0.2)"
   ]
  },
  {
   "cell_type": "code",
   "execution_count": 8,
   "id": "e5a7bcfb-bc5b-4453-846d-b67b09025a90",
   "metadata": {},
   "outputs": [
    {
     "data": {
      "text/plain": [
       "(16512, 9)"
      ]
     },
     "execution_count": 8,
     "metadata": {},
     "output_type": "execute_result"
    }
   ],
   "source": [
    "df_train.shape"
   ]
  },
  {
   "cell_type": "code",
   "execution_count": 9,
   "id": "4a9e24bb-fcd9-43fd-a13b-9e7533924250",
   "metadata": {},
   "outputs": [
    {
     "data": {
      "text/plain": [
       "(4128, 9)"
      ]
     },
     "execution_count": 9,
     "metadata": {},
     "output_type": "execute_result"
    }
   ],
   "source": [
    "df_test.shape"
   ]
  },
  {
   "cell_type": "markdown",
   "id": "2e8b2015-b9d1-4ea4-9f24-8c5901478d72",
   "metadata": {},
   "source": [
    "### Preparation - Scaling"
   ]
  },
  {
   "cell_type": "code",
   "execution_count": 61,
   "id": "96bc720f-7a1b-4c8d-a8ee-87852882355e",
   "metadata": {},
   "outputs": [
    {
     "data": {
      "text/html": [
       "<style>#sk-container-id-6 {color: black;}#sk-container-id-6 pre{padding: 0;}#sk-container-id-6 div.sk-toggleable {background-color: white;}#sk-container-id-6 label.sk-toggleable__label {cursor: pointer;display: block;width: 100%;margin-bottom: 0;padding: 0.3em;box-sizing: border-box;text-align: center;}#sk-container-id-6 label.sk-toggleable__label-arrow:before {content: \"▸\";float: left;margin-right: 0.25em;color: #696969;}#sk-container-id-6 label.sk-toggleable__label-arrow:hover:before {color: black;}#sk-container-id-6 div.sk-estimator:hover label.sk-toggleable__label-arrow:before {color: black;}#sk-container-id-6 div.sk-toggleable__content {max-height: 0;max-width: 0;overflow: hidden;text-align: left;background-color: #f0f8ff;}#sk-container-id-6 div.sk-toggleable__content pre {margin: 0.2em;color: black;border-radius: 0.25em;background-color: #f0f8ff;}#sk-container-id-6 input.sk-toggleable__control:checked~div.sk-toggleable__content {max-height: 200px;max-width: 100%;overflow: auto;}#sk-container-id-6 input.sk-toggleable__control:checked~label.sk-toggleable__label-arrow:before {content: \"▾\";}#sk-container-id-6 div.sk-estimator input.sk-toggleable__control:checked~label.sk-toggleable__label {background-color: #d4ebff;}#sk-container-id-6 div.sk-label input.sk-toggleable__control:checked~label.sk-toggleable__label {background-color: #d4ebff;}#sk-container-id-6 input.sk-hidden--visually {border: 0;clip: rect(1px 1px 1px 1px);clip: rect(1px, 1px, 1px, 1px);height: 1px;margin: -1px;overflow: hidden;padding: 0;position: absolute;width: 1px;}#sk-container-id-6 div.sk-estimator {font-family: monospace;background-color: #f0f8ff;border: 1px dotted black;border-radius: 0.25em;box-sizing: border-box;margin-bottom: 0.5em;}#sk-container-id-6 div.sk-estimator:hover {background-color: #d4ebff;}#sk-container-id-6 div.sk-parallel-item::after {content: \"\";width: 100%;border-bottom: 1px solid gray;flex-grow: 1;}#sk-container-id-6 div.sk-label:hover label.sk-toggleable__label {background-color: #d4ebff;}#sk-container-id-6 div.sk-serial::before {content: \"\";position: absolute;border-left: 1px solid gray;box-sizing: border-box;top: 0;bottom: 0;left: 50%;z-index: 0;}#sk-container-id-6 div.sk-serial {display: flex;flex-direction: column;align-items: center;background-color: white;padding-right: 0.2em;padding-left: 0.2em;position: relative;}#sk-container-id-6 div.sk-item {position: relative;z-index: 1;}#sk-container-id-6 div.sk-parallel {display: flex;align-items: stretch;justify-content: center;background-color: white;position: relative;}#sk-container-id-6 div.sk-item::before, #sk-container-id-6 div.sk-parallel-item::before {content: \"\";position: absolute;border-left: 1px solid gray;box-sizing: border-box;top: 0;bottom: 0;left: 50%;z-index: -1;}#sk-container-id-6 div.sk-parallel-item {display: flex;flex-direction: column;z-index: 1;position: relative;background-color: white;}#sk-container-id-6 div.sk-parallel-item:first-child::after {align-self: flex-end;width: 50%;}#sk-container-id-6 div.sk-parallel-item:last-child::after {align-self: flex-start;width: 50%;}#sk-container-id-6 div.sk-parallel-item:only-child::after {width: 0;}#sk-container-id-6 div.sk-dashed-wrapped {border: 1px dashed gray;margin: 0 0.4em 0.5em 0.4em;box-sizing: border-box;padding-bottom: 0.4em;background-color: white;}#sk-container-id-6 div.sk-label label {font-family: monospace;font-weight: bold;display: inline-block;line-height: 1.2em;}#sk-container-id-6 div.sk-label-container {text-align: center;}#sk-container-id-6 div.sk-container {/* jupyter's `normalize.less` sets `[hidden] { display: none; }` but bootstrap.min.css set `[hidden] { display: none !important; }` so we also need the `!important` here to be able to override the default hidden behavior on the sphinx rendered scikit-learn.org. See: https://github.com/scikit-learn/scikit-learn/issues/21755 */display: inline-block !important;position: relative;}#sk-container-id-6 div.sk-text-repr-fallback {display: none;}</style><div id=\"sk-container-id-6\" class=\"sk-top-container\"><div class=\"sk-text-repr-fallback\"><pre>StandardScaler()</pre><b>In a Jupyter environment, please rerun this cell to show the HTML representation or trust the notebook. <br />On GitHub, the HTML representation is unable to render, please try loading this page with nbviewer.org.</b></div><div class=\"sk-container\" hidden><div class=\"sk-item\"><div class=\"sk-estimator sk-toggleable\"><input class=\"sk-toggleable__control sk-hidden--visually\" id=\"sk-estimator-id-6\" type=\"checkbox\" checked><label for=\"sk-estimator-id-6\" class=\"sk-toggleable__label sk-toggleable__label-arrow\">StandardScaler</label><div class=\"sk-toggleable__content\"><pre>StandardScaler()</pre></div></div></div></div></div>"
      ],
      "text/plain": [
       "StandardScaler()"
      ]
     },
     "execution_count": 61,
     "metadata": {},
     "output_type": "execute_result"
    }
   ],
   "source": [
    "from sklearn.preprocessing import MinMaxScaler, StandardScaler\n",
    "\n",
    "scaler = StandardScaler()\n",
    "\n",
    "scaler.fit(df_train_features)"
   ]
  },
  {
   "cell_type": "code",
   "execution_count": 66,
   "id": "6aa81fde-9480-4427-841d-088855126edc",
   "metadata": {},
   "outputs": [],
   "source": [
    "df_train_features_scaled = pd.DataFrame(scaler.transform(df_train_features), columns = features_names)\n",
    "df_test_features_scaled = pd.DataFrame(scaler.transform(df_test_features), columns = features_names)"
   ]
  },
  {
   "cell_type": "code",
   "execution_count": 68,
   "id": "f4f61dc4-95b9-45a4-87c5-0fd51ff08bfd",
   "metadata": {},
   "outputs": [
    {
     "data": {
      "text/html": [
       "<div>\n",
       "<style scoped>\n",
       "    .dataframe tbody tr th:only-of-type {\n",
       "        vertical-align: middle;\n",
       "    }\n",
       "\n",
       "    .dataframe tbody tr th {\n",
       "        vertical-align: top;\n",
       "    }\n",
       "\n",
       "    .dataframe thead th {\n",
       "        text-align: right;\n",
       "    }\n",
       "</style>\n",
       "<table border=\"1\" class=\"dataframe\">\n",
       "  <thead>\n",
       "    <tr style=\"text-align: right;\">\n",
       "      <th></th>\n",
       "      <th>MedInc</th>\n",
       "      <th>HouseAge</th>\n",
       "      <th>AveRooms</th>\n",
       "      <th>AveBedrms</th>\n",
       "      <th>Population</th>\n",
       "      <th>AveOccup</th>\n",
       "      <th>Latitude</th>\n",
       "      <th>Longitude</th>\n",
       "    </tr>\n",
       "  </thead>\n",
       "  <tbody>\n",
       "    <tr>\n",
       "      <th>0</th>\n",
       "      <td>-0.414837</td>\n",
       "      <td>0.584082</td>\n",
       "      <td>-0.113992</td>\n",
       "      <td>-0.127299</td>\n",
       "      <td>-0.778424</td>\n",
       "      <td>-0.038673</td>\n",
       "      <td>-0.820043</td>\n",
       "      <td>0.724279</td>\n",
       "    </tr>\n",
       "    <tr>\n",
       "      <th>1</th>\n",
       "      <td>-0.830378</td>\n",
       "      <td>0.107511</td>\n",
       "      <td>-0.769866</td>\n",
       "      <td>-0.029189</td>\n",
       "      <td>-0.001034</td>\n",
       "      <td>-0.048747</td>\n",
       "      <td>-0.754547</td>\n",
       "      <td>0.544858</td>\n",
       "    </tr>\n",
       "    <tr>\n",
       "      <th>2</th>\n",
       "      <td>0.524902</td>\n",
       "      <td>-1.004486</td>\n",
       "      <td>-0.232912</td>\n",
       "      <td>-0.049119</td>\n",
       "      <td>-1.117861</td>\n",
       "      <td>-0.140566</td>\n",
       "      <td>-0.946356</td>\n",
       "      <td>0.918651</td>\n",
       "    </tr>\n",
       "    <tr>\n",
       "      <th>3</th>\n",
       "      <td>-0.418477</td>\n",
       "      <td>1.854936</td>\n",
       "      <td>-0.081549</td>\n",
       "      <td>0.197962</td>\n",
       "      <td>-0.936052</td>\n",
       "      <td>-0.103955</td>\n",
       "      <td>-1.348688</td>\n",
       "      <td>1.197750</td>\n",
       "    </tr>\n",
       "    <tr>\n",
       "      <th>4</th>\n",
       "      <td>-0.413149</td>\n",
       "      <td>0.028083</td>\n",
       "      <td>-0.268671</td>\n",
       "      <td>-0.167785</td>\n",
       "      <td>1.206250</td>\n",
       "      <td>-0.036581</td>\n",
       "      <td>0.499232</td>\n",
       "      <td>-1.035040</td>\n",
       "    </tr>\n",
       "  </tbody>\n",
       "</table>\n",
       "</div>"
      ],
      "text/plain": [
       "     MedInc  HouseAge  AveRooms  AveBedrms  Population  AveOccup  Latitude  \\\n",
       "0 -0.414837  0.584082 -0.113992  -0.127299   -0.778424 -0.038673 -0.820043   \n",
       "1 -0.830378  0.107511 -0.769866  -0.029189   -0.001034 -0.048747 -0.754547   \n",
       "2  0.524902 -1.004486 -0.232912  -0.049119   -1.117861 -0.140566 -0.946356   \n",
       "3 -0.418477  1.854936 -0.081549   0.197962   -0.936052 -0.103955 -1.348688   \n",
       "4 -0.413149  0.028083 -0.268671  -0.167785    1.206250 -0.036581  0.499232   \n",
       "\n",
       "   Longitude  \n",
       "0   0.724279  \n",
       "1   0.544858  \n",
       "2   0.918651  \n",
       "3   1.197750  \n",
       "4  -1.035040  "
      ]
     },
     "execution_count": 68,
     "metadata": {},
     "output_type": "execute_result"
    }
   ],
   "source": [
    "df_train_features_scaled.head()"
   ]
  },
  {
   "cell_type": "code",
   "execution_count": 69,
   "id": "79e39c47-3146-4e09-be3b-57dbb4cf0396",
   "metadata": {},
   "outputs": [
    {
     "data": {
      "text/html": [
       "<div>\n",
       "<style scoped>\n",
       "    .dataframe tbody tr th:only-of-type {\n",
       "        vertical-align: middle;\n",
       "    }\n",
       "\n",
       "    .dataframe tbody tr th {\n",
       "        vertical-align: top;\n",
       "    }\n",
       "\n",
       "    .dataframe thead th {\n",
       "        text-align: right;\n",
       "    }\n",
       "</style>\n",
       "<table border=\"1\" class=\"dataframe\">\n",
       "  <thead>\n",
       "    <tr style=\"text-align: right;\">\n",
       "      <th></th>\n",
       "      <th>MedInc</th>\n",
       "      <th>HouseAge</th>\n",
       "      <th>AveRooms</th>\n",
       "      <th>AveBedrms</th>\n",
       "      <th>Population</th>\n",
       "      <th>AveOccup</th>\n",
       "      <th>Latitude</th>\n",
       "      <th>Longitude</th>\n",
       "    </tr>\n",
       "  </thead>\n",
       "  <tbody>\n",
       "    <tr>\n",
       "      <th>0</th>\n",
       "      <td>0.593104</td>\n",
       "      <td>0.584082</td>\n",
       "      <td>0.244419</td>\n",
       "      <td>-0.072952</td>\n",
       "      <td>-0.035963</td>\n",
       "      <td>-0.006430</td>\n",
       "      <td>-0.829399</td>\n",
       "      <td>0.729263</td>\n",
       "    </tr>\n",
       "    <tr>\n",
       "      <th>1</th>\n",
       "      <td>-1.627753</td>\n",
       "      <td>-1.481057</td>\n",
       "      <td>-0.672987</td>\n",
       "      <td>-0.028518</td>\n",
       "      <td>-0.447048</td>\n",
       "      <td>0.024364</td>\n",
       "      <td>0.326136</td>\n",
       "      <td>0.146146</td>\n",
       "    </tr>\n",
       "    <tr>\n",
       "      <th>2</th>\n",
       "      <td>-0.250742</td>\n",
       "      <td>-0.130774</td>\n",
       "      <td>-0.149027</td>\n",
       "      <td>-0.113712</td>\n",
       "      <td>1.853777</td>\n",
       "      <td>0.023614</td>\n",
       "      <td>-0.735834</td>\n",
       "      <td>0.714311</td>\n",
       "    </tr>\n",
       "    <tr>\n",
       "      <th>3</th>\n",
       "      <td>-0.748778</td>\n",
       "      <td>0.345796</td>\n",
       "      <td>-0.526027</td>\n",
       "      <td>-0.300101</td>\n",
       "      <td>-0.051188</td>\n",
       "      <td>-0.018859</td>\n",
       "      <td>-0.726477</td>\n",
       "      <td>0.963506</td>\n",
       "    </tr>\n",
       "    <tr>\n",
       "      <th>4</th>\n",
       "      <td>-0.805903</td>\n",
       "      <td>-1.322200</td>\n",
       "      <td>-0.693201</td>\n",
       "      <td>-0.201767</td>\n",
       "      <td>-0.095073</td>\n",
       "      <td>-0.066294</td>\n",
       "      <td>0.555371</td>\n",
       "      <td>-0.068162</td>\n",
       "    </tr>\n",
       "  </tbody>\n",
       "</table>\n",
       "</div>"
      ],
      "text/plain": [
       "     MedInc  HouseAge  AveRooms  AveBedrms  Population  AveOccup  Latitude  \\\n",
       "0  0.593104  0.584082  0.244419  -0.072952   -0.035963 -0.006430 -0.829399   \n",
       "1 -1.627753 -1.481057 -0.672987  -0.028518   -0.447048  0.024364  0.326136   \n",
       "2 -0.250742 -0.130774 -0.149027  -0.113712    1.853777  0.023614 -0.735834   \n",
       "3 -0.748778  0.345796 -0.526027  -0.300101   -0.051188 -0.018859 -0.726477   \n",
       "4 -0.805903 -1.322200 -0.693201  -0.201767   -0.095073 -0.066294  0.555371   \n",
       "\n",
       "   Longitude  \n",
       "0   0.729263  \n",
       "1   0.146146  \n",
       "2   0.714311  \n",
       "3   0.963506  \n",
       "4  -0.068162  "
      ]
     },
     "execution_count": 69,
     "metadata": {},
     "output_type": "execute_result"
    }
   ],
   "source": [
    "df_test_features_scaled.head()"
   ]
  },
  {
   "cell_type": "markdown",
   "id": "dc029fa4-3885-424e-8f6e-6f7075cc6d86",
   "metadata": {},
   "source": [
    "### Multiple Linear Regression"
   ]
  },
  {
   "cell_type": "code",
   "execution_count": 11,
   "id": "833de566-cc97-4801-8f7a-864cdb3e6962",
   "metadata": {},
   "outputs": [
    {
     "name": "stdout",
     "output_type": "stream",
     "text": [
      "Target: MedHouseVal\n",
      "Features: ['MedInc', 'HouseAge', 'AveRooms', 'AveBedrms', 'Population', 'AveOccup', 'Latitude', 'Longitude']\n"
     ]
    }
   ],
   "source": [
    "target_name = df_train.columns[-1]\n",
    "features_names = [column for column in df_train.columns if  column != target_name]\n",
    "\n",
    "print('Target:', target_name)\n",
    "print('Features:', features_names)"
   ]
  },
  {
   "cell_type": "code",
   "execution_count": 12,
   "id": "5e52d7b0-4ac9-460f-8fc9-5100fefef6aa",
   "metadata": {},
   "outputs": [],
   "source": [
    "df_train_features = df_train[features_names]\n",
    "df_train_target = df_train[target_name]\n",
    "\n",
    "df_test_features = df_test[features_names]\n",
    "df_test_target = df_test[target_name]"
   ]
  },
  {
   "cell_type": "code",
   "execution_count": 44,
   "id": "e21f2ed5-3f40-4af3-9fa8-e60a3ad1864d",
   "metadata": {},
   "outputs": [
    {
     "data": {
      "text/html": [
       "<style>#sk-container-id-4 {color: black;}#sk-container-id-4 pre{padding: 0;}#sk-container-id-4 div.sk-toggleable {background-color: white;}#sk-container-id-4 label.sk-toggleable__label {cursor: pointer;display: block;width: 100%;margin-bottom: 0;padding: 0.3em;box-sizing: border-box;text-align: center;}#sk-container-id-4 label.sk-toggleable__label-arrow:before {content: \"▸\";float: left;margin-right: 0.25em;color: #696969;}#sk-container-id-4 label.sk-toggleable__label-arrow:hover:before {color: black;}#sk-container-id-4 div.sk-estimator:hover label.sk-toggleable__label-arrow:before {color: black;}#sk-container-id-4 div.sk-toggleable__content {max-height: 0;max-width: 0;overflow: hidden;text-align: left;background-color: #f0f8ff;}#sk-container-id-4 div.sk-toggleable__content pre {margin: 0.2em;color: black;border-radius: 0.25em;background-color: #f0f8ff;}#sk-container-id-4 input.sk-toggleable__control:checked~div.sk-toggleable__content {max-height: 200px;max-width: 100%;overflow: auto;}#sk-container-id-4 input.sk-toggleable__control:checked~label.sk-toggleable__label-arrow:before {content: \"▾\";}#sk-container-id-4 div.sk-estimator input.sk-toggleable__control:checked~label.sk-toggleable__label {background-color: #d4ebff;}#sk-container-id-4 div.sk-label input.sk-toggleable__control:checked~label.sk-toggleable__label {background-color: #d4ebff;}#sk-container-id-4 input.sk-hidden--visually {border: 0;clip: rect(1px 1px 1px 1px);clip: rect(1px, 1px, 1px, 1px);height: 1px;margin: -1px;overflow: hidden;padding: 0;position: absolute;width: 1px;}#sk-container-id-4 div.sk-estimator {font-family: monospace;background-color: #f0f8ff;border: 1px dotted black;border-radius: 0.25em;box-sizing: border-box;margin-bottom: 0.5em;}#sk-container-id-4 div.sk-estimator:hover {background-color: #d4ebff;}#sk-container-id-4 div.sk-parallel-item::after {content: \"\";width: 100%;border-bottom: 1px solid gray;flex-grow: 1;}#sk-container-id-4 div.sk-label:hover label.sk-toggleable__label {background-color: #d4ebff;}#sk-container-id-4 div.sk-serial::before {content: \"\";position: absolute;border-left: 1px solid gray;box-sizing: border-box;top: 0;bottom: 0;left: 50%;z-index: 0;}#sk-container-id-4 div.sk-serial {display: flex;flex-direction: column;align-items: center;background-color: white;padding-right: 0.2em;padding-left: 0.2em;position: relative;}#sk-container-id-4 div.sk-item {position: relative;z-index: 1;}#sk-container-id-4 div.sk-parallel {display: flex;align-items: stretch;justify-content: center;background-color: white;position: relative;}#sk-container-id-4 div.sk-item::before, #sk-container-id-4 div.sk-parallel-item::before {content: \"\";position: absolute;border-left: 1px solid gray;box-sizing: border-box;top: 0;bottom: 0;left: 50%;z-index: -1;}#sk-container-id-4 div.sk-parallel-item {display: flex;flex-direction: column;z-index: 1;position: relative;background-color: white;}#sk-container-id-4 div.sk-parallel-item:first-child::after {align-self: flex-end;width: 50%;}#sk-container-id-4 div.sk-parallel-item:last-child::after {align-self: flex-start;width: 50%;}#sk-container-id-4 div.sk-parallel-item:only-child::after {width: 0;}#sk-container-id-4 div.sk-dashed-wrapped {border: 1px dashed gray;margin: 0 0.4em 0.5em 0.4em;box-sizing: border-box;padding-bottom: 0.4em;background-color: white;}#sk-container-id-4 div.sk-label label {font-family: monospace;font-weight: bold;display: inline-block;line-height: 1.2em;}#sk-container-id-4 div.sk-label-container {text-align: center;}#sk-container-id-4 div.sk-container {/* jupyter's `normalize.less` sets `[hidden] { display: none; }` but bootstrap.min.css set `[hidden] { display: none !important; }` so we also need the `!important` here to be able to override the default hidden behavior on the sphinx rendered scikit-learn.org. See: https://github.com/scikit-learn/scikit-learn/issues/21755 */display: inline-block !important;position: relative;}#sk-container-id-4 div.sk-text-repr-fallback {display: none;}</style><div id=\"sk-container-id-4\" class=\"sk-top-container\"><div class=\"sk-text-repr-fallback\"><pre>LinearRegression()</pre><b>In a Jupyter environment, please rerun this cell to show the HTML representation or trust the notebook. <br />On GitHub, the HTML representation is unable to render, please try loading this page with nbviewer.org.</b></div><div class=\"sk-container\" hidden><div class=\"sk-item\"><div class=\"sk-estimator sk-toggleable\"><input class=\"sk-toggleable__control sk-hidden--visually\" id=\"sk-estimator-id-4\" type=\"checkbox\" checked><label for=\"sk-estimator-id-4\" class=\"sk-toggleable__label sk-toggleable__label-arrow\">LinearRegression</label><div class=\"sk-toggleable__content\"><pre>LinearRegression()</pre></div></div></div></div></div>"
      ],
      "text/plain": [
       "LinearRegression()"
      ]
     },
     "execution_count": 44,
     "metadata": {},
     "output_type": "execute_result"
    }
   ],
   "source": [
    "from sklearn.linear_model import LinearRegression\n",
    "\n",
    "model = LinearRegression()\n",
    "\n",
    "model.fit(df_train_features, df_train_target)"
   ]
  },
  {
   "cell_type": "code",
   "execution_count": 45,
   "id": "35b23fbb-314e-4168-b61f-07fef6b347f4",
   "metadata": {},
   "outputs": [],
   "source": [
    "y_predicted = model.predict(df_test_features)"
   ]
  },
  {
   "cell_type": "code",
   "execution_count": 46,
   "id": "af0495fd-6ebd-4ca0-a397-e3b8ddd200ca",
   "metadata": {},
   "outputs": [
    {
     "data": {
      "text/plain": [
       "array([2.6520232 , 0.29488437, 1.87610376, ..., 1.75585591, 1.80919238,\n",
       "       2.17123509])"
      ]
     },
     "execution_count": 46,
     "metadata": {},
     "output_type": "execute_result"
    }
   ],
   "source": [
    "y_predicted"
   ]
  },
  {
   "cell_type": "code",
   "execution_count": 47,
   "id": "03ecae3d-f917-432f-9ba3-2a6f18cf62ee",
   "metadata": {},
   "outputs": [],
   "source": [
    "df_test['Predicted with Linear Regression'] = y_predicted"
   ]
  },
  {
   "cell_type": "code",
   "execution_count": 48,
   "id": "413ccb11-12d4-4c2d-b767-76c1bf239c46",
   "metadata": {},
   "outputs": [
    {
     "data": {
      "text/html": [
       "<div>\n",
       "<style scoped>\n",
       "    .dataframe tbody tr th:only-of-type {\n",
       "        vertical-align: middle;\n",
       "    }\n",
       "\n",
       "    .dataframe tbody tr th {\n",
       "        vertical-align: top;\n",
       "    }\n",
       "\n",
       "    .dataframe thead th {\n",
       "        text-align: right;\n",
       "    }\n",
       "</style>\n",
       "<table border=\"1\" class=\"dataframe\">\n",
       "  <thead>\n",
       "    <tr style=\"text-align: right;\">\n",
       "      <th></th>\n",
       "      <th>MedInc</th>\n",
       "      <th>HouseAge</th>\n",
       "      <th>AveRooms</th>\n",
       "      <th>AveBedrms</th>\n",
       "      <th>Population</th>\n",
       "      <th>AveOccup</th>\n",
       "      <th>Latitude</th>\n",
       "      <th>Longitude</th>\n",
       "      <th>MedHouseVal</th>\n",
       "      <th>Predicted with Linear Regression</th>\n",
       "      <th>Predicted with Ridge Regularization</th>\n",
       "    </tr>\n",
       "  </thead>\n",
       "  <tbody>\n",
       "    <tr>\n",
       "      <th>8009</th>\n",
       "      <td>4.9904</td>\n",
       "      <td>36.0</td>\n",
       "      <td>6.004367</td>\n",
       "      <td>1.063319</td>\n",
       "      <td>1386.0</td>\n",
       "      <td>3.026201</td>\n",
       "      <td>33.86</td>\n",
       "      <td>-118.11</td>\n",
       "      <td>2.217</td>\n",
       "      <td>2.652023</td>\n",
       "      <td>2.652097</td>\n",
       "    </tr>\n",
       "    <tr>\n",
       "      <th>19880</th>\n",
       "      <td>0.7800</td>\n",
       "      <td>10.0</td>\n",
       "      <td>3.835766</td>\n",
       "      <td>1.083942</td>\n",
       "      <td>927.0</td>\n",
       "      <td>3.383212</td>\n",
       "      <td>36.33</td>\n",
       "      <td>-119.28</td>\n",
       "      <td>0.555</td>\n",
       "      <td>0.294884</td>\n",
       "      <td>0.294883</td>\n",
       "    </tr>\n",
       "    <tr>\n",
       "      <th>6862</th>\n",
       "      <td>3.3906</td>\n",
       "      <td>27.0</td>\n",
       "      <td>5.074324</td>\n",
       "      <td>1.044402</td>\n",
       "      <td>3496.0</td>\n",
       "      <td>3.374517</td>\n",
       "      <td>34.06</td>\n",
       "      <td>-118.14</td>\n",
       "      <td>2.372</td>\n",
       "      <td>1.876104</td>\n",
       "      <td>1.876182</td>\n",
       "    </tr>\n",
       "    <tr>\n",
       "      <th>13299</th>\n",
       "      <td>2.4464</td>\n",
       "      <td>33.0</td>\n",
       "      <td>4.183158</td>\n",
       "      <td>0.957895</td>\n",
       "      <td>1369.0</td>\n",
       "      <td>2.882105</td>\n",
       "      <td>34.08</td>\n",
       "      <td>-117.64</td>\n",
       "      <td>1.226</td>\n",
       "      <td>1.351589</td>\n",
       "      <td>1.351689</td>\n",
       "    </tr>\n",
       "    <tr>\n",
       "      <th>2325</th>\n",
       "      <td>2.3381</td>\n",
       "      <td>12.0</td>\n",
       "      <td>3.787986</td>\n",
       "      <td>1.003534</td>\n",
       "      <td>1320.0</td>\n",
       "      <td>2.332155</td>\n",
       "      <td>36.82</td>\n",
       "      <td>-119.71</td>\n",
       "      <td>1.125</td>\n",
       "      <td>0.937009</td>\n",
       "      <td>0.936902</td>\n",
       "    </tr>\n",
       "    <tr>\n",
       "      <th>...</th>\n",
       "      <td>...</td>\n",
       "      <td>...</td>\n",
       "      <td>...</td>\n",
       "      <td>...</td>\n",
       "      <td>...</td>\n",
       "      <td>...</td>\n",
       "      <td>...</td>\n",
       "      <td>...</td>\n",
       "      <td>...</td>\n",
       "      <td>...</td>\n",
       "      <td>...</td>\n",
       "    </tr>\n",
       "    <tr>\n",
       "      <th>18045</th>\n",
       "      <td>3.1176</td>\n",
       "      <td>33.0</td>\n",
       "      <td>4.293413</td>\n",
       "      <td>1.119760</td>\n",
       "      <td>1511.0</td>\n",
       "      <td>1.809581</td>\n",
       "      <td>37.23</td>\n",
       "      <td>-121.98</td>\n",
       "      <td>3.963</td>\n",
       "      <td>2.294773</td>\n",
       "      <td>2.294528</td>\n",
       "    </tr>\n",
       "    <tr>\n",
       "      <th>1803</th>\n",
       "      <td>4.2895</td>\n",
       "      <td>4.0</td>\n",
       "      <td>4.004213</td>\n",
       "      <td>1.120787</td>\n",
       "      <td>1285.0</td>\n",
       "      <td>1.804775</td>\n",
       "      <td>37.91</td>\n",
       "      <td>-122.35</td>\n",
       "      <td>1.868</td>\n",
       "      <td>2.456238</td>\n",
       "      <td>2.455711</td>\n",
       "    </tr>\n",
       "    <tr>\n",
       "      <th>14230</th>\n",
       "      <td>3.0200</td>\n",
       "      <td>9.0</td>\n",
       "      <td>4.126812</td>\n",
       "      <td>1.038647</td>\n",
       "      <td>2521.0</td>\n",
       "      <td>3.044686</td>\n",
       "      <td>32.69</td>\n",
       "      <td>-117.04</td>\n",
       "      <td>1.589</td>\n",
       "      <td>1.755856</td>\n",
       "      <td>1.755730</td>\n",
       "    </tr>\n",
       "    <tr>\n",
       "      <th>1936</th>\n",
       "      <td>5.5840</td>\n",
       "      <td>13.0</td>\n",
       "      <td>7.302128</td>\n",
       "      <td>1.097872</td>\n",
       "      <td>1286.0</td>\n",
       "      <td>2.736170</td>\n",
       "      <td>38.67</td>\n",
       "      <td>-120.98</td>\n",
       "      <td>1.866</td>\n",
       "      <td>1.809192</td>\n",
       "      <td>1.809386</td>\n",
       "    </tr>\n",
       "    <tr>\n",
       "      <th>4797</th>\n",
       "      <td>3.2500</td>\n",
       "      <td>52.0</td>\n",
       "      <td>3.681034</td>\n",
       "      <td>0.793103</td>\n",
       "      <td>233.0</td>\n",
       "      <td>2.008621</td>\n",
       "      <td>34.02</td>\n",
       "      <td>-118.35</td>\n",
       "      <td>1.347</td>\n",
       "      <td>2.171235</td>\n",
       "      <td>2.171323</td>\n",
       "    </tr>\n",
       "  </tbody>\n",
       "</table>\n",
       "<p>4128 rows × 11 columns</p>\n",
       "</div>"
      ],
      "text/plain": [
       "       MedInc  HouseAge  AveRooms  AveBedrms  Population  AveOccup  Latitude  \\\n",
       "8009   4.9904      36.0  6.004367   1.063319      1386.0  3.026201     33.86   \n",
       "19880  0.7800      10.0  3.835766   1.083942       927.0  3.383212     36.33   \n",
       "6862   3.3906      27.0  5.074324   1.044402      3496.0  3.374517     34.06   \n",
       "13299  2.4464      33.0  4.183158   0.957895      1369.0  2.882105     34.08   \n",
       "2325   2.3381      12.0  3.787986   1.003534      1320.0  2.332155     36.82   \n",
       "...       ...       ...       ...        ...         ...       ...       ...   \n",
       "18045  3.1176      33.0  4.293413   1.119760      1511.0  1.809581     37.23   \n",
       "1803   4.2895       4.0  4.004213   1.120787      1285.0  1.804775     37.91   \n",
       "14230  3.0200       9.0  4.126812   1.038647      2521.0  3.044686     32.69   \n",
       "1936   5.5840      13.0  7.302128   1.097872      1286.0  2.736170     38.67   \n",
       "4797   3.2500      52.0  3.681034   0.793103       233.0  2.008621     34.02   \n",
       "\n",
       "       Longitude  MedHouseVal  Predicted with Linear Regression  \\\n",
       "8009     -118.11        2.217                          2.652023   \n",
       "19880    -119.28        0.555                          0.294884   \n",
       "6862     -118.14        2.372                          1.876104   \n",
       "13299    -117.64        1.226                          1.351589   \n",
       "2325     -119.71        1.125                          0.937009   \n",
       "...          ...          ...                               ...   \n",
       "18045    -121.98        3.963                          2.294773   \n",
       "1803     -122.35        1.868                          2.456238   \n",
       "14230    -117.04        1.589                          1.755856   \n",
       "1936     -120.98        1.866                          1.809192   \n",
       "4797     -118.35        1.347                          2.171235   \n",
       "\n",
       "       Predicted with Ridge Regularization  \n",
       "8009                              2.652097  \n",
       "19880                             0.294883  \n",
       "6862                              1.876182  \n",
       "13299                             1.351689  \n",
       "2325                              0.936902  \n",
       "...                                    ...  \n",
       "18045                             2.294528  \n",
       "1803                              2.455711  \n",
       "14230                             1.755730  \n",
       "1936                              1.809386  \n",
       "4797                              2.171323  \n",
       "\n",
       "[4128 rows x 11 columns]"
      ]
     },
     "execution_count": 48,
     "metadata": {},
     "output_type": "execute_result"
    }
   ],
   "source": [
    "df_test"
   ]
  },
  {
   "cell_type": "code",
   "execution_count": 49,
   "id": "2890849b-67f4-46ed-9510-d46b014cc428",
   "metadata": {},
   "outputs": [],
   "source": [
    "from sklearn.metrics import r2_score"
   ]
  },
  {
   "cell_type": "code",
   "execution_count": 50,
   "id": "13b86223-47ac-40e4-87bf-172c11f02b95",
   "metadata": {},
   "outputs": [
    {
     "data": {
      "text/plain": [
       "0.6094618392691014"
      ]
     },
     "execution_count": 50,
     "metadata": {},
     "output_type": "execute_result"
    }
   ],
   "source": [
    "r2_score(df_test_target.values, y_predicted)"
   ]
  },
  {
   "cell_type": "code",
   "execution_count": 51,
   "id": "feb6d65f-f42f-4bef-be2e-b1f1e640c6ae",
   "metadata": {},
   "outputs": [
    {
     "data": {
      "text/plain": [
       "0.6050703330082843"
      ]
     },
     "execution_count": 51,
     "metadata": {},
     "output_type": "execute_result"
    }
   ],
   "source": [
    "r2_score(df_train_target.values, model.predict(df_train_features))"
   ]
  },
  {
   "cell_type": "code",
   "execution_count": 52,
   "id": "e99d499e-0cb0-402e-9814-fb8f49b7095d",
   "metadata": {},
   "outputs": [
    {
     "name": "stdout",
     "output_type": "stream",
     "text": [
      "MedInc          :   0.44\n",
      "HouseAge        :   0.01\n",
      "AveRooms        :  -0.12\n",
      "AveBedrms       :   0.64\n",
      "Population      :  -0.00\n",
      "AveOccup        :  -0.00\n",
      "Latitude        :  -0.42\n",
      "Longitude       :  -0.43\n"
     ]
    }
   ],
   "source": [
    "for k, v in dict(zip(features_names, model.coef_)).items():\n",
    "    print(f'{k:16}: {v:6.2f}')"
   ]
  },
  {
   "cell_type": "markdown",
   "id": "9f930fff-ab89-446e-9b4e-d96f7df7d3c4",
   "metadata": {},
   "source": [
    "### Ridge Regression"
   ]
  },
  {
   "cell_type": "code",
   "execution_count": 119,
   "id": "8e9f1ce1-e32f-47ec-acf1-8f7d52fabc2d",
   "metadata": {},
   "outputs": [
    {
     "data": {
      "text/html": [
       "<style>#sk-container-id-17 {color: black;}#sk-container-id-17 pre{padding: 0;}#sk-container-id-17 div.sk-toggleable {background-color: white;}#sk-container-id-17 label.sk-toggleable__label {cursor: pointer;display: block;width: 100%;margin-bottom: 0;padding: 0.3em;box-sizing: border-box;text-align: center;}#sk-container-id-17 label.sk-toggleable__label-arrow:before {content: \"▸\";float: left;margin-right: 0.25em;color: #696969;}#sk-container-id-17 label.sk-toggleable__label-arrow:hover:before {color: black;}#sk-container-id-17 div.sk-estimator:hover label.sk-toggleable__label-arrow:before {color: black;}#sk-container-id-17 div.sk-toggleable__content {max-height: 0;max-width: 0;overflow: hidden;text-align: left;background-color: #f0f8ff;}#sk-container-id-17 div.sk-toggleable__content pre {margin: 0.2em;color: black;border-radius: 0.25em;background-color: #f0f8ff;}#sk-container-id-17 input.sk-toggleable__control:checked~div.sk-toggleable__content {max-height: 200px;max-width: 100%;overflow: auto;}#sk-container-id-17 input.sk-toggleable__control:checked~label.sk-toggleable__label-arrow:before {content: \"▾\";}#sk-container-id-17 div.sk-estimator input.sk-toggleable__control:checked~label.sk-toggleable__label {background-color: #d4ebff;}#sk-container-id-17 div.sk-label input.sk-toggleable__control:checked~label.sk-toggleable__label {background-color: #d4ebff;}#sk-container-id-17 input.sk-hidden--visually {border: 0;clip: rect(1px 1px 1px 1px);clip: rect(1px, 1px, 1px, 1px);height: 1px;margin: -1px;overflow: hidden;padding: 0;position: absolute;width: 1px;}#sk-container-id-17 div.sk-estimator {font-family: monospace;background-color: #f0f8ff;border: 1px dotted black;border-radius: 0.25em;box-sizing: border-box;margin-bottom: 0.5em;}#sk-container-id-17 div.sk-estimator:hover {background-color: #d4ebff;}#sk-container-id-17 div.sk-parallel-item::after {content: \"\";width: 100%;border-bottom: 1px solid gray;flex-grow: 1;}#sk-container-id-17 div.sk-label:hover label.sk-toggleable__label {background-color: #d4ebff;}#sk-container-id-17 div.sk-serial::before {content: \"\";position: absolute;border-left: 1px solid gray;box-sizing: border-box;top: 0;bottom: 0;left: 50%;z-index: 0;}#sk-container-id-17 div.sk-serial {display: flex;flex-direction: column;align-items: center;background-color: white;padding-right: 0.2em;padding-left: 0.2em;position: relative;}#sk-container-id-17 div.sk-item {position: relative;z-index: 1;}#sk-container-id-17 div.sk-parallel {display: flex;align-items: stretch;justify-content: center;background-color: white;position: relative;}#sk-container-id-17 div.sk-item::before, #sk-container-id-17 div.sk-parallel-item::before {content: \"\";position: absolute;border-left: 1px solid gray;box-sizing: border-box;top: 0;bottom: 0;left: 50%;z-index: -1;}#sk-container-id-17 div.sk-parallel-item {display: flex;flex-direction: column;z-index: 1;position: relative;background-color: white;}#sk-container-id-17 div.sk-parallel-item:first-child::after {align-self: flex-end;width: 50%;}#sk-container-id-17 div.sk-parallel-item:last-child::after {align-self: flex-start;width: 50%;}#sk-container-id-17 div.sk-parallel-item:only-child::after {width: 0;}#sk-container-id-17 div.sk-dashed-wrapped {border: 1px dashed gray;margin: 0 0.4em 0.5em 0.4em;box-sizing: border-box;padding-bottom: 0.4em;background-color: white;}#sk-container-id-17 div.sk-label label {font-family: monospace;font-weight: bold;display: inline-block;line-height: 1.2em;}#sk-container-id-17 div.sk-label-container {text-align: center;}#sk-container-id-17 div.sk-container {/* jupyter's `normalize.less` sets `[hidden] { display: none; }` but bootstrap.min.css set `[hidden] { display: none !important; }` so we also need the `!important` here to be able to override the default hidden behavior on the sphinx rendered scikit-learn.org. See: https://github.com/scikit-learn/scikit-learn/issues/21755 */display: inline-block !important;position: relative;}#sk-container-id-17 div.sk-text-repr-fallback {display: none;}</style><div id=\"sk-container-id-17\" class=\"sk-top-container\"><div class=\"sk-text-repr-fallback\"><pre>Ridge()</pre><b>In a Jupyter environment, please rerun this cell to show the HTML representation or trust the notebook. <br />On GitHub, the HTML representation is unable to render, please try loading this page with nbviewer.org.</b></div><div class=\"sk-container\" hidden><div class=\"sk-item\"><div class=\"sk-estimator sk-toggleable\"><input class=\"sk-toggleable__control sk-hidden--visually\" id=\"sk-estimator-id-17\" type=\"checkbox\" checked><label for=\"sk-estimator-id-17\" class=\"sk-toggleable__label sk-toggleable__label-arrow\">Ridge</label><div class=\"sk-toggleable__content\"><pre>Ridge()</pre></div></div></div></div></div>"
      ],
      "text/plain": [
       "Ridge()"
      ]
     },
     "execution_count": 119,
     "metadata": {},
     "output_type": "execute_result"
    }
   ],
   "source": [
    "from sklearn.linear_model import Ridge\n",
    "\n",
    "model = Ridge()\n",
    "\n",
    "model.fit(df_train_features_scaled, df_train_target)"
   ]
  },
  {
   "cell_type": "code",
   "execution_count": 120,
   "id": "7321f20a-07cb-4da0-a757-d993918359d0",
   "metadata": {},
   "outputs": [],
   "source": [
    "y_predicted = model.predict(df_test_features_scaled)"
   ]
  },
  {
   "cell_type": "code",
   "execution_count": 121,
   "id": "8a9e4e45-eb2e-4b45-bca7-9ae4371fb9ed",
   "metadata": {},
   "outputs": [],
   "source": [
    "df_test['Predicted with Ridge Regularization Scaled'] = y_predicted"
   ]
  },
  {
   "cell_type": "code",
   "execution_count": 122,
   "id": "70ec6572-1b96-4306-9384-8430c5ef0bc2",
   "metadata": {},
   "outputs": [
    {
     "data": {
      "text/plain": [
       "0.6094578151553987"
      ]
     },
     "execution_count": 122,
     "metadata": {},
     "output_type": "execute_result"
    }
   ],
   "source": [
    "r2_score(df_test_target.values, y_predicted)"
   ]
  },
  {
   "cell_type": "code",
   "execution_count": 123,
   "id": "167409bf-a607-4dbe-96b2-4bc45aa457c2",
   "metadata": {},
   "outputs": [
    {
     "data": {
      "text/plain": [
       "array([ 0.83633826,  0.11591778, -0.2719    ,  0.29776854, -0.00568798,\n",
       "       -0.04006028, -0.88737523, -0.85991726])"
      ]
     },
     "execution_count": 123,
     "metadata": {},
     "output_type": "execute_result"
    }
   ],
   "source": [
    "model.coef_"
   ]
  },
  {
   "cell_type": "code",
   "execution_count": 124,
   "id": "1df89810-b3ec-433b-93f5-e37409b845b1",
   "metadata": {},
   "outputs": [
    {
     "data": {
      "text/plain": [
       "['MedInc',\n",
       " 'HouseAge',\n",
       " 'AveRooms',\n",
       " 'AveBedrms',\n",
       " 'Population',\n",
       " 'AveOccup',\n",
       " 'Latitude',\n",
       " 'Longitude']"
      ]
     },
     "execution_count": 124,
     "metadata": {},
     "output_type": "execute_result"
    }
   ],
   "source": [
    "features_names"
   ]
  },
  {
   "cell_type": "code",
   "execution_count": 125,
   "id": "2c8bf108-0b21-4b1d-a186-98b259392cdb",
   "metadata": {},
   "outputs": [
    {
     "name": "stdout",
     "output_type": "stream",
     "text": [
      "MedInc          :   0.84\n",
      "HouseAge        :   0.12\n",
      "AveRooms        :  -0.27\n",
      "AveBedrms       :   0.30\n",
      "Population      :  -0.01\n",
      "AveOccup        :  -0.04\n",
      "Latitude        :  -0.89\n",
      "Longitude       :  -0.86\n"
     ]
    }
   ],
   "source": [
    "for k, v in dict(zip(features_names, model.coef_)).items():\n",
    "    print(f'{k:16}: {v:6.2f}')"
   ]
  },
  {
   "cell_type": "markdown",
   "id": "e1d5049b-025c-46f9-b128-f2d0676195a4",
   "metadata": {},
   "source": [
    "### With scaled features"
   ]
  },
  {
   "cell_type": "code",
   "execution_count": 70,
   "id": "b2398354-b65c-418c-b774-b9f6c2b30c2f",
   "metadata": {},
   "outputs": [
    {
     "data": {
      "text/html": [
       "<style>#sk-container-id-7 {color: black;}#sk-container-id-7 pre{padding: 0;}#sk-container-id-7 div.sk-toggleable {background-color: white;}#sk-container-id-7 label.sk-toggleable__label {cursor: pointer;display: block;width: 100%;margin-bottom: 0;padding: 0.3em;box-sizing: border-box;text-align: center;}#sk-container-id-7 label.sk-toggleable__label-arrow:before {content: \"▸\";float: left;margin-right: 0.25em;color: #696969;}#sk-container-id-7 label.sk-toggleable__label-arrow:hover:before {color: black;}#sk-container-id-7 div.sk-estimator:hover label.sk-toggleable__label-arrow:before {color: black;}#sk-container-id-7 div.sk-toggleable__content {max-height: 0;max-width: 0;overflow: hidden;text-align: left;background-color: #f0f8ff;}#sk-container-id-7 div.sk-toggleable__content pre {margin: 0.2em;color: black;border-radius: 0.25em;background-color: #f0f8ff;}#sk-container-id-7 input.sk-toggleable__control:checked~div.sk-toggleable__content {max-height: 200px;max-width: 100%;overflow: auto;}#sk-container-id-7 input.sk-toggleable__control:checked~label.sk-toggleable__label-arrow:before {content: \"▾\";}#sk-container-id-7 div.sk-estimator input.sk-toggleable__control:checked~label.sk-toggleable__label {background-color: #d4ebff;}#sk-container-id-7 div.sk-label input.sk-toggleable__control:checked~label.sk-toggleable__label {background-color: #d4ebff;}#sk-container-id-7 input.sk-hidden--visually {border: 0;clip: rect(1px 1px 1px 1px);clip: rect(1px, 1px, 1px, 1px);height: 1px;margin: -1px;overflow: hidden;padding: 0;position: absolute;width: 1px;}#sk-container-id-7 div.sk-estimator {font-family: monospace;background-color: #f0f8ff;border: 1px dotted black;border-radius: 0.25em;box-sizing: border-box;margin-bottom: 0.5em;}#sk-container-id-7 div.sk-estimator:hover {background-color: #d4ebff;}#sk-container-id-7 div.sk-parallel-item::after {content: \"\";width: 100%;border-bottom: 1px solid gray;flex-grow: 1;}#sk-container-id-7 div.sk-label:hover label.sk-toggleable__label {background-color: #d4ebff;}#sk-container-id-7 div.sk-serial::before {content: \"\";position: absolute;border-left: 1px solid gray;box-sizing: border-box;top: 0;bottom: 0;left: 50%;z-index: 0;}#sk-container-id-7 div.sk-serial {display: flex;flex-direction: column;align-items: center;background-color: white;padding-right: 0.2em;padding-left: 0.2em;position: relative;}#sk-container-id-7 div.sk-item {position: relative;z-index: 1;}#sk-container-id-7 div.sk-parallel {display: flex;align-items: stretch;justify-content: center;background-color: white;position: relative;}#sk-container-id-7 div.sk-item::before, #sk-container-id-7 div.sk-parallel-item::before {content: \"\";position: absolute;border-left: 1px solid gray;box-sizing: border-box;top: 0;bottom: 0;left: 50%;z-index: -1;}#sk-container-id-7 div.sk-parallel-item {display: flex;flex-direction: column;z-index: 1;position: relative;background-color: white;}#sk-container-id-7 div.sk-parallel-item:first-child::after {align-self: flex-end;width: 50%;}#sk-container-id-7 div.sk-parallel-item:last-child::after {align-self: flex-start;width: 50%;}#sk-container-id-7 div.sk-parallel-item:only-child::after {width: 0;}#sk-container-id-7 div.sk-dashed-wrapped {border: 1px dashed gray;margin: 0 0.4em 0.5em 0.4em;box-sizing: border-box;padding-bottom: 0.4em;background-color: white;}#sk-container-id-7 div.sk-label label {font-family: monospace;font-weight: bold;display: inline-block;line-height: 1.2em;}#sk-container-id-7 div.sk-label-container {text-align: center;}#sk-container-id-7 div.sk-container {/* jupyter's `normalize.less` sets `[hidden] { display: none; }` but bootstrap.min.css set `[hidden] { display: none !important; }` so we also need the `!important` here to be able to override the default hidden behavior on the sphinx rendered scikit-learn.org. See: https://github.com/scikit-learn/scikit-learn/issues/21755 */display: inline-block !important;position: relative;}#sk-container-id-7 div.sk-text-repr-fallback {display: none;}</style><div id=\"sk-container-id-7\" class=\"sk-top-container\"><div class=\"sk-text-repr-fallback\"><pre>LinearRegression()</pre><b>In a Jupyter environment, please rerun this cell to show the HTML representation or trust the notebook. <br />On GitHub, the HTML representation is unable to render, please try loading this page with nbviewer.org.</b></div><div class=\"sk-container\" hidden><div class=\"sk-item\"><div class=\"sk-estimator sk-toggleable\"><input class=\"sk-toggleable__control sk-hidden--visually\" id=\"sk-estimator-id-7\" type=\"checkbox\" checked><label for=\"sk-estimator-id-7\" class=\"sk-toggleable__label sk-toggleable__label-arrow\">LinearRegression</label><div class=\"sk-toggleable__content\"><pre>LinearRegression()</pre></div></div></div></div></div>"
      ],
      "text/plain": [
       "LinearRegression()"
      ]
     },
     "execution_count": 70,
     "metadata": {},
     "output_type": "execute_result"
    }
   ],
   "source": [
    "from sklearn.linear_model import LinearRegression\n",
    "\n",
    "model = LinearRegression()\n",
    "\n",
    "model.fit(df_train_features_scaled, df_train_target)"
   ]
  },
  {
   "cell_type": "code",
   "execution_count": 71,
   "id": "1a117d70-e0c1-4790-839a-1cc82c2512d5",
   "metadata": {},
   "outputs": [],
   "source": [
    "y_predicted = model.predict(df_test_features_scaled)"
   ]
  },
  {
   "cell_type": "code",
   "execution_count": 72,
   "id": "3e276bfd-04bf-4ecb-91ed-cb6b3c10a4a0",
   "metadata": {},
   "outputs": [],
   "source": [
    "df_test['Predicted with Linear Regression Scaled'] = y_predicted"
   ]
  },
  {
   "cell_type": "code",
   "execution_count": 73,
   "id": "f5bf7397-8eb2-47d4-8eea-e300eb6a9740",
   "metadata": {},
   "outputs": [
    {
     "data": {
      "text/plain": [
       "0.6094618392691015"
      ]
     },
     "execution_count": 73,
     "metadata": {},
     "output_type": "execute_result"
    }
   ],
   "source": [
    "r2_score(df_test_target.values, y_predicted)"
   ]
  },
  {
   "cell_type": "code",
   "execution_count": 74,
   "id": "cd08438a-c585-49a1-8e30-0edfda63f8b8",
   "metadata": {},
   "outputs": [
    {
     "name": "stdout",
     "output_type": "stream",
     "text": [
      "MedInc          :   0.84\n",
      "HouseAge        :   0.12\n",
      "AveRooms        :  -0.27\n",
      "AveBedrms       :   0.30\n",
      "Population      :  -0.01\n",
      "AveOccup        :  -0.04\n",
      "Latitude        :  -0.89\n",
      "Longitude       :  -0.86\n"
     ]
    }
   ],
   "source": [
    "for k, v in dict(zip(features_names, model.coef_)).items():\n",
    "    print(f'{k:16}: {v:6.2f}')"
   ]
  },
  {
   "cell_type": "markdown",
   "id": "f763a31d-4615-49eb-ac6a-084de7157b40",
   "metadata": {},
   "source": [
    "### Lasso Regularization"
   ]
  },
  {
   "cell_type": "code",
   "execution_count": 106,
   "id": "e97f5c83-e37d-4bf4-ba83-5526d16db6ef",
   "metadata": {},
   "outputs": [
    {
     "data": {
      "text/html": [
       "<style>#sk-container-id-16 {color: black;}#sk-container-id-16 pre{padding: 0;}#sk-container-id-16 div.sk-toggleable {background-color: white;}#sk-container-id-16 label.sk-toggleable__label {cursor: pointer;display: block;width: 100%;margin-bottom: 0;padding: 0.3em;box-sizing: border-box;text-align: center;}#sk-container-id-16 label.sk-toggleable__label-arrow:before {content: \"▸\";float: left;margin-right: 0.25em;color: #696969;}#sk-container-id-16 label.sk-toggleable__label-arrow:hover:before {color: black;}#sk-container-id-16 div.sk-estimator:hover label.sk-toggleable__label-arrow:before {color: black;}#sk-container-id-16 div.sk-toggleable__content {max-height: 0;max-width: 0;overflow: hidden;text-align: left;background-color: #f0f8ff;}#sk-container-id-16 div.sk-toggleable__content pre {margin: 0.2em;color: black;border-radius: 0.25em;background-color: #f0f8ff;}#sk-container-id-16 input.sk-toggleable__control:checked~div.sk-toggleable__content {max-height: 200px;max-width: 100%;overflow: auto;}#sk-container-id-16 input.sk-toggleable__control:checked~label.sk-toggleable__label-arrow:before {content: \"▾\";}#sk-container-id-16 div.sk-estimator input.sk-toggleable__control:checked~label.sk-toggleable__label {background-color: #d4ebff;}#sk-container-id-16 div.sk-label input.sk-toggleable__control:checked~label.sk-toggleable__label {background-color: #d4ebff;}#sk-container-id-16 input.sk-hidden--visually {border: 0;clip: rect(1px 1px 1px 1px);clip: rect(1px, 1px, 1px, 1px);height: 1px;margin: -1px;overflow: hidden;padding: 0;position: absolute;width: 1px;}#sk-container-id-16 div.sk-estimator {font-family: monospace;background-color: #f0f8ff;border: 1px dotted black;border-radius: 0.25em;box-sizing: border-box;margin-bottom: 0.5em;}#sk-container-id-16 div.sk-estimator:hover {background-color: #d4ebff;}#sk-container-id-16 div.sk-parallel-item::after {content: \"\";width: 100%;border-bottom: 1px solid gray;flex-grow: 1;}#sk-container-id-16 div.sk-label:hover label.sk-toggleable__label {background-color: #d4ebff;}#sk-container-id-16 div.sk-serial::before {content: \"\";position: absolute;border-left: 1px solid gray;box-sizing: border-box;top: 0;bottom: 0;left: 50%;z-index: 0;}#sk-container-id-16 div.sk-serial {display: flex;flex-direction: column;align-items: center;background-color: white;padding-right: 0.2em;padding-left: 0.2em;position: relative;}#sk-container-id-16 div.sk-item {position: relative;z-index: 1;}#sk-container-id-16 div.sk-parallel {display: flex;align-items: stretch;justify-content: center;background-color: white;position: relative;}#sk-container-id-16 div.sk-item::before, #sk-container-id-16 div.sk-parallel-item::before {content: \"\";position: absolute;border-left: 1px solid gray;box-sizing: border-box;top: 0;bottom: 0;left: 50%;z-index: -1;}#sk-container-id-16 div.sk-parallel-item {display: flex;flex-direction: column;z-index: 1;position: relative;background-color: white;}#sk-container-id-16 div.sk-parallel-item:first-child::after {align-self: flex-end;width: 50%;}#sk-container-id-16 div.sk-parallel-item:last-child::after {align-self: flex-start;width: 50%;}#sk-container-id-16 div.sk-parallel-item:only-child::after {width: 0;}#sk-container-id-16 div.sk-dashed-wrapped {border: 1px dashed gray;margin: 0 0.4em 0.5em 0.4em;box-sizing: border-box;padding-bottom: 0.4em;background-color: white;}#sk-container-id-16 div.sk-label label {font-family: monospace;font-weight: bold;display: inline-block;line-height: 1.2em;}#sk-container-id-16 div.sk-label-container {text-align: center;}#sk-container-id-16 div.sk-container {/* jupyter's `normalize.less` sets `[hidden] { display: none; }` but bootstrap.min.css set `[hidden] { display: none !important; }` so we also need the `!important` here to be able to override the default hidden behavior on the sphinx rendered scikit-learn.org. See: https://github.com/scikit-learn/scikit-learn/issues/21755 */display: inline-block !important;position: relative;}#sk-container-id-16 div.sk-text-repr-fallback {display: none;}</style><div id=\"sk-container-id-16\" class=\"sk-top-container\"><div class=\"sk-text-repr-fallback\"><pre>Lasso(alpha=0.05)</pre><b>In a Jupyter environment, please rerun this cell to show the HTML representation or trust the notebook. <br />On GitHub, the HTML representation is unable to render, please try loading this page with nbviewer.org.</b></div><div class=\"sk-container\" hidden><div class=\"sk-item\"><div class=\"sk-estimator sk-toggleable\"><input class=\"sk-toggleable__control sk-hidden--visually\" id=\"sk-estimator-id-16\" type=\"checkbox\" checked><label for=\"sk-estimator-id-16\" class=\"sk-toggleable__label sk-toggleable__label-arrow\">Lasso</label><div class=\"sk-toggleable__content\"><pre>Lasso(alpha=0.05)</pre></div></div></div></div></div>"
      ],
      "text/plain": [
       "Lasso(alpha=0.05)"
      ]
     },
     "execution_count": 106,
     "metadata": {},
     "output_type": "execute_result"
    }
   ],
   "source": [
    "from sklearn.linear_model import Lasso\n",
    "\n",
    "model = Lasso(alpha = 0.05)\n",
    "\n",
    "model.fit(df_train_features_scaled, df_train_target)"
   ]
  },
  {
   "cell_type": "code",
   "execution_count": 107,
   "id": "f643783d-c814-429e-b8ca-05c64134d75e",
   "metadata": {},
   "outputs": [],
   "source": [
    "y_predicted = model.predict(df_test_features_scaled)"
   ]
  },
  {
   "cell_type": "code",
   "execution_count": 112,
   "id": "7f46fc68-1ca1-41cf-a43b-7e3343dd0354",
   "metadata": {},
   "outputs": [],
   "source": [
    "df_test['Predicted with Ridge Regularization'] = y_predicted"
   ]
  },
  {
   "cell_type": "code",
   "execution_count": 113,
   "id": "a52d16e4-8bbb-4488-865e-f5434e9a60db",
   "metadata": {},
   "outputs": [
    {
     "data": {
      "text/plain": [
       "0.5479961324862506"
      ]
     },
     "execution_count": 113,
     "metadata": {},
     "output_type": "execute_result"
    }
   ],
   "source": [
    "r2_score(df_test_target.values, y_predicted)"
   ]
  },
  {
   "cell_type": "code",
   "execution_count": 110,
   "id": "d8d3bb0c-f0ae-4cd1-813b-338a7c4b12a3",
   "metadata": {},
   "outputs": [
    {
     "name": "stdout",
     "output_type": "stream",
     "text": [
      "MedInc          :   0.74\n",
      "HouseAge        :   0.14\n",
      "AveRooms        :  -0.00\n",
      "AveBedrms       :   0.00\n",
      "Population      :   0.00\n",
      "AveOccup        :  -0.00\n",
      "Latitude        :  -0.26\n",
      "Longitude       :  -0.22\n"
     ]
    }
   ],
   "source": [
    "for k, v in dict(zip(features_names, model.coef_)).items():\n",
    "    print(f'{k:16}: {v:6.2f}')"
   ]
  },
  {
   "cell_type": "markdown",
   "id": "533ff366-650e-4975-9de7-3e4e13936bbf",
   "metadata": {},
   "source": [
    "### Plot with Latitude and Longitude"
   ]
  },
  {
   "cell_type": "code",
   "execution_count": 118,
   "id": "af4430a9-99ad-4056-a923-599abdad64ec",
   "metadata": {},
   "outputs": [
    {
     "data": {
      "text/plain": [
       "<Axes: xlabel='Longitude', ylabel='Latitude'>"
      ]
     },
     "execution_count": 118,
     "metadata": {},
     "output_type": "execute_result"
    },
    {
     "data": {
      "image/png": "[encoded data removed]",
      "text/plain": [
       "<Figure size 640x480 with 1 Axes>"
      ]
     },
     "metadata": {},
     "output_type": "display_data"
    }
   ],
   "source": [
    "sns.scatterplot(data=df_train, \n",
    "                x='Longitude', \n",
    "                y='Latitude', \n",
    "                hue='MedHouseVal',\n",
    "                palette='viridis',\n",
    "                alpha=0.5,)"
   ]
  },
  {
   "cell_type": "markdown",
   "id": "44076193-d845-495f-9b4e-b21b86b16ecc",
   "metadata": {},
   "source": [
    "### Feature selection"
   ]
  },
  {
   "cell_type": "code",
   "execution_count": 132,
   "id": "9a00a3aa-b005-41c9-92fc-bfa26816346d",
   "metadata": {},
   "outputs": [
    {
     "name": "stdout",
     "output_type": "stream",
     "text": [
      "Target: MedHouseVal\n",
      "Features: ['MedInc', 'Latitude', 'Longitude', 'HouseAge', 'AveRooms', 'AveBedrms']\n"
     ]
    }
   ],
   "source": [
    "features_names = ['MedInc','Latitude','Longitude','HouseAge','AveRooms','AveBedrms']\n",
    "\n",
    "print('Target:', target_name)\n",
    "print('Features:', features_names)"
   ]
  },
  {
   "cell_type": "code",
   "execution_count": 133,
   "id": "0edb14d6-6015-44f4-bbca-b1f0604a953a",
   "metadata": {},
   "outputs": [],
   "source": [
    "from sklearn.linear_model import LinearRegression\n",
    "\n",
    "model = LinearRegression()\n",
    "\n",
    "model.fit(df_train_features_scaled[features_names], df_train_target)\n",
    "\n",
    "y_predicted = model.predict(df_test_features_scaled[features_names])"
   ]
  },
  {
   "cell_type": "code",
   "execution_count": 134,
   "id": "0c180f81-a943-4cf3-8998-2a1a60d023e3",
   "metadata": {},
   "outputs": [
    {
     "data": {
      "text/plain": [
       "0.6086107870695264"
      ]
     },
     "execution_count": 134,
     "metadata": {},
     "output_type": "execute_result"
    }
   ],
   "source": [
    "r2_score(df_test_target.values, y_predicted)"
   ]
  },
  {
   "cell_type": "code",
   "execution_count": 135,
   "id": "e2575cf3-d2a9-49c5-8fb6-16c7906e7743",
   "metadata": {},
   "outputs": [
    {
     "name": "stdout",
     "output_type": "stream",
     "text": [
      "MedInc          :   0.83\n",
      "Latitude        :  -0.89\n",
      "Longitude       :  -0.86\n",
      "HouseAge        :   0.12\n",
      "AveRooms        :  -0.27\n",
      "AveBedrms       :   0.30\n"
     ]
    }
   ],
   "source": [
    "for k, v in dict(zip(features_names, model.coef_)).items():\n",
    "    print(f'{k:16}: {v:6.2f}')"
   ]
  },
  {
   "cell_type": "code",
   "execution_count": 139,
   "id": "aa3f2ad0-3d27-4fd8-bdbc-86f1a43e67ab",
   "metadata": {},
   "outputs": [
    {
     "name": "stdout",
     "output_type": "stream",
     "text": [
      "Target: MedHouseVal\n",
      "Features: ['MedInc', 'Latitude', 'Longitude', 'HouseAge']\n"
     ]
    }
   ],
   "source": [
    "features_names = ['MedInc','Latitude','Longitude','HouseAge']\n",
    "\n",
    "print('Target:', target_name)\n",
    "print('Features:', features_names)"
   ]
  },
  {
   "cell_type": "code",
   "execution_count": 146,
   "id": "ba25ec50-65d0-4704-93f9-a73155140b52",
   "metadata": {},
   "outputs": [],
   "source": [
    "from sklearn.linear_model import LinearRegression\n",
    "\n",
    "model = LinearRegression()\n",
    "\n",
    "model.fit(df_train_features_scaled[features_names], df_train_target)\n",
    "\n",
    "y_predicted = model.predict(df_test_features_scaled[features_names])"
   ]
  },
  {
   "cell_type": "code",
   "execution_count": 147,
   "id": "6bc3f34d-2aec-419b-bdbe-72e413ba8452",
   "metadata": {},
   "outputs": [
    {
     "data": {
      "text/plain": [
       "0.5975134535781998"
      ]
     },
     "execution_count": 147,
     "metadata": {},
     "output_type": "execute_result"
    }
   ],
   "source": [
    "r2_score(df_test_target.values, y_predicted)"
   ]
  },
  {
   "cell_type": "code",
   "execution_count": 145,
   "id": "1f1688a9-1389-4a0b-94e1-03d65d0054bc",
   "metadata": {},
   "outputs": [
    {
     "name": "stdout",
     "output_type": "stream",
     "text": [
      "MedInc          :   0.72\n",
      "Latitude        :  -0.95\n",
      "Longitude       :  -0.91\n",
      "HouseAge        :   0.12\n"
     ]
    }
   ],
   "source": [
    "for k, v in dict(zip(features_names, model.coef_)).items():\n",
    "    print(f'{k:16}: {v:6.2f}')"
   ]
  },
  {
   "cell_type": "code",
   "execution_count": null,
   "id": "f38455c0-d67d-4a26-9505-813286a66d17",
   "metadata": {},
   "outputs": [],
   "source": []
  }
 ],
 "metadata": {
  "kernelspec": {
   "display_name": "base",
   "language": "python",
   "name": "base"
  },
  "language_info": {
   "codemirror_mode": {
    "name": "ipython",
    "version": 3
   },
   "file_extension": ".py",
   "mimetype": "text/x-python",
   "name": "python",
   "nbconvert_exporter": "python",
   "pygments_lexer": "ipython3",
   "version": "3.10.13"
  }
 },
 "nbformat": 4,
 "nbformat_minor": 5
}
