{
 "cells": [
  {
   "cell_type": "markdown",
   "metadata": {},
   "source": [
    "# Opdracht 1.1 - Functie Beschrijvende Statistiek"
   ]
  },
  {
   "cell_type": "code",
   "execution_count": 6,
   "metadata": {},
   "outputs": [],
   "source": [
    "import random\n",
    "random.seed(1000)\n",
    "\n",
    "import statistics"
   ]
  },
  {
   "cell_type": "code",
   "execution_count": 7,
   "metadata": {},
   "outputs": [],
   "source": [
    "getallen = [55, 86, 98, 13, 51, 46, 9, 60, 22, 69, 56, 17, 29, 86, 31, 47, 87, 63, 26, 88]\n",
    "\n",
    "# of\n",
    "# getallen = [random.randint(1, 99) for _ in range(200)]\n",
    "\n",
    "# of\n",
    "# getallen = [round(random.normalvariate(40, 10), 2) for _ in range(500)]"
   ]
  },
  {
   "cell_type": "code",
   "execution_count": 12,
   "metadata": {},
   "outputs": [],
   "source": [
    "def analyseer(getallen):\n",
    "    d = dict()\n",
    "\n",
    "    n = len(getallen)\n",
    "    d['aantal'] = n\n",
    "    \n",
    "    d['minimum'] = min(getallen)\n",
    "    d['maximum'] = max(getallen)\n",
    "    \n",
    "    gemiddelde = sum(getallen) / n\n",
    "    d['gemiddelde'] = gemiddelde\n",
    "    \n",
    "    gesorteerd = sorted(getallen)\n",
    "    d['mediaan'] = gesorteerd[len(getallen)//2]\n",
    "    d['eerste_kwartiel'] = gesorteerd[len(getallen)//4]\n",
    "    d['derde_kwartiel'] = gesorteerd[len(getallen)*3//4]\n",
    "\n",
    "# of\n",
    "#     d['mediaan'] = statistics.median(getallen)\n",
    "  \n",
    "# of\n",
    "#     kwartielen = statistics.quantiles(getallen)\n",
    "#     d['eerste_kwartiel'] = kwartielen[0]\n",
    "#     d['mediaan'] = kwartielen[1]\n",
    "#     d['derde_kwartiel'] = kwartielen[2]\n",
    "\n",
    "    d['interkwartielafstand'] = d['derde_kwartiel'] - d['eerste_kwartiel']\n",
    "\n",
    "    d['outliers_lager_dan'] = d['eerste_kwartiel'] - 1.5 * d['interkwartielafstand']\n",
    "    d['outliers_hoger_dan'] = d['derde_kwartiel'] + 1.5 * d['interkwartielafstand']\n",
    "    \n",
    "    d['outliers'] = list(filter(lambda getal: getal < d['outliers_lager_dan'] or getal > d['outliers_hoger_dan'], getallen))\n",
    "\n",
    "# eventueel ook nog    \n",
    "#     d['populatievariantie'] = sum([x**2 for x in getallen]) / n - gemiddelde ** 2\n",
    "#     d['steekproefvariantie'] = sum([x**2 for x in getallen]) / (n - 1) - gemiddelde ** 2 * n  / (n - 1)  \n",
    "#     d['standaard_deviatie'] = d['steekproefvariantie'] ** 0.5\n",
    "\n",
    "    return d"
   ]
  },
  {
   "cell_type": "code",
   "execution_count": 13,
   "metadata": {},
   "outputs": [
    {
     "data": {
      "text/plain": [
       "{'aantal': 20,\n",
       " 'minimum': 9,\n",
       " 'maximum': 98,\n",
       " 'gemiddelde': 51.95,\n",
       " 'mediaan': 55,\n",
       " 'eerste_kwartiel': 29,\n",
       " 'derde_kwartiel': 86,\n",
       " 'interkwartielafstand': 57,\n",
       " 'outliers_lager_dan': -56.5,\n",
       " 'outliers_hoger_dan': 171.5,\n",
       " 'outliers': [],\n",
       " 'populatievariantie': 732.5474999999997,\n",
       " 'steekproefvariantie': 771.1026315789472,\n",
       " 'standaard_deviatie': 27.76873478534712}"
      ]
     },
     "execution_count": 13,
     "metadata": {},
     "output_type": "execute_result"
    }
   ],
   "source": [
    "analyseer(getallen)"
   ]
  },
  {
   "cell_type": "code",
   "execution_count": 14,
   "metadata": {},
   "outputs": [
    {
     "name": "stdout",
     "output_type": "stream",
     "text": [
      "aantal                  :    20.00\n",
      "minimum                 :     9.00\n",
      "maximum                 :    98.00\n",
      "gemiddelde              :    51.95\n",
      "mediaan                 :    55.00\n",
      "eerste_kwartiel         :    29.00\n",
      "derde_kwartiel          :    86.00\n",
      "interkwartielafstand    :    57.00\n",
      "outliers_lager_dan      :   -56.50\n",
      "outliers_hoger_dan      :   171.50\n",
      "outliers                : []\n",
      "populatievariantie      :   732.55\n",
      "steekproefvariantie     :   771.10\n",
      "standaard_deviatie      :    27.77\n"
     ]
    }
   ],
   "source": [
    "analyse = analyseer(getallen)\n",
    "\n",
    "for k, v in analyse.items():\n",
    "    try:\n",
    "        print(f'{k:24}: {v:8.2f}')\n",
    "    except:\n",
    "        print(f'{k:24}: {v}')"
   ]
  },
  {
   "cell_type": "code",
   "execution_count": null,
   "metadata": {},
   "outputs": [],
   "source": []
  }
 ],
 "metadata": {
  "kernelspec": {
   "display_name": "Python 3",
   "language": "python",
   "name": "python3"
  },
  "language_info": {
   "codemirror_mode": {
    "name": "ipython",
    "version": 3
   },
   "file_extension": ".py",
   "mimetype": "text/x-python",
   "name": "python",
   "nbconvert_exporter": "python",
   "pygments_lexer": "ipython3",
   "version": "3.8.8"
  }
 },
 "nbformat": 4,
 "nbformat_minor": 2
}
