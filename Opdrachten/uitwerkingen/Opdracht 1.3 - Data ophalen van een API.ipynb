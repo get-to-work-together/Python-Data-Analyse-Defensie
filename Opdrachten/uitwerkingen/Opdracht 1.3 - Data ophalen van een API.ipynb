{
 "cells": [
  {
   "cell_type": "markdown",
   "metadata": {},
   "source": [
    "# Opdracht 1.3 - Data ophalen van een API"
   ]
  },
  {
   "cell_type": "code",
   "execution_count": 2,
   "metadata": {},
   "outputs": [],
   "source": [
    "import requests"
   ]
  },
  {
   "cell_type": "markdown",
   "metadata": {},
   "source": [
    "### Openweathermap.org\n",
    "\n",
    "http://api.openweathermap.org"
   ]
  },
  {
   "cell_type": "code",
   "execution_count": 3,
   "metadata": {},
   "outputs": [
    {
     "name": "stdout",
     "output_type": "stream",
     "text": [
      "http://api.openweathermap.org/data/2.5/weather?appid=d1526a9039658a6f76950cff21823aff&units=metric&mode=json&lang=nl&q=Amsterdam\n"
     ]
    }
   ],
   "source": [
    "city = 'Amsterdam'\n",
    "\n",
    "url  = 'http://api.openweathermap.org/data/2.5/weather'\n",
    "url += '?appid=d1526a9039658a6f76950cff21823aff'\n",
    "url += '&units=metric'\n",
    "url += '&mode=json'\n",
    "url += '&lang=nl'\n",
    "url += '&q=' + city\n",
    "\n",
    "print(url)"
   ]
  },
  {
   "cell_type": "code",
   "execution_count": 4,
   "metadata": {},
   "outputs": [],
   "source": [
    "r = requests.get(url)"
   ]
  },
  {
   "cell_type": "code",
   "execution_count": 5,
   "metadata": {},
   "outputs": [
    {
     "data": {
      "text/plain": [
       "200"
      ]
     },
     "execution_count": 5,
     "metadata": {},
     "output_type": "execute_result"
    }
   ],
   "source": [
    "r.status_code"
   ]
  },
  {
   "cell_type": "code",
   "execution_count": 6,
   "metadata": {},
   "outputs": [
    {
     "name": "stdout",
     "output_type": "stream",
     "text": [
      "{\"coord\":{\"lon\":4.8897,\"lat\":52.374},\"weather\":[{\"id\":803,\"main\":\"Clouds\",\"description\":\"half bewolkt\",\"icon\":\"04d\"}],\"base\":\"stations\",\"main\":{\"temp\":11.42,\"feels_like\":10.84,\"temp_min\":10.47,\"temp_max\":12.23,\"pressure\":1000,\"humidity\":85},\"visibility\":10000,\"wind\":{\"speed\":2.68,\"deg\":277,\"gust\":6.71},\"clouds\":{\"all\":75},\"dt\":1621685295,\"sys\":{\"type\":2,\"id\":2005807,\"country\":\"NL\",\"sunrise\":1621654502,\"sunset\":1621712370},\"timezone\":7200,\"id\":2759794,\"name\":\"Amsterdam\",\"cod\":200}\n"
     ]
    }
   ],
   "source": [
    "print(r.text)"
   ]
  },
  {
   "cell_type": "code",
   "execution_count": 7,
   "metadata": {},
   "outputs": [
    {
     "name": "stdout",
     "output_type": "stream",
     "text": [
      "Het is 11°C en half bewolkt in Amsterdam\n"
     ]
    }
   ],
   "source": [
    "d = r.json()\n",
    "\n",
    "temperature = d['main']['temp']\n",
    "weather = d['weather'][0]['description'] \n",
    "\n",
    "print('Het is %d°C en %s in %s' % (temperature, weather, city))"
   ]
  },
  {
   "cell_type": "code",
   "execution_count": null,
   "metadata": {},
   "outputs": [],
   "source": []
  }
 ],
 "metadata": {
  "kernelspec": {
   "display_name": "Python 3 (ipykernel)",
   "language": "python",
   "name": "python3"
  },
  "language_info": {
   "codemirror_mode": {
    "name": "ipython",
    "version": 3
   },
   "file_extension": ".py",
   "mimetype": "text/x-python",
   "name": "python",
   "nbconvert_exporter": "python",
   "pygments_lexer": "ipython3",
   "version": "3.9.10"
  }
 },
 "nbformat": 4,
 "nbformat_minor": 2
}
