{
 "cells": [
  {
   "cell_type": "markdown",
   "metadata": {},
   "source": [
    "# Opdracht 1.3 - Data ophalen van een API"
   ]
  },
  {
   "cell_type": "code",
   "execution_count": 3,
   "metadata": {},
   "outputs": [],
   "source": [
    "import requests"
   ]
  },
  {
   "cell_type": "markdown",
   "metadata": {},
   "source": [
    "### Openweathermap.org\n",
    "\n",
    "http://api.openweathermap.org"
   ]
  },
  {
   "cell_type": "code",
   "execution_count": 4,
   "metadata": {},
   "outputs": [
    {
     "name": "stdout",
     "output_type": "stream",
     "text": [
      "http://api.openweathermap.org/data/2.5/weather?appid=d1526a9039658a6f76950cff21823aff&units=metric&mode=json&lang=nl&q=Soesterberg\n"
     ]
    }
   ],
   "source": [
    "city = 'Soesterberg'\n",
    "\n",
    "url  = 'http://api.openweathermap.org/data/2.5/weather'\n",
    "url += '?appid=d1526a9039658a6f76950cff21823aff'\n",
    "url += '&units=metric'\n",
    "url += '&mode=json'\n",
    "url += '&lang=nl'\n",
    "url += '&q=' + city\n",
    "\n",
    "print(url)"
   ]
  },
  {
   "cell_type": "code",
   "execution_count": 5,
   "metadata": {},
   "outputs": [],
   "source": [
    "r = requests.get(url)"
   ]
  },
  {
   "cell_type": "code",
   "execution_count": 6,
   "metadata": {},
   "outputs": [
    {
     "data": {
      "text/plain": [
       "200"
      ]
     },
     "execution_count": 6,
     "metadata": {},
     "output_type": "execute_result"
    }
   ],
   "source": [
    "r.status_code"
   ]
  },
  {
   "cell_type": "code",
   "execution_count": 7,
   "metadata": {},
   "outputs": [
    {
     "name": "stdout",
     "output_type": "stream",
     "text": [
      "{\"coord\":{\"lon\":5.2861,\"lat\":52.1183},\"weather\":[{\"id\":804,\"main\":\"Clouds\",\"description\":\"bewolkt\",\"icon\":\"04d\"}],\"base\":\"stations\",\"main\":{\"temp\":19.27,\"feels_like\":19.63,\"temp_min\":18.76,\"temp_max\":20.89,\"pressure\":1002,\"humidity\":91},\"visibility\":10000,\"wind\":{\"speed\":3.13,\"deg\":201,\"gust\":6.71},\"clouds\":{\"all\":100},\"dt\":1695027975,\"sys\":{\"type\":2,\"id\":2009129,\"country\":\"NL\",\"sunrise\":1695014254,\"sunset\":1695059337},\"timezone\":7200,\"id\":2747030,\"name\":\"Soesterberg\",\"cod\":200}\n"
     ]
    }
   ],
   "source": [
    "print(r.text)"
   ]
  },
  {
   "cell_type": "code",
   "execution_count": 8,
   "metadata": {},
   "outputs": [
    {
     "name": "stdout",
     "output_type": "stream",
     "text": [
      "Het is 19°C en bewolkt in Soesterberg\n"
     ]
    }
   ],
   "source": [
    "d = r.json()\n",
    "\n",
    "temperature = d['main']['temp']\n",
    "weather = d['weather'][0]['description'] \n",
    "\n",
    "print('Het is %d°C en %s in %s' % (temperature, weather, city))"
   ]
  },
  {
   "cell_type": "code",
   "execution_count": 13,
   "metadata": {},
   "outputs": [
    {
     "name": "stdout",
     "output_type": "stream",
     "text": [
      "Het is nu 19.27 graden in Soesterberg\n"
     ]
    }
   ],
   "source": [
    "t = d['main']['temp']\n",
    "\n",
    "print(f'Het is nu {t} graden in Soesterberg')"
   ]
  },
  {
   "cell_type": "code",
   "execution_count": 14,
   "metadata": {},
   "outputs": [],
   "source": [
    "url = 'http://api.openweathermap.org/data/2.5/forecast/daily?appid=d1526a9039658a6f76950cff21823aff&units=metric&mode=json&q=soesterberg'"
   ]
  },
  {
   "cell_type": "code",
   "execution_count": 15,
   "metadata": {},
   "outputs": [],
   "source": [
    "r = requests.get(url)"
   ]
  },
  {
   "cell_type": "code",
   "execution_count": 17,
   "metadata": {},
   "outputs": [
    {
     "data": {
      "text/plain": [
       "[20.11, 18.46, 21.03, 16.2, 16.83, 16.99, 19.21]"
      ]
     },
     "execution_count": 17,
     "metadata": {},
     "output_type": "execute_result"
    }
   ],
   "source": [
    "d = r.json()\n",
    "\n",
    "temps = [day['temp']['day'] for day in d['list']]\n",
    "\n",
    "temps"
   ]
  },
  {
   "cell_type": "code",
   "execution_count": 18,
   "metadata": {},
   "outputs": [
    {
     "data": {
      "text/plain": [
       "{'city': {'id': 2747030,\n",
       "  'name': 'Soesterberg',\n",
       "  'coord': {'lon': 5.2861, 'lat': 52.1183},\n",
       "  'country': 'NL',\n",
       "  'population': 0,\n",
       "  'timezone': 7200},\n",
       " 'cod': '200',\n",
       " 'message': 8.1064971,\n",
       " 'cnt': 7,\n",
       " 'list': [{'dt': 1695034800,\n",
       "   'sunrise': 1695014254,\n",
       "   'sunset': 1695059337,\n",
       "   'temp': {'day': 20.11,\n",
       "    'min': 15.35,\n",
       "    'max': 22.16,\n",
       "    'night': 15.35,\n",
       "    'eve': 16.19,\n",
       "    'morn': 18.03},\n",
       "   'feels_like': {'day': 20.32, 'night': 15.24, 'eve': 16.27, 'morn': 18.42},\n",
       "   'pressure': 1002,\n",
       "   'humidity': 82,\n",
       "   'weather': [{'id': 501,\n",
       "     'main': 'Rain',\n",
       "     'description': 'moderate rain',\n",
       "     'icon': '10d'}],\n",
       "   'speed': 7.67,\n",
       "   'deg': 214,\n",
       "   'gust': 13.91,\n",
       "   'clouds': 92,\n",
       "   'pop': 1,\n",
       "   'rain': 11.54},\n",
       "  {'dt': 1695121200,\n",
       "   'sunrise': 1695100751,\n",
       "   'sunset': 1695145595,\n",
       "   'temp': {'day': 18.46,\n",
       "    'min': 11.04,\n",
       "    'max': 19.81,\n",
       "    'night': 17.46,\n",
       "    'eve': 18.2,\n",
       "    'morn': 11.5},\n",
       "   'feels_like': {'day': 17.9, 'night': 17.12, 'eve': 17.72, 'morn': 10.93},\n",
       "   'pressure': 1010,\n",
       "   'humidity': 59,\n",
       "   'weather': [{'id': 500,\n",
       "     'main': 'Rain',\n",
       "     'description': 'light rain',\n",
       "     'icon': '10d'}],\n",
       "   'speed': 8.67,\n",
       "   'deg': 225,\n",
       "   'gust': 16.02,\n",
       "   'clouds': 100,\n",
       "   'pop': 0.98,\n",
       "   'rain': 0.24},\n",
       "  {'dt': 1695207600,\n",
       "   'sunrise': 1695187249,\n",
       "   'sunset': 1695231852,\n",
       "   'temp': {'day': 21.03,\n",
       "    'min': 15.06,\n",
       "    'max': 22.76,\n",
       "    'night': 17.43,\n",
       "    'eve': 20.74,\n",
       "    'morn': 15.12},\n",
       "   'feels_like': {'day': 20.73, 'night': 17, 'eve': 20.33, 'morn': 14.7},\n",
       "   'pressure': 1007,\n",
       "   'humidity': 59,\n",
       "   'weather': [{'id': 804,\n",
       "     'main': 'Clouds',\n",
       "     'description': 'overcast clouds',\n",
       "     'icon': '04d'}],\n",
       "   'speed': 7.88,\n",
       "   'deg': 210,\n",
       "   'gust': 15.15,\n",
       "   'clouds': 100,\n",
       "   'pop': 0.17},\n",
       "  {'dt': 1695294000,\n",
       "   'sunrise': 1695273747,\n",
       "   'sunset': 1695318110,\n",
       "   'temp': {'day': 16.2,\n",
       "    'min': 13.65,\n",
       "    'max': 19.86,\n",
       "    'night': 13.65,\n",
       "    'eve': 14.09,\n",
       "    'morn': 16.83},\n",
       "   'feels_like': {'day': 16.25, 'night': 13.58, 'eve': 14.06, 'morn': 16.79},\n",
       "   'pressure': 999,\n",
       "   'humidity': 91,\n",
       "   'weather': [{'id': 500,\n",
       "     'main': 'Rain',\n",
       "     'description': 'light rain',\n",
       "     'icon': '10d'}],\n",
       "   'speed': 6.96,\n",
       "   'deg': 195,\n",
       "   'gust': 15.5,\n",
       "   'clouds': 100,\n",
       "   'pop': 1,\n",
       "   'rain': 3.41},\n",
       "  {'dt': 1695380400,\n",
       "   'sunrise': 1695360245,\n",
       "   'sunset': 1695404368,\n",
       "   'temp': {'day': 16.83,\n",
       "    'min': 11.45,\n",
       "    'max': 16.83,\n",
       "    'night': 12,\n",
       "    'eve': 12.06,\n",
       "    'morn': 11.45},\n",
       "   'feels_like': {'day': 16.45, 'night': 11.29, 'eve': 11.51, 'morn': 11.21},\n",
       "   'pressure': 999,\n",
       "   'humidity': 72,\n",
       "   'weather': [{'id': 500,\n",
       "     'main': 'Rain',\n",
       "     'description': 'light rain',\n",
       "     'icon': '10d'}],\n",
       "   'speed': 7.11,\n",
       "   'deg': 203,\n",
       "   'gust': 12.87,\n",
       "   'clouds': 79,\n",
       "   'pop': 1,\n",
       "   'rain': 3.6},\n",
       "  {'dt': 1695466800,\n",
       "   'sunrise': 1695446743,\n",
       "   'sunset': 1695490626,\n",
       "   'temp': {'day': 16.99,\n",
       "    'min': 10.3,\n",
       "    'max': 17.01,\n",
       "    'night': 11.11,\n",
       "    'eve': 12.04,\n",
       "    'morn': 10.3},\n",
       "   'feels_like': {'day': 15.95, 'night': 10.63, 'eve': 11.28, 'morn': 9.37},\n",
       "   'pressure': 1014,\n",
       "   'humidity': 46,\n",
       "   'weather': [{'id': 500,\n",
       "     'main': 'Rain',\n",
       "     'description': 'light rain',\n",
       "     'icon': '10d'}],\n",
       "   'speed': 6.9,\n",
       "   'deg': 241,\n",
       "   'gust': 12.13,\n",
       "   'clouds': 71,\n",
       "   'pop': 0.45,\n",
       "   'rain': 0.15},\n",
       "  {'dt': 1695553200,\n",
       "   'sunrise': 1695533241,\n",
       "   'sunset': 1695576884,\n",
       "   'temp': {'day': 19.21,\n",
       "    'min': 10.55,\n",
       "    'max': 19.21,\n",
       "    'night': 16.72,\n",
       "    'eve': 18.41,\n",
       "    'morn': 11.8},\n",
       "   'feels_like': {'day': 18.6, 'night': 16.38, 'eve': 17.95, 'morn': 10.73},\n",
       "   'pressure': 1019,\n",
       "   'humidity': 54,\n",
       "   'weather': [{'id': 803,\n",
       "     'main': 'Clouds',\n",
       "     'description': 'broken clouds',\n",
       "     'icon': '04d'}],\n",
       "   'speed': 7.72,\n",
       "   'deg': 204,\n",
       "   'gust': 14.97,\n",
       "   'clouds': 81,\n",
       "   'pop': 0.1}]}"
      ]
     },
     "execution_count": 18,
     "metadata": {},
     "output_type": "execute_result"
    }
   ],
   "source": [
    "d"
   ]
  },
  {
   "cell_type": "code",
   "execution_count": null,
   "metadata": {},
   "outputs": [],
   "source": []
  }
 ],
 "metadata": {
  "kernelspec": {
   "display_name": "Python 3 (ipykernel)",
   "language": "python",
   "name": "python3"
  },
  "language_info": {
   "codemirror_mode": {
    "name": "ipython",
    "version": 3
   },
   "file_extension": ".py",
   "mimetype": "text/x-python",
   "name": "python",
   "nbconvert_exporter": "python",
   "pygments_lexer": "ipython3",
   "version": "3.11.4"
  }
 },
 "nbformat": 4,
 "nbformat_minor": 4
}
