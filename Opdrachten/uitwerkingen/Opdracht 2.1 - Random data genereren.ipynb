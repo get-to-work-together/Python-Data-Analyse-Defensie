{
 "cells": [
  {
   "cell_type": "markdown",
   "metadata": {},
   "source": [
    "# Opdracht 2.1 - Random data genereren"
   ]
  },
  {
   "cell_type": "code",
   "execution_count": 2,
   "metadata": {},
   "outputs": [],
   "source": [
    "import numpy as np\n",
    "import matplotlib.pyplot as plt"
   ]
  },
  {
   "cell_type": "markdown",
   "metadata": {},
   "source": [
    "### Willekeurige gehele getalen tussen 1 en 100"
   ]
  },
  {
   "cell_type": "code",
   "execution_count": 3,
   "metadata": {},
   "outputs": [
    {
     "data": {
      "text/plain": [
       "array([48, 84, 39, 54, 77, 25, 16, 50, 24, 27])"
      ]
     },
     "execution_count": 3,
     "metadata": {},
     "output_type": "execute_result"
    }
   ],
   "source": [
    "np.random.seed(1234)\n",
    "\n",
    "values = np.random.randint(1, 100, 10)\n",
    "values"
   ]
  },
  {
   "cell_type": "markdown",
   "metadata": {},
   "source": [
    "### Willekeurige getallen met een normale verdeling rond 10 en een spreiding van 5"
   ]
  },
  {
   "cell_type": "code",
   "execution_count": 4,
   "metadata": {},
   "outputs": [],
   "source": [
    "n = 1000\n",
    "mu, sigma = 10, 5   # mean and standard deviation\n",
    "\n",
    "s = np.random.randn(n) * sigma + mu\n",
    "\n",
    "# of\n",
    "\n",
    "s = np.random.normal(mu, sigma, n)"
   ]
  },
  {
   "cell_type": "code",
   "execution_count": 5,
   "metadata": {},
   "outputs": [
    {
     "data": {
      "text/plain": [
       "array([ 3.29342559,  9.49370813,  8.20265377,  6.33623265,  6.7539903 ,\n",
       "        7.81685581,  9.4190354 , 15.92052409,  5.75047329, 15.1841306 ,\n",
       "       10.91629663, 13.07853896, 18.88247386,  6.0719048 , 13.16842662,\n",
       "       14.09885718, 16.42060067, 12.49060157, 10.83321956,  6.09074781,\n",
       "       13.09760011,  9.76827719,  9.04375188,  3.75102332, 10.81246011,\n",
       "        7.30902822, 10.89065807, 11.64639545,  9.84008504, 12.22021634,\n",
       "       -1.87739871, 14.50592707, 20.9155064 , 11.00443054, 10.16637445,\n",
       "        9.67790304,  7.36713683,  6.2082005 , 13.42802547,  8.6829318 ,\n",
       "       13.22713178, 17.31658208, 10.53196213, 13.36626499,  3.6215665 ,\n",
       "        7.04472862, 10.6947668 , 20.67186227, 17.8942775 ,  6.56836293,\n",
       "       12.50206493,  7.27076201, 11.36545162, 16.0544106 ,  7.78946132,\n",
       "       19.5286211 , -0.33952207,  8.71854776,  5.99966563,  7.18499136,\n",
       "       14.50961254, 19.27736929,  6.02860688, 11.97744347,  9.41028395,\n",
       "        8.08760521,  4.64887034, 13.71825872,  6.57474791, 12.02596927,\n",
       "        4.29938713, 16.89260699, 14.10270952, 12.07247031, 16.27430585,\n",
       "        2.96304216, 10.28545529, 12.08795215, 10.47313252,  5.12966261,\n",
       "        5.51601256,  3.70455554,  6.6632859 , 17.2978926 , 13.02478401,\n",
       "        2.27165762, 13.69744157, 11.25063907,  6.6949802 , 13.7193766 ,\n",
       "        8.42060462, 13.78927693, 14.74313347,  8.73540388, 18.29399739,\n",
       "       10.19693949,  7.7429892 ,  9.24347811, 16.02613385, 14.78543513,\n",
       "       14.89788146, 12.36312225, 13.65959251,  8.7442466 , -0.4856858 ,\n",
       "       14.72346597, -3.32377438,  2.86584048, 10.90200848, 19.90338069,\n",
       "        6.4248094 , 12.09012735,  4.79480525,  8.62457651, 11.2608098 ,\n",
       "        3.96298328,  4.67150564, -2.520061  ,  9.39201428,  5.62513764,\n",
       "        1.94455985, 14.70286041,  6.53790158,  7.87586052, 15.71721112,\n",
       "        5.47481102, 11.71758304,  9.19855399,  7.60933418,  5.67581296,\n",
       "       11.72895968, 11.93429929,  1.66625022, 13.5066511 ,  9.56997292,\n",
       "        5.14902408, 10.30588899,  5.08660347, 15.69484363, 12.78218777,\n",
       "       -4.29334445, 10.22464244, 18.32157238,  9.94554956, 12.28888233,\n",
       "       10.38621624,  6.60157046,  9.4285772 ,  7.10307063,  4.55327895,\n",
       "       11.77879823, 11.5993157 , 14.41657805, 10.73200683,  2.54138617,\n",
       "       10.38595437,  8.93012596, 10.25759604, 17.67521345,  9.11807941,\n",
       "        7.4022346 , 10.43743446, 15.83770233,  9.73795378,  1.62123277,\n",
       "        8.42651613,  9.65126747,  4.93334574,  6.08851777,  1.71028485,\n",
       "       16.78058132, 19.78180248, 12.06730763, 13.62186491,  1.05684137,\n",
       "        6.81792834, 10.59354162,  0.59174986, 14.84499921, 12.17102832,\n",
       "       11.70561416,  9.43090996, 11.13121278, 15.83654218, 11.06231586,\n",
       "        7.69329445,  4.6393583 , 19.68273886, 13.34018252, -0.54016843,\n",
       "       13.10406685, 12.40780706, 13.70068317,  2.48535583,  5.97772063,\n",
       "        9.62056951, 16.7626337 ,  6.17828483, 11.04337295, -1.21452103,\n",
       "       14.22873297,  6.59142931, 15.74671943,  7.56746445, 14.11388557,\n",
       "       10.29215257,  5.44398046, 17.05460164,  8.22312301, 13.96009546,\n",
       "        9.1808526 , 16.25852322,  9.96930547,  5.20371292, 15.02362183,\n",
       "        8.40764611, 12.91885709, 16.38967535,  4.80188307, 13.36348989,\n",
       "       13.37993607, 15.74163425,  9.31169373,  9.5949875 ,  0.08265101,\n",
       "        5.70549231, 15.61595222,  0.07524701,  3.01827225, 12.90146584,\n",
       "       15.62256842, 13.10821055, 11.64273067,  8.32655203,  8.27348854,\n",
       "       14.28048598, 16.88395194,  5.74662789,  8.70599866, 10.12852097,\n",
       "        7.15533745, 10.10924817, 15.65736678,  0.54133037,  8.58572112,\n",
       "        8.36780262, 17.41839749,  3.20041416, 16.54702566,  7.09690737,\n",
       "       12.23740498,  5.22413379,  6.41162716,  9.20504391, 11.77984093,\n",
       "       15.60945951, 18.08724651,  9.771145  , 14.59115234,  9.26543966,\n",
       "        6.25900151,  5.93024335, 14.47100316, 12.542752  , 10.56077827,\n",
       "       15.98235332,  7.86811131, 12.50164032, 23.03636276,  9.96114128,\n",
       "        6.25609706,  6.31539056, 12.77363639,  9.6020463 , 10.81373888,\n",
       "       -1.19369597,  7.56473166, 18.91700544, 11.18737496,  6.00297095,\n",
       "       10.85167548,  5.38855955,  8.40436452, 17.7657739 ,  9.81429169,\n",
       "        9.9202583 , 13.75257532, 16.75225353,  9.70833727,  9.59661058,\n",
       "        8.11721205,  9.23560897,  3.25248442,  3.7072955 ,  3.06003886,\n",
       "        9.23788706, 14.93492021,  7.11711352,  6.80214184, 15.99642351,\n",
       "        9.45974552, 16.00996554,  7.43130817, 14.7984411 , 15.79457989,\n",
       "       10.68881748, 12.36426943, 13.78048075, 14.38268997, -0.21624523,\n",
       "        7.12690445, 12.21384554, 10.88349208,  5.92537328,  3.96413001,\n",
       "       -2.5658242 ,  3.28345331,  4.83865265,  8.41421749, 11.01636212,\n",
       "       11.01844657,  6.6549429 , 15.23326578, 12.22911348,  8.59323954,\n",
       "        3.75292369,  3.06229821, -1.70779375, 14.70440661, 17.41126747,\n",
       "        9.89556493,  8.34683059, 12.86088355, 12.54500214, 11.57663914,\n",
       "        9.70765559,  4.3504643 , 16.39025971,  9.94253082,  7.76016634,\n",
       "        5.3480273 ,  8.77460356, 14.11685289,  1.09638007,  7.23747781,\n",
       "       10.96349813, -1.68823618,  5.18502922,  7.32846232,  9.3437878 ,\n",
       "       13.39152172,  7.7637235 ,  3.30146195, 19.73939303, 15.66621017,\n",
       "        2.26749895,  8.7947602 , 11.31377931, 12.1285504 ,  3.27562038,\n",
       "        7.19013083,  7.73969109, 11.95549759,  6.75082388,  9.100739  ,\n",
       "        5.92990019,  9.7708256 , 15.49662121, 11.98258145,  5.25459298,\n",
       "        9.00697717,  6.57949391, 10.26600337,  9.67628685,  9.65565543,\n",
       "       12.61714518, 11.37796012,  2.88767361,  8.0330751 , 10.3265043 ,\n",
       "        8.86704743,  9.30595962,  3.7756715 ,  5.55858794, 13.15861842,\n",
       "        9.0624759 ,  3.00602805,  6.42152139,  5.42338746,  4.75461274,\n",
       "        8.07127777,  7.99900537, -2.57686387, 13.6673423 , 21.6562424 ,\n",
       "        2.1605375 , 17.4127832 ,  6.18174226,  7.10965745,  9.04103412,\n",
       "        6.34663329,  6.0421929 , 29.10833587,  5.97745369,  2.32372544,\n",
       "       10.11766887, 10.83867812, 14.70649527,  8.93651297, 22.07192636,\n",
       "       -3.2815199 ,  8.29198601, 13.22138403, 14.00815349,  2.47811039,\n",
       "       10.11430239, 10.51821902,  5.35944971, -4.01650868, 16.91276838,\n",
       "       14.35710816, 18.99985761, 10.99210862,  6.05740334,  6.25141397,\n",
       "        7.89345741,  9.16363941,  8.21445936,  6.61846957, 12.6726202 ,\n",
       "        3.51227063, 12.87620446,  7.79361453,  2.53144036,  5.8617728 ,\n",
       "       11.14179739, 10.67101643,  7.50551159,  8.89685679,  6.3192942 ,\n",
       "       11.50036639,  6.02772356, 17.98199342, 15.58647866, 16.15664026,\n",
       "        0.91835059,  9.66706554, 16.77365092,  8.45740473,  9.18017163,\n",
       "       14.58388369, 13.84191012,  3.94437014,  7.08253298, 14.07341563,\n",
       "        9.01550126,  5.36872141, 10.8972035 ,  9.80027624,  7.74505682,\n",
       "       17.241386  ,  7.81348656,  9.05898525, 14.56368806, 20.94165296,\n",
       "       11.10428353, 10.32127041,  1.21410326, 14.75346089,  4.99657923,\n",
       "       19.79452904,  6.1909744 ,  6.58220111,  9.35447611, 14.47149298,\n",
       "        5.85210592, 13.55912112,  2.37324637, 12.85093183, -0.58737257,\n",
       "       14.40332296, 13.58192915, 13.58621158, 11.47094606, 12.9018929 ,\n",
       "       13.42017168,  2.46076398,  1.21359037, 14.46362495, 10.0809022 ,\n",
       "       14.27179812, 12.49604063, 10.92099428,  5.25283197, 10.93625742,\n",
       "        9.3466498 , 10.15516605, 19.55415415, 15.86485117, 17.42557641,\n",
       "       10.46293922,  6.08346001,  9.57318529,  8.16768984,  4.75336414,\n",
       "       16.65216972, 11.40637069, 20.47239076, 10.19955949, 11.63332011,\n",
       "        0.84048094, 10.30283273, 18.46909185,  4.72496622, 15.84236266,\n",
       "        7.67674698,  4.53790968,  4.90638874,  5.15384201, 11.78520544,\n",
       "        9.88393949, -2.10989962, 16.25443857, 13.472327  , 13.76207753,\n",
       "       15.92389371,  5.22416623, 16.32341376, 14.5369945 , 16.22558353,\n",
       "       13.6179411 , 15.2717477 , 12.0145384 ,  6.26526264, 10.597867  ,\n",
       "        5.04679477, 11.4886752 , 18.52235931, 15.54240359,  4.73006135,\n",
       "        3.2374766 ,  9.13053461, 20.98928448,  3.656269  , 22.53598202,\n",
       "        9.45660387, 11.47520016, 15.27734904,  8.51954838,  5.28095746,\n",
       "       16.38384485, 14.91056671, 15.34680486, 13.19527458,  7.95508868,\n",
       "       16.00637183,  4.55114353, 10.14528938,  8.91029026, 16.03803413,\n",
       "       19.94858834, 10.07158686,  6.4135714 , 10.65754058, 14.16000468,\n",
       "        5.95233719, 13.81709596, 21.35685437,  9.80239338,  6.94975707,\n",
       "        5.44433567, 10.07292812,  6.63725002,  1.44754373,  9.08922104,\n",
       "        3.14866824,  8.17155761, 15.85709887, 23.04649314,  8.88752123,\n",
       "        5.88502263,  9.15519055,  3.35978022, 15.94117124,  8.43286052,\n",
       "       10.73099115, 12.14218308, 10.91484512, 15.8984183 ,  8.6366804 ,\n",
       "       15.80560332,  5.44140815,  2.53415099,  7.04828957,  9.41574386,\n",
       "       11.93224665, 13.31020502,  5.44913602,  8.01199948, 12.6798632 ,\n",
       "        3.54206205,  9.6706373 ,  1.66354774, 14.41199267, 12.84258471,\n",
       "       12.23950911, 13.96156109,  5.45998596,  9.40581515,  1.99403802,\n",
       "       14.77145332, 14.9787626 ,  7.18344396, 16.94860906,  6.20791788,\n",
       "       15.44267296,  5.47007041,  6.05752718,  4.86246189, 12.51370643,\n",
       "       12.0581122 ,  7.7799431 , 11.19536627, 14.07101404, 13.3494991 ,\n",
       "        7.1456671 , 13.21548053,  8.23394785,  8.13767501, 14.30371293,\n",
       "       12.04756093,  9.64847403, -1.03018345,  6.71104031,  3.61295636,\n",
       "        3.5146272 , 12.23484104,  9.10210961, 14.42246318,  9.10030995,\n",
       "        8.0344382 , 12.4466406 ,  1.68433033,  4.49773855,  7.66211258,\n",
       "        8.98025673, 10.89120411,  1.96140576, 13.60641245,  9.19548884,\n",
       "       -0.3082589 , 13.75956525, 15.73091347,  7.9913539 , 12.84581878,\n",
       "        8.9896774 ,  6.37262151, 13.12359378, 11.96150329, 11.3677533 ,\n",
       "        8.25297087,  8.25089212,  6.21056568,  2.5472439 ,  3.45227429,\n",
       "       12.32380443, 11.74858617, 13.61250967, 10.18136507,  6.0464362 ,\n",
       "        8.73115708, 18.91978038, 19.60112786,  0.82803864,  6.33869339,\n",
       "        9.93230154, 16.84727836,  9.88229293,  5.5307726 , 12.02332203,\n",
       "       14.68359207, 12.54890979,  6.68170568,  7.73103942, 11.41458338,\n",
       "        5.87769082,  7.65120328,  6.05528276, 16.04760507, 17.87569743,\n",
       "       18.16490193,  8.23757321,  5.4373156 ,  5.14312432, 17.79454578,\n",
       "       10.57803549,  0.14176938, 10.96480701,  9.36178573, 12.84809087,\n",
       "       16.39942175,  6.72952647,  8.71241461,  8.31116459, 21.89460242,\n",
       "       11.52369211, 13.64197984, 12.23088444,  9.2433051 , 10.67104172,\n",
       "       12.05312726,  6.55206463, 11.22761834, 14.13258378,  7.13829448,\n",
       "        6.35662275,  6.93043726, 12.17036949,  7.57089981,  8.85442867,\n",
       "        0.39600554, 10.68867553,  8.53715616, 11.95874048, 19.00033605,\n",
       "       16.97475105,  0.12122378, 14.00474005,  4.16879592, 17.01485878,\n",
       "        6.10751787,  5.05381807, 19.67365789, 15.98208197, 13.37082368,\n",
       "        8.19339851, 14.38541189, 13.09778686, 12.21479208,  9.84877278,\n",
       "        7.514461  , 13.83597456, 14.0715741 ,  9.7272107 , 11.86421993,\n",
       "       10.9478067 , 10.01144611, 14.91260203,  7.80544809, 15.43576687,\n",
       "        4.13226423,  9.04623592,  9.05829337,  7.70128807, 17.78390908,\n",
       "       12.8865315 , -1.57925842, -8.48271708,  7.55774384, 14.47857451,\n",
       "       11.45154773, 10.74119765, 13.05497524,  6.92662363, 17.64089332,\n",
       "        4.5377735 ,  6.60431936, 12.10784292,  7.50525864, 11.33239144,\n",
       "        4.89319931, 11.78213852, 11.53655399,  6.13514684,  7.86306951,\n",
       "       13.34498966,  3.52532323, 12.40224607,  7.88005291, 12.34117708,\n",
       "        7.84131027,  9.37846698,  4.16357863,  7.0563663 ,  6.42256243,\n",
       "        7.90013026, 14.24202698,  9.82759686, 10.41708586, 11.15900385,\n",
       "        0.73721378, 11.94723091, 14.69273486, 14.11519895, 14.26468002,\n",
       "       11.84056096,  9.42072982,  4.8361976 , 12.11844558,  9.35616949,\n",
       "       21.33339877,  9.86559013,  7.92636587, 18.44563088,  5.63374516,\n",
       "       21.68654066,  9.27717499, 17.73379145,  8.88075628, 19.06052929,\n",
       "       18.34978225,  4.7345497 , 13.93194035, 13.0074802 ,  8.95447562,\n",
       "       12.56915441,  2.64020816, 19.53089597,  5.77301212, 12.27888516,\n",
       "       10.4738127 , 13.03240646,  9.98123995, 12.67575091, 13.28687784,\n",
       "       10.046414  , 10.27969279,  2.30419647, 11.93552252, 10.7875944 ,\n",
       "        8.74187464, 15.84045474, 12.09993265,  9.57769018,  7.11338991,\n",
       "       11.82153877,  9.47270925,  9.66394992, 20.5602654 ,  8.55012772,\n",
       "        9.13141162, 26.28656943, 12.34974663,  6.84846087,  0.19871948,\n",
       "        7.0554468 ,  4.02107084,  0.61163162, 11.60476514, 11.30852595,\n",
       "        6.74649728,  9.92478226, 15.87956183, 11.0721526 , 19.62125766,\n",
       "       11.24139536,  2.01271993, 16.53059031,  6.13189233, 12.74280388,\n",
       "        9.42285483, 16.8160503 ,  8.55833645,  6.99960593, 12.2232915 ,\n",
       "        9.88727973, 17.90819911,  2.18490588, 12.05493141,  5.8849407 ,\n",
       "        8.37884134,  4.37125231, 15.09290899,  1.76121504,  4.32781463,\n",
       "       -3.36007763, 10.88137285,  9.54698697,  8.450037  , 11.31481392,\n",
       "        9.88961789,  9.90726523,  5.19112675,  2.50249352, 10.79324006,\n",
       "        3.62509576,  1.72812359,  7.9265884 , 10.90019692, 11.40081346,\n",
       "        5.66175667, 10.38280821,  4.81226605, 11.08309184,  9.43007307,\n",
       "       13.32600712,  6.58785315, 14.1706234 , 10.90573417, -3.85196742,\n",
       "       13.08981066, 13.34036206, 20.27276488, 10.92060884, 13.24849232,\n",
       "       10.43846752,  9.07345959,  9.37713678,  5.71666976,  2.69768245,\n",
       "        5.82892538,  7.02726822, 14.42435297, 15.73360184,  5.88945999,\n",
       "        7.98404076,  7.67467731,  1.40783424, 10.64965878, 19.82912374,\n",
       "        7.88902259,  6.97458503, 14.68770791, 15.33863839,  6.7593781 ,\n",
       "       19.42672535,  6.73943133, 13.63129601, 13.03042187, 14.26902359,\n",
       "       16.26912081,  8.1899    ,  8.53301523,  9.10234862,  8.6911485 ,\n",
       "       14.20360374,  8.59858963,  4.3414444 ,  9.25139509, 17.75577992,\n",
       "        8.14070551, 15.48902622,  9.26701921, 10.194275  , 14.30091077,\n",
       "       10.97777686,  4.07658   , 12.74403112, 15.18502678,  6.76098461,\n",
       "       12.46452518,  8.40899832,  5.66690541, 10.08512552, 11.08706339,\n",
       "        8.95922875, 10.02292344, 16.70034357,  6.86012572,  7.44587659,\n",
       "        6.99586308, 14.83593035,  6.64366814,  8.97999995,  3.03798761,\n",
       "       11.45523368,  9.94567135, 13.09902256,  5.27717076,  1.51270348,\n",
       "        9.1007644 , 10.20334743,  1.8589374 ,  3.59219274, 19.74534993,\n",
       "       12.58559037, 13.10402308,  3.10140818,  6.44477356,  8.58982309,\n",
       "       12.23819255, 10.11770351,  6.19813506, 13.94738511, 11.59284263,\n",
       "       14.43581093, 15.31849527, 19.70227149, 19.09766475,  8.86717275,\n",
       "        9.87357927, 10.00772889, 12.77091636,  6.0111761 , 16.03192733,\n",
       "        9.98651884,  3.66435462,  5.33523523,  5.44230909, 12.29626233])"
      ]
     },
     "execution_count": 5,
     "metadata": {},
     "output_type": "execute_result"
    }
   ],
   "source": [
    "s"
   ]
  },
  {
   "cell_type": "markdown",
   "metadata": {},
   "source": [
    "### Een histogram"
   ]
  },
  {
   "cell_type": "code",
   "execution_count": 6,
   "metadata": {},
   "outputs": [
    {
     "data": {
      "text/plain": [
       "(array([  1.,  17.,  55., 170., 302., 252., 149.,  45.,   7.,   2.]),\n",
       " array([-8.48271708, -4.72361179, -0.96450649,  2.7945988 ,  6.5537041 ,\n",
       "        10.31280939, 14.07191469, 17.83101999, 21.59012528, 25.34923058,\n",
       "        29.10833587]),\n",
       " <BarContainer object of 10 artists>)"
      ]
     },
     "execution_count": 6,
     "metadata": {},
     "output_type": "execute_result"
    },
    {
     "data": {
      "image/png": "[encoded data removed]",
      "text/plain": [
       "<Figure size 432x288 with 1 Axes>"
      ]
     },
     "metadata": {
      "needs_background": "light"
     },
     "output_type": "display_data"
    }
   ],
   "source": [
    "plt.hist(s)\n"
   ]
  },
  {
   "cell_type": "code",
   "execution_count": 7,
   "metadata": {},
   "outputs": [
    {
     "data": {
      "text/plain": [
       "(array([  1.,   0.,   6.,  11.,  18.,  37.,  55., 115., 132., 170., 133.,\n",
       "        119.,  96.,  53.,  29.,  16.,   7.,   0.,   1.,   1.]),\n",
       " array([-8.48271708, -6.60316444, -4.72361179, -2.84405914, -0.96450649,\n",
       "         0.91504616,  2.7945988 ,  4.67415145,  6.5537041 ,  8.43325675,\n",
       "        10.31280939, 12.19236204, 14.07191469, 15.95146734, 17.83101999,\n",
       "        19.71057263, 21.59012528, 23.46967793, 25.34923058, 27.22878323,\n",
       "        29.10833587]),\n",
       " <BarContainer object of 20 artists>)"
      ]
     },
     "execution_count": 7,
     "metadata": {},
     "output_type": "execute_result"
    },
    {
     "data": {
      "image/png": "[encoded data removed]",
      "text/plain": [
       "<Figure size 432x288 with 1 Axes>"
      ]
     },
     "metadata": {
      "needs_background": "light"
     },
     "output_type": "display_data"
    }
   ],
   "source": [
    "plt.hist(s, bins=20)"
   ]
  },
  {
   "cell_type": "code",
   "execution_count": 8,
   "metadata": {},
   "outputs": [
    {
     "data": {
      "text/plain": [
       "(array([  0.,   0.,   0.,   0.,   0.,   1.,   0.,   2.,   8.,  13.,  31.,\n",
       "         55.,  91., 141., 174., 144., 133., 103.,  54.,  32.,  12.,   4.,\n",
       "          0.,   1.,   1.,   0.,   0.,   0.,   0.,   0.]),\n",
       " array([-20, -18, -16, -14, -12, -10,  -8,  -6,  -4,  -2,   0,   2,   4,\n",
       "          6,   8,  10,  12,  14,  16,  18,  20,  22,  24,  26,  28,  30,\n",
       "         32,  34,  36,  38,  40]),\n",
       " <BarContainer object of 30 artists>)"
      ]
     },
     "execution_count": 8,
     "metadata": {},
     "output_type": "execute_result"
    },
    {
     "data": {
      "image/png": "[encoded data removed]",
      "text/plain": [
       "<Figure size 432x288 with 1 Axes>"
      ]
     },
     "metadata": {
      "needs_background": "light"
     },
     "output_type": "display_data"
    }
   ],
   "source": [
    "bins = np.arange(-20, 42, 2)\n",
    "plt.hist(s, bins=bins)\n"
   ]
  },
  {
   "cell_type": "markdown",
   "metadata": {},
   "source": [
    "### The Gaussian distribution\n",
    "The probability density for the Gaussian distribution is\n",
    "$$\n",
    "p(x) = \\frac{1}{\\sqrt{ 2 \\pi \\sigma^2 }} e^{ - \\frac{ (x - \\mu)^2 } {2 \\sigma^2} },\n",
    "$$\n",
    "where $\\mu$ is the mean and $\\sigma$ the standard deviation.\n"
   ]
  },
  {
   "cell_type": "code",
   "execution_count": 9,
   "metadata": {},
   "outputs": [
    {
     "data": {
      "image/png": "[encoded data removed]",
      "text/plain": [
       "<Figure size 432x288 with 1 Axes>"
      ]
     },
     "metadata": {
      "needs_background": "light"
     },
     "output_type": "display_data"
    }
   ],
   "source": [
    "count, bins, ignored = plt.hist(s, bins=20, density=True)\n",
    "\n",
    "gaussian = lambda x: 1/(sigma * np.sqrt(2 * np.pi)) * np.exp( - (x - mu)**2 / (2 * sigma**2) )\n",
    "\n",
    "plt.plot(bins, gaussian(bins),\n",
    "         linewidth=2, \n",
    "         color='r')\n",
    "\n",
    "plt.show()"
   ]
  },
  {
   "cell_type": "markdown",
   "metadata": {},
   "source": [
    "### Uniform distribution"
   ]
  },
  {
   "cell_type": "code",
   "execution_count": 10,
   "metadata": {},
   "outputs": [
    {
     "data": {
      "image/png": "[encoded data removed]",
      "text/plain": [
       "<Figure size 432x288 with 1 Axes>"
      ]
     },
     "metadata": {
      "needs_background": "light"
     },
     "output_type": "display_data"
    }
   ],
   "source": [
    "s = np.random.uniform(0, 10, 10000)\n",
    "\n",
    "plt.hist(s, bins = 10)\n",
    "plt.show()"
   ]
  },
  {
   "cell_type": "markdown",
   "metadata": {},
   "source": [
    "### Binomial distribution"
   ]
  },
  {
   "cell_type": "code",
   "execution_count": 24,
   "metadata": {},
   "outputs": [
    {
     "data": {
      "image/png": "[encoded data removed]",
      "text/plain": [
       "<Figure size 432x288 with 1 Axes>"
      ]
     },
     "metadata": {
      "needs_background": "light"
     },
     "output_type": "display_data"
    }
   ],
   "source": [
    "n, p = 6, .5  # number of trials, probability of each trial\n",
    "s = np.random.binomial(n, p, 1000)\n",
    "\n",
    "values, counts = np.unique(s, return_counts=True)\n",
    "\n",
    "plt.bar(values, counts)\n",
    "plt.show()"
   ]
  },
  {
   "cell_type": "code",
   "execution_count": 11,
   "metadata": {},
   "outputs": [
    {
     "name": "stdout",
     "output_type": "stream",
     "text": [
      "0 keer kop:   21\n",
      "1 keer kop:   90\n",
      "2 keer kop:  267\n",
      "3 keer kop:  308\n",
      "4 keer kop:  228\n",
      "5 keer kop:   76\n",
      "6 keer kop:   10\n"
     ]
    }
   ],
   "source": [
    "for value, count in zip(values, counts):\n",
    "    print(f'{value} keer kop: {count:4}')"
   ]
  },
  {
   "cell_type": "code",
   "execution_count": 12,
   "metadata": {},
   "outputs": [
    {
     "data": {
      "text/plain": [
       "1000"
      ]
     },
     "execution_count": 12,
     "metadata": {},
     "output_type": "execute_result"
    }
   ],
   "source": [
    "sum(counts)"
   ]
  },
  {
   "cell_type": "code",
   "execution_count": null,
   "metadata": {},
   "outputs": [],
   "source": []
  }
 ],
 "metadata": {
  "kernelspec": {
   "display_name": "Python 3 (ipykernel)",
   "language": "python",
   "name": "python3"
  },
  "language_info": {
   "codemirror_mode": {
    "name": "ipython",
    "version": 3
   },
   "file_extension": ".py",
   "mimetype": "text/x-python",
   "name": "python",
   "nbconvert_exporter": "python",
   "pygments_lexer": "ipython3",
   "version": "3.9.12"
  }
 },
 "nbformat": 4,
 "nbformat_minor": 2
}
