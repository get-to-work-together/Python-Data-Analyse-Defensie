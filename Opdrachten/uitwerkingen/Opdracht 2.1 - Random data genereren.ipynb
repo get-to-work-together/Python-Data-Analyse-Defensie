{
 "cells": [
  {
   "cell_type": "markdown",
   "metadata": {},
   "source": [
    "# Opdracht 2.1 - Random data genereren"
   ]
  },
  {
   "cell_type": "code",
   "execution_count": 1,
   "metadata": {},
   "outputs": [],
   "source": [
    "import numpy as np\n",
    "\n",
    "import matplotlib.pyplot as plt\n",
    "%matplotlib inline"
   ]
  },
  {
   "cell_type": "markdown",
   "metadata": {},
   "source": [
    "### Willekeurige gehele getalen tussen 1 en 100"
   ]
  },
  {
   "cell_type": "code",
   "execution_count": 20,
   "metadata": {},
   "outputs": [
    {
     "data": {
      "text/plain": [
       "array([48, 84, 39, 54, 77, 25, 16, 50, 24, 27])"
      ]
     },
     "execution_count": 20,
     "metadata": {},
     "output_type": "execute_result"
    }
   ],
   "source": [
    "np.random.seed(1234)\n",
    "\n",
    "values = np.random.randint(1, 100, 10)\n",
    "values"
   ]
  },
  {
   "cell_type": "markdown",
   "metadata": {},
   "source": [
    "### Willekeurige getallen met een normale verdeling rond 10 en een spreiding van 5"
   ]
  },
  {
   "cell_type": "code",
   "execution_count": 44,
   "metadata": {},
   "outputs": [],
   "source": [
    "n = 1000\n",
    "mu, sigma = 10, 5   # mean and standard deviation\n",
    "\n",
    "s = np.random.randn(n) * sigma + mu\n",
    "\n",
    "# of\n",
    "\n",
    "s = np.random.normal(mu, sigma, n)"
   ]
  },
  {
   "cell_type": "code",
   "execution_count": 45,
   "metadata": {},
   "outputs": [
    {
     "data": {
      "text/plain": [
       "array([ 5.26973752e-01, -1.64379623e-01,  7.85314098e-02, -1.59217087e+00,\n",
       "        7.11862170e-01,  1.74012976e-01,  2.34781606e-01, -1.38362794e+00,\n",
       "        1.76058533e-01, -2.65595528e-01, -5.43209205e-01,  4.49191587e-01,\n",
       "       -1.13931570e-01,  1.83305079e+00,  1.62488728e+00,  1.94470544e+00,\n",
       "        1.59113820e+00, -4.97975394e-01,  7.00653884e-01, -1.74413086e+00,\n",
       "       -1.01085833e+00,  1.60446170e+00, -1.75808359e+00, -4.99631206e-01,\n",
       "       -1.15906331e+00, -9.15724094e-01,  2.59412556e-01, -1.34297171e-01,\n",
       "        1.55193110e+00,  1.64825272e-01, -2.36125437e-01, -2.47161618e-01,\n",
       "       -1.44311978e+00, -1.29170367e+00,  9.72044237e-01,  9.97651225e-01,\n",
       "        1.02838596e+00,  1.79961330e+00,  4.75539368e-02,  4.15567568e-01,\n",
       "        7.74306703e-01,  8.09584303e-01,  4.78143813e-01,  2.46869448e+00,\n",
       "        9.97194214e-01, -7.70506040e-01, -4.99268920e-01,  1.50947562e-01,\n",
       "        1.13419831e+00,  3.30135642e-01,  3.43264158e-01,  6.16192930e-01,\n",
       "        2.84336714e-01,  5.43476191e-01, -3.90901099e-01,  1.24978517e+00,\n",
       "       -1.72668500e+00, -1.97664055e+00, -1.80246976e-01,  8.40103931e-01,\n",
       "        3.75919750e-01,  8.30062322e-01,  4.81231099e-01, -6.14925759e-01,\n",
       "       -4.04092151e-01,  6.14426032e-01, -2.46833961e+00,  8.12126567e-01,\n",
       "        3.26939423e-01,  8.87321349e-01,  6.40879575e-01,  6.37186199e-01,\n",
       "        2.77832152e-01, -1.55356698e+00, -1.22290158e-01,  4.19912309e-01,\n",
       "        1.04076618e+00,  9.16317633e-01,  7.61890409e-01, -1.12018768e+00,\n",
       "       -1.06902289e+00, -8.86928165e-01,  1.78716441e-01, -8.09651035e-01,\n",
       "        1.04338171e+00,  5.50339759e-01, -4.73038646e-01,  1.20559465e+00,\n",
       "        7.89180620e-01,  5.40668678e-01,  2.37434814e-01,  1.33712951e+00,\n",
       "        7.13029579e-01,  3.15996676e-01,  9.95536888e-01,  1.16086351e+00,\n",
       "        1.43149083e+00, -2.25564936e-01,  3.12704881e-01,  2.64949854e-01,\n",
       "       -5.40271424e-01, -4.70988217e-01,  9.03017226e-01,  1.08350963e+00,\n",
       "        8.83848599e-01,  2.87876016e+00, -7.35730876e-01, -3.22644254e-01,\n",
       "       -1.50055546e+00, -9.11347607e-02,  2.59404346e-01,  1.08483875e+00,\n",
       "       -1.57619657e+00,  7.92558178e-02,  6.83608316e-01, -4.74966956e-01,\n",
       "       -2.39852105e-01,  3.74264058e-01, -7.56040868e-01, -6.73463628e-01,\n",
       "        3.13673876e-01, -9.44748372e-01, -1.72694155e+00,  8.42729147e-01,\n",
       "       -7.04233615e-01,  3.95901102e-01, -7.68765965e-01, -9.03928105e-01,\n",
       "        6.67881268e-01,  1.28851431e+00, -1.07302197e+00, -1.67796535e-01,\n",
       "       -2.87548908e-01,  9.78116221e-01, -1.63052525e-01,  5.90306881e-01,\n",
       "       -5.95049636e-02,  4.63254682e-01, -5.20305354e-01, -5.10368232e-01,\n",
       "        1.44096036e+00, -7.78129659e-01, -3.50185899e-01,  5.12506633e-01,\n",
       "       -7.41963420e-02,  5.13405952e-01, -7.66557542e-01,  5.49329976e-01,\n",
       "       -1.85376016e-01,  3.06312882e-01,  6.76271122e-01,  3.94340056e-01,\n",
       "        9.05282648e-01,  1.39539185e+00, -5.57390349e-01, -1.11504913e+00,\n",
       "       -1.45925425e+00,  2.81410763e-02, -2.21583697e-01, -9.68911270e-01,\n",
       "        2.21388767e-02,  2.24836933e-01,  1.49969706e+00,  7.08591580e-01,\n",
       "        2.08345959e-01, -2.43069270e+00,  1.42322269e-01,  4.11862096e-01,\n",
       "       -1.95660617e+00, -2.58555844e-01, -1.41583642e+00, -1.07382892e+00,\n",
       "       -1.63420580e-01, -1.11278776e+00,  1.54925943e-01, -6.51928961e-01,\n",
       "        2.18889262e-01, -1.02216986e+00, -1.35442238e-01, -1.22743950e+00,\n",
       "        1.81968246e-02,  7.27103627e-01, -8.13870836e-01,  6.88161680e-01,\n",
       "        1.10202590e+00, -1.83856281e-01,  2.28084431e-01,  1.45164566e-01,\n",
       "        4.53618602e-01, -1.52608170e-03,  2.05462317e+00,  8.98751158e-01,\n",
       "        1.18006536e-01,  1.01339388e+00,  1.49907098e-01, -3.88106903e-01,\n",
       "       -1.10142996e-01,  2.07046772e-01,  5.26775200e-01,  2.32571217e-01,\n",
       "        9.17126038e-01,  7.80531392e-01,  7.54715280e-02,  2.41244877e+00,\n",
       "        2.67858784e+00,  2.00724553e-01,  3.71276918e-01,  7.50523163e-01,\n",
       "       -3.82879573e-01,  5.91418795e-01,  1.12995004e+00,  1.13597467e+00,\n",
       "       -1.46368261e+00,  2.84742121e-01, -6.52442665e-01, -1.09429130e+00,\n",
       "       -1.87642438e+00,  6.76792710e-01,  4.85409846e-01,  1.06008688e+00,\n",
       "        2.48829813e-02,  1.03566003e+00, -4.28503634e-01, -4.17452753e-01,\n",
       "       -1.82958838e-01, -5.05890978e-01,  3.43476052e-01,  7.95984419e-01,\n",
       "       -1.14258685e+00, -1.59838974e-01,  9.30875827e-01, -7.92156736e-01,\n",
       "        7.17501036e-01,  1.48745640e+00,  7.45333339e-01, -4.88823969e-01,\n",
       "       -1.25886946e+00,  1.20374688e+00, -3.56607536e-01,  9.68649883e-01,\n",
       "       -9.94116687e-02,  5.48979254e-01,  1.17771499e+00, -1.23188747e+00,\n",
       "        6.79860990e-01,  8.87098068e-02,  6.90606290e-01,  2.04109618e+00,\n",
       "        2.66344263e-01, -5.77785243e-01, -5.15991157e-02,  1.65306397e+00,\n",
       "       -1.72300424e+00,  1.80991196e+00, -3.86893775e-01, -2.23171361e-02,\n",
       "        3.66979313e-01, -2.32263260e-01,  4.88547007e-01,  6.91050983e-01,\n",
       "       -5.42612238e-02, -1.09150088e+00,  5.37775884e-01,  6.27582072e-01,\n",
       "       -2.76993817e+00,  1.70090009e+00, -1.46158462e+00, -2.05745774e+00,\n",
       "        2.12543424e-01, -5.45289539e-01, -1.31183954e-01, -1.28183142e+00,\n",
       "       -6.99535411e-01,  5.71723860e-01, -8.31194101e-01, -2.87819402e+00,\n",
       "        1.96617016e-02,  4.61184666e-01, -7.84511479e-01, -3.92257134e-01,\n",
       "        3.78012545e-01, -7.05712115e-01,  2.98129080e-01, -3.21917933e-01,\n",
       "        2.04487643e-01, -1.42869161e-01, -2.60887478e-01,  6.99771368e-01,\n",
       "        2.74074587e-01,  8.74297902e-01,  1.49433566e+00, -4.07378274e-01,\n",
       "       -4.30006804e-01, -1.77866061e-01, -3.70992244e-01, -1.33289823e-01,\n",
       "        4.57002633e-01, -6.84820841e-01,  4.32970319e-01, -1.59843909e-01,\n",
       "       -4.86218441e-02, -1.80616700e+00, -1.89141055e+00, -1.92644563e-01,\n",
       "        5.29782764e-01,  1.34882818e+00,  7.84133442e-01, -9.60147785e-01,\n",
       "       -2.30807544e-01,  1.80102502e-01,  1.26744390e+00,  5.86212947e-01,\n",
       "        5.22323685e-01,  7.05081167e-01,  9.10083228e-01, -8.31820690e-01,\n",
       "       -2.74298993e-01, -8.20780560e-02,  2.26770332e+00,  2.34219612e-01,\n",
       "        7.82768891e-01, -1.74789024e+00, -4.99204656e-01,  2.16380507e-01,\n",
       "       -4.90451165e-01,  1.11135451e+00,  3.10121895e-01,  6.65073896e-01,\n",
       "        3.94687692e-01, -3.05657030e-01, -9.24229854e-01, -4.09095089e-02,\n",
       "        2.27713153e-01, -2.24724544e+00,  1.92335749e+00, -5.83595320e-01,\n",
       "       -1.31080768e+00, -1.38119406e+00,  1.75707161e-01, -5.43767540e-01,\n",
       "       -1.80257435e+00,  3.71288707e-01, -3.04702030e-01,  9.40854626e-01,\n",
       "        1.31408713e+00,  1.76197959e-01,  5.70089145e-01,  1.60416528e+00,\n",
       "        1.33575924e+00, -1.79468917e-01,  1.84549752e+00,  4.47273172e-01,\n",
       "        7.98074203e-01, -7.00762242e-02, -2.14875449e-01,  1.10899791e+00,\n",
       "       -3.78503321e-01,  1.13788162e+00,  7.98652688e-01,  1.18321396e+00,\n",
       "       -8.02589253e-02, -1.23356140e+00,  1.06004737e+00,  4.59974609e-02,\n",
       "       -5.93314873e-02, -3.82106557e-01,  5.03283728e-01,  1.13500121e-01,\n",
       "        4.63358112e-01,  5.04726852e-01,  1.21855997e-01, -1.36141728e+00,\n",
       "        5.18516681e-01,  6.76218798e-01, -4.47212307e-01,  1.70347077e+00,\n",
       "       -5.06720550e-02,  5.46357853e-02, -8.30622182e-01,  6.40023506e-01,\n",
       "        1.96515706e+00, -1.32893415e+00, -1.23571206e+00, -2.23474391e+00,\n",
       "        1.56274885e+00, -7.34895181e-01,  5.08075768e-01, -6.94604084e-02,\n",
       "       -6.29972514e-01,  4.09186468e-01,  1.64089253e+00, -3.42006186e-01,\n",
       "        7.02928955e-01, -1.96375365e-01, -1.99446176e+00, -6.11048710e-01,\n",
       "        5.24239867e-01, -9.05399775e-01, -4.41328750e-01,  1.00362230e+00,\n",
       "       -8.30080586e-01,  7.52886002e-01, -1.54123424e+00,  9.08433205e-01,\n",
       "       -6.72141725e-02,  5.46886261e-01, -9.58182330e-01, -6.52949114e-02,\n",
       "       -6.30924060e-01, -4.46042117e-01,  1.04718489e+00, -1.10521811e+00,\n",
       "       -1.39034157e-01, -6.59785556e-01,  9.82194891e-02,  9.84371101e-01,\n",
       "        8.54241362e-01, -7.60641531e-01,  2.78538593e-02,  8.78334000e-01,\n",
       "        9.41527319e-02, -3.63019612e-01,  6.25422813e-01, -9.29874076e-01,\n",
       "       -1.55060924e+00,  4.40126392e-02,  2.71157018e-01,  1.26459830e-01,\n",
       "       -1.46229101e+00,  1.42161086e+00, -9.42022670e-01,  3.96097596e-01,\n",
       "        2.19282421e-01,  9.73003086e-01, -3.41467062e-01, -3.22753977e-01,\n",
       "        4.02709507e-01, -5.87282351e-01, -6.47408880e-01, -1.91124155e+00,\n",
       "       -7.31228563e-02,  2.00984129e+00, -3.42713922e-01,  1.85629955e-01,\n",
       "       -1.62226741e-01,  4.43090070e-01, -6.64025600e-01,  1.24503283e+00,\n",
       "        1.07203042e+00,  6.46702384e-01,  1.56743312e+00,  7.40029256e-01,\n",
       "        8.15482909e-01,  1.02423962e+00,  7.05110990e-01,  9.29964757e-01,\n",
       "       -2.16174149e-02, -3.47533646e-01, -7.04650266e-02, -1.80717423e-01,\n",
       "       -9.57581060e-01, -6.13924424e-01, -4.37218955e-02, -8.02448571e-01,\n",
       "        2.62137076e+00,  5.21648707e-02,  7.85521564e-02,  8.89750152e-01,\n",
       "       -5.44759309e-01,  3.93002695e-01,  1.77991703e-01, -1.50851188e+00,\n",
       "       -2.23894519e+00,  1.19672961e-01,  2.47670025e-01,  5.13426372e-02,\n",
       "        5.19937236e-01,  3.76283883e-01,  7.53845670e-01,  7.67347435e-01,\n",
       "        5.82055914e-01,  7.71629040e-01,  8.05925488e-01, -1.18324113e+00,\n",
       "        1.91242374e+00, -1.22444905e+00, -7.56099220e-01, -9.74053700e-01,\n",
       "       -2.07809045e-01, -7.67982645e-01, -5.43517074e-01, -3.08177454e-02,\n",
       "        4.60285737e-01,  1.14142876e+00, -5.17952645e-01, -4.19036442e-01,\n",
       "        1.59075061e+00, -3.49921924e-01, -1.45141422e-01, -1.71425803e-01,\n",
       "        6.67778523e-01, -6.70754666e-01, -3.96674357e-01,  1.07860147e+00,\n",
       "       -1.23722534e-01, -6.35663298e-01,  2.16286911e-01, -2.00455495e-01,\n",
       "        1.88312156e+00, -1.63735510e-01, -1.28685087e+00,  6.05217916e-02,\n",
       "        1.88013612e-01,  1.40729229e+00,  7.24846343e-01, -3.04214931e-01,\n",
       "        4.42196385e-01,  8.18477902e-01, -2.27743832e-02,  6.22906244e-01,\n",
       "        1.24171128e+00, -6.12954368e-01, -4.89658406e-01, -5.84250837e-01,\n",
       "       -1.62663946e-01,  1.06647966e+00, -2.51095367e-01,  1.01975930e+00,\n",
       "        2.98360844e-01, -1.23870191e+00,  1.11930899e+00,  1.10951705e-01,\n",
       "        2.29581823e-01, -1.87418739e+00,  6.24290510e-03, -2.17301675e-01,\n",
       "        2.09000745e-03, -1.88730080e+00, -3.00686428e-01, -1.19436858e+00,\n",
       "        1.33953222e-01,  1.29753874e+00, -2.17867688e+00,  3.13373441e-01,\n",
       "       -3.61385894e-02,  1.17174143e+00,  1.66159159e+00, -3.42786584e-01,\n",
       "        2.40791732e-01,  1.97535195e+00, -3.28534671e-01, -7.41732955e-02,\n",
       "        5.23568812e-01,  9.39243990e-01, -4.76822200e-02, -1.10376009e-01,\n",
       "       -7.23083669e-01, -2.27250696e-01,  4.52898458e-01,  2.55779722e-01,\n",
       "        8.08672375e-01, -1.87084553e+00, -1.06579800e-01, -1.47526432e+00,\n",
       "        6.78167311e-01,  1.65634666e+00, -3.93190558e-01, -1.43284981e-02,\n",
       "       -1.55587176e+00, -3.78520105e-02, -7.38392869e-01, -1.25779677e+00,\n",
       "       -6.04932051e-01,  1.42597492e+00, -7.26525997e-01, -3.72531754e-01,\n",
       "        8.36971093e-01, -4.55087485e-01, -1.78016814e-01, -1.53505071e+00,\n",
       "       -5.73991276e-01, -1.18545030e+00, -5.60190293e-01,  1.41270937e-01,\n",
       "       -1.52009918e-01, -3.64427105e-02, -3.48177924e-01,  3.73247654e-02,\n",
       "        2.90256352e-01, -1.36815786e-01,  4.09578463e-01,  1.29767777e+00,\n",
       "        2.08357350e-01, -9.81968059e-01, -5.01231944e-01, -3.68416313e-01,\n",
       "       -7.89397212e-01,  1.28514266e+00,  2.39892152e-01,  3.91111194e-01,\n",
       "       -7.27985993e-01,  6.83549412e-01,  3.46331363e-01,  7.96542653e-02,\n",
       "        4.82235686e-01,  1.50885131e+00,  1.18833079e+00,  8.64250815e-01,\n",
       "       -1.36810047e+00,  1.18452544e+00,  2.17589845e-01,  1.81609088e-01,\n",
       "        3.79370870e-01, -3.36292659e-01, -5.75595594e-01, -6.19653766e-01,\n",
       "        1.83025675e-01, -9.48713304e-01,  1.31105148e-01,  1.27706423e-01,\n",
       "        9.62572667e-01, -1.47480028e+00,  9.26094274e-01,  1.27420584e+00,\n",
       "        3.21717084e-01,  1.22382227e+00, -1.01874727e+00,  1.43955326e+00,\n",
       "       -8.73525264e-02,  5.45206167e-01,  1.27080377e+00,  3.27602611e-01,\n",
       "       -1.21970518e+00,  2.76573013e-01, -1.06578419e+00, -6.90713613e-01,\n",
       "        4.47366043e-01,  1.10356741e+00,  1.18527384e+00, -1.04604991e+00,\n",
       "        2.04966240e+00,  1.48947303e-01, -5.38286579e-01, -1.42661634e+00,\n",
       "       -2.08720813e+00, -2.23025821e+00, -4.44291538e-01, -6.56135934e-01,\n",
       "       -1.30615921e-01, -1.56492944e+00,  1.56585290e+00, -1.14238107e+00,\n",
       "       -1.69674017e-01, -1.13886921e+00,  6.51399761e-01,  1.12950395e+00,\n",
       "       -1.71804094e+00, -6.57024701e-01, -7.87473436e-01, -1.92888082e+00,\n",
       "       -1.00468801e+00, -3.61035046e-02,  1.43692841e+00, -7.53043383e-01,\n",
       "       -6.33047561e-01,  4.79157027e-01, -1.93176879e+00, -3.81121562e-01,\n",
       "       -1.03050316e+00, -1.57511732e+00,  4.25561376e-01,  9.16187454e-01,\n",
       "        1.28699030e-01,  1.34042895e-01, -1.47283158e+00, -7.02831986e-01,\n",
       "        7.48096066e-01, -1.13482685e+00,  6.70836043e-01,  1.28811223e+00,\n",
       "       -6.57848559e-01,  4.64576704e-01, -4.28333892e-01, -8.59077913e-01,\n",
       "       -3.41086005e-01,  3.53282505e-01,  9.34205180e-01, -9.52277617e-01,\n",
       "       -3.59954788e-02, -3.19353086e-02,  2.20902712e+00,  1.71466077e+00,\n",
       "        2.02428900e+00, -1.09398466e+00,  4.29213983e-02,  8.88336373e-02,\n",
       "       -1.21623597e+00,  7.99386173e-02, -9.27656720e-01, -9.92425783e-01,\n",
       "       -5.88263334e-01,  8.72847525e-01,  1.66814329e+00, -1.39817459e+00,\n",
       "        6.94906806e-02,  3.28088687e-01, -8.04651533e-01,  6.90833744e-01,\n",
       "        1.73248317e-01,  3.59930583e-01, -1.84006761e+00,  7.80981393e-01,\n",
       "       -7.47841920e-01,  4.93842544e-01, -6.99443683e-02,  8.79730474e-01,\n",
       "       -5.49690835e-01, -2.73050571e-01,  1.13319762e+00,  2.66663026e+00,\n",
       "       -1.99658191e+00, -1.27765278e+00, -2.96548447e-01,  1.15103062e+00,\n",
       "       -6.89799942e-01, -1.40357084e-01,  1.01178190e+00, -3.44543749e-01,\n",
       "        2.23844875e-02,  4.98161421e-02, -1.12562509e+00,  1.61095195e+00,\n",
       "        1.18134302e+00, -2.60640115e-01, -1.75881799e+00,  1.55142070e-01,\n",
       "        1.92125801e+00,  9.45597134e-01,  2.18048248e+00, -8.43252768e-01,\n",
       "       -1.01549878e-01, -4.50592702e-01,  5.45250813e-01,  6.36122752e-01,\n",
       "       -1.90398279e+00, -1.44264938e+00,  7.28269111e-01,  5.81420750e-01,\n",
       "       -1.29664917e+00,  1.02321964e+00, -1.15628007e+00,  3.67603202e-01,\n",
       "        1.92672199e+00,  2.50950360e+00,  1.31441032e+00, -4.92946629e-02,\n",
       "        5.18076907e-01, -1.62500937e+00,  5.85142139e-01, -1.96627594e+00,\n",
       "        7.03504530e-01, -2.02692787e+00, -8.55690439e-01,  3.18035959e-02,\n",
       "       -6.20555466e-01,  1.43819227e+00,  3.96140807e-01,  1.37078892e+00,\n",
       "        1.41156434e+00, -7.51159997e-01, -1.12359885e-02,  1.75982073e-01,\n",
       "       -7.46433489e-01,  1.53356888e+00,  4.55462271e-01, -9.38624770e-01,\n",
       "       -8.30517258e-01,  1.13978388e+00,  9.40684243e-01, -5.90710900e-01,\n",
       "        2.16970098e+00, -5.99067725e-01,  1.80970021e+00,  1.82351825e-01,\n",
       "        1.24825608e+00,  1.09847040e+00,  8.48758772e-01,  1.77896249e+00,\n",
       "        1.27417580e+00, -7.18746679e-01,  1.08135312e-02,  2.67679271e-02,\n",
       "       -8.28508537e-01,  1.73222862e-01, -3.62308130e-05,  3.85941723e-01,\n",
       "       -3.62785102e-01,  2.48168019e-01,  1.29204772e+00, -9.20126606e-01,\n",
       "       -1.92023116e+00,  1.59141114e-01, -1.10560334e+00, -1.71362136e+00,\n",
       "        1.97662700e+00,  1.06900959e+00,  9.33052683e-01,  1.28424977e+00,\n",
       "       -1.85141541e+00, -3.82047230e-01,  3.37734764e-01,  1.77370046e+00,\n",
       "       -9.53150417e-02, -1.34669675e+00, -8.59304226e-01,  1.14745249e+00,\n",
       "       -4.21283056e-01,  1.58303927e+00,  1.51311492e-02, -4.16439541e-01,\n",
       "        3.19049093e-01, -1.51393608e-01, -1.24672597e+00, -1.78462753e-01,\n",
       "       -4.04346260e-01, -1.35138680e+00,  1.62690731e+00, -5.78104092e-01,\n",
       "       -6.37676196e-01, -8.49579134e-01,  1.04624040e+00,  8.27479878e-01,\n",
       "       -1.01894451e-01, -2.83038382e-02,  1.33871030e-01,  6.95593341e-01,\n",
       "       -1.43124780e+00,  5.16427640e-01,  5.88817065e-01,  1.74274572e+00,\n",
       "       -6.05543701e-03, -4.46807867e-01,  5.75073688e-01, -5.13863635e-01,\n",
       "       -6.95038304e-01, -3.17836010e-01,  8.05596919e-01,  3.22363126e-01,\n",
       "        2.08607402e-01,  4.25196636e-01, -2.31020005e-02,  6.53220899e-01,\n",
       "        5.57593022e-01, -1.55184379e+00, -4.66287203e-02,  1.35866070e+00,\n",
       "       -1.42077904e+00,  1.65336055e-01,  1.07443958e+00,  8.94319261e-01,\n",
       "       -6.96612646e-01,  1.98297331e+00,  1.53320704e+00, -1.57248679e+00,\n",
       "        3.98723369e-01, -3.91769437e-01, -1.98065250e+00,  3.58828410e-01,\n",
       "       -3.26240714e-01,  8.84804918e-03,  7.21294136e-01,  3.52482381e-02,\n",
       "       -1.70290436e+00,  1.43216147e+00,  3.93769085e-02, -4.58376332e-01,\n",
       "       -4.69095245e-01,  5.74196500e-01, -2.15359335e-01, -2.81703482e-01,\n",
       "        1.46366095e+00,  1.69247565e+00,  4.64488183e-01, -3.25488493e-01,\n",
       "        3.21953262e-01, -1.44524996e+00,  1.65311246e-01, -2.14561857e+00,\n",
       "        4.21412140e-01, -3.48922864e-01,  5.12563956e-02,  1.12788706e+00,\n",
       "        1.08908145e+00, -1.06991065e+00,  2.29916445e+00,  5.07176408e-01,\n",
       "        1.06771567e+00,  6.10505468e-03, -4.30738650e-02,  7.88446318e-03,\n",
       "       -8.72628186e-01,  1.16045470e+00, -1.47027221e+00,  7.76119210e-03,\n",
       "       -1.83015711e-01, -5.03969812e-01,  3.89627184e-01,  1.60501090e+00,\n",
       "       -2.26431076e+00, -1.30463231e+00,  2.54478348e-01,  4.91414484e-01,\n",
       "       -1.74597642e-01, -4.54508119e-01,  1.40495224e+00, -8.80524232e-01,\n",
       "        9.26816056e-01,  5.33790855e-01,  2.42411246e+00, -5.98027062e-01,\n",
       "        1.22907572e+00,  4.22761931e-01, -1.01268302e+00,  2.77252187e-01,\n",
       "        1.06389856e+00,  7.52020726e-01, -2.05981785e+00,  3.18566755e-01,\n",
       "        8.78733777e-01, -5.85531085e-02,  1.14576815e-01, -2.32154494e-01,\n",
       "       -1.10331524e+00, -1.45352755e-01, -2.68139943e-01, -1.37686745e-02,\n",
       "       -8.26115755e-01, -1.37658599e+00, -2.59242853e-01, -1.34605273e+00,\n",
       "        1.55068842e+00, -5.14408347e-01,  1.39112175e+00,  4.03089725e-01,\n",
       "        9.67597751e-01,  1.11717769e+00, -1.81510722e+00,  2.47251137e-01,\n",
       "        1.14732189e+00,  8.63962673e-01, -2.13903602e-01,  9.45500746e-01,\n",
       "       -1.52143941e+00,  7.25313205e-01,  4.57191150e-01, -2.59656730e+00,\n",
       "       -5.05740785e-01,  3.46079818e-01,  4.95450319e-02, -9.80756139e-01,\n",
       "        6.35205455e-01,  2.58828719e-01,  8.96395041e-01, -3.85846328e-01,\n",
       "        1.66304237e+00, -1.17289233e-01,  1.66253203e-01, -1.59984835e+00,\n",
       "        8.13115387e-01, -2.14557104e-01, -2.18355816e+00, -8.10613334e-01,\n",
       "        2.02612466e-01, -8.54213741e-01,  3.26703654e-01, -8.06060153e-01,\n",
       "        7.86614482e-01, -1.58610770e+00, -1.87049570e-01, -5.78600619e-01,\n",
       "       -6.81539752e-01,  2.95315634e-01, -2.59958037e-01,  2.34895693e-01,\n",
       "       -1.18036210e+00,  8.99616492e-01, -7.89106651e-03, -1.84570764e+00,\n",
       "        6.20452819e-01,  9.58704089e-01,  1.75265193e-01, -1.95372969e+00,\n",
       "       -1.81719548e+00, -1.05258046e+00, -1.29537027e+00,  9.81465367e-01,\n",
       "       -2.18901661e-01, -7.10905174e-01,  1.95968758e-01, -1.16409831e+00])"
      ]
     },
     "execution_count": 45,
     "metadata": {},
     "output_type": "execute_result"
    }
   ],
   "source": [
    "s"
   ]
  },
  {
   "cell_type": "markdown",
   "metadata": {},
   "source": [
    "### Een histogram"
   ]
  },
  {
   "cell_type": "code",
   "execution_count": 35,
   "metadata": {},
   "outputs": [
    {
     "data": {
      "text/plain": [
       "(array([   6.,   66.,  428., 1369., 2567., 2862., 1848.,  665.,  163.,\n",
       "          26.]),\n",
       " array([-9.51998418, -5.76571143, -2.01143868,  1.74283407,  5.49710681,\n",
       "         9.25137956, 13.00565231, 16.75992506, 20.51419781, 24.26847055,\n",
       "        28.0227433 ]),\n",
       " <BarContainer object of 10 artists>)"
      ]
     },
     "execution_count": 35,
     "metadata": {},
     "output_type": "execute_result"
    },
    {
     "data": {
      "image/png": "[encoded data removed]",
      "text/plain": [
       "<Figure size 432x288 with 1 Axes>"
      ]
     },
     "metadata": {
      "needs_background": "light"
     },
     "output_type": "display_data"
    }
   ],
   "source": [
    "plt.hist(s)\n"
   ]
  },
  {
   "cell_type": "code",
   "execution_count": 36,
   "metadata": {},
   "outputs": [
    {
     "data": {
      "text/plain": [
       "(array([   4.,    2.,   14.,   52.,  134.,  294.,  528.,  841., 1131.,\n",
       "        1436., 1490., 1372., 1097.,  751.,  449.,  216.,  117.,   46.,\n",
       "          21.,    5.]),\n",
       " array([-9.51998418, -7.6428478 , -5.76571143, -3.88857505, -2.01143868,\n",
       "        -0.13430231,  1.74283407,  3.61997044,  5.49710681,  7.37424319,\n",
       "         9.25137956, 11.12851594, 13.00565231, 14.88278868, 16.75992506,\n",
       "        18.63706143, 20.51419781, 22.39133418, 24.26847055, 26.14560693,\n",
       "        28.0227433 ]),\n",
       " <BarContainer object of 20 artists>)"
      ]
     },
     "execution_count": 36,
     "metadata": {},
     "output_type": "execute_result"
    },
    {
     "data": {
      "image/png": "[encoded data removed]",
      "text/plain": [
       "<Figure size 432x288 with 1 Axes>"
      ]
     },
     "metadata": {
      "needs_background": "light"
     },
     "output_type": "display_data"
    }
   ],
   "source": [
    "plt.hist(s, bins=20)"
   ]
  },
  {
   "cell_type": "code",
   "execution_count": 37,
   "metadata": {},
   "outputs": [
    {
     "data": {
      "text/plain": [
       "(array([0.000e+00, 0.000e+00, 0.000e+00, 0.000e+00, 0.000e+00, 4.000e+00,\n",
       "        1.000e+00, 1.300e+01, 5.600e+01, 1.480e+02, 3.270e+02, 6.260e+02,\n",
       "        9.770e+02, 1.269e+03, 1.627e+03, 1.550e+03, 1.315e+03, 9.600e+02,\n",
       "        6.070e+02, 2.830e+02, 1.520e+02, 5.500e+01, 2.400e+01, 5.000e+00,\n",
       "        1.000e+00, 0.000e+00, 0.000e+00, 0.000e+00, 0.000e+00, 0.000e+00]),\n",
       " array([-20, -18, -16, -14, -12, -10,  -8,  -6,  -4,  -2,   0,   2,   4,\n",
       "          6,   8,  10,  12,  14,  16,  18,  20,  22,  24,  26,  28,  30,\n",
       "         32,  34,  36,  38,  40]),\n",
       " <BarContainer object of 30 artists>)"
      ]
     },
     "execution_count": 37,
     "metadata": {},
     "output_type": "execute_result"
    },
    {
     "data": {
      "image/png": "[encoded data removed]",
      "text/plain": [
       "<Figure size 432x288 with 1 Axes>"
      ]
     },
     "metadata": {
      "needs_background": "light"
     },
     "output_type": "display_data"
    }
   ],
   "source": [
    "bins = np.arange(-20, 42, 2)\n",
    "plt.hist(s, bins=bins)\n"
   ]
  },
  {
   "cell_type": "markdown",
   "metadata": {},
   "source": [
    "### The Gaussian distribution\n",
    "The probability density for the Gaussian distribution is\n",
    "$$\n",
    "p(x) = \\frac{1}{\\sqrt{ 2 \\pi \\sigma^2 }} e^{ - \\frac{ (x - \\mu)^2 } {2 \\sigma^2} },\n",
    "$$\n",
    "where $\\mu$ is the mean and $\\sigma$ the standard deviation.\n"
   ]
  },
  {
   "cell_type": "code",
   "execution_count": 38,
   "metadata": {},
   "outputs": [
    {
     "data": {
      "image/png": "[encoded data removed]",
      "text/plain": [
       "<Figure size 432x288 with 1 Axes>"
      ]
     },
     "metadata": {
      "needs_background": "light"
     },
     "output_type": "display_data"
    }
   ],
   "source": [
    "count, bins, ignored = plt.hist(s, bins=20, density=True)\n",
    "\n",
    "gaussian = lambda x: 1/(sigma * np.sqrt(2 * np.pi)) * np.exp( - (x - mu)**2 / (2 * sigma**2) )\n",
    "\n",
    "plt.plot(bins, gaussian(bins),\n",
    "         linewidth=2, \n",
    "         color='r')\n",
    "\n",
    "plt.show()"
   ]
  },
  {
   "cell_type": "markdown",
   "metadata": {},
   "source": [
    "### Uniform distribution"
   ]
  },
  {
   "cell_type": "code",
   "execution_count": 9,
   "metadata": {},
   "outputs": [
    {
     "data": {
      "image/png": "[encoded data removed]",
      "text/plain": [
       "<Figure size 432x288 with 1 Axes>"
      ]
     },
     "metadata": {
      "needs_background": "light"
     },
     "output_type": "display_data"
    }
   ],
   "source": [
    "s = np.random.uniform(0, 10, 10000)\n",
    "\n",
    "plt.hist(s, bins = 10)\n",
    "plt.show()"
   ]
  },
  {
   "cell_type": "markdown",
   "metadata": {},
   "source": [
    "### Binomial distribution"
   ]
  },
  {
   "cell_type": "code",
   "execution_count": 55,
   "metadata": {},
   "outputs": [
    {
     "data": {
      "image/png": "[encoded data removed]",
      "text/plain": [
       "<Figure size 432x288 with 1 Axes>"
      ]
     },
     "metadata": {
      "needs_background": "light"
     },
     "output_type": "display_data"
    }
   ],
   "source": [
    "n, p = 6, .5  # number of trials, probability of each trial\n",
    "s = np.random.binomial(n, p, 1000)\n",
    "\n",
    "values, counts = np.unique(s, return_counts=True)\n",
    "\n",
    "plt.bar(values, counts)\n",
    "plt.show()"
   ]
  },
  {
   "cell_type": "code",
   "execution_count": 11,
   "metadata": {},
   "outputs": [
    {
     "name": "stdout",
     "output_type": "stream",
     "text": [
      "0 keer kop:   21\n",
      "1 keer kop:   90\n",
      "2 keer kop:  267\n",
      "3 keer kop:  308\n",
      "4 keer kop:  228\n",
      "5 keer kop:   76\n",
      "6 keer kop:   10\n"
     ]
    }
   ],
   "source": [
    "for value, count in zip(values, counts):\n",
    "    print(f'{value} keer kop: {count:4}')"
   ]
  },
  {
   "cell_type": "code",
   "execution_count": 12,
   "metadata": {},
   "outputs": [
    {
     "data": {
      "text/plain": [
       "1000"
      ]
     },
     "execution_count": 12,
     "metadata": {},
     "output_type": "execute_result"
    }
   ],
   "source": [
    "sum(counts)"
   ]
  },
  {
   "cell_type": "code",
   "execution_count": null,
   "metadata": {},
   "outputs": [],
   "source": []
  }
 ],
 "metadata": {
  "kernelspec": {
   "display_name": "Python 3 (ipykernel)",
   "language": "python",
   "name": "python3"
  },
  "language_info": {
   "codemirror_mode": {
    "name": "ipython",
    "version": 3
   },
   "file_extension": ".py",
   "mimetype": "text/x-python",
   "name": "python",
   "nbconvert_exporter": "python",
   "pygments_lexer": "ipython3",
   "version": "3.8.12"
  }
 },
 "nbformat": 4,
 "nbformat_minor": 2
}
