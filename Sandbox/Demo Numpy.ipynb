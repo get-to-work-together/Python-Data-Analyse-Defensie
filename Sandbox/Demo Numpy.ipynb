{
 "cells": [
  {
   "cell_type": "markdown",
   "metadata": {},
   "source": [
    "### Demo Numpy"
   ]
  },
  {
   "cell_type": "code",
   "execution_count": 1,
   "metadata": {},
   "outputs": [],
   "source": [
    "# list in python\n",
    "getallen = [3,4,5,6,7,2,4,5,6]"
   ]
  },
  {
   "cell_type": "code",
   "execution_count": 2,
   "metadata": {},
   "outputs": [],
   "source": [
    "# nd-array in numpy\n",
    "import numpy as np\n",
    "getallen_np = np.array(getallen)"
   ]
  },
  {
   "cell_type": "code",
   "execution_count": 3,
   "metadata": {},
   "outputs": [
    {
     "data": {
      "text/plain": [
       "[3, 4, 5, 6, 7, 2, 4, 5, 6]"
      ]
     },
     "execution_count": 3,
     "metadata": {},
     "output_type": "execute_result"
    }
   ],
   "source": [
    "getallen"
   ]
  },
  {
   "cell_type": "code",
   "execution_count": 4,
   "metadata": {},
   "outputs": [
    {
     "data": {
      "text/plain": [
       "array([3, 4, 5, 6, 7, 2, 4, 5, 6])"
      ]
     },
     "execution_count": 4,
     "metadata": {},
     "output_type": "execute_result"
    }
   ],
   "source": [
    "getallen_np"
   ]
  },
  {
   "cell_type": "code",
   "execution_count": 5,
   "metadata": {},
   "outputs": [
    {
     "data": {
      "text/plain": [
       "list"
      ]
     },
     "execution_count": 5,
     "metadata": {},
     "output_type": "execute_result"
    }
   ],
   "source": [
    "type(getallen)"
   ]
  },
  {
   "cell_type": "code",
   "execution_count": 6,
   "metadata": {},
   "outputs": [
    {
     "data": {
      "text/plain": [
       "numpy.ndarray"
      ]
     },
     "execution_count": 6,
     "metadata": {},
     "output_type": "execute_result"
    }
   ],
   "source": [
    "type(getallen_np)"
   ]
  },
  {
   "cell_type": "markdown",
   "metadata": {},
   "source": [
    "#### indexing"
   ]
  },
  {
   "cell_type": "code",
   "execution_count": 7,
   "metadata": {},
   "outputs": [
    {
     "data": {
      "text/plain": [
       "7"
      ]
     },
     "execution_count": 7,
     "metadata": {},
     "output_type": "execute_result"
    }
   ],
   "source": [
    "getallen[4]"
   ]
  },
  {
   "cell_type": "code",
   "execution_count": 8,
   "metadata": {},
   "outputs": [
    {
     "data": {
      "text/plain": [
       "7"
      ]
     },
     "execution_count": 8,
     "metadata": {},
     "output_type": "execute_result"
    }
   ],
   "source": [
    "getallen_np[4]"
   ]
  },
  {
   "cell_type": "code",
   "execution_count": 9,
   "metadata": {},
   "outputs": [
    {
     "data": {
      "text/plain": [
       "[4, 5, 6]"
      ]
     },
     "execution_count": 9,
     "metadata": {},
     "output_type": "execute_result"
    }
   ],
   "source": [
    "getallen[1:4]"
   ]
  },
  {
   "cell_type": "code",
   "execution_count": 10,
   "metadata": {},
   "outputs": [
    {
     "data": {
      "text/plain": [
       "array([4, 5, 6])"
      ]
     },
     "execution_count": 10,
     "metadata": {},
     "output_type": "execute_result"
    }
   ],
   "source": [
    "getallen_np[1:4]"
   ]
  },
  {
   "cell_type": "code",
   "execution_count": 11,
   "metadata": {},
   "outputs": [
    {
     "data": {
      "text/plain": [
       "9"
      ]
     },
     "execution_count": 11,
     "metadata": {},
     "output_type": "execute_result"
    }
   ],
   "source": [
    "len(getallen)"
   ]
  },
  {
   "cell_type": "code",
   "execution_count": 12,
   "metadata": {},
   "outputs": [
    {
     "data": {
      "text/plain": [
       "9"
      ]
     },
     "execution_count": 12,
     "metadata": {},
     "output_type": "execute_result"
    }
   ],
   "source": [
    "len(getallen_np)"
   ]
  },
  {
   "cell_type": "code",
   "execution_count": 13,
   "metadata": {},
   "outputs": [
    {
     "data": {
      "text/plain": [
       "42"
      ]
     },
     "execution_count": 13,
     "metadata": {},
     "output_type": "execute_result"
    }
   ],
   "source": [
    "sum(getallen_np)"
   ]
  },
  {
   "cell_type": "code",
   "execution_count": 14,
   "metadata": {},
   "outputs": [
    {
     "data": {
      "text/plain": [
       "7"
      ]
     },
     "execution_count": 14,
     "metadata": {},
     "output_type": "execute_result"
    }
   ],
   "source": [
    "max(getallen_np)"
   ]
  },
  {
   "cell_type": "code",
   "execution_count": 15,
   "metadata": {},
   "outputs": [
    {
     "data": {
      "text/plain": [
       "2"
      ]
     },
     "execution_count": 15,
     "metadata": {},
     "output_type": "execute_result"
    }
   ],
   "source": [
    "min(getallen_np)"
   ]
  },
  {
   "cell_type": "markdown",
   "metadata": {},
   "source": [
    "# range"
   ]
  },
  {
   "cell_type": "code",
   "execution_count": 16,
   "metadata": {},
   "outputs": [
    {
     "data": {
      "text/plain": [
       "[0, 1, 2, 3, 4, 5, 6, 7, 8, 9, 10, 11, 12, 13, 14, 15, 16, 17, 18, 19]"
      ]
     },
     "execution_count": 16,
     "metadata": {},
     "output_type": "execute_result"
    }
   ],
   "source": [
    "# in python\n",
    "getallen = list(range(20))\n",
    "getallen"
   ]
  },
  {
   "cell_type": "code",
   "execution_count": 34,
   "metadata": {},
   "outputs": [
    {
     "data": {
      "text/plain": [
       "array([ 0,  1,  2,  3,  4,  5,  6,  7,  8,  9, 10, 11, 12, 13, 14, 15, 16,\n",
       "       17, 18, 19])"
      ]
     },
     "execution_count": 34,
     "metadata": {},
     "output_type": "execute_result"
    }
   ],
   "source": [
    "a = np.arange(20)\n",
    "a"
   ]
  },
  {
   "cell_type": "code",
   "execution_count": 27,
   "metadata": {},
   "outputs": [
    {
     "data": {
      "text/plain": [
       "array([ 0. ,  0.5,  1. ,  1.5,  2. ,  2.5,  3. ,  3.5,  4. ,  4.5,  5. ,\n",
       "        5.5,  6. ,  6.5,  7. ,  7.5,  8. ,  8.5,  9. ,  9.5, 10. , 10.5,\n",
       "       11. , 11.5, 12. , 12.5, 13. , 13.5, 14. , 14.5, 15. , 15.5, 16. ,\n",
       "       16.5, 17. , 17.5, 18. , 18.5, 19. , 19.5])"
      ]
     },
     "execution_count": 27,
     "metadata": {},
     "output_type": "execute_result"
    }
   ],
   "source": [
    "a = np.arange(0, 20, 0.5)\n",
    "a"
   ]
  },
  {
   "cell_type": "markdown",
   "metadata": {},
   "source": [
    "# datatype"
   ]
  },
  {
   "cell_type": "code",
   "execution_count": 35,
   "metadata": {},
   "outputs": [
    {
     "data": {
      "text/plain": [
       "dtype('int64')"
      ]
     },
     "execution_count": 35,
     "metadata": {},
     "output_type": "execute_result"
    }
   ],
   "source": [
    "a.dtype"
   ]
  },
  {
   "cell_type": "code",
   "execution_count": 36,
   "metadata": {},
   "outputs": [
    {
     "data": {
      "text/plain": [
       "array([ 0.,  1.,  2.,  3.,  4.,  5.,  6.,  7.,  8.,  9., 10., 11., 12.,\n",
       "       13., 14., 15., 16., 17., 18., 19.])"
      ]
     },
     "execution_count": 36,
     "metadata": {},
     "output_type": "execute_result"
    }
   ],
   "source": [
    "a.astype('float')"
   ]
  },
  {
   "cell_type": "markdown",
   "metadata": {},
   "source": [
    "### + operator"
   ]
  },
  {
   "cell_type": "code",
   "execution_count": 37,
   "metadata": {},
   "outputs": [
    {
     "data": {
      "text/plain": [
       "[1, 2, 3, 5, 6, 7]"
      ]
     },
     "execution_count": 37,
     "metadata": {},
     "output_type": "execute_result"
    }
   ],
   "source": [
    "# in python\n",
    "[1,2,3] + [5,6,7]"
   ]
  },
  {
   "cell_type": "code",
   "execution_count": 39,
   "metadata": {},
   "outputs": [
    {
     "data": {
      "text/plain": [
       "'Hallo allemaal'"
      ]
     },
     "execution_count": 39,
     "metadata": {},
     "output_type": "execute_result"
    }
   ],
   "source": [
    "# concatenation\n",
    "'Hallo ' + 'allemaal'"
   ]
  },
  {
   "cell_type": "code",
   "execution_count": 40,
   "metadata": {},
   "outputs": [
    {
     "data": {
      "text/plain": [
       "array([ 6,  8, 10])"
      ]
     },
     "execution_count": 40,
     "metadata": {},
     "output_type": "execute_result"
    }
   ],
   "source": [
    "# numpy\n",
    "np.array([1,2,3]) + np.array([5,6,7])"
   ]
  },
  {
   "cell_type": "code",
   "execution_count": 43,
   "metadata": {},
   "outputs": [
    {
     "data": {
      "text/plain": [
       "array([ 0,  2,  4,  6,  8, 10, 12, 14, 16, 18, 20, 22, 24, 26, 28, 30, 32,\n",
       "       34, 36, 38])"
      ]
     },
     "execution_count": 43,
     "metadata": {},
     "output_type": "execute_result"
    }
   ],
   "source": [
    "a * 2"
   ]
  },
  {
   "cell_type": "code",
   "execution_count": 44,
   "metadata": {},
   "outputs": [
    {
     "data": {
      "text/plain": [
       "array([ 0,  1,  2,  3,  4,  5,  6,  7,  8,  9, 10, 11, 12, 13, 14, 15, 16,\n",
       "       17, 18, 19])"
      ]
     },
     "execution_count": 44,
     "metadata": {},
     "output_type": "execute_result"
    }
   ],
   "source": [
    "a"
   ]
  },
  {
   "cell_type": "code",
   "execution_count": 45,
   "metadata": {},
   "outputs": [
    {
     "data": {
      "text/plain": [
       "array([10, 11, 12, 13, 14, 15, 16, 17, 18, 19, 20, 21, 22, 23, 24, 25, 26,\n",
       "       27, 28, 29])"
      ]
     },
     "execution_count": 45,
     "metadata": {},
     "output_type": "execute_result"
    }
   ],
   "source": [
    "a + 10"
   ]
  },
  {
   "cell_type": "code",
   "execution_count": 46,
   "metadata": {},
   "outputs": [
    {
     "data": {
      "text/plain": [
       "array([ 0. ,  0.5,  1. ,  1.5,  2. ,  2.5,  3. ,  3.5,  4. ,  4.5,  5. ,\n",
       "        5.5,  6. ,  6.5,  7. ,  7.5,  8. ,  8.5,  9. ,  9.5, 10. , 10.5,\n",
       "       11. , 11.5, 12. , 12.5, 13. , 13.5, 14. , 14.5, 15. , 15.5, 16. ,\n",
       "       16.5, 17. , 17.5, 18. , 18.5, 19. , 19.5])"
      ]
     },
     "execution_count": 46,
     "metadata": {},
     "output_type": "execute_result"
    }
   ],
   "source": [
    "np.arange(0, 20, 0.5)"
   ]
  },
  {
   "cell_type": "code",
   "execution_count": 49,
   "metadata": {},
   "outputs": [
    {
     "data": {
      "text/plain": [
       "array([ 0. ,  0.5,  1. ,  1.5,  2. ,  2.5,  3. ,  3.5,  4. ,  4.5,  5. ,\n",
       "        5.5,  6. ,  6.5,  7. ,  7.5,  8. ,  8.5,  9. ,  9.5, 10. , 10.5,\n",
       "       11. , 11.5, 12. , 12.5, 13. , 13.5, 14. , 14.5, 15. , 15.5, 16. ,\n",
       "       16.5, 17. , 17.5, 18. , 18.5, 19. , 19.5, 20. ])"
      ]
     },
     "execution_count": 49,
     "metadata": {},
     "output_type": "execute_result"
    }
   ],
   "source": [
    "np.linspace(0, 20, 41)"
   ]
  },
  {
   "cell_type": "code",
   "execution_count": 50,
   "metadata": {},
   "outputs": [
    {
     "data": {
      "text/plain": [
       "array([0., 0., 0., 0., 0., 0., 0., 0., 0., 0.])"
      ]
     },
     "execution_count": 50,
     "metadata": {},
     "output_type": "execute_result"
    }
   ],
   "source": [
    "np.zeros(10)"
   ]
  },
  {
   "cell_type": "code",
   "execution_count": 51,
   "metadata": {},
   "outputs": [
    {
     "data": {
      "text/plain": [
       "array([1., 1., 1., 1., 1., 1., 1., 1., 1., 1.])"
      ]
     },
     "execution_count": 51,
     "metadata": {},
     "output_type": "execute_result"
    }
   ],
   "source": [
    "np.ones(10)"
   ]
  },
  {
   "cell_type": "code",
   "execution_count": 55,
   "metadata": {},
   "outputs": [
    {
     "data": {
      "text/plain": [
       "array([[1., 1., 1., 1., 1., 1.],\n",
       "       [1., 1., 1., 1., 1., 1.],\n",
       "       [1., 1., 1., 1., 1., 1.],\n",
       "       [1., 1., 1., 1., 1., 1.],\n",
       "       [1., 1., 1., 1., 1., 1.],\n",
       "       [1., 1., 1., 1., 1., 1.],\n",
       "       [1., 1., 1., 1., 1., 1.],\n",
       "       [1., 1., 1., 1., 1., 1.],\n",
       "       [1., 1., 1., 1., 1., 1.],\n",
       "       [1., 1., 1., 1., 1., 1.]])"
      ]
     },
     "execution_count": 55,
     "metadata": {},
     "output_type": "execute_result"
    }
   ],
   "source": [
    "m = np.ones((10, 6))\n",
    "m"
   ]
  },
  {
   "cell_type": "code",
   "execution_count": 56,
   "metadata": {},
   "outputs": [
    {
     "data": {
      "text/plain": [
       "(10, 6)"
      ]
     },
     "execution_count": 56,
     "metadata": {},
     "output_type": "execute_result"
    }
   ],
   "source": [
    "m.shape"
   ]
  },
  {
   "cell_type": "code",
   "execution_count": 57,
   "metadata": {},
   "outputs": [
    {
     "data": {
      "text/plain": [
       "array([[1., 1., 1.],\n",
       "       [1., 1., 1.],\n",
       "       [1., 1., 1.]])"
      ]
     },
     "execution_count": 57,
     "metadata": {},
     "output_type": "execute_result"
    }
   ],
   "source": [
    "m = np.ones((3, 3))\n",
    "m"
   ]
  },
  {
   "cell_type": "code",
   "execution_count": 58,
   "metadata": {},
   "outputs": [
    {
     "data": {
      "text/plain": [
       "array([1., 1., 1., 1., 1., 1., 1., 1., 1.])"
      ]
     },
     "execution_count": 58,
     "metadata": {},
     "output_type": "execute_result"
    }
   ],
   "source": [
    "m.reshape(9)"
   ]
  },
  {
   "cell_type": "code",
   "execution_count": 59,
   "metadata": {},
   "outputs": [
    {
     "data": {
      "text/plain": [
       "array([[1, 2, 3],\n",
       "       [4, 5, 6],\n",
       "       [7, 8, 9]])"
      ]
     },
     "execution_count": 59,
     "metadata": {},
     "output_type": "execute_result"
    }
   ],
   "source": [
    "np.arange(1, 10).reshape((3, 3))"
   ]
  },
  {
   "cell_type": "code",
   "execution_count": 63,
   "metadata": {},
   "outputs": [
    {
     "data": {
      "text/plain": [
       "array([ 0,  1,  2,  3,  4,  5,  6,  7,  8,  9, 10, 11, 12, 13, 14, 15, 16,\n",
       "       17, 18, 19])"
      ]
     },
     "execution_count": 63,
     "metadata": {},
     "output_type": "execute_result"
    }
   ],
   "source": [
    "a"
   ]
  },
  {
   "cell_type": "code",
   "execution_count": 62,
   "metadata": {},
   "outputs": [
    {
     "data": {
      "text/plain": [
       "array([4, 5, 6, 7, 8, 9])"
      ]
     },
     "execution_count": 62,
     "metadata": {},
     "output_type": "execute_result"
    }
   ],
   "source": [
    "a[4:10]"
   ]
  },
  {
   "cell_type": "code",
   "execution_count": 66,
   "metadata": {},
   "outputs": [
    {
     "data": {
      "text/plain": [
       "array([14, 10,  1,  6])"
      ]
     },
     "execution_count": 66,
     "metadata": {},
     "output_type": "execute_result"
    }
   ],
   "source": [
    "a[[14, 10, 1, 6]]"
   ]
  },
  {
   "cell_type": "code",
   "execution_count": 67,
   "metadata": {},
   "outputs": [
    {
     "data": {
      "text/plain": [
       "array([ True, False, False,  True, False, False,  True, False, False,\n",
       "        True, False, False,  True, False, False,  True, False, False,\n",
       "        True, False])"
      ]
     },
     "execution_count": 67,
     "metadata": {},
     "output_type": "execute_result"
    }
   ],
   "source": [
    "a % 3 == 0"
   ]
  },
  {
   "cell_type": "code",
   "execution_count": 68,
   "metadata": {},
   "outputs": [
    {
     "data": {
      "text/plain": [
       "array([ 0,  3,  6,  9, 12, 15, 18])"
      ]
     },
     "execution_count": 68,
     "metadata": {},
     "output_type": "execute_result"
    }
   ],
   "source": [
    "a[a % 3 == 0]"
   ]
  },
  {
   "cell_type": "code",
   "execution_count": 71,
   "metadata": {},
   "outputs": [
    {
     "data": {
      "text/plain": [
       "array([[ 0,  1,  2,  3],\n",
       "       [ 4,  5,  6,  7],\n",
       "       [ 8,  9, 10, 11]])"
      ]
     },
     "execution_count": 71,
     "metadata": {},
     "output_type": "execute_result"
    }
   ],
   "source": [
    "m = np.arange(12).reshape(3, 4)\n",
    "m"
   ]
  },
  {
   "cell_type": "code",
   "execution_count": 72,
   "metadata": {},
   "outputs": [
    {
     "data": {
      "text/plain": [
       "6"
      ]
     },
     "execution_count": 72,
     "metadata": {},
     "output_type": "execute_result"
    }
   ],
   "source": [
    "m[1, 2]"
   ]
  },
  {
   "cell_type": "code",
   "execution_count": 73,
   "metadata": {},
   "outputs": [
    {
     "data": {
      "text/plain": [
       "array([[ 5,  6,  7],\n",
       "       [ 9, 10, 11]])"
      ]
     },
     "execution_count": 73,
     "metadata": {},
     "output_type": "execute_result"
    }
   ],
   "source": [
    "m[1:3, 1:4]"
   ]
  },
  {
   "cell_type": "code",
   "execution_count": 79,
   "metadata": {},
   "outputs": [],
   "source": [
    "x = np.linspace(0, 20, 100)\n",
    "y = np.sin(x)"
   ]
  },
  {
   "cell_type": "code",
   "execution_count": 80,
   "metadata": {},
   "outputs": [
    {
     "data": {
      "text/plain": [
       "array([ 0.        ,  0.20064886,  0.39313661,  0.56963411,  0.72296256,\n",
       "        0.84688556,  0.93636273,  0.98775469,  0.99897117,  0.96955595,\n",
       "        0.90070545,  0.79522006,  0.65739025,  0.49282204,  0.30820902,\n",
       "        0.11106004, -0.09060615, -0.28858706, -0.47483011, -0.64176014,\n",
       "       -0.7825875 , -0.89158426, -0.96431712, -0.99782778, -0.99075324,\n",
       "       -0.94338126, -0.85763861, -0.73701276, -0.58640998, -0.41195583,\n",
       "       -0.22074597, -0.0205576 ,  0.18046693,  0.37415123,  0.55261747,\n",
       "        0.7086068 ,  0.83577457,  0.92894843,  0.98433866,  0.99969234,\n",
       "        0.97438499,  0.90944594,  0.8075165 ,  0.6727425 ,  0.51060568,\n",
       "        0.32770071,  0.13146699, -0.07011396, -0.26884313, -0.45663749,\n",
       "       -0.62585878, -0.76962418, -0.88208623, -0.95867071, -0.99626264,\n",
       "       -0.99333304, -0.95000106, -0.86802917, -0.75075145, -0.60293801,\n",
       "       -0.43060093, -0.24074979, -0.0411065 ,  0.16020873,  0.35500771,\n",
       "        0.53536727,  0.69395153,  0.82431033,  0.9211415 ,  0.98050658,\n",
       "        0.99999098,  0.9788022 ,  0.91780205,  0.81947165,  0.68781042,\n",
       "        0.5281735 ,  0.34705389,  0.15181837, -0.04959214, -0.24898556,\n",
       "       -0.43825186, -0.6096929 , -0.75633557, -0.87221538, -0.95261911,\n",
       "       -0.99427643, -0.995493  , -0.95621934, -0.87805285, -0.76417283,\n",
       "       -0.61921119, -0.44906404, -0.26065185, -0.06163804,  0.13988282,\n",
       "        0.33571414,  0.51789078,  0.67900297,  0.81249769,  0.91294525])"
      ]
     },
     "execution_count": 80,
     "metadata": {},
     "output_type": "execute_result"
    }
   ],
   "source": [
    "y"
   ]
  },
  {
   "cell_type": "code",
   "execution_count": 81,
   "metadata": {},
   "outputs": [],
   "source": [
    "import matplotlib.pyplot as plt\n",
    "%matplotlib inline"
   ]
  },
  {
   "cell_type": "code",
   "execution_count": 82,
   "metadata": {},
   "outputs": [
    {
     "data": {
      "image/png": "[encoded data removed]",
      "text/plain": [
       "<Figure size 432x288 with 1 Axes>"
      ]
     },
     "metadata": {
      "needs_background": "light"
     },
     "output_type": "display_data"
    }
   ],
   "source": [
    "plt.plot(x , y)\n",
    "plt.show()"
   ]
  },
  {
   "cell_type": "code",
   "execution_count": 86,
   "metadata": {},
   "outputs": [
    {
     "data": {
      "text/plain": [
       "5.831529302570125"
      ]
     },
     "execution_count": 86,
     "metadata": {},
     "output_type": "execute_result"
    }
   ],
   "source": [
    "x.std()"
   ]
  },
  {
   "cell_type": "code",
   "execution_count": 87,
   "metadata": {},
   "outputs": [
    {
     "data": {
      "text/plain": [
       "array([ 0,  1,  2,  3,  4,  5,  6,  7,  8,  9, 10, 11, 12, 13, 14, 15, 16,\n",
       "       17, 18, 19])"
      ]
     },
     "execution_count": 87,
     "metadata": {},
     "output_type": "execute_result"
    }
   ],
   "source": [
    "a"
   ]
  },
  {
   "cell_type": "code",
   "execution_count": 89,
   "metadata": {},
   "outputs": [],
   "source": [
    "np.random.shuffle(a)"
   ]
  },
  {
   "cell_type": "code",
   "execution_count": 90,
   "metadata": {},
   "outputs": [
    {
     "data": {
      "text/plain": [
       "array([ 0,  9,  8, 18, 17,  2,  4, 14, 19, 15,  7,  3, 10, 16,  6,  1, 13,\n",
       "        5, 11, 12])"
      ]
     },
     "execution_count": 90,
     "metadata": {},
     "output_type": "execute_result"
    }
   ],
   "source": [
    "a"
   ]
  },
  {
   "cell_type": "code",
   "execution_count": 91,
   "metadata": {},
   "outputs": [
    {
     "data": {
      "text/plain": [
       "array([20, 54, 19, 77, 83, 52, 58, 70, 47,  6])"
      ]
     },
     "execution_count": 91,
     "metadata": {},
     "output_type": "execute_result"
    }
   ],
   "source": [
    "np.random.randint(1, 100, 10)"
   ]
  },
  {
   "cell_type": "code",
   "execution_count": 98,
   "metadata": {},
   "outputs": [],
   "source": [
    "data = np.random.normal(5, 2, 1000)"
   ]
  },
  {
   "cell_type": "code",
   "execution_count": 96,
   "metadata": {},
   "outputs": [
    {
     "data": {
      "text/plain": [
       "array([ 1.39526763,  4.96273061,  5.41125817,  5.01819192,  3.04541576,\n",
       "        2.63678246,  6.20751084,  6.20124434,  5.94831846,  2.22280563,\n",
       "        5.58589819,  1.47992954,  5.99180505,  3.51969535,  3.60212681,\n",
       "        4.08054408,  4.27921482,  5.87384707,  3.2395251 ,  2.28999661,\n",
       "        4.80018132,  5.6983944 ,  3.86621631,  5.28419284,  7.69447002,\n",
       "        3.87745559,  6.98748907,  7.14868292,  7.71904743,  4.00357838,\n",
       "        4.33635053,  5.39558426,  2.05433855,  5.45594157,  3.23709457,\n",
       "        5.25581857,  5.74871582,  2.55440288,  4.31160623,  7.10680822,\n",
       "        1.56470494,  7.24760237,  5.26105609,  4.5484693 ,  0.66392613,\n",
       "        5.96651782,  5.96748387,  4.1584493 ,  0.92757393,  4.01582937,\n",
       "        3.41413079,  7.55741853,  4.97748992,  0.87943969,  4.8562568 ,\n",
       "        5.31232279,  5.19487443,  5.2006107 ,  2.63021486,  4.44308604,\n",
       "        4.28187732, -1.8107741 ,  4.09215139,  2.36901058,  6.64162339,\n",
       "        4.12179089,  1.63670844,  3.95154387,  2.85818143,  2.15884583,\n",
       "        4.18562542,  7.63572236,  4.88726512,  3.96386921,  4.9220523 ,\n",
       "        9.09075783,  5.80839885,  5.02291032,  4.07187771,  1.62439129,\n",
       "        2.0011473 ,  3.60072879,  4.34160257,  5.3038584 ,  5.52335442,\n",
       "        7.56176847,  5.36234659,  7.13477855,  8.3795888 ,  3.21173217,\n",
       "        7.95899537,  6.01905576,  6.09243608,  7.10029614,  4.33690637,\n",
       "        6.92017011,  7.88922434,  1.83328961,  2.35196348,  4.79179953])"
      ]
     },
     "execution_count": 96,
     "metadata": {},
     "output_type": "execute_result"
    }
   ],
   "source": [
    "data"
   ]
  },
  {
   "cell_type": "code",
   "execution_count": 99,
   "metadata": {},
   "outputs": [
    {
     "data": {
      "text/plain": [
       "(array([ 10.,  41.,  96., 194., 221., 235., 133.,  48.,  17.,   5.]),\n",
       " array([-0.65620432,  0.56466485,  1.78553402,  3.00640319,  4.22727236,\n",
       "         5.44814152,  6.66901069,  7.88987986,  9.11074903, 10.3316182 ,\n",
       "        11.55248736]),\n",
       " <a list of 10 Patch objects>)"
      ]
     },
     "execution_count": 99,
     "metadata": {},
     "output_type": "execute_result"
    },
    {
     "data": {
      "image/png": "[encoded data removed]",
      "text/plain": [
       "<Figure size 432x288 with 1 Axes>"
      ]
     },
     "metadata": {
      "needs_background": "light"
     },
     "output_type": "display_data"
    }
   ],
   "source": [
    "plt.hist(data)"
   ]
  },
  {
   "cell_type": "markdown",
   "metadata": {},
   "source": [
    "### Broadcasting"
   ]
  },
  {
   "cell_type": "code",
   "execution_count": 102,
   "metadata": {},
   "outputs": [
    {
     "data": {
      "text/plain": [
       "array([ 0,  9,  8, 18, 17,  2,  4, 14, 19, 15,  7,  3, 10, 16,  6,  1, 13,\n",
       "        5, 11, 12])"
      ]
     },
     "execution_count": 102,
     "metadata": {},
     "output_type": "execute_result"
    }
   ],
   "source": [
    "a"
   ]
  },
  {
   "cell_type": "code",
   "execution_count": 103,
   "metadata": {},
   "outputs": [
    {
     "data": {
      "text/plain": [
       "array([10, 19, 18, 28, 27, 12, 14, 24, 29, 25, 17, 13, 20, 26, 16, 11, 23,\n",
       "       15, 21, 22])"
      ]
     },
     "execution_count": 103,
     "metadata": {},
     "output_type": "execute_result"
    }
   ],
   "source": [
    "a + 10"
   ]
  },
  {
   "cell_type": "code",
   "execution_count": 113,
   "metadata": {},
   "outputs": [
    {
     "data": {
      "text/plain": [
       "array([[ 0,  9],\n",
       "       [ 8, 18],\n",
       "       [17,  2],\n",
       "       [ 4, 14],\n",
       "       [19, 15],\n",
       "       [ 7,  3],\n",
       "       [10, 16],\n",
       "       [ 6,  1],\n",
       "       [13,  5],\n",
       "       [11, 12]])"
      ]
     },
     "execution_count": 113,
     "metadata": {},
     "output_type": "execute_result"
    }
   ],
   "source": [
    "b = a.reshape(10, 2)\n",
    "b"
   ]
  },
  {
   "cell_type": "code",
   "execution_count": 114,
   "metadata": {},
   "outputs": [
    {
     "data": {
      "text/plain": [
       "array([[ 0,  9],\n",
       "       [ 8, 18],\n",
       "       [17,  2],\n",
       "       [ 4, 14],\n",
       "       [19, 15],\n",
       "       [ 7,  3],\n",
       "       [10, 16],\n",
       "       [ 6,  1],\n",
       "       [13,  5],\n",
       "       [11, 12]])"
      ]
     },
     "execution_count": 114,
     "metadata": {},
     "output_type": "execute_result"
    }
   ],
   "source": [
    "b"
   ]
  },
  {
   "cell_type": "code",
   "execution_count": 115,
   "metadata": {},
   "outputs": [
    {
     "data": {
      "text/plain": [
       "array([[10, 19],\n",
       "       [18, 28],\n",
       "       [27, 12],\n",
       "       [14, 24],\n",
       "       [29, 25],\n",
       "       [17, 13],\n",
       "       [20, 26],\n",
       "       [16, 11],\n",
       "       [23, 15],\n",
       "       [21, 22]])"
      ]
     },
     "execution_count": 115,
     "metadata": {},
     "output_type": "execute_result"
    }
   ],
   "source": [
    "b + 10"
   ]
  },
  {
   "cell_type": "code",
   "execution_count": 116,
   "metadata": {},
   "outputs": [
    {
     "data": {
      "text/plain": [
       "array([[ 10, 209],\n",
       "       [ 18, 218],\n",
       "       [ 27, 202],\n",
       "       [ 14, 214],\n",
       "       [ 29, 215],\n",
       "       [ 17, 203],\n",
       "       [ 20, 216],\n",
       "       [ 16, 201],\n",
       "       [ 23, 205],\n",
       "       [ 21, 212]])"
      ]
     },
     "execution_count": 116,
     "metadata": {},
     "output_type": "execute_result"
    }
   ],
   "source": [
    "b + np.array([10,200])"
   ]
  },
  {
   "cell_type": "code",
   "execution_count": 117,
   "metadata": {},
   "outputs": [
    {
     "data": {
      "text/plain": [
       "array([ 7.8284339 ,  7.83178973, 11.55248736,  1.59119381,  5.47558291,\n",
       "        5.6351595 ,  4.67725141,  4.331396  ,  4.39947383,  3.4252377 ,\n",
       "        5.47033402,  3.77537313,  6.61628105,  1.13899002,  3.99376319,\n",
       "        5.52781682,  5.7259874 ,  8.52263402,  0.27234932,  1.78466987,\n",
       "        5.04877652,  3.86513879,  3.26521831,  4.11592516,  3.75560132,\n",
       "        3.31861608,  4.74028218,  7.42911033,  8.27774948,  5.69562077,\n",
       "        4.97143445,  6.826465  ,  4.07104478,  7.5112394 ,  5.9827303 ,\n",
       "        5.90046652,  4.24953073,  5.21192692,  6.81099036,  3.54241142,\n",
       "        6.70500086,  5.71409672,  3.99945636,  5.65385425,  6.89439429,\n",
       "        7.58839858,  5.22236118,  4.25788661,  2.73169002,  2.18579946,\n",
       "        1.96927734,  7.07905539,  7.27251102,  3.03449793,  3.96438535,\n",
       "        5.73706003,  4.24588661,  3.59091963,  5.71311739,  6.12183844,\n",
       "        5.00902371,  5.50134215,  9.07774627,  5.91575091,  8.17822158,\n",
       "        5.58377737,  6.41838377,  4.16651586,  7.2594147 ,  5.80261078,\n",
       "        7.00287918,  1.88925814,  4.20546295,  3.28185986,  9.40176138,\n",
       "        4.68094261,  5.2476863 ,  5.61173292,  5.05672851,  2.06207753,\n",
       "        7.05990941,  0.78234803,  6.00443122,  0.86598153,  0.96988919,\n",
       "        4.17119061,  2.79019885,  5.07632058,  3.51032615,  7.61674433,\n",
       "        6.39580311,  4.72790723,  6.05791901,  6.68246036,  8.66171496,\n",
       "        5.25029265,  2.76201049,  5.95822507,  2.20714643,  2.78813002,\n",
       "        4.78768316,  0.3675518 ,  5.13708194,  7.7189706 ,  2.72454046,\n",
       "        6.04867499,  3.81893642,  1.83069446,  6.00361542,  3.92571165,\n",
       "        6.91144581,  7.14251227,  4.66914191,  6.10645264,  0.94693771,\n",
       "        5.79319912,  6.04231607,  1.53063368,  2.7531948 ,  3.79318175,\n",
       "        6.34332718,  8.00630859,  4.17178694,  7.06943976,  8.3392959 ,\n",
       "        7.49434138,  3.01952007,  5.87677501,  0.19548179,  6.80630562,\n",
       "        5.22630707,  4.8713803 , 10.19892977,  6.69776966,  7.64527812,\n",
       "        6.28564574,  5.86377919,  5.01486836,  4.47693284, -0.27427431,\n",
       "        5.70712202,  4.97769595,  4.30478425,  4.93506656,  1.88275461,\n",
       "        6.03819268,  1.38693554,  3.77966667,  4.15320722,  5.45690633,\n",
       "        2.53058374,  6.82864449,  6.12585493,  4.29495282,  7.76683687,\n",
       "        5.65710204,  6.65301623,  5.00980827,  8.43135651,  6.67260253,\n",
       "        4.00681623,  1.23548681,  5.70322797,  6.12652887,  2.68589436,\n",
       "        2.5254796 ,  6.8673334 ,  5.30995944,  6.98170626,  6.57553473,\n",
       "        3.84029487,  5.66673784,  9.21369328,  6.30438249,  6.71450856,\n",
       "        3.09166789,  8.83393042,  3.57610951,  6.63335357,  2.3389232 ,\n",
       "        4.47503963,  2.31245073,  3.06015277,  6.87324655,  6.93681043,\n",
       "        3.2229142 ,  4.66198532,  7.19046172,  6.08639811,  5.03984437,\n",
       "        3.75563345,  5.71588231,  3.76998045,  6.14210403,  4.55670059,\n",
       "        3.72773074,  3.45500091,  7.54968826,  7.60223501,  3.95510699,\n",
       "        5.29933611,  3.19401181,  7.19084095,  3.07945206,  3.48765324,\n",
       "        7.63269065,  2.52251165,  5.09396038,  2.02289167,  2.8296988 ,\n",
       "        6.94297213,  7.95763022,  6.76900681,  3.85709208,  5.81794493,\n",
       "        4.782533  ,  6.86777079,  1.88818036,  3.07318408,  4.12634494,\n",
       "        5.45679907,  6.95237279,  7.29394517,  5.90561552,  6.06444843,\n",
       "        6.47026824,  3.33113464,  5.09166925,  2.9666194 ,  4.65920734,\n",
       "        8.17087003,  7.11563621,  3.14979425,  3.4825504 ,  7.41785237,\n",
       "        2.23804799,  6.93559382,  5.87055364,  3.39407626,  6.48223343,\n",
       "        3.51086302,  9.77258782,  7.38558863,  5.00102309,  3.81789208,\n",
       "        6.25686272,  3.39221322,  5.63113446,  3.73011658,  5.53530705,\n",
       "        6.14744518,  7.60038285,  3.22637176,  4.07144101,  5.28928225,\n",
       "        5.45911208,  7.96869979,  4.43686817,  4.53693977,  5.46392416,\n",
       "        1.11170137,  3.52137708,  5.16772869,  4.25582314,  1.9116027 ,\n",
       "        6.33624276,  6.16456057,  3.51878792,  2.78867678,  7.37838686,\n",
       "        7.80742686,  4.01952038,  6.55977242,  5.22619612,  4.19771231,\n",
       "        1.7592995 ,  3.59112848,  2.23389078,  5.80441744,  5.38867957,\n",
       "        3.52812428,  7.90691782,  4.67847104,  3.415879  ,  5.32636929,\n",
       "        3.0033514 ,  6.45005033,  4.18032868,  8.15874946,  5.916313  ,\n",
       "        8.05712592,  4.62316201,  6.49779239,  6.62362871,  2.37259675,\n",
       "        2.76166802, 11.08505202,  5.14163799,  0.84008844,  5.42496434,\n",
       "        5.59460292,  6.31048313,  0.95615457,  3.60207827,  5.03851694,\n",
       "        4.45706701,  7.02723516,  2.38932768, -0.65620432,  5.89264406,\n",
       "        2.87307547,  7.199447  ,  4.47207627,  1.31067923,  9.07496923,\n",
       "        6.07214459,  4.71179116,  4.67698608,  7.51307487,  5.5186761 ,\n",
       "        4.53422805,  4.34746426,  5.43676209,  5.55932455,  4.58330971,\n",
       "        3.59712674,  0.77415978,  5.33598602,  5.55144448,  4.82556681,\n",
       "        0.70797284,  7.33803095,  6.64306477,  5.50790155,  5.15922711,\n",
       "       10.28087927,  6.41787513,  3.06475775,  4.66809693,  3.82967034,\n",
       "        3.62653101,  2.81714161,  3.90316498,  6.56030001,  7.18888982,\n",
       "        4.26553305,  3.24506728,  5.35461764,  2.33157535,  3.34529401,\n",
       "        6.9426039 ,  6.09151787,  3.11561345,  4.06418062,  4.45719415,\n",
       "        4.52084502,  6.54460879,  4.93129734,  4.99955452,  5.96335161,\n",
       "        7.45413664,  6.48647846,  6.32337243,  2.25352184,  4.01934243,\n",
       "        5.28212993,  5.1251605 ,  4.87400895,  3.02747316,  7.23818003,\n",
       "        0.4224537 ,  5.95122843,  1.94598965,  4.07462202, 11.28880279,\n",
       "        6.02594786,  6.11620113,  2.9319263 ,  3.54943356,  3.61309318,\n",
       "        4.26664737,  7.34579382,  3.86740149,  6.10123287,  8.73955319,\n",
       "        2.4556993 ,  4.86421859,  5.20275308,  4.60466325,  5.73241749,\n",
       "        3.02557262,  3.68208874,  7.16803379,  7.75654995,  3.14525036,\n",
       "        3.82138773,  1.19760474,  6.41905809,  3.52534322,  4.89416387,\n",
       "        2.9108373 ,  3.15795273,  2.90185494,  2.70930973,  5.63264526,\n",
       "        3.34022992,  3.79630873,  4.89180641,  0.90359968,  5.55991217,\n",
       "        3.86022819,  6.23559122,  7.40760611,  5.09843822,  5.23436619,\n",
       "        3.44775211,  7.69538778,  7.11950883,  5.50218929,  4.87709216,\n",
       "        4.06535375,  4.68809582,  3.20126562,  6.1893884 ,  3.91829191,\n",
       "        7.78719356,  4.17979545,  5.40338004,  2.14161963,  8.08051682,\n",
       "        3.81020121,  7.47454972,  5.3272611 ,  5.06226487,  3.03770294,\n",
       "        2.81041829,  2.82622074,  5.46695364,  5.08180741,  9.82803041,\n",
       "        5.30210717,  5.39086835,  3.33895498,  0.89440106,  5.60110089,\n",
       "        1.9253487 ,  2.84117297,  6.52104128,  3.53500386,  4.76222198,\n",
       "        2.5338086 ,  7.35646589,  5.63663066,  4.34331961,  8.16813197,\n",
       "        4.02346324,  5.21268392,  4.9562378 ,  6.29152303,  1.76633374,\n",
       "        3.29507308,  5.92206105,  5.96937203,  5.2219105 ,  5.97867961,\n",
       "        2.01501002,  3.45660236,  3.06866035,  6.54699122,  5.45982403,\n",
       "        4.84625041,  7.25806064,  5.37813278,  4.78498533,  4.06176993,\n",
       "        9.05558232,  6.04598985,  5.89888494,  3.65039424,  2.52176005,\n",
       "        4.99945979,  6.75284948, 10.46469522,  4.01017827,  2.81484295,\n",
       "        6.05399464,  4.13176341,  4.15934365,  4.67126845,  9.50997647,\n",
       "        5.61192221,  5.89539   ,  4.32783501,  4.79632798,  5.53569611,\n",
       "        4.30458735,  4.41609207,  3.92555278,  8.72276062,  4.59535464,\n",
       "        3.87294733,  3.09069207,  7.08994212,  4.95102878,  3.72118983,\n",
       "        2.35308124,  5.62964534,  4.93010924,  2.0544869 ,  6.5960013 ,\n",
       "        2.15699474,  4.74463849,  4.27486687,  3.56298295,  4.17307012,\n",
       "        6.37827692,  8.48254424,  5.11491312,  8.72426193,  5.44577193,\n",
       "        4.66433248,  4.2541842 ,  3.70713255,  2.73061083,  4.66418689,\n",
       "        4.0711849 ,  3.94039086,  3.98569682,  5.88364061,  3.56275787,\n",
       "        6.63464249,  3.66160359,  9.61076169,  7.07333568,  5.99156033,\n",
       "        3.75019854,  2.57812379,  3.80680363,  4.83640378,  2.29713507,\n",
       "        5.36289872,  7.18520369,  3.20396323,  4.42831188,  3.93288613,\n",
       "        6.42974787,  8.04718459,  3.87822044,  7.3260917 ,  4.36858243,\n",
       "        1.97564722,  7.41727478,  1.62690277,  2.417022  ,  6.26431465,\n",
       "        3.87321953,  7.2182777 ,  6.33797856,  5.20700998,  2.83968835,\n",
       "        5.14400675,  6.66860629,  6.51404988,  9.07454939,  3.48393884,\n",
       "        2.18101238,  8.13423016,  3.89121803,  6.27663317,  3.14506841,\n",
       "        6.16371409,  6.84216187,  5.49341179,  6.46224529,  8.29140097,\n",
       "        3.57783722,  4.67614654,  6.57346122,  9.09374249,  3.24403047,\n",
       "        6.68386226,  5.92480636,  7.42532491,  3.58634338,  5.32807324,\n",
       "        2.01196684,  6.98209318,  2.9806723 ,  5.3760926 ,  3.5811404 ,\n",
       "        2.39667706,  6.40033759,  3.65095081,  1.60362851,  2.27264838,\n",
       "        6.54942328,  4.60633972,  7.12891795,  4.31058354,  4.88827296,\n",
       "        3.86741432,  4.94384224,  5.40762181,  3.93440271,  4.03301537,\n",
       "        6.87069886,  4.33581015,  6.21766292,  5.49580929,  3.8194479 ,\n",
       "        6.39369791,  3.31769375,  6.98778187,  7.31992934,  6.34016754,\n",
       "        4.74824198,  6.774856  ,  1.44218889,  7.71916032,  3.01180232,\n",
       "        4.74854145,  4.46493214,  6.19083343,  3.59345192,  5.72619332,\n",
       "        4.35734188,  5.18163736,  9.49502092,  3.32694398,  1.37830932,\n",
       "        4.55328921,  6.18643324,  5.72419399,  5.42057197,  4.99076111,\n",
       "        5.66412946,  8.23179039,  6.32075153,  3.68828816,  5.80647321,\n",
       "        2.39949657,  7.9376188 ,  2.79891884,  7.24380597,  4.18525797,\n",
       "        5.96410737,  4.59420935,  4.23375142,  5.22299375,  7.50690333,\n",
       "        3.59172524,  3.35925204,  5.77713254,  4.65146037,  0.12313872,\n",
       "        6.68700687,  6.92936368,  8.34730607,  7.24670842,  2.42866265,\n",
       "        6.71771775,  2.45576128,  4.51727352,  3.55432096,  6.14678428,\n",
       "        2.93007888,  3.31924042,  8.22479889,  5.01750417,  5.61547232,\n",
       "        5.936361  ,  5.25919667,  9.41590394,  7.79596651,  9.03148472,\n",
       "        3.85984878,  4.20311102,  5.7646209 ,  0.95498975,  7.66003236,\n",
       "        6.34202421,  6.50272206,  6.59229789,  4.41284121,  6.17668523,\n",
       "        7.00592802,  2.18089407,  5.592816  ,  4.84927642,  5.19150216,\n",
       "        4.72404747,  6.3429282 ,  4.17580095,  5.458036  ,  7.41778303,\n",
       "       11.29819314,  5.68089382,  3.64972122,  4.97156245,  3.7859501 ,\n",
       "        6.4262759 ,  5.034528  ,  7.67966619,  7.88020692,  6.14897732,\n",
       "        6.14553189,  5.55340722,  3.94100273,  3.78953718,  5.30967232,\n",
       "        2.92942867,  1.76176787,  5.81036576,  3.05767836,  5.25731008,\n",
       "        1.85803626,  6.66726021,  4.25736193,  4.32888458,  7.83633282,\n",
       "        6.94365696,  4.67599238,  4.45078429,  4.43143484,  2.13926358,\n",
       "        2.3656239 ,  6.37145249,  4.58337826,  6.01880026,  3.82331562,\n",
       "        7.29736822,  7.49201676,  6.5367661 ,  3.0108551 ,  4.02154408,\n",
       "        8.52825851,  6.03861357,  6.47667465,  5.03176806,  4.03750022,\n",
       "        6.60144611,  4.55116395,  2.38737043,  1.60989229,  5.48600287,\n",
       "        5.47770001,  5.7468042 ,  2.42592388,  5.27103237,  6.22725674,\n",
       "        6.91061696,  5.49989612,  0.40753244,  1.52242208,  6.44210534,\n",
       "        8.12490489,  2.78706043,  4.91176795,  0.69198847,  4.72710996,\n",
       "        5.91202683,  5.04319838,  4.3672679 ,  6.07004872,  5.02424005,\n",
       "        3.82208734,  5.16981612,  6.46013014,  6.20329309,  4.00316865,\n",
       "        6.04095725,  5.69927661,  3.02094061,  4.0198063 ,  4.72365573,\n",
       "        4.38343638,  6.12612055,  6.02954693,  5.76212658,  2.2882117 ,\n",
       "        6.40751009,  4.62014861,  7.16622425,  4.97552026,  5.38818628,\n",
       "        3.56957184,  5.26150161,  3.83974264,  4.42916656,  6.55866779,\n",
       "        6.19446216,  6.64829297,  9.26031922,  3.96090945,  5.64925402,\n",
       "        0.42213184,  3.83727131,  6.30090628,  6.98246012,  5.55340663,\n",
       "        8.63902494,  4.58334132,  1.81618752,  2.18843483,  4.89086725,\n",
       "        0.64315235,  6.09190838,  6.46520341,  3.80864296,  5.4574755 ,\n",
       "        7.69963521,  2.42966342,  4.29206006,  3.30290689,  6.66919504,\n",
       "        5.45830127,  2.41149808,  5.68213197,  5.06712604,  6.56389346,\n",
       "        5.71650133,  8.58266002,  5.51351588,  4.9587094 ,  4.22707986,\n",
       "        4.96035809,  4.8499756 ,  4.659655  ,  8.66730412,  5.62721969,\n",
       "        2.67225849,  5.49027872,  6.04920865,  1.20122024,  5.03963823,\n",
       "        2.89765224,  2.52934614,  2.62209356,  3.01437248,  4.79075811,\n",
       "        3.80046212,  1.30487584,  8.09484409,  9.38176213,  2.07694068,\n",
       "        2.1917569 ,  5.54392026,  4.81017341,  4.30936895,  5.87497235,\n",
       "        3.35405658,  5.8038231 ,  4.5771982 ,  4.26541358,  8.67421155,\n",
       "        6.78547044,  5.67201446,  7.28176679,  3.03191026,  4.99262849,\n",
       "        6.77646688,  7.72530167,  4.04065809,  5.57549526,  7.40969033,\n",
       "        8.11718856,  6.73476214,  6.71048428,  3.03703889,  5.82357019,\n",
       "        4.56754154,  5.22917592,  4.19386858,  4.8345302 ,  4.09085128,\n",
       "        1.04288607,  6.39495023,  4.29901511,  6.7121919 ,  5.01095533,\n",
       "        5.03843417,  6.92351484,  4.72784042,  4.19688359,  4.53509263,\n",
       "        6.09920271,  6.73899976,  4.70297069,  4.68550285,  8.85568156,\n",
       "        5.67780586,  5.20191216,  7.84565977,  9.33973471,  1.36367214,\n",
       "        5.01248364,  2.96584707,  4.5374106 ,  4.95788323,  3.48286491,\n",
       "        5.92438546,  4.26308719,  2.69058392,  6.95502021,  7.95623529,\n",
       "        7.6724283 ,  2.44026075,  0.63542043,  5.94704147,  0.14646366,\n",
       "        6.73471878,  5.76158114,  6.32542796,  7.056696  ,  5.64028432,\n",
       "        6.36242091,  4.01328709,  3.52373161,  5.77952198,  1.65260796,\n",
       "        6.03125585,  5.47463657,  4.96470451,  6.26677806,  5.81274061,\n",
       "        6.59995596,  4.70380389,  9.97321094,  3.55808142,  3.48022896,\n",
       "        4.42156735,  6.70368748,  4.57015993,  7.30170391,  7.50958864,\n",
       "        4.50786166,  7.19440457,  3.42744419,  5.49852343,  3.32264771,\n",
       "        7.44498126,  3.36803241,  8.88873758,  9.58559024,  2.2742686 ,\n",
       "        1.41193965,  2.12719252,  3.49434045,  1.18045704,  7.80890077,\n",
       "        4.97870493,  5.42103659,  9.70159786,  8.74127149,  9.30924781,\n",
       "        8.02229723,  2.40956453,  5.10754048,  4.36072768,  4.80127481,\n",
       "        5.33880612,  5.88138029,  6.98261141,  6.11313393,  5.41080579,\n",
       "        3.4244816 ,  0.72782969,  3.27224854,  7.16955546,  3.00234774,\n",
       "        4.15206737,  6.98761519,  4.20223399,  5.07568184,  3.90412404,\n",
       "        5.57091189,  4.72479279,  3.0759821 ,  6.19121715,  7.1669842 ,\n",
       "        1.42919214,  4.72693086,  4.03033863,  6.1282456 ,  5.94089681,\n",
       "        8.00001015,  3.15541698,  3.62258017,  6.3183801 ,  8.08938568,\n",
       "        6.190824  ,  6.38339113,  6.12255889,  6.16860217,  7.17279934,\n",
       "        6.88451694,  6.11655925,  7.53888153,  2.43716549,  4.97105019])"
      ]
     },
     "execution_count": 117,
     "metadata": {},
     "output_type": "execute_result"
    }
   ],
   "source": [
    "data"
   ]
  },
  {
   "cell_type": "code",
   "execution_count": 130,
   "metadata": {},
   "outputs": [],
   "source": [
    "from scipy import stats"
   ]
  },
  {
   "cell_type": "code",
   "execution_count": 131,
   "metadata": {},
   "outputs": [
    {
     "data": {
      "text/plain": [
       "DescribeResult(nobs=1000, minmax=(-0.6562043178302988, 11.552487364313336), mean=5.057451467342997, variance=3.9228277502345676, skewness=0.03983951540007026, kurtosis=-0.0014253480498207516)"
      ]
     },
     "execution_count": 131,
     "metadata": {},
     "output_type": "execute_result"
    }
   ],
   "source": [
    "stats.describe(data)"
   ]
  },
  {
   "cell_type": "code",
   "execution_count": null,
   "metadata": {},
   "outputs": [],
   "source": []
  }
 ],
 "metadata": {
  "kernelspec": {
   "display_name": "Python 3",
   "language": "python",
   "name": "python3"
  },
  "language_info": {
   "codemirror_mode": {
    "name": "ipython",
    "version": 3
   },
   "file_extension": ".py",
   "mimetype": "text/x-python",
   "name": "python",
   "nbconvert_exporter": "python",
   "pygments_lexer": "ipython3",
   "version": "3.8.8"
  }
 },
 "nbformat": 4,
 "nbformat_minor": 4
}
