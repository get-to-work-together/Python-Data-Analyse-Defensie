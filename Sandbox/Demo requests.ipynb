{
 "cells": [
  {
   "cell_type": "code",
   "execution_count": 3,
   "metadata": {},
   "outputs": [],
   "source": [
    "import requests"
   ]
  },
  {
   "cell_type": "code",
   "execution_count": 4,
   "metadata": {},
   "outputs": [],
   "source": [
    "city = 'Soesterberg'\n",
    "\n",
    "url = \"http://api.openweathermap.org/data/2.5/weather?appid=d1526a9039658a6f76950cff21823aff&units=metric&mode=json&q=\" + city"
   ]
  },
  {
   "cell_type": "code",
   "execution_count": 5,
   "metadata": {},
   "outputs": [
    {
     "name": "stdout",
     "output_type": "stream",
     "text": [
      "{\"coord\":{\"lon\":5.2861,\"lat\":52.1183},\"weather\":[{\"id\":804,\"main\":\"Clouds\",\"description\":\"overcast clouds\",\"icon\":\"04d\"}],\"base\":\"stations\",\"main\":{\"temp\":8.12,\"feels_like\":7.7,\"temp_min\":7.3,\"temp_max\":9.32,\"pressure\":1008,\"humidity\":96},\"visibility\":10000,\"wind\":{\"speed\":1.34,\"deg\":206,\"gust\":3.13},\"clouds\":{\"all\":100},\"dt\":1669627493,\"sys\":{\"type\":2,\"id\":2009129,\"country\":\"NL\",\"sunrise\":1669620033,\"sunset\":1669649602},\"timezone\":3600,\"id\":2747030,\"name\":\"Soesterberg\",\"cod\":200}\n"
     ]
    }
   ],
   "source": [
    "try:\n",
    "    r = requests.get(url)\n",
    "except:\n",
    "    print(\"Cannot connect to \" + url)\n",
    "    \n",
    "else:\n",
    "    if (r.status_code == 200):\n",
    "        print(r.text)"
   ]
  },
  {
   "cell_type": "code",
   "execution_count": 6,
   "metadata": {},
   "outputs": [],
   "source": [
    "d = r.json()"
   ]
  },
  {
   "cell_type": "code",
   "execution_count": 8,
   "metadata": {},
   "outputs": [],
   "source": [
    "temperature = d['main']['temp']"
   ]
  },
  {
   "cell_type": "code",
   "execution_count": 10,
   "metadata": {},
   "outputs": [
    {
     "name": "stdout",
     "output_type": "stream",
     "text": [
      "Het is nu 8.12 in Groningen.\n"
     ]
    }
   ],
   "source": [
    "print(f'Het is nu {temperature} in {city}.')"
   ]
  },
  {
   "cell_type": "code",
   "execution_count": null,
   "metadata": {},
   "outputs": [],
   "source": []
  }
 ],
 "metadata": {
  "kernelspec": {
   "display_name": "Python 3.10.7 64-bit",
   "language": "python",
   "name": "python3"
  },
  "language_info": {
   "codemirror_mode": {
    "name": "ipython",
    "version": 3
   },
   "file_extension": ".py",
   "mimetype": "text/x-python",
   "name": "python",
   "nbconvert_exporter": "python",
   "pygments_lexer": "ipython3",
   "version": "3.10.7"
  },
  "vscode": {
   "interpreter": {
    "hash": "b0fa6594d8f4cbf19f97940f81e996739fb7646882a419484c72d19e05852a7e"
   }
  }
 },
 "nbformat": 4,
 "nbformat_minor": 4
}
