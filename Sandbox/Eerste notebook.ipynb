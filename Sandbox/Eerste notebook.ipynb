{
 "cells": [
  {
   "cell_type": "markdown",
   "id": "bb84dac8",
   "metadata": {},
   "source": [
    "# Eerste jupyter notebook"
   ]
  },
  {
   "cell_type": "code",
   "execution_count": 8,
   "id": "66502b81",
   "metadata": {},
   "outputs": [],
   "source": [
    "import numpy as np\n",
    "import pandas as pd\n",
    "import matplotlib.pyplot as plt\n",
    "import seaborn as sns"
   ]
  },
  {
   "cell_type": "code",
   "execution_count": 6,
   "id": "e1e40baa",
   "metadata": {},
   "outputs": [
    {
     "name": "stdout",
     "output_type": "stream",
     "text": [
      "Hello\n",
      "Deze opdracht\n",
      "6499\n"
     ]
    }
   ],
   "source": [
    "print('Hello')\n",
    "print('Deze opdracht')\n",
    "\n",
    "x = 43 + 6456\n",
    "\n",
    "print(x)"
   ]
  },
  {
   "cell_type": "code",
   "execution_count": 7,
   "id": "4d4814b7",
   "metadata": {},
   "outputs": [
    {
     "data": {
      "text/plain": [
       "649900"
      ]
     },
     "execution_count": 7,
     "metadata": {},
     "output_type": "execute_result"
    }
   ],
   "source": [
    "x * 100"
   ]
  },
  {
   "cell_type": "markdown",
   "id": "245a0469",
   "metadata": {},
   "source": [
    "# Header 1\n",
    "## Header 2\n",
    "### Header 3\n",
    "#### Header 4\n",
    "##### Header 5\n",
    "\n",
    "In de tekst kun je ook **bold** of _cursief_ aangeven.\n",
    "\n",
    "URL: http://localhost:8888/tree/Computrain/_InCompany/Defensie/Python%20Data%20Analyse\n",
    "\n",
    "[Klik hier](http://localhost:8888/tree/Computrain/_InCompany/Defensie/Python%20Data%20Analyse)\n",
    "\n",
    "\n",
    "* Regel 1\n",
    "* Regel 2\n",
    "* Regel 3\n",
    "\n",
    "1. Regel 1\n",
    "2. Regel 2\n",
    "3. Regel 3\n",
    "\n",
    "| Olaf    |   |   |   |   |\n",
    "|---------|---|---|---|---|\n",
    "| Jori    |   |   |   |   |\n",
    "| Lieneke |   |   |   |   |\n",
    "| Peter   |   |   |   |   |"
   ]
  },
  {
   "cell_type": "code",
   "execution_count": 13,
   "id": "ab110bcf",
   "metadata": {},
   "outputs": [
    {
     "name": "stdout",
     "output_type": "stream",
     "text": [
      "22.4 ms ± 358 µs per loop (mean ± std. dev. of 7 runs, 10 loops each)\n"
     ]
    }
   ],
   "source": [
    "%timeit for i in range(1000000): x = i + 1"
   ]
  },
  {
   "cell_type": "code",
   "execution_count": 15,
   "id": "ed140bdd",
   "metadata": {},
   "outputs": [],
   "source": [
    "import random\n",
    "getallen_set = set(random.randint(1, 1000000) for _ in range(100000))\n",
    "getallen_list = list(getallen_set)"
   ]
  },
  {
   "cell_type": "code",
   "execution_count": 16,
   "id": "c2d5b1fd",
   "metadata": {},
   "outputs": [
    {
     "name": "stdout",
     "output_type": "stream",
     "text": [
      "669 µs ± 12.1 µs per loop (mean ± std. dev. of 7 runs, 1000 loops each)\n"
     ]
    }
   ],
   "source": [
    "%timeit 7868 in getallen_list"
   ]
  },
  {
   "cell_type": "code",
   "execution_count": 17,
   "id": "28d278b7",
   "metadata": {},
   "outputs": [
    {
     "name": "stdout",
     "output_type": "stream",
     "text": [
      "18.6 ns ± 0.129 ns per loop (mean ± std. dev. of 7 runs, 100000000 loops each)\n"
     ]
    }
   ],
   "source": [
    "%timeit 7868 in getallen_set"
   ]
  },
  {
   "cell_type": "code",
   "execution_count": 18,
   "id": "d97961cf",
   "metadata": {},
   "outputs": [
    {
     "data": {
      "text/plain": [
       "3350392136182921707"
      ]
     },
     "execution_count": 18,
     "metadata": {},
     "output_type": "execute_result"
    }
   ],
   "source": [
    "hash('abcdefg')"
   ]
  },
  {
   "cell_type": "code",
   "execution_count": 19,
   "id": "fee51032",
   "metadata": {},
   "outputs": [
    {
     "data": {
      "text/plain": [
       "3350392136182921707"
      ]
     },
     "execution_count": 19,
     "metadata": {},
     "output_type": "execute_result"
    }
   ],
   "source": [
    "hash('abcdefg')"
   ]
  },
  {
   "cell_type": "code",
   "execution_count": 22,
   "id": "4deafc41",
   "metadata": {},
   "outputs": [
    {
     "data": {
      "text/plain": [
       "'7d1a54127b222502f5b79b5fb0803061152a44f92b37e23c6527baf665d4da9a'"
      ]
     },
     "execution_count": 22,
     "metadata": {},
     "output_type": "execute_result"
    }
   ],
   "source": [
    "import hashlib\n",
    "h = hashlib.sha256()\n",
    "h.update(b\"abcdefg\")\n",
    "h.hexdigest()"
   ]
  },
  {
   "cell_type": "markdown",
   "id": "632b7656",
   "metadata": {},
   "source": [
    "## Object oriented"
   ]
  },
  {
   "cell_type": "code",
   "execution_count": 23,
   "id": "fdf8e40c",
   "metadata": {},
   "outputs": [],
   "source": [
    "s = 'abcdefg'"
   ]
  },
  {
   "cell_type": "code",
   "execution_count": 24,
   "id": "1fc1f55a",
   "metadata": {},
   "outputs": [
    {
     "data": {
      "text/plain": [
       "str"
      ]
     },
     "execution_count": 24,
     "metadata": {},
     "output_type": "execute_result"
    }
   ],
   "source": [
    "type(s)"
   ]
  },
  {
   "cell_type": "code",
   "execution_count": 25,
   "id": "7e9f710a",
   "metadata": {},
   "outputs": [
    {
     "data": {
      "text/plain": [
       "'ABCDEFG'"
      ]
     },
     "execution_count": 25,
     "metadata": {},
     "output_type": "execute_result"
    }
   ],
   "source": [
    "s.upper()"
   ]
  },
  {
   "cell_type": "code",
   "execution_count": 162,
   "id": "260f41ae",
   "metadata": {},
   "outputs": [],
   "source": [
    "class Person:\n",
    "    \n",
    "    def __init__(self, name):\n",
    "        self._name = name\n",
    "        \n",
    "    def __repr__(self):\n",
    "        return f\"Person('{self._name}')\"\n",
    "    \n",
    "    def __str__(self):\n",
    "        return f\"Person with name {self._name}\"\n",
    "    \n",
    "    def __hash__(self):\n",
    "        return 42\n",
    "    \n",
    "    def __add__(self, other):\n",
    "        return (self._name + other._name)[::-1]\n",
    "    \n",
    "    def naam(self):\n",
    "        return self._name"
   ]
  },
  {
   "cell_type": "code",
   "execution_count": 163,
   "id": "ae6dce1a",
   "metadata": {},
   "outputs": [
    {
     "name": "stdout",
     "output_type": "stream",
     "text": [
      "Person with name Peter\n"
     ]
    }
   ],
   "source": [
    "p = Person('Peter')\n",
    "\n",
    "print(p)"
   ]
  },
  {
   "cell_type": "code",
   "execution_count": 165,
   "id": "97594d04",
   "metadata": {},
   "outputs": [
    {
     "data": {
      "text/plain": [
       "'Peter'"
      ]
     },
     "execution_count": 165,
     "metadata": {},
     "output_type": "execute_result"
    }
   ],
   "source": [
    "p.naam()"
   ]
  },
  {
   "cell_type": "code",
   "execution_count": 127,
   "id": "1a6256f6",
   "metadata": {},
   "outputs": [
    {
     "data": {
      "text/plain": [
       "Person('Peter')"
      ]
     },
     "execution_count": 127,
     "metadata": {},
     "output_type": "execute_result"
    }
   ],
   "source": [
    "p"
   ]
  },
  {
   "cell_type": "code",
   "execution_count": 128,
   "id": "4aee810a",
   "metadata": {},
   "outputs": [
    {
     "data": {
      "text/plain": [
       "'Person with name Peter'"
      ]
     },
     "execution_count": 128,
     "metadata": {},
     "output_type": "execute_result"
    }
   ],
   "source": [
    "str(p)"
   ]
  },
  {
   "cell_type": "code",
   "execution_count": 129,
   "id": "8f3a9275",
   "metadata": {},
   "outputs": [
    {
     "data": {
      "text/plain": [
       "\"Person('Peter')\""
      ]
     },
     "execution_count": 129,
     "metadata": {},
     "output_type": "execute_result"
    }
   ],
   "source": [
    "repr(p)"
   ]
  },
  {
   "cell_type": "code",
   "execution_count": 130,
   "id": "e5b69185",
   "metadata": {},
   "outputs": [
    {
     "name": "stdout",
     "output_type": "stream",
     "text": [
      "abcdefg\n"
     ]
    }
   ],
   "source": [
    "print(s)"
   ]
  },
  {
   "cell_type": "code",
   "execution_count": 131,
   "id": "c47af443",
   "metadata": {},
   "outputs": [],
   "source": [
    "x = 984237 + 987423"
   ]
  },
  {
   "cell_type": "code",
   "execution_count": 132,
   "id": "e9c33008",
   "metadata": {},
   "outputs": [
    {
     "data": {
      "text/plain": [
       "'Person with name Peter'"
      ]
     },
     "execution_count": 132,
     "metadata": {},
     "output_type": "execute_result"
    }
   ],
   "source": [
    "p.__str__()"
   ]
  },
  {
   "cell_type": "code",
   "execution_count": 133,
   "id": "a1e2b651",
   "metadata": {},
   "outputs": [
    {
     "data": {
      "text/plain": [
       "'retePreteP'"
      ]
     },
     "execution_count": 133,
     "metadata": {},
     "output_type": "execute_result"
    }
   ],
   "source": [
    "p + p"
   ]
  },
  {
   "cell_type": "markdown",
   "id": "aae009ca",
   "metadata": {},
   "source": [
    "## dicts"
   ]
  },
  {
   "cell_type": "code",
   "execution_count": 94,
   "id": "6cd7dc43",
   "metadata": {},
   "outputs": [
    {
     "data": {
      "text/plain": [
       "dict"
      ]
     },
     "execution_count": 94,
     "metadata": {},
     "output_type": "execute_result"
    }
   ],
   "source": [
    "d = {'nl':'+31', 'b':'+32', 'f':'+33'}\n",
    "\n",
    "type(d)"
   ]
  },
  {
   "cell_type": "code",
   "execution_count": 95,
   "id": "e0e5e839",
   "metadata": {},
   "outputs": [
    {
     "data": {
      "text/plain": [
       "{'nl': '+31', 'b': '+32', 'f': '+33'}"
      ]
     },
     "execution_count": 95,
     "metadata": {},
     "output_type": "execute_result"
    }
   ],
   "source": [
    "d"
   ]
  },
  {
   "cell_type": "code",
   "execution_count": 96,
   "id": "bf3cd8ee",
   "metadata": {},
   "outputs": [
    {
     "data": {
      "text/plain": [
       "dict_keys(['nl', 'b', 'f'])"
      ]
     },
     "execution_count": 96,
     "metadata": {},
     "output_type": "execute_result"
    }
   ],
   "source": [
    "d.keys()"
   ]
  },
  {
   "cell_type": "code",
   "execution_count": 97,
   "id": "f0bb4162",
   "metadata": {},
   "outputs": [
    {
     "data": {
      "text/plain": [
       "'+31'"
      ]
     },
     "execution_count": 97,
     "metadata": {},
     "output_type": "execute_result"
    }
   ],
   "source": [
    "d['nl']"
   ]
  },
  {
   "cell_type": "code",
   "execution_count": 99,
   "id": "4c666c51",
   "metadata": {},
   "outputs": [],
   "source": [
    "d.get('uk')"
   ]
  },
  {
   "cell_type": "code",
   "execution_count": 100,
   "id": "76f8a5b4",
   "metadata": {},
   "outputs": [
    {
     "data": {
      "text/plain": [
       "'onbekend'"
      ]
     },
     "execution_count": 100,
     "metadata": {},
     "output_type": "execute_result"
    }
   ],
   "source": [
    "d.get('uk', 'onbekend')"
   ]
  },
  {
   "cell_type": "code",
   "execution_count": 105,
   "id": "64870c93",
   "metadata": {},
   "outputs": [
    {
     "data": {
      "text/plain": [
       "[('nl', '+31'), ('b', '+32'), ('f', '+33')]"
      ]
     },
     "execution_count": 105,
     "metadata": {},
     "output_type": "execute_result"
    }
   ],
   "source": [
    "list(d.items())"
   ]
  },
  {
   "cell_type": "code",
   "execution_count": 106,
   "id": "fea7a3b1",
   "metadata": {},
   "outputs": [],
   "source": [
    "d.get('+31')"
   ]
  },
  {
   "cell_type": "code",
   "execution_count": 107,
   "id": "7dcefce5",
   "metadata": {},
   "outputs": [],
   "source": [
    "d_inv = dict(zip(d.values(), d.keys()))"
   ]
  },
  {
   "cell_type": "code",
   "execution_count": 108,
   "id": "b70ebb43",
   "metadata": {},
   "outputs": [
    {
     "data": {
      "text/plain": [
       "{'+31': 'nl', '+32': 'b', '+33': 'f'}"
      ]
     },
     "execution_count": 108,
     "metadata": {},
     "output_type": "execute_result"
    }
   ],
   "source": [
    "d_inv"
   ]
  },
  {
   "cell_type": "code",
   "execution_count": 109,
   "id": "0f2773eb",
   "metadata": {},
   "outputs": [
    {
     "data": {
      "text/plain": [
       "{'nl': '+31', 'b': '+32', 'f': '+33', 'es': '+33'}"
      ]
     },
     "execution_count": 109,
     "metadata": {},
     "output_type": "execute_result"
    }
   ],
   "source": [
    "d['es']='+33'\n",
    "d"
   ]
  },
  {
   "cell_type": "code",
   "execution_count": 111,
   "id": "0c98c2c5",
   "metadata": {},
   "outputs": [
    {
     "data": {
      "text/plain": [
       "{'+31': 'nl', '+32': 'b', '+33': 'es'}"
      ]
     },
     "execution_count": 111,
     "metadata": {},
     "output_type": "execute_result"
    }
   ],
   "source": [
    "d_inv = dict(zip(d.values(), d.keys()))\n",
    "d_inv"
   ]
  },
  {
   "cell_type": "code",
   "execution_count": 112,
   "id": "135f38cd",
   "metadata": {},
   "outputs": [
    {
     "data": {
      "text/plain": [
       "dict_values(['+31', '+32', '+33', '+33'])"
      ]
     },
     "execution_count": 112,
     "metadata": {},
     "output_type": "execute_result"
    }
   ],
   "source": [
    "d.values()"
   ]
  },
  {
   "cell_type": "code",
   "execution_count": 115,
   "id": "296bdc2b",
   "metadata": {},
   "outputs": [
    {
     "data": {
      "text/plain": [
       "False"
      ]
     },
     "execution_count": 115,
     "metadata": {},
     "output_type": "execute_result"
    }
   ],
   "source": [
    "len(d.keys()) == len(set(d.values()))"
   ]
  },
  {
   "cell_type": "code",
   "execution_count": 116,
   "id": "191239f0",
   "metadata": {},
   "outputs": [
    {
     "data": {
      "text/plain": [
       "1575"
      ]
     },
     "execution_count": 116,
     "metadata": {},
     "output_type": "execute_result"
    }
   ],
   "source": [
    "786 + 789"
   ]
  },
  {
   "cell_type": "code",
   "execution_count": 117,
   "id": "ca59a7bc",
   "metadata": {},
   "outputs": [
    {
     "data": {
      "text/plain": [
       "'abcxyz'"
      ]
     },
     "execution_count": 117,
     "metadata": {},
     "output_type": "execute_result"
    }
   ],
   "source": [
    "'abc' + 'xyz'"
   ]
  },
  {
   "cell_type": "code",
   "execution_count": 118,
   "id": "83ffb7cd",
   "metadata": {},
   "outputs": [
    {
     "data": {
      "text/plain": [
       "[1, 2, 3, 7, 8, 9]"
      ]
     },
     "execution_count": 118,
     "metadata": {},
     "output_type": "execute_result"
    }
   ],
   "source": [
    "[1,2,3] + [7,8,9]"
   ]
  },
  {
   "cell_type": "code",
   "execution_count": 137,
   "id": "52eb00d7",
   "metadata": {},
   "outputs": [],
   "source": [
    "s1 = {1,2,3,4,5,6,7,8,9}\n",
    "s2 = {7,8,9,10,11,12}"
   ]
  },
  {
   "cell_type": "code",
   "execution_count": 138,
   "id": "b3cda225",
   "metadata": {},
   "outputs": [
    {
     "data": {
      "text/plain": [
       "{1, 2, 3, 4, 5, 6, 7, 8, 9, 10, 11, 12}"
      ]
     },
     "execution_count": 138,
     "metadata": {},
     "output_type": "execute_result"
    }
   ],
   "source": [
    "s1 | s2"
   ]
  },
  {
   "cell_type": "code",
   "execution_count": 139,
   "id": "d38fd0f7",
   "metadata": {},
   "outputs": [
    {
     "data": {
      "text/plain": [
       "{7, 8, 9}"
      ]
     },
     "execution_count": 139,
     "metadata": {},
     "output_type": "execute_result"
    }
   ],
   "source": [
    "s1 & s2"
   ]
  },
  {
   "cell_type": "code",
   "execution_count": 140,
   "id": "c7447f91",
   "metadata": {},
   "outputs": [
    {
     "data": {
      "text/plain": [
       "{1, 2, 3, 4, 5, 6}"
      ]
     },
     "execution_count": 140,
     "metadata": {},
     "output_type": "execute_result"
    }
   ],
   "source": [
    "s1 - s2"
   ]
  },
  {
   "cell_type": "code",
   "execution_count": 141,
   "id": "d14350a5",
   "metadata": {},
   "outputs": [
    {
     "data": {
      "text/plain": [
       "{10, 11, 12}"
      ]
     },
     "execution_count": 141,
     "metadata": {},
     "output_type": "execute_result"
    }
   ],
   "source": [
    "s2 - s1"
   ]
  },
  {
   "cell_type": "code",
   "execution_count": 142,
   "id": "801cd801",
   "metadata": {},
   "outputs": [
    {
     "data": {
      "text/plain": [
       "{1, 2, 3, 4, 5, 6, 10, 11, 12}"
      ]
     },
     "execution_count": 142,
     "metadata": {},
     "output_type": "execute_result"
    }
   ],
   "source": [
    "s1 ^ s2"
   ]
  },
  {
   "cell_type": "code",
   "execution_count": 149,
   "id": "0365ea2d",
   "metadata": {},
   "outputs": [
    {
     "data": {
      "text/plain": [
       "[(1, 2, 3),\n",
       " (1, 2, 4),\n",
       " (1, 2, 5),\n",
       " (1, 3, 4),\n",
       " (1, 3, 5),\n",
       " (1, 4, 5),\n",
       " (2, 3, 4),\n",
       " (2, 3, 5),\n",
       " (2, 4, 5),\n",
       " (3, 4, 5)]"
      ]
     },
     "execution_count": 149,
     "metadata": {},
     "output_type": "execute_result"
    }
   ],
   "source": [
    "import itertools\n",
    "\n",
    "list(itertools.combinations([1,2,3,4,5], 3))"
   ]
  },
  {
   "cell_type": "code",
   "execution_count": 150,
   "id": "f34773fa",
   "metadata": {},
   "outputs": [
    {
     "data": {
      "text/plain": [
       "['__doc__',\n",
       " '__loader__',\n",
       " '__name__',\n",
       " '__package__',\n",
       " '__spec__',\n",
       " '_grouper',\n",
       " '_tee',\n",
       " '_tee_dataobject',\n",
       " 'accumulate',\n",
       " 'chain',\n",
       " 'combinations',\n",
       " 'combinations_with_replacement',\n",
       " 'compress',\n",
       " 'count',\n",
       " 'cycle',\n",
       " 'dropwhile',\n",
       " 'filterfalse',\n",
       " 'groupby',\n",
       " 'islice',\n",
       " 'pairwise',\n",
       " 'permutations',\n",
       " 'product',\n",
       " 'repeat',\n",
       " 'starmap',\n",
       " 'takewhile',\n",
       " 'tee',\n",
       " 'zip_longest']"
      ]
     },
     "execution_count": 150,
     "metadata": {},
     "output_type": "execute_result"
    }
   ],
   "source": [
    "dir(itertools)"
   ]
  },
  {
   "cell_type": "code",
   "execution_count": 155,
   "id": "a8837070",
   "metadata": {},
   "outputs": [
    {
     "data": {
      "text/plain": [
       "'ABACAABA'"
      ]
     },
     "execution_count": 155,
     "metadata": {},
     "output_type": "execute_result"
    }
   ],
   "source": [
    "''.join(s.upper() for s in 'abracadabra' if s in 'abc')"
   ]
  },
  {
   "cell_type": "code",
   "execution_count": 1,
   "id": "fcd28141",
   "metadata": {},
   "outputs": [
    {
     "ename": "NameError",
     "evalue": "name 'a' is not defined",
     "output_type": "error",
     "traceback": [
      "\u001b[0;31m---------------------------------------------------------------------------\u001b[0m",
      "\u001b[0;31mNameError\u001b[0m                                 Traceback (most recent call last)",
      "\u001b[0;32m/var/folders/03/yj771kx92fj0g_3xbr70x6980000gn/T/ipykernel_34709/2167009006.py\u001b[0m in \u001b[0;36m<cell line: 1>\u001b[0;34m()\u001b[0m\n\u001b[0;32m----> 1\u001b[0;31m \u001b[0ma\u001b[0m\u001b[0;34m\u001b[0m\u001b[0;34m\u001b[0m\u001b[0m\n\u001b[0m",
      "\u001b[0;31mNameError\u001b[0m: name 'a' is not defined"
     ]
    }
   ],
   "source": [
    "a"
   ]
  },
  {
   "cell_type": "code",
   "execution_count": null,
   "id": "513e16e6",
   "metadata": {},
   "outputs": [],
   "source": []
  }
 ],
 "metadata": {
  "kernelspec": {
   "display_name": "base",
   "language": "python",
   "name": "base"
  },
  "language_info": {
   "codemirror_mode": {
    "name": "ipython",
    "version": 3
   },
   "file_extension": ".py",
   "mimetype": "text/x-python",
   "name": "python",
   "nbconvert_exporter": "python",
   "pygments_lexer": "ipython3",
   "version": "3.10.13"
  }
 },
 "nbformat": 4,
 "nbformat_minor": 5
}
