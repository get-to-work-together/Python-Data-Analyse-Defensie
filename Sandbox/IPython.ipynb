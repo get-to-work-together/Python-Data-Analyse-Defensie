{
 "cells": [
  {
   "cell_type": "markdown",
   "metadata": {},
   "source": [
    "# IPython - An enhanced Interactive Python"
   ]
  },
  {
   "cell_type": "markdown",
   "metadata": {},
   "source": [
    "### execute shell commands"
   ]
  },
  {
   "cell_type": "code",
   "execution_count": 11,
   "metadata": {},
   "outputs": [
    {
     "name": "stdout",
     "output_type": "stream",
     "text": [
      "Fri Apr 24 22:59:03 CEST 2020\r\n"
     ]
    }
   ],
   "source": [
    "!date"
   ]
  },
  {
   "cell_type": "markdown",
   "metadata": {},
   "source": [
    "### access filesystem"
   ]
  },
  {
   "cell_type": "code",
   "execution_count": 6,
   "metadata": {},
   "outputs": [
    {
     "name": "stdout",
     "output_type": "stream",
     "text": [
      "total 440\r\n",
      "drwxr-xr-x  8 peter  staff     256 May 11 10:20 \u001b[34m.\u001b[m\u001b[m/\r\n",
      "drwxr-xr-x  7 peter  staff     224 Mar 24 00:26 \u001b[34m..\u001b[m\u001b[m/\r\n",
      "drwxr-xr-x  6 peter  staff     192 Apr 25 14:04 \u001b[34m.ipynb_checkpoints\u001b[m\u001b[m/\r\n",
      "-rwxrwxrwx@ 1 peter  staff   50905 Sep 25  2018 \u001b[31mDemo Numpy Array.ipynb\u001b[m\u001b[m*\r\n",
      "-rw-r--r--  1 peter  staff    3311 May 11 10:20 IPython.ipynb\r\n",
      "-rw-r--r--  1 peter  staff   24213 Apr 25 12:10 Numpy Random.ipynb\r\n",
      "-rw-r--r--  1 peter  staff   17260 Apr 25 23:31 Pandas DataFrame.ipynb\r\n",
      "-rw-r--r--  1 peter  staff  121340 Apr 25 16:18 Pandas Plot.ipynb\r\n"
     ]
    }
   ],
   "source": [
    "ls -al"
   ]
  },
  {
   "cell_type": "markdown",
   "metadata": {},
   "source": [
    "### command history"
   ]
  },
  {
   "cell_type": "code",
   "execution_count": 7,
   "metadata": {},
   "outputs": [
    {
     "data": {
      "text/plain": [
       "\"get_ipython().run_line_magic('ls', '-al')\""
      ]
     },
     "execution_count": 7,
     "metadata": {},
     "output_type": "execute_result"
    }
   ],
   "source": [
    "In[6]"
   ]
  },
  {
   "cell_type": "markdown",
   "metadata": {},
   "source": [
    "### magic commands"
   ]
  },
  {
   "cell_type": "code",
   "execution_count": 8,
   "metadata": {},
   "outputs": [
    {
     "name": "stdout",
     "output_type": "stream",
     "text": [
      "175 ns ± 2.66 ns per loop (mean ± std. dev. of 7 runs, 10000000 loops each)\n",
      "265 ns ± 2.89 ns per loop (mean ± std. dev. of 7 runs, 1000000 loops each)\n",
      "159 ns ± 2.05 ns per loop (mean ± std. dev. of 7 runs, 10000000 loops each)\n",
      "248 ns ± 9.27 ns per loop (mean ± std. dev. of 7 runs, 1000000 loops each)\n"
     ]
    }
   ],
   "source": [
    "number = 1000\n",
    "%timeit 'The number is %d' % number\n",
    "%timeit 'The number is {}'.format(number)\n",
    "%timeit f'The number is {number}'\n",
    "%timeit 'The number is ' + str(number)"
   ]
  },
  {
   "cell_type": "markdown",
   "metadata": {},
   "source": [
    "### markdown"
   ]
  },
  {
   "cell_type": "markdown",
   "metadata": {},
   "source": [
    "# H1\n",
    "\n",
    "## H2\n",
    "### H3\n",
    "#### H4\n",
    "\n",
    "Bold         **Bold**\n",
    "\n",
    "Italics      *Italics*\n",
    "\n",
    "Code         `Code`"
   ]
  },
  {
   "cell_type": "markdown",
   "metadata": {},
   "source": [
    "### Lijstje\n",
    "- AA\n",
    "- BB\n",
    "- CC"
   ]
  },
  {
   "cell_type": "code",
   "execution_count": null,
   "metadata": {},
   "outputs": [],
   "source": []
  }
 ],
 "metadata": {
  "kernelspec": {
   "display_name": "Python 3",
   "language": "python",
   "name": "python3"
  },
  "language_info": {
   "codemirror_mode": {
    "name": "ipython",
    "version": 3
   },
   "file_extension": ".py",
   "mimetype": "text/x-python",
   "name": "python",
   "nbconvert_exporter": "python",
   "pygments_lexer": "ipython3",
   "version": "3.8.3"
  }
 },
 "nbformat": 4,
 "nbformat_minor": 2
}
