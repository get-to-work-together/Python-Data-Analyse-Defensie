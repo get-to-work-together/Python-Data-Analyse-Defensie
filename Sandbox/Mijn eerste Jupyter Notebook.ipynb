{
 "cells": [
  {
   "cell_type": "markdown",
   "metadata": {},
   "source": [
    "# Dicts"
   ]
  },
  {
   "cell_type": "code",
   "execution_count": 1,
   "metadata": {},
   "outputs": [],
   "source": [
    "d = {'Utrecht': '030', 'Amsterdam':'020', 'Rotterdam':'010', 'Den Haag': '070'}"
   ]
  },
  {
   "cell_type": "code",
   "execution_count": 12,
   "metadata": {},
   "outputs": [
    {
     "data": {
      "text/plain": [
       "'010'"
      ]
     },
     "execution_count": 12,
     "metadata": {},
     "output_type": "execute_result"
    }
   ],
   "source": [
    "d['Rotterdam']"
   ]
  },
  {
   "cell_type": "code",
   "execution_count": 13,
   "metadata": {},
   "outputs": [
    {
     "data": {
      "text/plain": [
       "dict"
      ]
     },
     "execution_count": 13,
     "metadata": {},
     "output_type": "execute_result"
    }
   ],
   "source": [
    "type(d)"
   ]
  },
  {
   "cell_type": "code",
   "execution_count": 15,
   "metadata": {},
   "outputs": [],
   "source": [
    "d['Capelle'] = '010'"
   ]
  },
  {
   "cell_type": "code",
   "execution_count": 16,
   "metadata": {},
   "outputs": [
    {
     "data": {
      "text/plain": [
       "'010'"
      ]
     },
     "execution_count": 16,
     "metadata": {},
     "output_type": "execute_result"
    }
   ],
   "source": [
    "d['Capelle']"
   ]
  },
  {
   "cell_type": "code",
   "execution_count": 17,
   "metadata": {},
   "outputs": [
    {
     "data": {
      "text/plain": [
       "{'Utrecht': '030',\n",
       " 'Amsterdam': '020',\n",
       " 'Rotterdam': '010',\n",
       " 'Den Haag': '070',\n",
       " 'Capelle': '010'}"
      ]
     },
     "execution_count": 17,
     "metadata": {},
     "output_type": "execute_result"
    }
   ],
   "source": [
    "d"
   ]
  },
  {
   "cell_type": "code",
   "execution_count": 18,
   "metadata": {},
   "outputs": [
    {
     "data": {
      "text/plain": [
       "dict_keys(['Utrecht', 'Amsterdam', 'Rotterdam', 'Den Haag', 'Capelle'])"
      ]
     },
     "execution_count": 18,
     "metadata": {},
     "output_type": "execute_result"
    }
   ],
   "source": [
    "d.keys()"
   ]
  },
  {
   "cell_type": "code",
   "execution_count": 19,
   "metadata": {},
   "outputs": [
    {
     "name": "stdout",
     "output_type": "stream",
     "text": [
      "Utrecht\n",
      "Amsterdam\n",
      "Rotterdam\n",
      "Den Haag\n",
      "Capelle\n"
     ]
    }
   ],
   "source": [
    "for k in d.keys():\n",
    "    print(k)"
   ]
  },
  {
   "cell_type": "code",
   "execution_count": 23,
   "metadata": {},
   "outputs": [
    {
     "name": "stdout",
     "output_type": "stream",
     "text": [
      "Utrecht: 030\n",
      "Amsterdam: 020\n",
      "Rotterdam: 010\n",
      "Den Haag: 070\n",
      "Capelle: 010\n"
     ]
    }
   ],
   "source": [
    "for k, v in d.items():\n",
    "    print(k + ': ' + v)"
   ]
  },
  {
   "cell_type": "markdown",
   "metadata": {},
   "source": [
    "#### Format operator %"
   ]
  },
  {
   "cell_type": "code",
   "execution_count": 32,
   "metadata": {},
   "outputs": [
    {
     "name": "stdout",
     "output_type": "stream",
     "text": [
      "Utrecht        : 030\n",
      "Amsterdam      : 020\n",
      "Rotterdam      : 010\n",
      "Den Haag       : 070\n",
      "Capelle        : 010\n"
     ]
    }
   ],
   "source": [
    "for k, v in d.items():\n",
    "    print('%-15s: %s' % (k, v))"
   ]
  },
  {
   "cell_type": "markdown",
   "metadata": {},
   "source": [
    "#### Format method"
   ]
  },
  {
   "cell_type": "code",
   "execution_count": 31,
   "metadata": {
    "scrolled": true
   },
   "outputs": [
    {
     "name": "stdout",
     "output_type": "stream",
     "text": [
      "Utrecht        : 030\n",
      "Amsterdam      : 020\n",
      "Rotterdam      : 010\n",
      "Den Haag       : 070\n",
      "Capelle        : 010\n"
     ]
    }
   ],
   "source": [
    "for k, v in d.items():\n",
    "    print('{:15}: {}'.format(k, v))"
   ]
  },
  {
   "cell_type": "markdown",
   "metadata": {},
   "source": [
    "#### Format string f''"
   ]
  },
  {
   "cell_type": "code",
   "execution_count": 22,
   "metadata": {},
   "outputs": [
    {
     "name": "stdout",
     "output_type": "stream",
     "text": [
      "Utrecht        : 030\n",
      "Amsterdam      : 020\n",
      "Rotterdam      : 010\n",
      "Den Haag       : 070\n",
      "Capelle        : 010\n"
     ]
    }
   ],
   "source": [
    "for k, v in d.items():\n",
    "    print(f'{k:15}: {v}')"
   ]
  },
  {
   "cell_type": "code",
   "execution_count": 28,
   "metadata": {},
   "outputs": [
    {
     "data": {
      "text/plain": [
       "'Hoe gaat het Peter?'"
      ]
     },
     "execution_count": 28,
     "metadata": {},
     "output_type": "execute_result"
    }
   ],
   "source": []
  },
  {
   "cell_type": "markdown",
   "metadata": {},
   "source": [
    "# Context manager"
   ]
  },
  {
   "cell_type": "code",
   "execution_count": 34,
   "metadata": {},
   "outputs": [
    {
     "name": "stdout",
     "output_type": "stream",
     "text": [
      "\u001b[31m7052_95_UntypedDataSet_03052020_113458.csv\u001b[m\u001b[m\n",
      "\u001b[31mCBS Jan-Dirk.ipynb\u001b[m\u001b[m\n",
      "\u001b[31mCBS.ipynb\u001b[m\u001b[m\n",
      "\u001b[31mCBS7.py\u001b[m\u001b[m\n",
      "CSV importeren.ipynb\n",
      "\u001b[31mCovid19.ipynb\u001b[m\u001b[m\n",
      "\u001b[31mDemo Dataframe.ipynb\u001b[m\u001b[m\n",
      "\u001b[31mDemo Matplotlib.ipynb\u001b[m\u001b[m\n",
      "\u001b[31mDemo Numpy Array.ipynb\u001b[m\u001b[m\n",
      "Demo Numpy.ipynb\n",
      "\u001b[31mDemo Pandas.ipynb\u001b[m\u001b[m\n",
      "\u001b[31mDemo Standard Library.ipynb\u001b[m\u001b[m\n",
      "\u001b[31mEerste demo.ipynb\u001b[m\u001b[m\n",
      "Encoding.ipynb\n",
      "GeoPandas.ipynb\n",
      "\u001b[31mIPython.ipynb\u001b[m\u001b[m\n",
      "Jupyter notebooks les 2.zip\n",
      "Lineaire regressie.ipynb\n",
      "\u001b[31mLogaritmisch Regressie.ipynb\u001b[m\u001b[m\n",
      "Mijn eerste Jupyter Notebook.ipynb\n",
      "\u001b[31mMultiple Regression.ipynb\u001b[m\u001b[m\n",
      "\u001b[31mNumpy Random.ipynb\u001b[m\u001b[m\n",
      "\u001b[31mNumpy.ipynb\u001b[m\u001b[m\n",
      "Opdracht 5.1.ipynb\n",
      "Overgangen.ipynb\n",
      "\u001b[31mPandas DataFrame.ipynb\u001b[m\u001b[m\n",
      "\u001b[31mPandas Plot.ipynb\u001b[m\u001b[m\n",
      "Python Basic.ipynb\n",
      "Python Basic.ipynb.zip\n",
      "\u001b[31mPython Basics.ipynb\u001b[m\u001b[m\n",
      "\u001b[31mRegressie.ipynb\u001b[m\u001b[m\n",
      "\u001b[31mReshaping a dataframe.ipynb\u001b[m\u001b[m\n",
      "Seaborn from Python Data Science Handbook.ipynb\n",
      "\u001b[31mSeaborn.ipynb\u001b[m\u001b[m\n",
      "\u001b[31mUntitled.ipynb\u001b[m\u001b[m\n",
      "\u001b[31mcovid19_worldwide.csv\u001b[m\u001b[m\n",
      "data.csv\n",
      "data.txt\n",
      "\u001b[31mread_html.ipynb\u001b[m\u001b[m\n",
      "\u001b[31mreading ca-500.csv.ipynb\u001b[m\u001b[m\n",
      "\u001b[31mx09.txt\u001b[m\u001b[m\n",
      "\u001b[31mx09_prepared.txt\u001b[m\u001b[m\n"
     ]
    }
   ],
   "source": [
    "!ls"
   ]
  },
  {
   "cell_type": "code",
   "execution_count": 8,
   "metadata": {},
   "outputs": [],
   "source": [
    "filename = 'data.txt'"
   ]
  },
  {
   "cell_type": "code",
   "execution_count": 36,
   "metadata": {},
   "outputs": [],
   "source": [
    "f = open(filename)\n",
    "content = f.read()\n",
    "f.close()"
   ]
  },
  {
   "cell_type": "code",
   "execution_count": 39,
   "metadata": {},
   "outputs": [],
   "source": [
    "with open(filename) as f:\n",
    "    content = f.read()"
   ]
  },
  {
   "cell_type": "code",
   "execution_count": 40,
   "metadata": {},
   "outputs": [
    {
     "name": "stdout",
     "output_type": "stream",
     "text": [
      "Naam, Woonplaats\n",
      "Peter, Lhee\n",
      "Pim, Capelle\n",
      "Nando, Zoetermeer\n",
      "Charlotte, Zwolle\n",
      "Henk, Berkenwoude\n",
      "\n"
     ]
    }
   ],
   "source": [
    "print(content)"
   ]
  },
  {
   "cell_type": "code",
   "execution_count": 41,
   "metadata": {},
   "outputs": [
    {
     "data": {
      "text/plain": [
       "'Naam, Woonplaats\\nPeter, Lhee\\nPim, Capelle\\nNando, Zoetermeer\\nCharlotte, Zwolle\\nHenk, Berkenwoude\\n'"
      ]
     },
     "execution_count": 41,
     "metadata": {},
     "output_type": "execute_result"
    }
   ],
   "source": [
    "content"
   ]
  },
  {
   "cell_type": "code",
   "execution_count": 51,
   "metadata": {},
   "outputs": [
    {
     "name": "stdout",
     "output_type": "stream",
     "text": [
      "Peter woont in Lhee.\n",
      "Pim woont in Capelle.\n",
      "Charlotte woont in Zwolle.\n",
      "Henk woont in Berkenwoude.\n"
     ]
    }
   ],
   "source": [
    "with open(filename) as f:\n",
    "    line = f.readline()\n",
    "    headers = line.strip().split(', ')\n",
    "    for line in f:\n",
    "        columns = line.strip().split(', ')\n",
    "        d = dict(zip(headers, columns))\n",
    "        if d['Woonplaats'].endswith('e'):\n",
    "            print(f'{d[\"Naam\"]} woont in {d[\"Woonplaats\"]}.')"
   ]
  },
  {
   "cell_type": "markdown",
   "metadata": {},
   "source": [
    "## Pandas DataFrame"
   ]
  },
  {
   "cell_type": "code",
   "execution_count": 9,
   "metadata": {},
   "outputs": [],
   "source": [
    "import pandas as pd"
   ]
  },
  {
   "cell_type": "code",
   "execution_count": 14,
   "metadata": {},
   "outputs": [
    {
     "data": {
      "text/html": [
       "<div>\n",
       "<style scoped>\n",
       "    .dataframe tbody tr th:only-of-type {\n",
       "        vertical-align: middle;\n",
       "    }\n",
       "\n",
       "    .dataframe tbody tr th {\n",
       "        vertical-align: top;\n",
       "    }\n",
       "\n",
       "    .dataframe thead th {\n",
       "        text-align: right;\n",
       "    }\n",
       "</style>\n",
       "<table border=\"1\" class=\"dataframe\">\n",
       "  <thead>\n",
       "    <tr style=\"text-align: right;\">\n",
       "      <th></th>\n",
       "      <th>Naam</th>\n",
       "      <th>Woonplaats</th>\n",
       "      <th>Afstand</th>\n",
       "    </tr>\n",
       "  </thead>\n",
       "  <tbody>\n",
       "    <tr>\n",
       "      <th>0</th>\n",
       "      <td>Peter</td>\n",
       "      <td>Lhee</td>\n",
       "      <td>20.6</td>\n",
       "    </tr>\n",
       "    <tr>\n",
       "      <th>1</th>\n",
       "      <td>Pim</td>\n",
       "      <td>Capelle</td>\n",
       "      <td>23.3</td>\n",
       "    </tr>\n",
       "    <tr>\n",
       "      <th>2</th>\n",
       "      <td>Nando</td>\n",
       "      <td>Zoetermeer</td>\n",
       "      <td>10.8</td>\n",
       "    </tr>\n",
       "    <tr>\n",
       "      <th>3</th>\n",
       "      <td>Charlotte</td>\n",
       "      <td>Zwolle</td>\n",
       "      <td>2.9</td>\n",
       "    </tr>\n",
       "    <tr>\n",
       "      <th>4</th>\n",
       "      <td>Henk</td>\n",
       "      <td>Berkenwoude</td>\n",
       "      <td>123.0</td>\n",
       "    </tr>\n",
       "  </tbody>\n",
       "</table>\n",
       "</div>"
      ],
      "text/plain": [
       "        Naam    Woonplaats   Afstand\n",
       "0      Peter          Lhee      20.6\n",
       "1        Pim       Capelle      23.3\n",
       "2      Nando    Zoetermeer      10.8\n",
       "3  Charlotte        Zwolle       2.9\n",
       "4       Henk   Berkenwoude     123.0"
      ]
     },
     "execution_count": 14,
     "metadata": {},
     "output_type": "execute_result"
    }
   ],
   "source": [
    "df = pd.read_csv(filename, sep=';', quotechar='\"', decimal=',')\n",
    "df"
   ]
  },
  {
   "cell_type": "code",
   "execution_count": 100,
   "metadata": {},
   "outputs": [
    {
     "data": {
      "text/plain": [
       "{'sep': ',', 'quotechar': '\"', 'decimal': '.'}"
      ]
     },
     "execution_count": 100,
     "metadata": {},
     "output_type": "execute_result"
    }
   ],
   "source": [
    "settings = {'sep':',', 'quotechar': '\"', 'decimal': '.'}\n",
    "settings"
   ]
  },
  {
   "cell_type": "code",
   "execution_count": 101,
   "metadata": {},
   "outputs": [],
   "source": [
    "df = pd.read_csv(filename, **settings)"
   ]
  },
  {
   "cell_type": "code",
   "execution_count": null,
   "metadata": {},
   "outputs": [],
   "source": [
    "df"
   ]
  },
  {
   "cell_type": "code",
   "execution_count": 62,
   "metadata": {},
   "outputs": [
    {
     "data": {
      "text/html": [
       "<div>\n",
       "<style scoped>\n",
       "    .dataframe tbody tr th:only-of-type {\n",
       "        vertical-align: middle;\n",
       "    }\n",
       "\n",
       "    .dataframe tbody tr th {\n",
       "        vertical-align: top;\n",
       "    }\n",
       "\n",
       "    .dataframe thead th {\n",
       "        text-align: right;\n",
       "    }\n",
       "</style>\n",
       "<table border=\"1\" class=\"dataframe\">\n",
       "  <thead>\n",
       "    <tr style=\"text-align: right;\">\n",
       "      <th></th>\n",
       "      <th>Naam</th>\n",
       "      <th>Woonplaats</th>\n",
       "    </tr>\n",
       "  </thead>\n",
       "  <tbody>\n",
       "    <tr>\n",
       "      <th>0</th>\n",
       "      <td>Peter</td>\n",
       "      <td>Lhee</td>\n",
       "    </tr>\n",
       "    <tr>\n",
       "      <th>1</th>\n",
       "      <td>Pim</td>\n",
       "      <td>Capelle</td>\n",
       "    </tr>\n",
       "    <tr>\n",
       "      <th>2</th>\n",
       "      <td>Nando</td>\n",
       "      <td>Zoetermeer</td>\n",
       "    </tr>\n",
       "    <tr>\n",
       "      <th>3</th>\n",
       "      <td>Charlotte</td>\n",
       "      <td>Zwolle</td>\n",
       "    </tr>\n",
       "    <tr>\n",
       "      <th>4</th>\n",
       "      <td>Henk</td>\n",
       "      <td>Berkenwoude</td>\n",
       "    </tr>\n",
       "  </tbody>\n",
       "</table>\n",
       "</div>"
      ],
      "text/plain": [
       "        Naam    Woonplaats\n",
       "0      Peter          Lhee\n",
       "1        Pim       Capelle\n",
       "2      Nando    Zoetermeer\n",
       "3  Charlotte        Zwolle\n",
       "4       Henk   Berkenwoude"
      ]
     },
     "metadata": {},
     "output_type": "display_data"
    }
   ],
   "source": [
    "display(df)"
   ]
  },
  {
   "cell_type": "code",
   "execution_count": 63,
   "metadata": {},
   "outputs": [
    {
     "name": "stdout",
     "output_type": "stream",
     "text": [
      "        Naam    Woonplaats\n",
      "0      Peter          Lhee\n",
      "1        Pim       Capelle\n",
      "2      Nando    Zoetermeer\n",
      "3  Charlotte        Zwolle\n",
      "4       Henk   Berkenwoude\n"
     ]
    }
   ],
   "source": [
    "print(df)"
   ]
  },
  {
   "cell_type": "code",
   "execution_count": 61,
   "metadata": {},
   "outputs": [
    {
     "data": {
      "text/html": [
       "<div>\n",
       "<style scoped>\n",
       "    .dataframe tbody tr th:only-of-type {\n",
       "        vertical-align: middle;\n",
       "    }\n",
       "\n",
       "    .dataframe tbody tr th {\n",
       "        vertical-align: top;\n",
       "    }\n",
       "\n",
       "    .dataframe thead th {\n",
       "        text-align: right;\n",
       "    }\n",
       "</style>\n",
       "<table border=\"1\" class=\"dataframe\">\n",
       "  <thead>\n",
       "    <tr style=\"text-align: right;\">\n",
       "      <th></th>\n",
       "      <th>Naam</th>\n",
       "      <th>Woonplaats</th>\n",
       "      <th>Afstand</th>\n",
       "    </tr>\n",
       "  </thead>\n",
       "  <tbody>\n",
       "    <tr>\n",
       "      <th>3</th>\n",
       "      <td>Charlotte</td>\n",
       "      <td>Zwolle</td>\n",
       "      <td>2.9</td>\n",
       "    </tr>\n",
       "    <tr>\n",
       "      <th>4</th>\n",
       "      <td>Henk</td>\n",
       "      <td>Berkenwoude</td>\n",
       "      <td>123.0</td>\n",
       "    </tr>\n",
       "  </tbody>\n",
       "</table>\n",
       "</div>"
      ],
      "text/plain": [
       "        Naam    Woonplaats   Afstand\n",
       "3  Charlotte        Zwolle       2.9\n",
       "4       Henk   Berkenwoude     123.0"
      ]
     },
     "execution_count": 61,
     "metadata": {},
     "output_type": "execute_result"
    }
   ],
   "source": [
    "df.tail(2)"
   ]
  },
  {
   "cell_type": "markdown",
   "metadata": {},
   "source": [
    "# Functions"
   ]
  },
  {
   "cell_type": "code",
   "execution_count": 67,
   "metadata": {},
   "outputs": [],
   "source": [
    "def doe_iets(naam):\n",
    "    print('Hi there!! ' + naam)"
   ]
  },
  {
   "cell_type": "code",
   "execution_count": 68,
   "metadata": {},
   "outputs": [
    {
     "name": "stdout",
     "output_type": "stream",
     "text": [
      "Hi there!! Charlotte\n"
     ]
    }
   ],
   "source": [
    "doe_iets('Charlotte')"
   ]
  },
  {
   "cell_type": "code",
   "execution_count": 79,
   "metadata": {},
   "outputs": [],
   "source": [
    "def tel_op(getal1, getal2, getal3, getal4):\n",
    "    som = getal1 + getal2 + getal3 + getal4\n",
    "    return som"
   ]
  },
  {
   "cell_type": "code",
   "execution_count": 80,
   "metadata": {},
   "outputs": [
    {
     "data": {
      "text/plain": [
       "777"
      ]
     },
     "execution_count": 80,
     "metadata": {},
     "output_type": "execute_result"
    }
   ],
   "source": [
    "tel_op(43, 645, 55, 34)"
   ]
  },
  {
   "cell_type": "markdown",
   "metadata": {},
   "source": [
    "### Variadic argument"
   ]
  },
  {
   "cell_type": "code",
   "execution_count": 83,
   "metadata": {},
   "outputs": [],
   "source": [
    "def tel_op(*getallen):\n",
    "    som = 0\n",
    "    for getal in getallen:\n",
    "        som += getal\n",
    "    return som"
   ]
  },
  {
   "cell_type": "code",
   "execution_count": 84,
   "metadata": {},
   "outputs": [
    {
     "data": {
      "text/plain": [
       "777"
      ]
     },
     "execution_count": 84,
     "metadata": {},
     "output_type": "execute_result"
    }
   ],
   "source": [
    "tel_op(43, 645, 55, 34)"
   ]
  },
  {
   "cell_type": "code",
   "execution_count": 1,
   "metadata": {},
   "outputs": [],
   "source": [
    "def booking(van, naar, aantal_volwassenen=1, aantal_kinderen=0, **kwargs):\n",
    "    print(f'Uw reis van {van} naar {naar} voor {aantal_volwassenen} volwassenen en {aantal_kinderen} kinderen is geboekt')\n",
    "    print('Extra\\'s:')\n",
    "    for k, v in kwargs.items():\n",
    "          print(f'{k.upper():20}: {v}')\n"
   ]
  },
  {
   "cell_type": "code",
   "execution_count": 2,
   "metadata": {},
   "outputs": [
    {
     "name": "stdout",
     "output_type": "stream",
     "text": [
      "Uw reis van AMS naar NY voor 2 volwassenen en 4 kinderen is geboekt\n",
      "Extra's:\n"
     ]
    }
   ],
   "source": [
    "booking('AMS', 'NY', 2, 4)"
   ]
  },
  {
   "cell_type": "code",
   "execution_count": 3,
   "metadata": {},
   "outputs": [
    {
     "name": "stdout",
     "output_type": "stream",
     "text": [
      "Uw reis van AMS naar NY voor 1 volwassenen en 0 kinderen is geboekt\n",
      "Extra's:\n"
     ]
    }
   ],
   "source": [
    "booking('AMS', 'NY')"
   ]
  },
  {
   "cell_type": "code",
   "execution_count": 4,
   "metadata": {},
   "outputs": [
    {
     "name": "stdout",
     "output_type": "stream",
     "text": [
      "Uw reis van AMS naar NY voor 1 volwassenen en 4 kinderen is geboekt\n",
      "Extra's:\n"
     ]
    }
   ],
   "source": [
    "booking(van = 'AMS', \n",
    "        naar = 'NY', \n",
    "        aantal_kinderen = 4)"
   ]
  },
  {
   "cell_type": "code",
   "execution_count": 5,
   "metadata": {},
   "outputs": [
    {
     "name": "stdout",
     "output_type": "stream",
     "text": [
      "Uw reis van AMS naar NY voor 1 volwassenen en 4 kinderen is geboekt\n",
      "Extra's:\n",
      "EXTRA_BEENRUIMTE    : True\n",
      "DIEET               : Vegatarisch\n"
     ]
    }
   ],
   "source": [
    "booking(van = 'AMS', \n",
    "        naar = 'NY', \n",
    "        aantal_kinderen = 4,\n",
    "        extra_beenruimte = True,\n",
    "        dieet = 'Vegatarisch')"
   ]
  },
  {
   "cell_type": "markdown",
   "metadata": {},
   "source": [
    "# Object Oriented\n",
    "\n",
    "### Klassen\n",
    "### Objecten\n",
    "* Naam\n",
    "* Eigenschappen (attributen)\n",
    "* Gedrag (methods)"
   ]
  },
  {
   "cell_type": "code",
   "execution_count": 21,
   "metadata": {},
   "outputs": [],
   "source": [
    "class Persoon:\n",
    "    \n",
    "    __slots__ = ('naam', 'woonplaats', 'leeftijd')\n",
    "    \n",
    "    def __init__(self, naam, woonplaats, leeftijd):\n",
    "        self.naam = naam\n",
    "        self.woonplaats = woonplaats\n",
    "        self.leeftijd = leeftijd\n",
    "    \n",
    "    def vertel(self):\n",
    "        return f'Ik ben {self.naam}. Ik woon in {self.woonplaats}. En ik ben {self.leeftijd}.'\n",
    "    \n",
    "    def verhuis(self, nieuwe_woonplaats):\n",
    "        self.woonplaats = nieuwe_woonplaats\n"
   ]
  },
  {
   "cell_type": "code",
   "execution_count": 25,
   "metadata": {},
   "outputs": [],
   "source": [
    "p1 = Persoon('Peter', 'Lhee', 63)\n",
    "p2 = Persoon('Pim', 'Capelle', 46)"
   ]
  },
  {
   "cell_type": "code",
   "execution_count": 26,
   "metadata": {},
   "outputs": [
    {
     "data": {
      "text/plain": [
       "'Ik ben Peter. Ik woon in Lhee. En ik ben 63.'"
      ]
     },
     "execution_count": 26,
     "metadata": {},
     "output_type": "execute_result"
    }
   ],
   "source": [
    "p1.vertel()"
   ]
  },
  {
   "cell_type": "code",
   "execution_count": 27,
   "metadata": {},
   "outputs": [
    {
     "data": {
      "text/plain": [
       "'Ik ben Pim. Ik woon in Capelle. En ik ben 46.'"
      ]
     },
     "execution_count": 27,
     "metadata": {},
     "output_type": "execute_result"
    }
   ],
   "source": [
    "p2.vertel()"
   ]
  },
  {
   "cell_type": "code",
   "execution_count": 28,
   "metadata": {},
   "outputs": [],
   "source": [
    "p1.verhuis('Zwolle')"
   ]
  },
  {
   "cell_type": "code",
   "execution_count": 29,
   "metadata": {},
   "outputs": [
    {
     "data": {
      "text/plain": [
       "'Ik ben Peter. Ik woon in Zwolle. En ik ben 63.'"
      ]
     },
     "execution_count": 29,
     "metadata": {},
     "output_type": "execute_result"
    }
   ],
   "source": [
    "p1.vertel()"
   ]
  },
  {
   "cell_type": "markdown",
   "metadata": {},
   "source": [
    "### Class str"
   ]
  },
  {
   "cell_type": "code",
   "execution_count": 51,
   "metadata": {},
   "outputs": [],
   "source": [
    "s = str(4353453)"
   ]
  },
  {
   "cell_type": "code",
   "execution_count": 52,
   "metadata": {},
   "outputs": [
    {
     "name": "stdout",
     "output_type": "stream",
     "text": [
      "<class 'str'>\n"
     ]
    }
   ],
   "source": [
    "print(type(s))"
   ]
  },
  {
   "cell_type": "code",
   "execution_count": 53,
   "metadata": {},
   "outputs": [
    {
     "data": {
      "text/plain": [
       "'4353453'"
      ]
     },
     "execution_count": 53,
     "metadata": {},
     "output_type": "execute_result"
    }
   ],
   "source": [
    "s.upper()"
   ]
  },
  {
   "cell_type": "code",
   "execution_count": 50,
   "metadata": {},
   "outputs": [
    {
     "data": {
      "text/plain": [
       "'Dit Is Tekst'"
      ]
     },
     "execution_count": 50,
     "metadata": {},
     "output_type": "execute_result"
    }
   ],
   "source": [
    "s.title()"
   ]
  },
  {
   "cell_type": "code",
   "execution_count": 36,
   "metadata": {},
   "outputs": [
    {
     "data": {
      "text/plain": [
       "['Dit', 'is', 'tekst']"
      ]
     },
     "execution_count": 36,
     "metadata": {},
     "output_type": "execute_result"
    }
   ],
   "source": [
    "s.split()"
   ]
  },
  {
   "cell_type": "code",
   "execution_count": 37,
   "metadata": {},
   "outputs": [],
   "source": [
    "import decimal"
   ]
  },
  {
   "cell_type": "code",
   "execution_count": 38,
   "metadata": {},
   "outputs": [],
   "source": [
    "d1 = decimal.Decimal(9)"
   ]
  },
  {
   "cell_type": "code",
   "execution_count": 40,
   "metadata": {},
   "outputs": [
    {
     "name": "stdout",
     "output_type": "stream",
     "text": [
      "<class 'decimal.Decimal'>\n"
     ]
    }
   ],
   "source": [
    "print(type(d1))"
   ]
  },
  {
   "cell_type": "code",
   "execution_count": 41,
   "metadata": {},
   "outputs": [],
   "source": [
    "from datetime import date"
   ]
  },
  {
   "cell_type": "code",
   "execution_count": 42,
   "metadata": {},
   "outputs": [],
   "source": [
    "dd1 = date(2020, 12, 9)"
   ]
  },
  {
   "cell_type": "code",
   "execution_count": 43,
   "metadata": {},
   "outputs": [
    {
     "data": {
      "text/plain": [
       "datetime.date(2020, 12, 9)"
      ]
     },
     "execution_count": 43,
     "metadata": {},
     "output_type": "execute_result"
    }
   ],
   "source": [
    "dd1"
   ]
  },
  {
   "cell_type": "code",
   "execution_count": 44,
   "metadata": {},
   "outputs": [
    {
     "data": {
      "text/plain": [
       "2"
      ]
     },
     "execution_count": 44,
     "metadata": {},
     "output_type": "execute_result"
    }
   ],
   "source": [
    "dd1.weekday()"
   ]
  },
  {
   "cell_type": "code",
   "execution_count": 47,
   "metadata": {},
   "outputs": [
    {
     "data": {
      "text/plain": [
       "'2020-12-09'"
      ]
     },
     "execution_count": 47,
     "metadata": {},
     "output_type": "execute_result"
    }
   ],
   "source": [
    "dd1.strftime('%Y-%m-%d')"
   ]
  },
  {
   "cell_type": "code",
   "execution_count": 54,
   "metadata": {},
   "outputs": [],
   "source": [
    "print = 'Dit is mijn output'"
   ]
  },
  {
   "cell_type": "code",
   "execution_count": 58,
   "metadata": {},
   "outputs": [],
   "source": [
    "del print"
   ]
  },
  {
   "cell_type": "code",
   "execution_count": 59,
   "metadata": {},
   "outputs": [
    {
     "name": "stdout",
     "output_type": "stream",
     "text": [
      "Ik ben Peter. Ik woon in Zwolle. En ik ben 63.\n"
     ]
    }
   ],
   "source": [
    "print(p1.vertel())"
   ]
  },
  {
   "cell_type": "code",
   "execution_count": 73,
   "metadata": {},
   "outputs": [
    {
     "data": {
      "text/html": [
       "<div>\n",
       "<style scoped>\n",
       "    .dataframe tbody tr th:only-of-type {\n",
       "        vertical-align: middle;\n",
       "    }\n",
       "\n",
       "    .dataframe tbody tr th {\n",
       "        vertical-align: top;\n",
       "    }\n",
       "\n",
       "    .dataframe thead th {\n",
       "        text-align: right;\n",
       "    }\n",
       "</style>\n",
       "<table border=\"1\" class=\"dataframe\">\n",
       "  <thead>\n",
       "    <tr style=\"text-align: right;\">\n",
       "      <th></th>\n",
       "      <th>Gemeente</th>\n",
       "      <th>CBS-code[1]</th>\n",
       "      <th>Provincie</th>\n",
       "      <th>Inwoneraantal[2]</th>\n",
       "      <th>Inwoners per km²land-oppervlakte [2]</th>\n",
       "      <th>Land-oppervlakte(km²)[2]</th>\n",
       "      <th>Kaart</th>\n",
       "      <th>Gemiddeld huishoudinkomen (×€1000)(excl. studenten)(CBS/2017)</th>\n",
       "    </tr>\n",
       "  </thead>\n",
       "  <tbody>\n",
       "    <tr>\n",
       "      <th>0</th>\n",
       "      <td>Aa en Hunze</td>\n",
       "      <td>1680</td>\n",
       "      <td>Drenthe</td>\n",
       "      <td>NaN</td>\n",
       "      <td>NaN</td>\n",
       "      <td>NaN</td>\n",
       "      <td>NaN</td>\n",
       "      <td>307.0</td>\n",
       "    </tr>\n",
       "    <tr>\n",
       "      <th>1</th>\n",
       "      <td>Aalsmeer</td>\n",
       "      <td>358</td>\n",
       "      <td>Noord-Holland</td>\n",
       "      <td>NaN</td>\n",
       "      <td>NaN</td>\n",
       "      <td>NaN</td>\n",
       "      <td>NaN</td>\n",
       "      <td>340.0</td>\n",
       "    </tr>\n",
       "    <tr>\n",
       "      <th>2</th>\n",
       "      <td>Aalten</td>\n",
       "      <td>197</td>\n",
       "      <td>Gelderland</td>\n",
       "      <td>NaN</td>\n",
       "      <td>NaN</td>\n",
       "      <td>NaN</td>\n",
       "      <td>NaN</td>\n",
       "      <td>278.0</td>\n",
       "    </tr>\n",
       "    <tr>\n",
       "      <th>3</th>\n",
       "      <td>Achtkarspelen</td>\n",
       "      <td>59</td>\n",
       "      <td>Friesland</td>\n",
       "      <td>NaN</td>\n",
       "      <td>NaN</td>\n",
       "      <td>NaN</td>\n",
       "      <td>NaN</td>\n",
       "      <td>NaN</td>\n",
       "    </tr>\n",
       "    <tr>\n",
       "      <th>4</th>\n",
       "      <td>Alblasserdam</td>\n",
       "      <td>482</td>\n",
       "      <td>Zuid-Holland</td>\n",
       "      <td>NaN</td>\n",
       "      <td>NaN</td>\n",
       "      <td>NaN</td>\n",
       "      <td>NaN</td>\n",
       "      <td>288.0</td>\n",
       "    </tr>\n",
       "    <tr>\n",
       "      <th>...</th>\n",
       "      <td>...</td>\n",
       "      <td>...</td>\n",
       "      <td>...</td>\n",
       "      <td>...</td>\n",
       "      <td>...</td>\n",
       "      <td>...</td>\n",
       "      <td>...</td>\n",
       "      <td>...</td>\n",
       "    </tr>\n",
       "    <tr>\n",
       "      <th>350</th>\n",
       "      <td>Zundert</td>\n",
       "      <td>879</td>\n",
       "      <td>Noord-Brabant</td>\n",
       "      <td>NaN</td>\n",
       "      <td>NaN</td>\n",
       "      <td>NaN</td>\n",
       "      <td>NaN</td>\n",
       "      <td>NaN</td>\n",
       "    </tr>\n",
       "    <tr>\n",
       "      <th>351</th>\n",
       "      <td>Zutphen</td>\n",
       "      <td>301</td>\n",
       "      <td>Gelderland</td>\n",
       "      <td>NaN</td>\n",
       "      <td>NaN</td>\n",
       "      <td>NaN</td>\n",
       "      <td>NaN</td>\n",
       "      <td>NaN</td>\n",
       "    </tr>\n",
       "    <tr>\n",
       "      <th>352</th>\n",
       "      <td>Zwartewaterland</td>\n",
       "      <td>1896</td>\n",
       "      <td>Overijssel</td>\n",
       "      <td>NaN</td>\n",
       "      <td>NaN</td>\n",
       "      <td>NaN</td>\n",
       "      <td>NaN</td>\n",
       "      <td>NaN</td>\n",
       "    </tr>\n",
       "    <tr>\n",
       "      <th>353</th>\n",
       "      <td>Zwijndrecht</td>\n",
       "      <td>642</td>\n",
       "      <td>Zuid-Holland</td>\n",
       "      <td>NaN</td>\n",
       "      <td>NaN</td>\n",
       "      <td>NaN</td>\n",
       "      <td>NaN</td>\n",
       "      <td>NaN</td>\n",
       "    </tr>\n",
       "    <tr>\n",
       "      <th>354</th>\n",
       "      <td>Zwolle</td>\n",
       "      <td>193</td>\n",
       "      <td>Overijssel</td>\n",
       "      <td>NaN</td>\n",
       "      <td>NaN</td>\n",
       "      <td>NaN</td>\n",
       "      <td>NaN</td>\n",
       "      <td>NaN</td>\n",
       "    </tr>\n",
       "  </tbody>\n",
       "</table>\n",
       "<p>355 rows × 8 columns</p>\n",
       "</div>"
      ],
      "text/plain": [
       "            Gemeente  CBS-code[1]      Provincie  Inwoneraantal[2]  \\\n",
       "0        Aa en Hunze         1680        Drenthe               NaN   \n",
       "1           Aalsmeer          358  Noord-Holland               NaN   \n",
       "2             Aalten          197     Gelderland               NaN   \n",
       "3      Achtkarspelen           59      Friesland               NaN   \n",
       "4       Alblasserdam          482   Zuid-Holland               NaN   \n",
       "..               ...          ...            ...               ...   \n",
       "350          Zundert          879  Noord-Brabant               NaN   \n",
       "351          Zutphen          301     Gelderland               NaN   \n",
       "352  Zwartewaterland         1896     Overijssel               NaN   \n",
       "353      Zwijndrecht          642   Zuid-Holland               NaN   \n",
       "354           Zwolle          193     Overijssel               NaN   \n",
       "\n",
       "     Inwoners per km²land-oppervlakte [2]  Land-oppervlakte(km²)[2]  Kaart  \\\n",
       "0                                     NaN                       NaN    NaN   \n",
       "1                                     NaN                       NaN    NaN   \n",
       "2                                     NaN                       NaN    NaN   \n",
       "3                                     NaN                       NaN    NaN   \n",
       "4                                     NaN                       NaN    NaN   \n",
       "..                                    ...                       ...    ...   \n",
       "350                                   NaN                       NaN    NaN   \n",
       "351                                   NaN                       NaN    NaN   \n",
       "352                                   NaN                       NaN    NaN   \n",
       "353                                   NaN                       NaN    NaN   \n",
       "354                                   NaN                       NaN    NaN   \n",
       "\n",
       "     Gemiddeld huishoudinkomen (×€1000)(excl. studenten)(CBS/2017)  \n",
       "0                                                307.0              \n",
       "1                                                340.0              \n",
       "2                                                278.0              \n",
       "3                                                  NaN              \n",
       "4                                                288.0              \n",
       "..                                                 ...              \n",
       "350                                                NaN              \n",
       "351                                                NaN              \n",
       "352                                                NaN              \n",
       "353                                                NaN              \n",
       "354                                                NaN              \n",
       "\n",
       "[355 rows x 8 columns]"
      ]
     },
     "execution_count": 73,
     "metadata": {},
     "output_type": "execute_result"
    }
   ],
   "source": [
    "url = 'https://nl.wikipedia.org/wiki/Lijst_van_Nederlandse_gemeenten'\n",
    "\n",
    "pd.read_html(url, thousands=',', decimal='.')[0]"
   ]
  },
  {
   "cell_type": "code",
   "execution_count": null,
   "metadata": {},
   "outputs": [],
   "source": []
  }
 ],
 "metadata": {
  "kernelspec": {
   "display_name": "Python 3 (ipykernel)",
   "language": "python",
   "name": "python3"
  },
  "language_info": {
   "codemirror_mode": {
    "name": "ipython",
    "version": 3
   },
   "file_extension": ".py",
   "mimetype": "text/x-python",
   "name": "python",
   "nbconvert_exporter": "python",
   "pygments_lexer": "ipython3",
   "version": "3.9.10"
  }
 },
 "nbformat": 4,
 "nbformat_minor": 4
}
