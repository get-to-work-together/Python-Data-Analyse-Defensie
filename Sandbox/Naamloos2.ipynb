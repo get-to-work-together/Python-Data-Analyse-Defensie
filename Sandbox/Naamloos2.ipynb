{
 "cells": [
  {
   "cell_type": "markdown",
   "id": "f6c2ca4f",
   "metadata": {},
   "source": [
    "# Dit is tekst\n",
    "\n",
    "# Dit is header 1\n",
    "\n",
    "## Dit is header 2\n",
    "\n",
    "### Dit is header 3\n",
    "\n",
    "#### Dit is header 4\n",
    "\n",
    "##### Dit is header 5\n",
    "\n",
    "* A\n",
    "* B\n",
    "* C\n",
    "\n",
    "Kijk verder op https://jakevdp.github.io/PythonDataScienceHandbook/05.02-introducing-scikit-learn.html"
   ]
  },
  {
   "cell_type": "code",
   "execution_count": 12,
   "id": "e7aadd63",
   "metadata": {},
   "outputs": [
    {
     "name": "stdout",
     "output_type": "stream",
     "text": [
      "Hello world!\n"
     ]
    }
   ],
   "source": [
    "print('Hello world!')"
   ]
  },
  {
   "cell_type": "code",
   "execution_count": 13,
   "id": "cec602cc",
   "metadata": {},
   "outputs": [
    {
     "name": "stdout",
     "output_type": "stream",
     "text": [
      "1793\n"
     ]
    }
   ],
   "source": [
    "a = 1009\n",
    "b = 784\n",
    "\n",
    "print(a + b)"
   ]
  },
  {
   "cell_type": "code",
   "execution_count": 14,
   "id": "ba368273",
   "metadata": {},
   "outputs": [
    {
     "name": "stdout",
     "output_type": "stream",
     "text": [
      "28.3\n"
     ]
    }
   ],
   "source": [
    "import math\n",
    "\n",
    "r = 3\n",
    "\n",
    "opp = math.pi * r ** 2\n",
    "\n",
    "print(round(opp, 1))"
   ]
  },
  {
   "cell_type": "code",
   "execution_count": 15,
   "id": "70448846",
   "metadata": {},
   "outputs": [
    {
     "name": "stdout",
     "output_type": "stream",
     "text": [
      "1009\n"
     ]
    }
   ],
   "source": [
    "print(a)"
   ]
  },
  {
   "cell_type": "code",
   "execution_count": 26,
   "id": "3ece725e",
   "metadata": {},
   "outputs": [
    {
     "name": "stdout",
     "output_type": "stream",
     "text": [
      "1009\n"
     ]
    },
    {
     "data": {
      "text/plain": [
       "1009"
      ]
     },
     "execution_count": 26,
     "metadata": {},
     "output_type": "execute_result"
    }
   ],
   "source": [
    "print(a)\n",
    "a"
   ]
  },
  {
   "cell_type": "code",
   "execution_count": 20,
   "id": "3bfafdb6",
   "metadata": {
    "collapsed": true
   },
   "outputs": [
    {
     "name": "stdout",
     "output_type": "stream",
     "text": [
      "\u001b[31mCBS Jan-Dirk.ipynb\u001b[m\u001b[m\r\n",
      "\u001b[31mCBS.ipynb\u001b[m\u001b[m\r\n",
      "\u001b[31mCBS7.py\u001b[m\u001b[m\r\n",
      "CSV importeren.ipynb\r\n",
      "Classification Penguins.ipynb\r\n",
      "Classification Penguins.ipynb.zip\r\n",
      "\u001b[31mCovid19.ipynb\u001b[m\u001b[m\r\n",
      "Dash.ipynb\r\n",
      "\u001b[31mDemo Dataframe.ipynb\u001b[m\u001b[m\r\n",
      "Demo Geopandas.ipynb\r\n",
      "Demo MatPlotLib2.ipynb\r\n",
      "\u001b[31mDemo Matplotlib.ipynb\u001b[m\u001b[m\r\n",
      "\u001b[31mDemo Numpy Array.ipynb\u001b[m\u001b[m\r\n",
      "Demo Numpy.ipynb\r\n",
      "Demo Pandas 1.ipynb\r\n",
      "\u001b[31mDemo Pandas.ipynb\u001b[m\u001b[m\r\n",
      "\u001b[31mDemo Standard Library.ipynb\u001b[m\u001b[m\r\n",
      "Demo2 Pandas.ipynb\r\n",
      "Eerste demo-Copy1.ipynb\r\n",
      "\u001b[31mEerste demo.ipynb\u001b[m\u001b[m\r\n",
      "Encoding.ipynb\r\n",
      "GeoPandas.ipynb\r\n",
      "\u001b[31mIPython.ipynb\u001b[m\u001b[m\r\n",
      "Intro Numpy - Groep 29.ipynb\r\n",
      "Intro Numpy.ipynb\r\n",
      "Jupyter notebooks les 2.zip\r\n",
      "KNMI.ipynb\r\n",
      "Lineaire regressie.ipynb\r\n",
      "\u001b[31mLogaritmisch Regressie.ipynb\u001b[m\u001b[m\r\n",
      "Mijn eerste Jupyter Notebook.ipynb\r\n",
      "\u001b[31mMultiple Regression.ipynb\u001b[m\u001b[m\r\n",
      "Naamloos.ipynb\r\n",
      "Naamloos1.ipynb\r\n",
      "Naamloos2.ipynb\r\n",
      "\u001b[31mNumpy Random.ipynb\u001b[m\u001b[m\r\n",
      "\u001b[31mNumpy.ipynb\u001b[m\u001b[m\r\n",
      "Opdracht 3.1 - Pandas.ipynb\r\n",
      "Opdracht 3.2.ipynb\r\n",
      "Opdracht 5.1.ipynb\r\n",
      "Overgangen.ipynb\r\n",
      "\u001b[31mPandas DataFrame.ipynb\u001b[m\u001b[m\r\n",
      "Pandas Demo 2.ipynb\r\n",
      "\u001b[31mPandas Plot.ipynb\u001b[m\u001b[m\r\n",
      "Plotly.ipynb\r\n",
      "Python Basic.ipynb\r\n",
      "Python Basic.ipynb.zip\r\n",
      "\u001b[31mPython Basics.ipynb\u001b[m\u001b[m\r\n",
      "Random Walk.ipynb\r\n",
      "Read from internet.ipynb\r\n",
      "Read_CSV.ipynb\r\n",
      "Reading ca-500.ipynb\r\n",
      "\u001b[31mRegressie.ipynb\u001b[m\u001b[m\r\n",
      "\u001b[31mReshaping a dataframe.ipynb\u001b[m\u001b[m\r\n",
      "Seaborn from Python Data Science Handbook.ipynb\r\n",
      "\u001b[31mSeaborn.ipynb\u001b[m\u001b[m\r\n",
      "\u001b[31mUntitled.ipynb\u001b[m\u001b[m\r\n",
      "Untitled1.ipynb\r\n",
      "Untitled2.ipynb\r\n",
      "Untitled3.ipynb\r\n",
      "Untitled3.py\r\n",
      "Untitled4.ipynb\r\n",
      "Untitled5.ipynb\r\n",
      "Web scaping to dataframe.ipynb\r\n",
      "ca-500.csv\r\n",
      "\u001b[31mcovid19_worldwide.csv\u001b[m\u001b[m\r\n",
      "data.csv\r\n",
      "data.txt\r\n",
      "demo markdown.ipynb\r\n",
      "demo pandas 2021.ipynb\r\n",
      "demo range.py\r\n",
      "demo read_sql.ipynb\r\n",
      "demo_matplotlib.ipynb\r\n",
      "dummy_data.csv\r\n",
      "first_figure.html\r\n",
      "harlemmermeer.ipynb\r\n",
      "landen.csv\r\n",
      "leeftijden.csv\r\n",
      "read_ca.py\r\n",
      "\u001b[31mread_html.ipynb\u001b[m\u001b[m\r\n",
      "\u001b[31mreading ca-500.csv.ipynb\u001b[m\u001b[m\r\n",
      "result.txt\r\n",
      "selection.csv\r\n",
      "\u001b[31mx09.txt\u001b[m\u001b[m\r\n",
      "\u001b[31mx09_prepared.txt\u001b[m\u001b[m\r\n"
     ]
    }
   ],
   "source": [
    "!ls"
   ]
  },
  {
   "cell_type": "code",
   "execution_count": 21,
   "id": "f9a96d91",
   "metadata": {},
   "outputs": [
    {
     "name": "stdout",
     "output_type": "stream",
     "text": [
      "198 ns ± 1.65 ns per loop (mean ± std. dev. of 7 runs, 1,000,000 loops each)\n"
     ]
    }
   ],
   "source": [
    "%timeit a ** 2"
   ]
  },
  {
   "cell_type": "code",
   "execution_count": 22,
   "id": "233f70b0",
   "metadata": {},
   "outputs": [
    {
     "name": "stdout",
     "output_type": "stream",
     "text": [
      "132 ns ± 0.678 ns per loop (mean ± std. dev. of 7 runs, 10,000,000 loops each)\n"
     ]
    }
   ],
   "source": [
    "%timeit math.pow(a, 2)"
   ]
  },
  {
   "cell_type": "code",
   "execution_count": null,
   "id": "ab352386",
   "metadata": {},
   "outputs": [],
   "source": []
  }
 ],
 "metadata": {
  "kernelspec": {
   "display_name": "Python 3 (ipykernel)",
   "language": "python",
   "name": "python3"
  },
  "language_info": {
   "codemirror_mode": {
    "name": "ipython",
    "version": 3
   },
   "file_extension": ".py",
   "mimetype": "text/x-python",
   "name": "python",
   "nbconvert_exporter": "python",
   "pygments_lexer": "ipython3",
   "version": "3.9.12"
  }
 },
 "nbformat": 4,
 "nbformat_minor": 5
}
