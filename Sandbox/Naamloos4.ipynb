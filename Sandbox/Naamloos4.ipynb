{
 "cells": [
  {
   "cell_type": "markdown",
   "id": "645f1880",
   "metadata": {},
   "source": [
    "# Header 1\n",
    "## Header 2\n",
    "### Header 2\n",
    "#### Header 2\n",
    "##### Header 2\n",
    "\n",
    "gewoon tekst\n",
    "\n",
    "* A\n",
    "* B\n",
    "* C\n",
    "\n",
    "https://docs.python.org/3/"
   ]
  },
  {
   "cell_type": "code",
   "execution_count": 20,
   "id": "269d15f1",
   "metadata": {},
   "outputs": [
    {
     "name": "stdout",
     "output_type": "stream",
     "text": [
      "Hello notebook\n"
     ]
    }
   ],
   "source": [
    "print('Hello notebook')"
   ]
  },
  {
   "cell_type": "code",
   "execution_count": 18,
   "id": "1a7acabe",
   "metadata": {},
   "outputs": [
    {
     "data": {
      "text/plain": [
       "88645"
      ]
     },
     "execution_count": 18,
     "metadata": {},
     "output_type": "execute_result"
    }
   ],
   "source": [
    "87658 + 987"
   ]
  },
  {
   "cell_type": "code",
   "execution_count": 19,
   "id": "2b0c67d2",
   "metadata": {},
   "outputs": [
    {
     "name": "stdout",
     "output_type": "stream",
     "text": [
      "1041\n"
     ]
    }
   ],
   "source": [
    "print(987 + 54)"
   ]
  },
  {
   "cell_type": "code",
   "execution_count": 21,
   "id": "06fb1861",
   "metadata": {},
   "outputs": [
    {
     "name": "stdout",
     "output_type": "stream",
     "text": [
      "4.09 ns ± 0.0386 ns per loop (mean ± std. dev. of 7 runs, 100000000 loops each)\n"
     ]
    }
   ],
   "source": [
    "%timeit 'a' + 'b'"
   ]
  },
  {
   "cell_type": "code",
   "execution_count": 5,
   "id": "6ac9e715",
   "metadata": {},
   "outputs": [
    {
     "name": "stdout",
     "output_type": "stream",
     "text": [
      "4.08 ns ± 0.0335 ns per loop (mean ± std. dev. of 7 runs, 100000000 loops each)\n"
     ]
    }
   ],
   "source": [
    "%timeit 'a' + 'b'"
   ]
  },
  {
   "cell_type": "code",
   "execution_count": 13,
   "id": "dc238ab5",
   "metadata": {},
   "outputs": [
    {
     "data": {
      "text/plain": [
       "'get_ipython().run_line_magic(\\'timeit\\', \"\\'a\\' + \\'b\\'\")'"
      ]
     },
     "execution_count": 13,
     "metadata": {},
     "output_type": "execute_result"
    }
   ],
   "source": [
    "In[4]"
   ]
  },
  {
   "cell_type": "code",
   "execution_count": 14,
   "id": "98461508",
   "metadata": {},
   "outputs": [
    {
     "name": "stdout",
     "output_type": "stream",
     "text": [
      "print('Hello notebook')\n",
      "87658 + 987\n",
      "print(987 + 54)\n",
      "%timeit 'a' + 'b'\n",
      "%timeit 'a' + 'b'\n",
      "_4\n",
      "Out4\n",
      "Out2\n",
      "__Out2\n",
      "_Out2\n",
      "Out[2]\n",
      "In[2]\n",
      "In[4]\n",
      "%history\n"
     ]
    }
   ],
   "source": [
    "%history"
   ]
  },
  {
   "cell_type": "code",
   "execution_count": 15,
   "id": "a04b0afc",
   "metadata": {},
   "outputs": [
    {
     "name": "stdout",
     "output_type": "stream",
     "text": [
      "\u001b[31mCBS Jan-Dirk.ipynb\u001b[m\u001b[m\r\n",
      "\u001b[31mCBS.ipynb\u001b[m\u001b[m\r\n",
      "\u001b[31mCBS7.py\u001b[m\u001b[m\r\n",
      "CSV importeren.ipynb\r\n",
      "Classification Penguins.ipynb\r\n",
      "Classification Penguins.ipynb.zip\r\n",
      "\u001b[31mCovid19.ipynb\u001b[m\u001b[m\r\n",
      "Dash.ipynb\r\n",
      "\u001b[31mDemo Dataframe.ipynb\u001b[m\u001b[m\r\n",
      "Demo Geopandas.ipynb\r\n",
      "Demo MatPlotLib2.ipynb\r\n",
      "\u001b[31mDemo Matplotlib.ipynb\u001b[m\u001b[m\r\n",
      "\u001b[31mDemo Numpy Array.ipynb\u001b[m\u001b[m\r\n",
      "Demo Numpy.ipynb\r\n",
      "Demo Numpy2.ipynb\r\n",
      "Demo Pandas 1.ipynb\r\n",
      "\u001b[31mDemo Pandas.ipynb\u001b[m\u001b[m\r\n",
      "Demo Pandas2.ipynb\r\n",
      "\u001b[31mDemo Standard Library.ipynb\u001b[m\u001b[m\r\n",
      "Demo2 Pandas.ipynb\r\n",
      "Eerste demo-Copy1.ipynb\r\n",
      "\u001b[31mEerste demo.ipynb\u001b[m\u001b[m\r\n",
      "Encoding.ipynb\r\n",
      "GeoPandas.ipynb\r\n",
      "\u001b[31mIPython.ipynb\u001b[m\u001b[m\r\n",
      "Intro Numpy - Groep 29.ipynb\r\n",
      "Intro Numpy.ipynb\r\n",
      "Jupyter notebooks les 2.zip\r\n",
      "KNMI.ipynb\r\n",
      "Lineaire regressie.ipynb\r\n",
      "Linear Regression.ipynb\r\n",
      "\u001b[31mLogaritmisch Regressie.ipynb\u001b[m\u001b[m\r\n",
      "Mijn eerste Jupyter Notebook.ipynb\r\n",
      "\u001b[31mMultiple Regression.ipynb\u001b[m\u001b[m\r\n",
      "Naamloos.ipynb\r\n",
      "Naamloos1.ipynb\r\n",
      "Naamloos2.ipynb\r\n",
      "Naamloos3.ipynb\r\n",
      "Naamloos4.ipynb\r\n",
      "\u001b[31mNumpy Random.ipynb\u001b[m\u001b[m\r\n",
      "\u001b[31mNumpy.ipynb\u001b[m\u001b[m\r\n",
      "Opdracht 3.1 - Pandas.ipynb\r\n",
      "Opdracht 3.2.ipynb\r\n",
      "Opdracht 5.1.ipynb\r\n",
      "Overgangen.ipynb\r\n",
      "\u001b[31mPandas DataFrame.ipynb\u001b[m\u001b[m\r\n",
      "Pandas Demo 2.ipynb\r\n",
      "\u001b[31mPandas Plot.ipynb\u001b[m\u001b[m\r\n",
      "Penguin dataset.ipynb\r\n",
      "Plotly.ipynb\r\n",
      "Python Basic.ipynb\r\n",
      "Python Basic.ipynb.zip\r\n",
      "\u001b[31mPython Basics.ipynb\u001b[m\u001b[m\r\n",
      "Random Walk.ipynb\r\n",
      "Read from internet.ipynb\r\n",
      "Read_CSV.ipynb\r\n",
      "Reading ca-500.ipynb\r\n",
      "\u001b[31mRegressie.ipynb\u001b[m\u001b[m\r\n",
      "\u001b[31mReshaping a dataframe.ipynb\u001b[m\u001b[m\r\n",
      "Seaborn from Python Data Science Handbook.ipynb\r\n",
      "\u001b[31mSeaborn.ipynb\u001b[m\u001b[m\r\n",
      "\u001b[31mUntitled.ipynb\u001b[m\u001b[m\r\n",
      "Untitled1.ipynb\r\n",
      "Untitled2.ipynb\r\n",
      "Untitled3.ipynb\r\n",
      "Untitled3.py\r\n",
      "Untitled4.ipynb\r\n",
      "Untitled5.ipynb\r\n",
      "Web scaping to dataframe.ipynb\r\n",
      "ca-500.csv\r\n",
      "\u001b[31mcovid19_worldwide.csv\u001b[m\u001b[m\r\n",
      "data.csv\r\n",
      "data.txt\r\n",
      "demo markdown.ipynb\r\n",
      "demo pandas 2021.ipynb\r\n",
      "demo range.py\r\n",
      "demo read_sql.ipynb\r\n",
      "demo_matplotlib.ipynb\r\n",
      "dummy_data.csv\r\n",
      "first_figure.html\r\n",
      "haarlemmermeer.ipynb\r\n",
      "landen.csv\r\n",
      "leeftijden.csv\r\n",
      "mpg dataset.ipynb\r\n",
      "plaatje.pdf\r\n",
      "plaatje.png\r\n",
      "plaatje2.pdf\r\n",
      "plaatje2.png\r\n",
      "read_ca.py\r\n",
      "\u001b[31mread_html.ipynb\u001b[m\u001b[m\r\n",
      "\u001b[31mreading ca-500.csv.ipynb\u001b[m\u001b[m\r\n",
      "result.txt\r\n",
      "selection.csv\r\n",
      "\u001b[31mx09.txt\u001b[m\u001b[m\r\n",
      "\u001b[31mx09_prepared.txt\u001b[m\u001b[m\r\n"
     ]
    }
   ],
   "source": [
    "!ls"
   ]
  },
  {
   "cell_type": "code",
   "execution_count": 24,
   "id": "5f33f05d",
   "metadata": {},
   "outputs": [],
   "source": [
    "aantal = 100"
   ]
  },
  {
   "cell_type": "code",
   "execution_count": 25,
   "id": "f8580976",
   "metadata": {},
   "outputs": [
    {
     "name": "stdout",
     "output_type": "stream",
     "text": [
      "101\n"
     ]
    }
   ],
   "source": [
    "print(aantal +1)"
   ]
  },
  {
   "cell_type": "code",
   "execution_count": null,
   "id": "f4b031a4",
   "metadata": {},
   "outputs": [],
   "source": []
  }
 ],
 "metadata": {
  "kernelspec": {
   "display_name": "Python 3 (ipykernel)",
   "language": "python",
   "name": "python3"
  },
  "language_info": {
   "codemirror_mode": {
    "name": "ipython",
    "version": 3
   },
   "file_extension": ".py",
   "mimetype": "text/x-python",
   "name": "python",
   "nbconvert_exporter": "python",
   "pygments_lexer": "ipython3",
   "version": "3.10.6"
  }
 },
 "nbformat": 4,
 "nbformat_minor": 5
}
