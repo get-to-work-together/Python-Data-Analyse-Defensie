{
 "cells": [
  {
   "cell_type": "code",
   "execution_count": 1,
   "id": "0eb9eade",
   "metadata": {},
   "outputs": [],
   "source": [
    "import pandas as pd"
   ]
  },
  {
   "cell_type": "code",
   "execution_count": 2,
   "id": "2260f844",
   "metadata": {},
   "outputs": [],
   "source": [
    "filename = 'result.txt'"
   ]
  },
  {
   "cell_type": "code",
   "execution_count": 3,
   "id": "c093a64f",
   "metadata": {},
   "outputs": [
    {
     "name": "stdout",
     "output_type": "stream",
     "text": [
      "result.txt\r\n"
     ]
    }
   ],
   "source": [
    "!ls result.txt"
   ]
  },
  {
   "cell_type": "code",
   "execution_count": 10,
   "id": "f8945977",
   "metadata": {},
   "outputs": [
    {
     "data": {
      "text/plain": [
       "['STN', 'YYYYMMDD', 'TG', 'TN', 'TX']"
      ]
     },
     "execution_count": 10,
     "metadata": {},
     "output_type": "execute_result"
    }
   ],
   "source": [
    "columns = 'STN,YYYYMMDD,TG,TN,TX'.split(',')\n",
    "columns"
   ]
  },
  {
   "cell_type": "code",
   "execution_count": 11,
   "id": "cc0b4bc7",
   "metadata": {},
   "outputs": [],
   "source": [
    "df = pd.read_csv(filename, comment='#', names=columns)"
   ]
  },
  {
   "cell_type": "code",
   "execution_count": 13,
   "id": "8e814467",
   "metadata": {},
   "outputs": [
    {
     "data": {
      "text/html": [
       "<div>\n",
       "<style scoped>\n",
       "    .dataframe tbody tr th:only-of-type {\n",
       "        vertical-align: middle;\n",
       "    }\n",
       "\n",
       "    .dataframe tbody tr th {\n",
       "        vertical-align: top;\n",
       "    }\n",
       "\n",
       "    .dataframe thead th {\n",
       "        text-align: right;\n",
       "    }\n",
       "</style>\n",
       "<table border=\"1\" class=\"dataframe\">\n",
       "  <thead>\n",
       "    <tr style=\"text-align: right;\">\n",
       "      <th></th>\n",
       "      <th>STN</th>\n",
       "      <th>YYYYMMDD</th>\n",
       "      <th>TG</th>\n",
       "      <th>TN</th>\n",
       "      <th>TX</th>\n",
       "    </tr>\n",
       "  </thead>\n",
       "  <tbody>\n",
       "    <tr>\n",
       "      <th>0</th>\n",
       "      <td>260</td>\n",
       "      <td>20200101</td>\n",
       "      <td>8</td>\n",
       "      <td>-2</td>\n",
       "      <td>18</td>\n",
       "    </tr>\n",
       "    <tr>\n",
       "      <th>1</th>\n",
       "      <td>260</td>\n",
       "      <td>20200102</td>\n",
       "      <td>39</td>\n",
       "      <td>13</td>\n",
       "      <td>74</td>\n",
       "    </tr>\n",
       "    <tr>\n",
       "      <th>2</th>\n",
       "      <td>260</td>\n",
       "      <td>20200103</td>\n",
       "      <td>76</td>\n",
       "      <td>43</td>\n",
       "      <td>99</td>\n",
       "    </tr>\n",
       "    <tr>\n",
       "      <th>3</th>\n",
       "      <td>260</td>\n",
       "      <td>20200104</td>\n",
       "      <td>67</td>\n",
       "      <td>40</td>\n",
       "      <td>81</td>\n",
       "    </tr>\n",
       "    <tr>\n",
       "      <th>4</th>\n",
       "      <td>260</td>\n",
       "      <td>20200105</td>\n",
       "      <td>69</td>\n",
       "      <td>59</td>\n",
       "      <td>76</td>\n",
       "    </tr>\n",
       "    <tr>\n",
       "      <th>...</th>\n",
       "      <td>...</td>\n",
       "      <td>...</td>\n",
       "      <td>...</td>\n",
       "      <td>...</td>\n",
       "      <td>...</td>\n",
       "    </tr>\n",
       "    <tr>\n",
       "      <th>727</th>\n",
       "      <td>279</td>\n",
       "      <td>20201227</td>\n",
       "      <td>44</td>\n",
       "      <td>34</td>\n",
       "      <td>53</td>\n",
       "    </tr>\n",
       "    <tr>\n",
       "      <th>728</th>\n",
       "      <td>279</td>\n",
       "      <td>20201228</td>\n",
       "      <td>35</td>\n",
       "      <td>14</td>\n",
       "      <td>58</td>\n",
       "    </tr>\n",
       "    <tr>\n",
       "      <th>729</th>\n",
       "      <td>279</td>\n",
       "      <td>20201229</td>\n",
       "      <td>32</td>\n",
       "      <td>23</td>\n",
       "      <td>42</td>\n",
       "    </tr>\n",
       "    <tr>\n",
       "      <th>730</th>\n",
       "      <td>279</td>\n",
       "      <td>20201230</td>\n",
       "      <td>31</td>\n",
       "      <td>12</td>\n",
       "      <td>58</td>\n",
       "    </tr>\n",
       "    <tr>\n",
       "      <th>731</th>\n",
       "      <td>279</td>\n",
       "      <td>20201231</td>\n",
       "      <td>19</td>\n",
       "      <td>-16</td>\n",
       "      <td>38</td>\n",
       "    </tr>\n",
       "  </tbody>\n",
       "</table>\n",
       "<p>732 rows × 5 columns</p>\n",
       "</div>"
      ],
      "text/plain": [
       "     STN  YYYYMMDD  TG  TN  TX\n",
       "0    260  20200101   8  -2  18\n",
       "1    260  20200102  39  13  74\n",
       "2    260  20200103  76  43  99\n",
       "3    260  20200104  67  40  81\n",
       "4    260  20200105  69  59  76\n",
       "..   ...       ...  ..  ..  ..\n",
       "727  279  20201227  44  34  53\n",
       "728  279  20201228  35  14  58\n",
       "729  279  20201229  32  23  42\n",
       "730  279  20201230  31  12  58\n",
       "731  279  20201231  19 -16  38\n",
       "\n",
       "[732 rows x 5 columns]"
      ]
     },
     "execution_count": 13,
     "metadata": {},
     "output_type": "execute_result"
    }
   ],
   "source": [
    "df"
   ]
  },
  {
   "cell_type": "code",
   "execution_count": null,
   "id": "b432aadd",
   "metadata": {},
   "outputs": [],
   "source": []
  }
 ],
 "metadata": {
  "kernelspec": {
   "display_name": "Python 3",
   "language": "python",
   "name": "python3"
  },
  "language_info": {
   "codemirror_mode": {
    "name": "ipython",
    "version": 3
   },
   "file_extension": ".py",
   "mimetype": "text/x-python",
   "name": "python",
   "nbconvert_exporter": "python",
   "pygments_lexer": "ipython3",
   "version": "3.8.8"
  }
 },
 "nbformat": 4,
 "nbformat_minor": 5
}
