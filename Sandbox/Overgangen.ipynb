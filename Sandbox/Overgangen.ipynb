{
 "cells": [
  {
   "cell_type": "markdown",
   "metadata": {},
   "source": [
    "### Aantal stijgende overgangen en aantal dalende overgangen"
   ]
  },
  {
   "cell_type": "code",
   "execution_count": 1,
   "metadata": {},
   "outputs": [],
   "source": [
    "import numpy as np"
   ]
  },
  {
   "cell_type": "code",
   "execution_count": 60,
   "metadata": {},
   "outputs": [
    {
     "data": {
      "text/plain": [
       "array([8, 7, 3, 3, 2, 1, 6, 5, 9, 5, 6, 2, 6, 7, 8, 8, 1, 8, 6, 5, 1, 1,\n",
       "       4, 2, 8, 6, 9, 6, 2, 6, 6])"
      ]
     },
     "execution_count": 60,
     "metadata": {},
     "output_type": "execute_result"
    }
   ],
   "source": [
    "data = np.random.randint(1, 10, 31)\n",
    "data"
   ]
  },
  {
   "cell_type": "code",
   "execution_count": 61,
   "metadata": {},
   "outputs": [],
   "source": [
    "d0 = data[:-1]\n",
    "d1 = data[1:]"
   ]
  },
  {
   "cell_type": "code",
   "execution_count": 62,
   "metadata": {},
   "outputs": [
    {
     "data": {
      "text/plain": [
       "array([8, 7, 3, 3, 2, 1, 6, 5, 9, 5, 6, 2, 6, 7, 8, 8, 1, 8, 6, 5, 1, 1,\n",
       "       4, 2, 8, 6, 9, 6, 2, 6])"
      ]
     },
     "execution_count": 62,
     "metadata": {},
     "output_type": "execute_result"
    }
   ],
   "source": [
    "d0"
   ]
  },
  {
   "cell_type": "code",
   "execution_count": 63,
   "metadata": {},
   "outputs": [
    {
     "data": {
      "text/plain": [
       "array([7, 3, 3, 2, 1, 6, 5, 9, 5, 6, 2, 6, 7, 8, 8, 1, 8, 6, 5, 1, 1, 4,\n",
       "       2, 8, 6, 9, 6, 2, 6, 6])"
      ]
     },
     "execution_count": 63,
     "metadata": {},
     "output_type": "execute_result"
    }
   ],
   "source": [
    "d1"
   ]
  },
  {
   "cell_type": "code",
   "execution_count": 64,
   "metadata": {},
   "outputs": [],
   "source": [
    "stijgend = d1 > d0\n",
    "gelijk = d1 == d0\n",
    "dalend = d1 < d0"
   ]
  },
  {
   "cell_type": "code",
   "execution_count": 65,
   "metadata": {},
   "outputs": [],
   "source": [
    "aantal_stijgend = np.sum(stijgend)\n",
    "aantal_gelijk = np.sum(gelijk)\n",
    "aantal_dalend = np.sum(dalend)"
   ]
  },
  {
   "cell_type": "code",
   "execution_count": 67,
   "metadata": {},
   "outputs": [
    {
     "name": "stdout",
     "output_type": "stream",
     "text": [
      "totaal aantal overgangen: 30\n",
      "aantal stijgend: 11\n",
      "aantal gelijk: 4\n",
      "aantal dalend: 15\n"
     ]
    }
   ],
   "source": [
    "print(f'totaal aantal overgangen: {len(data)-1}')\n",
    "print(f'aantal stijgend: {aantal_stijgend}')\n",
    "print(f'aantal gelijk: {aantal_gelijk}')\n",
    "print(f'aantal dalend: {aantal_dalend}')"
   ]
  },
  {
   "cell_type": "code",
   "execution_count": null,
   "metadata": {},
   "outputs": [],
   "source": []
  }
 ],
 "metadata": {
  "kernelspec": {
   "display_name": "Python 3",
   "language": "python",
   "name": "python3"
  },
  "language_info": {
   "codemirror_mode": {
    "name": "ipython",
    "version": 3
   },
   "file_extension": ".py",
   "mimetype": "text/x-python",
   "name": "python",
   "nbconvert_exporter": "python",
   "pygments_lexer": "ipython3",
   "version": "3.8.3"
  }
 },
 "nbformat": 4,
 "nbformat_minor": 4
}
