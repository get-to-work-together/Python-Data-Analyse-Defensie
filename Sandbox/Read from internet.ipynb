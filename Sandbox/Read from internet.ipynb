{
 "cells": [
  {
   "cell_type": "code",
   "execution_count": 16,
   "metadata": {},
   "outputs": [],
   "source": [
    "import pandas as pd"
   ]
  },
  {
   "cell_type": "code",
   "execution_count": 17,
   "metadata": {},
   "outputs": [
    {
     "data": {
      "text/html": [
       "<div>\n",
       "<style scoped>\n",
       "    .dataframe tbody tr th:only-of-type {\n",
       "        vertical-align: middle;\n",
       "    }\n",
       "\n",
       "    .dataframe tbody tr th {\n",
       "        vertical-align: top;\n",
       "    }\n",
       "\n",
       "    .dataframe thead th {\n",
       "        text-align: right;\n",
       "    }\n",
       "</style>\n",
       "<table border=\"1\" class=\"dataframe\">\n",
       "  <thead>\n",
       "    <tr style=\"text-align: right;\">\n",
       "      <th></th>\n",
       "      <th>Gemeente</th>\n",
       "      <th>Provincie</th>\n",
       "    </tr>\n",
       "  </thead>\n",
       "  <tbody>\n",
       "    <tr>\n",
       "      <th>0</th>\n",
       "      <td>Aa en Hunze</td>\n",
       "      <td>Drenthe</td>\n",
       "    </tr>\n",
       "    <tr>\n",
       "      <th>1</th>\n",
       "      <td>Aalsmeer</td>\n",
       "      <td>Noord-Holland</td>\n",
       "    </tr>\n",
       "    <tr>\n",
       "      <th>2</th>\n",
       "      <td>Aalten</td>\n",
       "      <td>Gelderland</td>\n",
       "    </tr>\n",
       "    <tr>\n",
       "      <th>3</th>\n",
       "      <td>Achtkarspelen</td>\n",
       "      <td>Friesland</td>\n",
       "    </tr>\n",
       "    <tr>\n",
       "      <th>4</th>\n",
       "      <td>Alblasserdam</td>\n",
       "      <td>Zuid-Holland</td>\n",
       "    </tr>\n",
       "    <tr>\n",
       "      <th>...</th>\n",
       "      <td>...</td>\n",
       "      <td>...</td>\n",
       "    </tr>\n",
       "    <tr>\n",
       "      <th>350</th>\n",
       "      <td>Zundert</td>\n",
       "      <td>Noord-Brabant</td>\n",
       "    </tr>\n",
       "    <tr>\n",
       "      <th>351</th>\n",
       "      <td>Zutphen</td>\n",
       "      <td>Gelderland</td>\n",
       "    </tr>\n",
       "    <tr>\n",
       "      <th>352</th>\n",
       "      <td>Zwartewaterland</td>\n",
       "      <td>Overijssel</td>\n",
       "    </tr>\n",
       "    <tr>\n",
       "      <th>353</th>\n",
       "      <td>Zwijndrecht</td>\n",
       "      <td>Zuid-Holland</td>\n",
       "    </tr>\n",
       "    <tr>\n",
       "      <th>354</th>\n",
       "      <td>Zwolle</td>\n",
       "      <td>Overijssel</td>\n",
       "    </tr>\n",
       "  </tbody>\n",
       "</table>\n",
       "<p>355 rows × 2 columns</p>\n",
       "</div>"
      ],
      "text/plain": [
       "            Gemeente      Provincie\n",
       "0        Aa en Hunze        Drenthe\n",
       "1           Aalsmeer  Noord-Holland\n",
       "2             Aalten     Gelderland\n",
       "3      Achtkarspelen      Friesland\n",
       "4       Alblasserdam   Zuid-Holland\n",
       "..               ...            ...\n",
       "350          Zundert  Noord-Brabant\n",
       "351          Zutphen     Gelderland\n",
       "352  Zwartewaterland     Overijssel\n",
       "353      Zwijndrecht   Zuid-Holland\n",
       "354           Zwolle     Overijssel\n",
       "\n",
       "[355 rows x 2 columns]"
      ]
     },
     "execution_count": 17,
     "metadata": {},
     "output_type": "execute_result"
    }
   ],
   "source": [
    "url = 'https://nl.wikipedia.org/wiki/Lijst_van_Nederlandse_gemeenten'\n",
    "\n",
    "list_of_df = pd.read_html(url)\n",
    "df = list_of_df[0]\n",
    "df = df[['Gemeente', 'Provincie']]\n",
    "df"
   ]
  },
  {
   "cell_type": "code",
   "execution_count": 23,
   "metadata": {},
   "outputs": [
    {
     "data": {
      "text/plain": [
       "{'Drenthe',\n",
       " 'Flevoland',\n",
       " 'Friesland',\n",
       " 'Gelderland',\n",
       " 'Groningen',\n",
       " 'Limburg',\n",
       " 'Noord-Brabant',\n",
       " 'Noord-Holland',\n",
       " 'Overijssel',\n",
       " 'Utrecht',\n",
       " 'Zeeland',\n",
       " 'Zuid-Holland'}"
      ]
     },
     "execution_count": 23,
     "metadata": {},
     "output_type": "execute_result"
    }
   ],
   "source": [
    "set(df['Provincie'].unique())"
   ]
  },
  {
   "cell_type": "code",
   "execution_count": 29,
   "metadata": {},
   "outputs": [
    {
     "name": "stdout",
     "output_type": "stream",
     "text": [
      "55.8 µs ± 637 ns per loop (mean ± std. dev. of 7 runs, 10000 loops each)\n"
     ]
    }
   ],
   "source": [
    "%timeit df['Provincie'].unique()"
   ]
  },
  {
   "cell_type": "code",
   "execution_count": 28,
   "metadata": {},
   "outputs": [
    {
     "name": "stdout",
     "output_type": "stream",
     "text": [
      "27.6 µs ± 461 ns per loop (mean ± std. dev. of 7 runs, 10000 loops each)\n"
     ]
    }
   ],
   "source": [
    "%timeit set(df['Provincie'])"
   ]
  },
  {
   "cell_type": "code",
   "execution_count": 20,
   "metadata": {},
   "outputs": [
    {
     "data": {
      "text/plain": [
       "Noord-Brabant    62\n",
       "Zuid-Holland     52\n",
       "Gelderland       51\n",
       "Noord-Holland    47\n",
       "Limburg          31\n",
       "Utrecht          26\n",
       "Overijssel       25\n",
       "Friesland        18\n",
       "Zeeland          13\n",
       "Drenthe          12\n",
       "Groningen        12\n",
       "Flevoland         6\n",
       "Name: Provincie, dtype: int64"
      ]
     },
     "execution_count": 20,
     "metadata": {},
     "output_type": "execute_result"
    }
   ],
   "source": [
    "df['Provincie'].value_counts()"
   ]
  },
  {
   "cell_type": "code",
   "execution_count": 32,
   "metadata": {},
   "outputs": [
    {
     "data": {
      "text/plain": [
       "['Almere', 'Dronten', 'Lelystad', 'Noordoostpolder', 'Urk', 'Zeewolde']"
      ]
     },
     "execution_count": 32,
     "metadata": {},
     "output_type": "execute_result"
    }
   ],
   "source": [
    "list(df[df['Provincie']=='Flevoland']['Gemeente'])"
   ]
  },
  {
   "cell_type": "code",
   "execution_count": 33,
   "metadata": {},
   "outputs": [
    {
     "data": {
      "text/plain": [
       "['Almere', 'Dronten', 'Lelystad', 'Noordoostpolder', 'Urk', 'Zeewolde']"
      ]
     },
     "execution_count": 33,
     "metadata": {},
     "output_type": "execute_result"
    }
   ],
   "source": [
    "list(df.loc[df['Provincie']=='Flevoland', 'Gemeente'])"
   ]
  },
  {
   "cell_type": "code",
   "execution_count": 42,
   "metadata": {},
   "outputs": [
    {
     "data": {
      "text/html": [
       "<div>\n",
       "<style scoped>\n",
       "    .dataframe tbody tr th:only-of-type {\n",
       "        vertical-align: middle;\n",
       "    }\n",
       "\n",
       "    .dataframe tbody tr th {\n",
       "        vertical-align: top;\n",
       "    }\n",
       "\n",
       "    .dataframe thead th {\n",
       "        text-align: right;\n",
       "    }\n",
       "</style>\n",
       "<table border=\"1\" class=\"dataframe\">\n",
       "  <thead>\n",
       "    <tr style=\"text-align: right;\">\n",
       "      <th></th>\n",
       "      <th>Nº</th>\n",
       "      <th>Naam</th>\n",
       "      <th>Provincie</th>\n",
       "      <th>Inwoners</th>\n",
       "    </tr>\n",
       "  </thead>\n",
       "  <tbody>\n",
       "    <tr>\n",
       "      <th>0</th>\n",
       "      <td>1</td>\n",
       "      <td>Amsterdam</td>\n",
       "      <td>Noord-Holland</td>\n",
       "      <td>869709</td>\n",
       "    </tr>\n",
       "    <tr>\n",
       "      <th>1</th>\n",
       "      <td>2</td>\n",
       "      <td>Rotterdam</td>\n",
       "      <td>Zuid-Holland</td>\n",
       "      <td>650459</td>\n",
       "    </tr>\n",
       "    <tr>\n",
       "      <th>2</th>\n",
       "      <td>3</td>\n",
       "      <td>Den Haag</td>\n",
       "      <td>Zuid-Holland</td>\n",
       "      <td>545863</td>\n",
       "    </tr>\n",
       "    <tr>\n",
       "      <th>3</th>\n",
       "      <td>4</td>\n",
       "      <td>Utrecht</td>\n",
       "      <td>Utrecht</td>\n",
       "      <td>357667</td>\n",
       "    </tr>\n",
       "    <tr>\n",
       "      <th>4</th>\n",
       "      <td>5</td>\n",
       "      <td>Eindhoven</td>\n",
       "      <td>Noord-Brabant</td>\n",
       "      <td>233983</td>\n",
       "    </tr>\n",
       "    <tr>\n",
       "      <th>5</th>\n",
       "      <td>6</td>\n",
       "      <td>Groningen</td>\n",
       "      <td>Groningen</td>\n",
       "      <td>231112</td>\n",
       "    </tr>\n",
       "    <tr>\n",
       "      <th>6</th>\n",
       "      <td>7</td>\n",
       "      <td>Tilburg</td>\n",
       "      <td>Noord-Brabant</td>\n",
       "      <td>219599</td>\n",
       "    </tr>\n",
       "    <tr>\n",
       "      <th>7</th>\n",
       "      <td>8</td>\n",
       "      <td>Almere</td>\n",
       "      <td>Flevoland</td>\n",
       "      <td>213660</td>\n",
       "    </tr>\n",
       "    <tr>\n",
       "      <th>8</th>\n",
       "      <td>9</td>\n",
       "      <td>Breda</td>\n",
       "      <td>Noord-Brabant</td>\n",
       "      <td>183790</td>\n",
       "    </tr>\n",
       "    <tr>\n",
       "      <th>9</th>\n",
       "      <td>10</td>\n",
       "      <td>Nijmegen</td>\n",
       "      <td>Gelderland</td>\n",
       "      <td>176669</td>\n",
       "    </tr>\n",
       "    <tr>\n",
       "      <th>10</th>\n",
       "      <td>11</td>\n",
       "      <td>Apeldoorn</td>\n",
       "      <td>Gelderland</td>\n",
       "      <td>164140</td>\n",
       "    </tr>\n",
       "    <tr>\n",
       "      <th>11</th>\n",
       "      <td>12</td>\n",
       "      <td>Haarlem</td>\n",
       "      <td>Noord-Holland</td>\n",
       "      <td>162962</td>\n",
       "    </tr>\n",
       "    <tr>\n",
       "      <th>12</th>\n",
       "      <td>13</td>\n",
       "      <td>Arnhem</td>\n",
       "      <td>Gelderland</td>\n",
       "      <td>161961</td>\n",
       "    </tr>\n",
       "    <tr>\n",
       "      <th>13</th>\n",
       "      <td>14</td>\n",
       "      <td>Enschede</td>\n",
       "      <td>Overijssel</td>\n",
       "      <td>158918</td>\n",
       "    </tr>\n",
       "    <tr>\n",
       "      <th>14</th>\n",
       "      <td>15</td>\n",
       "      <td>Amersfoort</td>\n",
       "      <td>Utrecht</td>\n",
       "      <td>157521</td>\n",
       "    </tr>\n",
       "    <tr>\n",
       "      <th>15</th>\n",
       "      <td>16</td>\n",
       "      <td>Haarlemmermeer</td>\n",
       "      <td>Noord-Holland</td>\n",
       "      <td>157115</td>\n",
       "    </tr>\n",
       "    <tr>\n",
       "      <th>16</th>\n",
       "      <td>17</td>\n",
       "      <td>Zaanstad</td>\n",
       "      <td>Noord-Holland</td>\n",
       "      <td>156907</td>\n",
       "    </tr>\n",
       "    <tr>\n",
       "      <th>17</th>\n",
       "      <td>18</td>\n",
       "      <td>'s-Hertogenbosch</td>\n",
       "      <td>Noord-Brabant</td>\n",
       "      <td>155409</td>\n",
       "    </tr>\n",
       "    <tr>\n",
       "      <th>18</th>\n",
       "      <td>19</td>\n",
       "      <td>Zwolle</td>\n",
       "      <td>Overijssel</td>\n",
       "      <td>129213</td>\n",
       "    </tr>\n",
       "    <tr>\n",
       "      <th>19</th>\n",
       "      <td>20</td>\n",
       "      <td>Zoetermeer</td>\n",
       "      <td>Zuid-Holland</td>\n",
       "      <td>125247</td>\n",
       "    </tr>\n",
       "    <tr>\n",
       "      <th>20</th>\n",
       "      <td>21</td>\n",
       "      <td>Leiden</td>\n",
       "      <td>Zuid-Holland</td>\n",
       "      <td>123655</td>\n",
       "    </tr>\n",
       "    <tr>\n",
       "      <th>21</th>\n",
       "      <td>22</td>\n",
       "      <td>Leeuwarden</td>\n",
       "      <td>Friesland</td>\n",
       "      <td>123625</td>\n",
       "    </tr>\n",
       "    <tr>\n",
       "      <th>22</th>\n",
       "      <td>23</td>\n",
       "      <td>Dordrecht</td>\n",
       "      <td>Zuid-Holland</td>\n",
       "      <td>119342</td>\n",
       "    </tr>\n",
       "    <tr>\n",
       "      <th>23</th>\n",
       "      <td>24</td>\n",
       "      <td>Maastricht</td>\n",
       "      <td>Limburg</td>\n",
       "      <td>118636</td>\n",
       "    </tr>\n",
       "    <tr>\n",
       "      <th>24</th>\n",
       "      <td>25</td>\n",
       "      <td>Ede</td>\n",
       "      <td>Gelderland</td>\n",
       "      <td>117966</td>\n",
       "    </tr>\n",
       "    <tr>\n",
       "      <th>25</th>\n",
       "      <td>26</td>\n",
       "      <td>Alphen aan den Rijn</td>\n",
       "      <td>Zuid-Holland</td>\n",
       "      <td>112343</td>\n",
       "    </tr>\n",
       "    <tr>\n",
       "      <th>26</th>\n",
       "      <td>27</td>\n",
       "      <td>Westland</td>\n",
       "      <td>Zuid-Holland</td>\n",
       "      <td>110974</td>\n",
       "    </tr>\n",
       "    <tr>\n",
       "      <th>27</th>\n",
       "      <td>28</td>\n",
       "      <td>Alkmaar</td>\n",
       "      <td>Noord-Holland</td>\n",
       "      <td>109751</td>\n",
       "    </tr>\n",
       "    <tr>\n",
       "      <th>28</th>\n",
       "      <td>29</td>\n",
       "      <td>Emmen</td>\n",
       "      <td>Drenthe</td>\n",
       "      <td>107078</td>\n",
       "    </tr>\n",
       "    <tr>\n",
       "      <th>29</th>\n",
       "      <td>30</td>\n",
       "      <td>Delft</td>\n",
       "      <td>Zuid-Holland</td>\n",
       "      <td>103037</td>\n",
       "    </tr>\n",
       "    <tr>\n",
       "      <th>30</th>\n",
       "      <td>31</td>\n",
       "      <td>Venlo</td>\n",
       "      <td>Limburg</td>\n",
       "      <td>101853</td>\n",
       "    </tr>\n",
       "    <tr>\n",
       "      <th>31</th>\n",
       "      <td>32</td>\n",
       "      <td>Deventer</td>\n",
       "      <td>Overijssel</td>\n",
       "      <td>100913</td>\n",
       "    </tr>\n",
       "  </tbody>\n",
       "</table>\n",
       "</div>"
      ],
      "text/plain": [
       "    Nº                 Naam      Provincie  Inwoners\n",
       "0    1            Amsterdam  Noord-Holland    869709\n",
       "1    2            Rotterdam   Zuid-Holland    650459\n",
       "2    3             Den Haag   Zuid-Holland    545863\n",
       "3    4              Utrecht        Utrecht    357667\n",
       "4    5            Eindhoven  Noord-Brabant    233983\n",
       "5    6            Groningen      Groningen    231112\n",
       "6    7              Tilburg  Noord-Brabant    219599\n",
       "7    8               Almere      Flevoland    213660\n",
       "8    9                Breda  Noord-Brabant    183790\n",
       "9   10             Nijmegen     Gelderland    176669\n",
       "10  11            Apeldoorn     Gelderland    164140\n",
       "11  12              Haarlem  Noord-Holland    162962\n",
       "12  13               Arnhem     Gelderland    161961\n",
       "13  14             Enschede     Overijssel    158918\n",
       "14  15           Amersfoort        Utrecht    157521\n",
       "15  16       Haarlemmermeer  Noord-Holland    157115\n",
       "16  17             Zaanstad  Noord-Holland    156907\n",
       "17  18     's-Hertogenbosch  Noord-Brabant    155409\n",
       "18  19               Zwolle     Overijssel    129213\n",
       "19  20           Zoetermeer   Zuid-Holland    125247\n",
       "20  21               Leiden   Zuid-Holland    123655\n",
       "21  22           Leeuwarden      Friesland    123625\n",
       "22  23            Dordrecht   Zuid-Holland    119342\n",
       "23  24           Maastricht        Limburg    118636\n",
       "24  25                  Ede     Gelderland    117966\n",
       "25  26  Alphen aan den Rijn   Zuid-Holland    112343\n",
       "26  27             Westland   Zuid-Holland    110974\n",
       "27  28              Alkmaar  Noord-Holland    109751\n",
       "28  29                Emmen        Drenthe    107078\n",
       "29  30                Delft   Zuid-Holland    103037\n",
       "30  31                Venlo        Limburg    101853\n",
       "31  32             Deventer     Overijssel    100913"
      ]
     },
     "execution_count": 42,
     "metadata": {},
     "output_type": "execute_result"
    }
   ],
   "source": [
    "url = 'https://nl.wikipedia.org/wiki/Lijst_van_grootste_gemeenten_in_Nederland'\n",
    "\n",
    "list_df = pd.read_html(url, thousands='.', decimal=',')\n",
    "df = list_df[1]\n",
    "df"
   ]
  },
  {
   "cell_type": "code",
   "execution_count": 43,
   "metadata": {},
   "outputs": [
    {
     "data": {
      "text/plain": [
       "Nº            int64\n",
       "Naam         object\n",
       "Provincie    object\n",
       "Inwoners      int64\n",
       "dtype: object"
      ]
     },
     "execution_count": 43,
     "metadata": {},
     "output_type": "execute_result"
    }
   ],
   "source": [
    "df.dtypes"
   ]
  },
  {
   "cell_type": "code",
   "execution_count": 44,
   "metadata": {},
   "outputs": [
    {
     "data": {
      "text/plain": [
       "6561077"
      ]
     },
     "execution_count": 44,
     "metadata": {},
     "output_type": "execute_result"
    }
   ],
   "source": [
    "df['Inwoners'].sum()"
   ]
  },
  {
   "cell_type": "code",
   "execution_count": null,
   "metadata": {},
   "outputs": [],
   "source": []
  }
 ],
 "metadata": {
  "kernelspec": {
   "display_name": "Python 3",
   "language": "python",
   "name": "python3"
  },
  "language_info": {
   "codemirror_mode": {
    "name": "ipython",
    "version": 3
   },
   "file_extension": ".py",
   "mimetype": "text/x-python",
   "name": "python",
   "nbconvert_exporter": "python",
   "pygments_lexer": "ipython3",
   "version": "3.8.5"
  }
 },
 "nbformat": 4,
 "nbformat_minor": 4
}
