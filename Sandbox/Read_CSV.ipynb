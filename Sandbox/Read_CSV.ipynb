{
 "cells": [
  {
   "cell_type": "markdown",
   "id": "412db574",
   "metadata": {},
   "source": [
    "# Pandas"
   ]
  },
  {
   "cell_type": "code",
   "execution_count": 1,
   "id": "8d35b69d",
   "metadata": {},
   "outputs": [],
   "source": [
    "import pandas as pd"
   ]
  },
  {
   "cell_type": "code",
   "execution_count": 4,
   "id": "6b2852af",
   "metadata": {},
   "outputs": [
    {
     "name": "stdout",
     "output_type": "stream",
     "text": [
      "data.csv\r\n"
     ]
    }
   ],
   "source": [
    "!ls data.csv    # !dir op windows"
   ]
  },
  {
   "cell_type": "code",
   "execution_count": 6,
   "id": "46ca435f",
   "metadata": {},
   "outputs": [],
   "source": [
    "filename = r'C:\\users\\peter\\documents\\data.csv'\n",
    "filename = 'data.csv'"
   ]
  },
  {
   "cell_type": "code",
   "execution_count": 8,
   "id": "42f352fe",
   "metadata": {},
   "outputs": [
    {
     "name": "stdout",
     "output_type": "stream",
     "text": [
      "﻿Naam;Woonplaats;Leeftijd\n",
      "Peter;Lhee;65\n",
      "Emma;Utrecht;34\n",
      "Stijn;Utrecht;36\n",
      "Floor;Amsterdam;37\n",
      "Mo;Utrecht;35\n",
      "Martijn;Utrecht;36\n",
      "Melanie;Hilversum;34\n",
      "Melisa;Amsterdam;36\n",
      "Nenad;Utrecht;29\n",
      "Martijn;Soest;35\n",
      "Luuk;Utrecht;39\n",
      "Midas;Utrecht;32\n",
      "Tijmen;Utrecht;35\n"
     ]
    }
   ],
   "source": [
    "with open(filename) as f:\n",
    "    data = f.read()\n",
    "\n",
    "print(data)"
   ]
  },
  {
   "cell_type": "code",
   "execution_count": 16,
   "id": "b0575a69",
   "metadata": {},
   "outputs": [
    {
     "data": {
      "text/html": [
       "<div>\n",
       "<style scoped>\n",
       "    .dataframe tbody tr th:only-of-type {\n",
       "        vertical-align: middle;\n",
       "    }\n",
       "\n",
       "    .dataframe tbody tr th {\n",
       "        vertical-align: top;\n",
       "    }\n",
       "\n",
       "    .dataframe thead th {\n",
       "        text-align: right;\n",
       "    }\n",
       "</style>\n",
       "<table border=\"1\" class=\"dataframe\">\n",
       "  <thead>\n",
       "    <tr style=\"text-align: right;\">\n",
       "      <th></th>\n",
       "      <th>Naam</th>\n",
       "      <th>Woonplaats</th>\n",
       "      <th>Leeftijd</th>\n",
       "    </tr>\n",
       "  </thead>\n",
       "  <tbody>\n",
       "    <tr>\n",
       "      <th>0</th>\n",
       "      <td>Peter</td>\n",
       "      <td>Lhee</td>\n",
       "      <td>65</td>\n",
       "    </tr>\n",
       "    <tr>\n",
       "      <th>1</th>\n",
       "      <td>Emma</td>\n",
       "      <td>Utrecht</td>\n",
       "      <td>34</td>\n",
       "    </tr>\n",
       "    <tr>\n",
       "      <th>2</th>\n",
       "      <td>Stijn</td>\n",
       "      <td>Utrecht</td>\n",
       "      <td>36</td>\n",
       "    </tr>\n",
       "    <tr>\n",
       "      <th>3</th>\n",
       "      <td>Floor</td>\n",
       "      <td>Amsterdam</td>\n",
       "      <td>37</td>\n",
       "    </tr>\n",
       "    <tr>\n",
       "      <th>4</th>\n",
       "      <td>Mo</td>\n",
       "      <td>Utrecht</td>\n",
       "      <td>35</td>\n",
       "    </tr>\n",
       "    <tr>\n",
       "      <th>5</th>\n",
       "      <td>Martijn</td>\n",
       "      <td>Utrecht</td>\n",
       "      <td>36</td>\n",
       "    </tr>\n",
       "    <tr>\n",
       "      <th>6</th>\n",
       "      <td>Melanie</td>\n",
       "      <td>Hilversum</td>\n",
       "      <td>34</td>\n",
       "    </tr>\n",
       "    <tr>\n",
       "      <th>7</th>\n",
       "      <td>Melisa</td>\n",
       "      <td>Amsterdam</td>\n",
       "      <td>36</td>\n",
       "    </tr>\n",
       "    <tr>\n",
       "      <th>8</th>\n",
       "      <td>Nenad</td>\n",
       "      <td>Utrecht</td>\n",
       "      <td>29</td>\n",
       "    </tr>\n",
       "    <tr>\n",
       "      <th>9</th>\n",
       "      <td>Martijn</td>\n",
       "      <td>Soest</td>\n",
       "      <td>35</td>\n",
       "    </tr>\n",
       "    <tr>\n",
       "      <th>10</th>\n",
       "      <td>Luuk</td>\n",
       "      <td>Utrecht</td>\n",
       "      <td>39</td>\n",
       "    </tr>\n",
       "    <tr>\n",
       "      <th>11</th>\n",
       "      <td>Midas</td>\n",
       "      <td>Utrecht</td>\n",
       "      <td>32</td>\n",
       "    </tr>\n",
       "    <tr>\n",
       "      <th>12</th>\n",
       "      <td>Tijmen</td>\n",
       "      <td>Utrecht</td>\n",
       "      <td>35</td>\n",
       "    </tr>\n",
       "  </tbody>\n",
       "</table>\n",
       "</div>"
      ],
      "text/plain": [
       "       Naam Woonplaats  Leeftijd\n",
       "0     Peter       Lhee        65\n",
       "1      Emma    Utrecht        34\n",
       "2     Stijn    Utrecht        36\n",
       "3     Floor  Amsterdam        37\n",
       "4        Mo    Utrecht        35\n",
       "5   Martijn    Utrecht        36\n",
       "6   Melanie  Hilversum        34\n",
       "7    Melisa  Amsterdam        36\n",
       "8     Nenad    Utrecht        29\n",
       "9   Martijn      Soest        35\n",
       "10     Luuk    Utrecht        39\n",
       "11    Midas    Utrecht        32\n",
       "12   Tijmen    Utrecht        35"
      ]
     },
     "execution_count": 16,
     "metadata": {},
     "output_type": "execute_result"
    }
   ],
   "source": [
    "df = pd.read_csv(filename, delimiter=';')\n",
    "df"
   ]
  },
  {
   "cell_type": "code",
   "execution_count": 17,
   "id": "c5929862",
   "metadata": {},
   "outputs": [
    {
     "data": {
      "text/plain": [
       "0       Peter\n",
       "1        Emma\n",
       "2       Stijn\n",
       "3       Floor\n",
       "4          Mo\n",
       "5     Martijn\n",
       "6     Melanie\n",
       "7      Melisa\n",
       "8       Nenad\n",
       "9     Martijn\n",
       "10       Luuk\n",
       "11      Midas\n",
       "12     Tijmen\n",
       "Name: Naam, dtype: object"
      ]
     },
     "execution_count": 17,
     "metadata": {},
     "output_type": "execute_result"
    }
   ],
   "source": [
    "df['Naam']"
   ]
  },
  {
   "cell_type": "code",
   "execution_count": 18,
   "id": "9e74f56a",
   "metadata": {},
   "outputs": [
    {
     "data": {
      "text/html": [
       "<div>\n",
       "<style scoped>\n",
       "    .dataframe tbody tr th:only-of-type {\n",
       "        vertical-align: middle;\n",
       "    }\n",
       "\n",
       "    .dataframe tbody tr th {\n",
       "        vertical-align: top;\n",
       "    }\n",
       "\n",
       "    .dataframe thead th {\n",
       "        text-align: right;\n",
       "    }\n",
       "</style>\n",
       "<table border=\"1\" class=\"dataframe\">\n",
       "  <thead>\n",
       "    <tr style=\"text-align: right;\">\n",
       "      <th></th>\n",
       "      <th>Woonplaats</th>\n",
       "      <th>Naam</th>\n",
       "    </tr>\n",
       "  </thead>\n",
       "  <tbody>\n",
       "    <tr>\n",
       "      <th>0</th>\n",
       "      <td>Lhee</td>\n",
       "      <td>Peter</td>\n",
       "    </tr>\n",
       "    <tr>\n",
       "      <th>1</th>\n",
       "      <td>Utrecht</td>\n",
       "      <td>Emma</td>\n",
       "    </tr>\n",
       "    <tr>\n",
       "      <th>2</th>\n",
       "      <td>Utrecht</td>\n",
       "      <td>Stijn</td>\n",
       "    </tr>\n",
       "    <tr>\n",
       "      <th>3</th>\n",
       "      <td>Amsterdam</td>\n",
       "      <td>Floor</td>\n",
       "    </tr>\n",
       "    <tr>\n",
       "      <th>4</th>\n",
       "      <td>Utrecht</td>\n",
       "      <td>Mo</td>\n",
       "    </tr>\n",
       "    <tr>\n",
       "      <th>5</th>\n",
       "      <td>Utrecht</td>\n",
       "      <td>Martijn</td>\n",
       "    </tr>\n",
       "    <tr>\n",
       "      <th>6</th>\n",
       "      <td>Hilversum</td>\n",
       "      <td>Melanie</td>\n",
       "    </tr>\n",
       "    <tr>\n",
       "      <th>7</th>\n",
       "      <td>Amsterdam</td>\n",
       "      <td>Melisa</td>\n",
       "    </tr>\n",
       "    <tr>\n",
       "      <th>8</th>\n",
       "      <td>Utrecht</td>\n",
       "      <td>Nenad</td>\n",
       "    </tr>\n",
       "    <tr>\n",
       "      <th>9</th>\n",
       "      <td>Soest</td>\n",
       "      <td>Martijn</td>\n",
       "    </tr>\n",
       "    <tr>\n",
       "      <th>10</th>\n",
       "      <td>Utrecht</td>\n",
       "      <td>Luuk</td>\n",
       "    </tr>\n",
       "    <tr>\n",
       "      <th>11</th>\n",
       "      <td>Utrecht</td>\n",
       "      <td>Midas</td>\n",
       "    </tr>\n",
       "    <tr>\n",
       "      <th>12</th>\n",
       "      <td>Utrecht</td>\n",
       "      <td>Tijmen</td>\n",
       "    </tr>\n",
       "  </tbody>\n",
       "</table>\n",
       "</div>"
      ],
      "text/plain": [
       "   Woonplaats     Naam\n",
       "0        Lhee    Peter\n",
       "1     Utrecht     Emma\n",
       "2     Utrecht    Stijn\n",
       "3   Amsterdam    Floor\n",
       "4     Utrecht       Mo\n",
       "5     Utrecht  Martijn\n",
       "6   Hilversum  Melanie\n",
       "7   Amsterdam   Melisa\n",
       "8     Utrecht    Nenad\n",
       "9       Soest  Martijn\n",
       "10    Utrecht     Luuk\n",
       "11    Utrecht    Midas\n",
       "12    Utrecht   Tijmen"
      ]
     },
     "execution_count": 18,
     "metadata": {},
     "output_type": "execute_result"
    }
   ],
   "source": [
    "df[['Woonplaats', 'Naam']]"
   ]
  },
  {
   "cell_type": "code",
   "execution_count": 21,
   "id": "098b5c30",
   "metadata": {},
   "outputs": [
    {
     "data": {
      "text/html": [
       "<div>\n",
       "<style scoped>\n",
       "    .dataframe tbody tr th:only-of-type {\n",
       "        vertical-align: middle;\n",
       "    }\n",
       "\n",
       "    .dataframe tbody tr th {\n",
       "        vertical-align: top;\n",
       "    }\n",
       "\n",
       "    .dataframe thead th {\n",
       "        text-align: right;\n",
       "    }\n",
       "</style>\n",
       "<table border=\"1\" class=\"dataframe\">\n",
       "  <thead>\n",
       "    <tr style=\"text-align: right;\">\n",
       "      <th></th>\n",
       "      <th>Naam</th>\n",
       "      <th>Woonplaats</th>\n",
       "      <th>Leeftijd</th>\n",
       "    </tr>\n",
       "  </thead>\n",
       "  <tbody>\n",
       "    <tr>\n",
       "      <th>3</th>\n",
       "      <td>Floor</td>\n",
       "      <td>Amsterdam</td>\n",
       "      <td>37</td>\n",
       "    </tr>\n",
       "    <tr>\n",
       "      <th>7</th>\n",
       "      <td>Melisa</td>\n",
       "      <td>Amsterdam</td>\n",
       "      <td>36</td>\n",
       "    </tr>\n",
       "    <tr>\n",
       "      <th>6</th>\n",
       "      <td>Melanie</td>\n",
       "      <td>Hilversum</td>\n",
       "      <td>34</td>\n",
       "    </tr>\n",
       "    <tr>\n",
       "      <th>0</th>\n",
       "      <td>Peter</td>\n",
       "      <td>Lhee</td>\n",
       "      <td>65</td>\n",
       "    </tr>\n",
       "    <tr>\n",
       "      <th>9</th>\n",
       "      <td>Martijn</td>\n",
       "      <td>Soest</td>\n",
       "      <td>35</td>\n",
       "    </tr>\n",
       "    <tr>\n",
       "      <th>1</th>\n",
       "      <td>Emma</td>\n",
       "      <td>Utrecht</td>\n",
       "      <td>34</td>\n",
       "    </tr>\n",
       "    <tr>\n",
       "      <th>10</th>\n",
       "      <td>Luuk</td>\n",
       "      <td>Utrecht</td>\n",
       "      <td>39</td>\n",
       "    </tr>\n",
       "    <tr>\n",
       "      <th>5</th>\n",
       "      <td>Martijn</td>\n",
       "      <td>Utrecht</td>\n",
       "      <td>36</td>\n",
       "    </tr>\n",
       "    <tr>\n",
       "      <th>11</th>\n",
       "      <td>Midas</td>\n",
       "      <td>Utrecht</td>\n",
       "      <td>32</td>\n",
       "    </tr>\n",
       "    <tr>\n",
       "      <th>4</th>\n",
       "      <td>Mo</td>\n",
       "      <td>Utrecht</td>\n",
       "      <td>35</td>\n",
       "    </tr>\n",
       "    <tr>\n",
       "      <th>8</th>\n",
       "      <td>Nenad</td>\n",
       "      <td>Utrecht</td>\n",
       "      <td>29</td>\n",
       "    </tr>\n",
       "    <tr>\n",
       "      <th>2</th>\n",
       "      <td>Stijn</td>\n",
       "      <td>Utrecht</td>\n",
       "      <td>36</td>\n",
       "    </tr>\n",
       "    <tr>\n",
       "      <th>12</th>\n",
       "      <td>Tijmen</td>\n",
       "      <td>Utrecht</td>\n",
       "      <td>35</td>\n",
       "    </tr>\n",
       "  </tbody>\n",
       "</table>\n",
       "</div>"
      ],
      "text/plain": [
       "       Naam Woonplaats  Leeftijd\n",
       "3     Floor  Amsterdam        37\n",
       "7    Melisa  Amsterdam        36\n",
       "6   Melanie  Hilversum        34\n",
       "0     Peter       Lhee        65\n",
       "9   Martijn      Soest        35\n",
       "1      Emma    Utrecht        34\n",
       "10     Luuk    Utrecht        39\n",
       "5   Martijn    Utrecht        36\n",
       "11    Midas    Utrecht        32\n",
       "4        Mo    Utrecht        35\n",
       "8     Nenad    Utrecht        29\n",
       "2     Stijn    Utrecht        36\n",
       "12   Tijmen    Utrecht        35"
      ]
     },
     "execution_count": 21,
     "metadata": {},
     "output_type": "execute_result"
    }
   ],
   "source": [
    "df.sort_values(['Woonplaats','Naam'])"
   ]
  },
  {
   "cell_type": "code",
   "execution_count": 23,
   "id": "11ba8f61",
   "metadata": {},
   "outputs": [
    {
     "data": {
      "text/plain": [
       "0     False\n",
       "1      True\n",
       "2      True\n",
       "3     False\n",
       "4      True\n",
       "5      True\n",
       "6     False\n",
       "7     False\n",
       "8      True\n",
       "9     False\n",
       "10     True\n",
       "11     True\n",
       "12     True\n",
       "Name: Woonplaats, dtype: bool"
      ]
     },
     "execution_count": 23,
     "metadata": {},
     "output_type": "execute_result"
    }
   ],
   "source": [
    "df['Woonplaats'] == 'Utrecht'"
   ]
  },
  {
   "cell_type": "code",
   "execution_count": 80,
   "id": "5b8957f5",
   "metadata": {},
   "outputs": [
    {
     "data": {
      "text/html": [
       "<div>\n",
       "<style scoped>\n",
       "    .dataframe tbody tr th:only-of-type {\n",
       "        vertical-align: middle;\n",
       "    }\n",
       "\n",
       "    .dataframe tbody tr th {\n",
       "        vertical-align: top;\n",
       "    }\n",
       "\n",
       "    .dataframe thead th {\n",
       "        text-align: right;\n",
       "    }\n",
       "</style>\n",
       "<table border=\"1\" class=\"dataframe\">\n",
       "  <thead>\n",
       "    <tr style=\"text-align: right;\">\n",
       "      <th></th>\n",
       "      <th>Woonplaats</th>\n",
       "      <th>Naam</th>\n",
       "      <th>Leeftijd</th>\n",
       "    </tr>\n",
       "  </thead>\n",
       "  <tbody>\n",
       "    <tr>\n",
       "      <th>12</th>\n",
       "      <td>Utrecht</td>\n",
       "      <td>Tijmen</td>\n",
       "      <td>35</td>\n",
       "    </tr>\n",
       "    <tr>\n",
       "      <th>2</th>\n",
       "      <td>Utrecht</td>\n",
       "      <td>Stijn</td>\n",
       "      <td>36</td>\n",
       "    </tr>\n",
       "    <tr>\n",
       "      <th>8</th>\n",
       "      <td>Utrecht</td>\n",
       "      <td>Nenad</td>\n",
       "      <td>29</td>\n",
       "    </tr>\n",
       "    <tr>\n",
       "      <th>4</th>\n",
       "      <td>Utrecht</td>\n",
       "      <td>Mo</td>\n",
       "      <td>35</td>\n",
       "    </tr>\n",
       "    <tr>\n",
       "      <th>11</th>\n",
       "      <td>Utrecht</td>\n",
       "      <td>Midas</td>\n",
       "      <td>32</td>\n",
       "    </tr>\n",
       "    <tr>\n",
       "      <th>5</th>\n",
       "      <td>Utrecht</td>\n",
       "      <td>Martijn</td>\n",
       "      <td>36</td>\n",
       "    </tr>\n",
       "    <tr>\n",
       "      <th>10</th>\n",
       "      <td>Utrecht</td>\n",
       "      <td>Luuk</td>\n",
       "      <td>39</td>\n",
       "    </tr>\n",
       "    <tr>\n",
       "      <th>1</th>\n",
       "      <td>Utrecht</td>\n",
       "      <td>Emma</td>\n",
       "      <td>34</td>\n",
       "    </tr>\n",
       "  </tbody>\n",
       "</table>\n",
       "</div>"
      ],
      "text/plain": [
       "   Woonplaats     Naam  Leeftijd\n",
       "12    Utrecht   Tijmen        35\n",
       "2     Utrecht    Stijn        36\n",
       "8     Utrecht    Nenad        29\n",
       "4     Utrecht       Mo        35\n",
       "11    Utrecht    Midas        32\n",
       "5     Utrecht  Martijn        36\n",
       "10    Utrecht     Luuk        39\n",
       "1     Utrecht     Emma        34"
      ]
     },
     "execution_count": 80,
     "metadata": {},
     "output_type": "execute_result"
    }
   ],
   "source": [
    "selection = df[df['Woonplaats'] == 'Utrecht'].sort_values('Naam', ascending=False)\n",
    "selection"
   ]
  },
  {
   "cell_type": "code",
   "execution_count": 33,
   "id": "8daf96db",
   "metadata": {},
   "outputs": [],
   "source": [
    "selection.to_csv('selection.csv')"
   ]
  },
  {
   "cell_type": "code",
   "execution_count": 34,
   "id": "d3f4a7e2",
   "metadata": {},
   "outputs": [
    {
     "name": "stdout",
     "output_type": "stream",
     "text": [
      "selection.csv\r\n"
     ]
    }
   ],
   "source": [
    "!ls selection.csv"
   ]
  },
  {
   "cell_type": "code",
   "execution_count": 35,
   "id": "7f00f500",
   "metadata": {},
   "outputs": [
    {
     "name": "stdout",
     "output_type": "stream",
     "text": [
      ",Naam,Woonplaats,Leeftijd\n",
      "1,Emma,Utrecht,34\n",
      "10,Luuk,Utrecht,39\n",
      "5,Martijn,Utrecht,36\n",
      "11,Midas,Utrecht,32\n",
      "4,Mo,Utrecht,35\n",
      "8,Nenad,Utrecht,29\n",
      "2,Stijn,Utrecht,36\n",
      "12,Tijmen,Utrecht,35\n",
      "\n"
     ]
    }
   ],
   "source": [
    "with open('selection.csv') as f:\n",
    "    data = f.read()\n",
    "\n",
    "print(data)"
   ]
  },
  {
   "cell_type": "code",
   "execution_count": 36,
   "id": "2f05bb58",
   "metadata": {},
   "outputs": [
    {
     "data": {
      "text/plain": [
       "2"
      ]
     },
     "execution_count": 36,
     "metadata": {},
     "output_type": "execute_result"
    }
   ],
   "source": [
    "df.ndim"
   ]
  },
  {
   "cell_type": "code",
   "execution_count": 37,
   "id": "b13f3893",
   "metadata": {},
   "outputs": [
    {
     "data": {
      "text/plain": [
       "(13, 3)"
      ]
     },
     "execution_count": 37,
     "metadata": {},
     "output_type": "execute_result"
    }
   ],
   "source": [
    "df.shape"
   ]
  },
  {
   "cell_type": "code",
   "execution_count": 38,
   "id": "ed413767",
   "metadata": {},
   "outputs": [
    {
     "data": {
      "text/plain": [
       "Naam          object\n",
       "Woonplaats    object\n",
       "Leeftijd       int64\n",
       "dtype: object"
      ]
     },
     "execution_count": 38,
     "metadata": {},
     "output_type": "execute_result"
    }
   ],
   "source": [
    "df.dtypes"
   ]
  },
  {
   "cell_type": "code",
   "execution_count": 40,
   "id": "18d64814",
   "metadata": {},
   "outputs": [
    {
     "data": {
      "text/plain": [
       "['Naam', 'Woonplaats', 'Leeftijd']"
      ]
     },
     "execution_count": 40,
     "metadata": {},
     "output_type": "execute_result"
    }
   ],
   "source": [
    "list(df.columns)"
   ]
  },
  {
   "cell_type": "code",
   "execution_count": 49,
   "id": "98678e0c",
   "metadata": {},
   "outputs": [],
   "source": [
    "df.columns = [c.capitalize() for c in df.columns]"
   ]
  },
  {
   "cell_type": "code",
   "execution_count": 52,
   "id": "93fd30af",
   "metadata": {},
   "outputs": [],
   "source": [
    "df = df[['Woonplaats', 'Naam', 'Leeftijd']]"
   ]
  },
  {
   "cell_type": "code",
   "execution_count": 53,
   "id": "c2629a4a",
   "metadata": {},
   "outputs": [
    {
     "data": {
      "text/html": [
       "<div>\n",
       "<style scoped>\n",
       "    .dataframe tbody tr th:only-of-type {\n",
       "        vertical-align: middle;\n",
       "    }\n",
       "\n",
       "    .dataframe tbody tr th {\n",
       "        vertical-align: top;\n",
       "    }\n",
       "\n",
       "    .dataframe thead th {\n",
       "        text-align: right;\n",
       "    }\n",
       "</style>\n",
       "<table border=\"1\" class=\"dataframe\">\n",
       "  <thead>\n",
       "    <tr style=\"text-align: right;\">\n",
       "      <th></th>\n",
       "      <th>Woonplaats</th>\n",
       "      <th>Naam</th>\n",
       "      <th>Leeftijd</th>\n",
       "    </tr>\n",
       "  </thead>\n",
       "  <tbody>\n",
       "    <tr>\n",
       "      <th>0</th>\n",
       "      <td>Lhee</td>\n",
       "      <td>Peter</td>\n",
       "      <td>65</td>\n",
       "    </tr>\n",
       "    <tr>\n",
       "      <th>1</th>\n",
       "      <td>Utrecht</td>\n",
       "      <td>Emma</td>\n",
       "      <td>34</td>\n",
       "    </tr>\n",
       "    <tr>\n",
       "      <th>2</th>\n",
       "      <td>Utrecht</td>\n",
       "      <td>Stijn</td>\n",
       "      <td>36</td>\n",
       "    </tr>\n",
       "    <tr>\n",
       "      <th>3</th>\n",
       "      <td>Amsterdam</td>\n",
       "      <td>Floor</td>\n",
       "      <td>37</td>\n",
       "    </tr>\n",
       "    <tr>\n",
       "      <th>4</th>\n",
       "      <td>Utrecht</td>\n",
       "      <td>Mo</td>\n",
       "      <td>35</td>\n",
       "    </tr>\n",
       "    <tr>\n",
       "      <th>5</th>\n",
       "      <td>Utrecht</td>\n",
       "      <td>Martijn</td>\n",
       "      <td>36</td>\n",
       "    </tr>\n",
       "    <tr>\n",
       "      <th>6</th>\n",
       "      <td>Hilversum</td>\n",
       "      <td>Melanie</td>\n",
       "      <td>34</td>\n",
       "    </tr>\n",
       "    <tr>\n",
       "      <th>7</th>\n",
       "      <td>Amsterdam</td>\n",
       "      <td>Melisa</td>\n",
       "      <td>36</td>\n",
       "    </tr>\n",
       "    <tr>\n",
       "      <th>8</th>\n",
       "      <td>Utrecht</td>\n",
       "      <td>Nenad</td>\n",
       "      <td>29</td>\n",
       "    </tr>\n",
       "    <tr>\n",
       "      <th>9</th>\n",
       "      <td>Soest</td>\n",
       "      <td>Martijn</td>\n",
       "      <td>35</td>\n",
       "    </tr>\n",
       "    <tr>\n",
       "      <th>10</th>\n",
       "      <td>Utrecht</td>\n",
       "      <td>Luuk</td>\n",
       "      <td>39</td>\n",
       "    </tr>\n",
       "    <tr>\n",
       "      <th>11</th>\n",
       "      <td>Utrecht</td>\n",
       "      <td>Midas</td>\n",
       "      <td>32</td>\n",
       "    </tr>\n",
       "    <tr>\n",
       "      <th>12</th>\n",
       "      <td>Utrecht</td>\n",
       "      <td>Tijmen</td>\n",
       "      <td>35</td>\n",
       "    </tr>\n",
       "  </tbody>\n",
       "</table>\n",
       "</div>"
      ],
      "text/plain": [
       "   Woonplaats     Naam  Leeftijd\n",
       "0        Lhee    Peter        65\n",
       "1     Utrecht     Emma        34\n",
       "2     Utrecht    Stijn        36\n",
       "3   Amsterdam    Floor        37\n",
       "4     Utrecht       Mo        35\n",
       "5     Utrecht  Martijn        36\n",
       "6   Hilversum  Melanie        34\n",
       "7   Amsterdam   Melisa        36\n",
       "8     Utrecht    Nenad        29\n",
       "9       Soest  Martijn        35\n",
       "10    Utrecht     Luuk        39\n",
       "11    Utrecht    Midas        32\n",
       "12    Utrecht   Tijmen        35"
      ]
     },
     "execution_count": 53,
     "metadata": {},
     "output_type": "execute_result"
    }
   ],
   "source": [
    "df"
   ]
  },
  {
   "cell_type": "code",
   "execution_count": 54,
   "id": "d631228f",
   "metadata": {},
   "outputs": [
    {
     "data": {
      "text/plain": [
       "39"
      ]
     },
     "execution_count": 54,
     "metadata": {},
     "output_type": "execute_result"
    }
   ],
   "source": [
    "df.size"
   ]
  },
  {
   "cell_type": "code",
   "execution_count": 55,
   "id": "c6244edb",
   "metadata": {},
   "outputs": [
    {
     "data": {
      "text/plain": [
       "RangeIndex(start=0, stop=13, step=1)"
      ]
     },
     "execution_count": 55,
     "metadata": {},
     "output_type": "execute_result"
    }
   ],
   "source": [
    "df.index"
   ]
  },
  {
   "cell_type": "code",
   "execution_count": 56,
   "id": "7c1349f4",
   "metadata": {},
   "outputs": [
    {
     "data": {
      "text/plain": [
       "[RangeIndex(start=0, stop=13, step=1),\n",
       " Index(['Woonplaats', 'Naam', 'Leeftijd'], dtype='object')]"
      ]
     },
     "execution_count": 56,
     "metadata": {},
     "output_type": "execute_result"
    }
   ],
   "source": [
    "df.axes"
   ]
  },
  {
   "cell_type": "code",
   "execution_count": 57,
   "id": "6bdc0535",
   "metadata": {},
   "outputs": [
    {
     "data": {
      "text/plain": [
       "Woonplaats    13\n",
       "Naam          13\n",
       "Leeftijd      13\n",
       "dtype: int64"
      ]
     },
     "execution_count": 57,
     "metadata": {},
     "output_type": "execute_result"
    }
   ],
   "source": [
    "df.count()"
   ]
  },
  {
   "cell_type": "code",
   "execution_count": 59,
   "id": "08690693",
   "metadata": {},
   "outputs": [
    {
     "name": "stdout",
     "output_type": "stream",
     "text": [
      "<class 'pandas.core.frame.DataFrame'>\n",
      "RangeIndex: 13 entries, 0 to 12\n",
      "Data columns (total 3 columns):\n",
      " #   Column      Non-Null Count  Dtype \n",
      "---  ------      --------------  ----- \n",
      " 0   Woonplaats  13 non-null     object\n",
      " 1   Naam        13 non-null     object\n",
      " 2   Leeftijd    13 non-null     int64 \n",
      "dtypes: int64(1), object(2)\n",
      "memory usage: 440.0+ bytes\n"
     ]
    }
   ],
   "source": [
    "df.info()"
   ]
  },
  {
   "cell_type": "code",
   "execution_count": 60,
   "id": "a9dd6b66",
   "metadata": {},
   "outputs": [
    {
     "data": {
      "text/html": [
       "<div>\n",
       "<style scoped>\n",
       "    .dataframe tbody tr th:only-of-type {\n",
       "        vertical-align: middle;\n",
       "    }\n",
       "\n",
       "    .dataframe tbody tr th {\n",
       "        vertical-align: top;\n",
       "    }\n",
       "\n",
       "    .dataframe thead th {\n",
       "        text-align: right;\n",
       "    }\n",
       "</style>\n",
       "<table border=\"1\" class=\"dataframe\">\n",
       "  <thead>\n",
       "    <tr style=\"text-align: right;\">\n",
       "      <th></th>\n",
       "      <th>Leeftijd</th>\n",
       "    </tr>\n",
       "  </thead>\n",
       "  <tbody>\n",
       "    <tr>\n",
       "      <th>count</th>\n",
       "      <td>13.000000</td>\n",
       "    </tr>\n",
       "    <tr>\n",
       "      <th>mean</th>\n",
       "      <td>37.153846</td>\n",
       "    </tr>\n",
       "    <tr>\n",
       "      <th>std</th>\n",
       "      <td>8.706761</td>\n",
       "    </tr>\n",
       "    <tr>\n",
       "      <th>min</th>\n",
       "      <td>29.000000</td>\n",
       "    </tr>\n",
       "    <tr>\n",
       "      <th>25%</th>\n",
       "      <td>34.000000</td>\n",
       "    </tr>\n",
       "    <tr>\n",
       "      <th>50%</th>\n",
       "      <td>35.000000</td>\n",
       "    </tr>\n",
       "    <tr>\n",
       "      <th>75%</th>\n",
       "      <td>36.000000</td>\n",
       "    </tr>\n",
       "    <tr>\n",
       "      <th>max</th>\n",
       "      <td>65.000000</td>\n",
       "    </tr>\n",
       "  </tbody>\n",
       "</table>\n",
       "</div>"
      ],
      "text/plain": [
       "        Leeftijd\n",
       "count  13.000000\n",
       "mean   37.153846\n",
       "std     8.706761\n",
       "min    29.000000\n",
       "25%    34.000000\n",
       "50%    35.000000\n",
       "75%    36.000000\n",
       "max    65.000000"
      ]
     },
     "execution_count": 60,
     "metadata": {},
     "output_type": "execute_result"
    }
   ],
   "source": [
    "df.describe()"
   ]
  },
  {
   "cell_type": "code",
   "execution_count": 75,
   "id": "28f75db2",
   "metadata": {},
   "outputs": [],
   "source": [
    "df['Naam'] = df['Naam'].astype('string')\n",
    "df['Woonplaats'] = df['Woonplaats'].astype('category')"
   ]
  },
  {
   "cell_type": "code",
   "execution_count": 78,
   "id": "46c969d1",
   "metadata": {},
   "outputs": [
    {
     "data": {
      "text/plain": [
       "0          Lhee\n",
       "1       Utrecht\n",
       "2       Utrecht\n",
       "3     Amsterdam\n",
       "4       Utrecht\n",
       "5       Utrecht\n",
       "6     Hilversum\n",
       "7     Amsterdam\n",
       "8       Utrecht\n",
       "9         Soest\n",
       "10      Utrecht\n",
       "11      Utrecht\n",
       "12      Utrecht\n",
       "Name: Woonplaats, dtype: category\n",
       "Categories (5, object): ['Amsterdam', 'Hilversum', 'Lhee', 'Soest', 'Utrecht']"
      ]
     },
     "execution_count": 78,
     "metadata": {},
     "output_type": "execute_result"
    }
   ],
   "source": [
    "df['Woonplaats']"
   ]
  },
  {
   "cell_type": "code",
   "execution_count": 77,
   "id": "26f6fb7e",
   "metadata": {},
   "outputs": [
    {
     "name": "stdout",
     "output_type": "stream",
     "text": [
      "<class 'pandas.core.frame.DataFrame'>\n",
      "RangeIndex: 13 entries, 0 to 12\n",
      "Data columns (total 3 columns):\n",
      " #   Column      Non-Null Count  Dtype   \n",
      "---  ------      --------------  -----   \n",
      " 0   Woonplaats  13 non-null     category\n",
      " 1   Naam        13 non-null     string  \n",
      " 2   Leeftijd    13 non-null     int64   \n",
      "dtypes: category(1), int64(1), string(1)\n",
      "memory usage: 561.0 bytes\n"
     ]
    }
   ],
   "source": [
    "df.info()"
   ]
  },
  {
   "cell_type": "code",
   "execution_count": null,
   "id": "fec16c9f",
   "metadata": {},
   "outputs": [],
   "source": []
  }
 ],
 "metadata": {
  "kernelspec": {
   "display_name": "Python 3",
   "language": "python",
   "name": "python3"
  },
  "language_info": {
   "codemirror_mode": {
    "name": "ipython",
    "version": 3
   },
   "file_extension": ".py",
   "mimetype": "text/x-python",
   "name": "python",
   "nbconvert_exporter": "python",
   "pygments_lexer": "ipython3",
   "version": "3.8.8"
  }
 },
 "nbformat": 4,
 "nbformat_minor": 5
}
