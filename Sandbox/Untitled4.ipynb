{
 "cells": [
  {
   "cell_type": "code",
   "execution_count": 1,
   "id": "6375559f",
   "metadata": {},
   "outputs": [
    {
     "data": {
      "text/plain": [
       "[2, 3, 4, 5, 6]"
      ]
     },
     "execution_count": 1,
     "metadata": {},
     "output_type": "execute_result"
    }
   ],
   "source": [
    "getallen = [1,2,3,4,5]\n",
    "\n",
    "getallen_plus_een = [x + 1 for x in getallen]\n",
    "\n",
    "getallen_plus_een"
   ]
  },
  {
   "cell_type": "code",
   "execution_count": 42,
   "id": "6dc4fced",
   "metadata": {},
   "outputs": [
    {
     "data": {
      "text/plain": [
       "[3, 6, 8, 2, 9, 5, 8, 2, 7, 4]"
      ]
     },
     "execution_count": 42,
     "metadata": {},
     "output_type": "execute_result"
    }
   ],
   "source": [
    "getallen1 = [3,6,8,2,9]\n",
    "getallen2 = [5,8,2,7,4]\n",
    "\n",
    "getallen1 + getallen2"
   ]
  },
  {
   "cell_type": "code",
   "execution_count": 4,
   "id": "a034f9d9",
   "metadata": {},
   "outputs": [],
   "source": [
    "import numpy as np"
   ]
  },
  {
   "cell_type": "code",
   "execution_count": 39,
   "id": "e3176acd",
   "metadata": {},
   "outputs": [],
   "source": [
    "a1 = np.array(getallen1)\n",
    "a2 = np.array(getallen2)"
   ]
  },
  {
   "cell_type": "code",
   "execution_count": 40,
   "id": "f846fc7b",
   "metadata": {},
   "outputs": [
    {
     "data": {
      "text/plain": [
       "array([3., 6., 8., 2., 9.])"
      ]
     },
     "execution_count": 40,
     "metadata": {},
     "output_type": "execute_result"
    }
   ],
   "source": [
    "a1"
   ]
  },
  {
   "cell_type": "code",
   "execution_count": 33,
   "id": "ad8bef69",
   "metadata": {},
   "outputs": [
    {
     "data": {
      "text/plain": [
       "array([5, 8, 2, 7, 4])"
      ]
     },
     "execution_count": 33,
     "metadata": {},
     "output_type": "execute_result"
    }
   ],
   "source": [
    "a2"
   ]
  },
  {
   "cell_type": "code",
   "execution_count": 34,
   "id": "bfc7629c",
   "metadata": {},
   "outputs": [
    {
     "data": {
      "text/plain": [
       "array([ 8, 14, 10,  9, 13])"
      ]
     },
     "execution_count": 34,
     "metadata": {},
     "output_type": "execute_result"
    }
   ],
   "source": [
    "a1 + a2"
   ]
  },
  {
   "cell_type": "code",
   "execution_count": 16,
   "id": "458c8ae2",
   "metadata": {},
   "outputs": [],
   "source": [
    "a = np.array(getallen)"
   ]
  },
  {
   "cell_type": "code",
   "execution_count": 17,
   "id": "5d7125f0",
   "metadata": {},
   "outputs": [
    {
     "data": {
      "text/plain": [
       "array([2, 3, 4, 5, 6])"
      ]
     },
     "execution_count": 17,
     "metadata": {},
     "output_type": "execute_result"
    }
   ],
   "source": [
    "a + 1"
   ]
  },
  {
   "cell_type": "code",
   "execution_count": 20,
   "id": "ad9ffb8c",
   "metadata": {},
   "outputs": [],
   "source": [
    "import random\n",
    "getallen = [random.randint(1,100) for _ in range(1000)]"
   ]
  },
  {
   "cell_type": "code",
   "execution_count": 22,
   "id": "cfde6935",
   "metadata": {},
   "outputs": [],
   "source": [
    "a = np.array(getallen)"
   ]
  },
  {
   "cell_type": "code",
   "execution_count": 24,
   "id": "5323dd4f",
   "metadata": {},
   "outputs": [
    {
     "name": "stdout",
     "output_type": "stream",
     "text": [
      "36.6 µs ± 246 ns per loop (mean ± std. dev. of 7 runs, 10000 loops each)\n"
     ]
    }
   ],
   "source": [
    "%timeit [x + 1 for x in getallen]"
   ]
  },
  {
   "cell_type": "code",
   "execution_count": 25,
   "id": "7242da50",
   "metadata": {},
   "outputs": [
    {
     "name": "stdout",
     "output_type": "stream",
     "text": [
      "921 ns ± 5.34 ns per loop (mean ± std. dev. of 7 runs, 1000000 loops each)\n"
     ]
    }
   ],
   "source": [
    "%timeit a + 1"
   ]
  },
  {
   "cell_type": "code",
   "execution_count": 41,
   "id": "0fcccb76",
   "metadata": {},
   "outputs": [
    {
     "data": {
      "text/plain": [
       "dtype('float64')"
      ]
     },
     "execution_count": 41,
     "metadata": {},
     "output_type": "execute_result"
    }
   ],
   "source": [
    "a1.dtype"
   ]
  },
  {
   "cell_type": "code",
   "execution_count": 54,
   "id": "e6a4c03c",
   "metadata": {},
   "outputs": [
    {
     "data": {
      "text/plain": [
       "array([ 1,  2,  3,  4,  5,  6,  7,  8,  9, 10, 11, 12, 13, 14, 15, 16, 17,\n",
       "       18, 19, 20, 21, 22, 23, 24, 25, 26, 27, 28, 29, 30, 31, 32])"
      ]
     },
     "execution_count": 54,
     "metadata": {},
     "output_type": "execute_result"
    }
   ],
   "source": [
    "m = np.arange(1, 33)\n",
    "m"
   ]
  },
  {
   "cell_type": "code",
   "execution_count": 55,
   "id": "75197301",
   "metadata": {},
   "outputs": [
    {
     "data": {
      "text/plain": [
       "(32,)"
      ]
     },
     "execution_count": 55,
     "metadata": {},
     "output_type": "execute_result"
    }
   ],
   "source": [
    "m.shape"
   ]
  },
  {
   "cell_type": "code",
   "execution_count": 56,
   "id": "85909d15",
   "metadata": {},
   "outputs": [
    {
     "data": {
      "text/plain": [
       "1"
      ]
     },
     "execution_count": 56,
     "metadata": {},
     "output_type": "execute_result"
    }
   ],
   "source": [
    "m.ndim"
   ]
  },
  {
   "cell_type": "code",
   "execution_count": 59,
   "id": "8c4bcfce",
   "metadata": {},
   "outputs": [
    {
     "data": {
      "text/plain": [
       "array([[ 1,  2,  3,  4,  5,  6,  7,  8],\n",
       "       [ 9, 10, 11, 12, 13, 14, 15, 16],\n",
       "       [17, 18, 19, 20, 21, 22, 23, 24],\n",
       "       [25, 26, 27, 28, 29, 30, 31, 32]])"
      ]
     },
     "execution_count": 59,
     "metadata": {},
     "output_type": "execute_result"
    }
   ],
   "source": [
    "m.reshape(4,8)"
   ]
  },
  {
   "cell_type": "code",
   "execution_count": 62,
   "id": "9328a2f3",
   "metadata": {},
   "outputs": [],
   "source": [
    "x = np.linspace(1, 32, 100)"
   ]
  },
  {
   "cell_type": "code",
   "execution_count": 68,
   "id": "2980eafa",
   "metadata": {},
   "outputs": [],
   "source": [
    "y = 2*(x-15)**2 + 6*(x-15) + 90"
   ]
  },
  {
   "cell_type": "code",
   "execution_count": 69,
   "id": "3554818b",
   "metadata": {},
   "outputs": [],
   "source": [
    "import matplotlib.pyplot as plt"
   ]
  },
  {
   "cell_type": "code",
   "execution_count": 70,
   "id": "b26dad59",
   "metadata": {},
   "outputs": [
    {
     "data": {
      "image/png": "[encoded data removed]",
      "text/plain": [
       "<Figure size 432x288 with 1 Axes>"
      ]
     },
     "metadata": {
      "needs_background": "light"
     },
     "output_type": "display_data"
    }
   ],
   "source": [
    "plt.plot(x, y)\n",
    "plt.show()"
   ]
  },
  {
   "cell_type": "code",
   "execution_count": 71,
   "id": "26c17559",
   "metadata": {},
   "outputs": [],
   "source": [
    "y2 = np.sin(x)"
   ]
  },
  {
   "cell_type": "code",
   "execution_count": 72,
   "id": "9051a2a3",
   "metadata": {},
   "outputs": [
    {
     "data": {
      "image/png": "[encoded data removed]",
      "text/plain": [
       "<Figure size 432x288 with 1 Axes>"
      ]
     },
     "metadata": {
      "needs_background": "light"
     },
     "output_type": "display_data"
    }
   ],
   "source": [
    "plt.plot(x, y2)\n",
    "plt.show()"
   ]
  },
  {
   "cell_type": "code",
   "execution_count": 73,
   "id": "404a6937",
   "metadata": {},
   "outputs": [
    {
     "data": {
      "text/plain": [
       "array([3., 6., 8., 2., 9.])"
      ]
     },
     "execution_count": 73,
     "metadata": {},
     "output_type": "execute_result"
    }
   ],
   "source": [
    "a1"
   ]
  },
  {
   "cell_type": "code",
   "execution_count": 74,
   "id": "c1802736",
   "metadata": {},
   "outputs": [
    {
     "data": {
      "text/plain": [
       "array([5, 8, 2, 7, 4])"
      ]
     },
     "execution_count": 74,
     "metadata": {},
     "output_type": "execute_result"
    }
   ],
   "source": [
    "a2"
   ]
  },
  {
   "cell_type": "code",
   "execution_count": 75,
   "id": "ec39f32e",
   "metadata": {},
   "outputs": [
    {
     "data": {
      "text/plain": [
       "array([False, False,  True, False,  True])"
      ]
     },
     "execution_count": 75,
     "metadata": {},
     "output_type": "execute_result"
    }
   ],
   "source": [
    "a1 > a2"
   ]
  },
  {
   "cell_type": "code",
   "execution_count": 76,
   "id": "488c90bb",
   "metadata": {},
   "outputs": [
    {
     "data": {
      "text/plain": [
       "array([False,  True,  True, False,  True])"
      ]
     },
     "execution_count": 76,
     "metadata": {},
     "output_type": "execute_result"
    }
   ],
   "source": [
    "a1 > 5"
   ]
  },
  {
   "cell_type": "code",
   "execution_count": 80,
   "id": "a4c3a985",
   "metadata": {},
   "outputs": [
    {
     "data": {
      "text/plain": [
       "array([ True,  True,  True,  True,  True])"
      ]
     },
     "execution_count": 80,
     "metadata": {},
     "output_type": "execute_result"
    }
   ],
   "source": [
    "(a1 > 5) | (a1 < 9)"
   ]
  },
  {
   "cell_type": "code",
   "execution_count": 81,
   "id": "c5d0b52f",
   "metadata": {},
   "outputs": [
    {
     "data": {
      "text/plain": [
       "50.2"
      ]
     },
     "execution_count": 81,
     "metadata": {},
     "output_type": "execute_result"
    }
   ],
   "source": [
    "a.mean()"
   ]
  },
  {
   "cell_type": "code",
   "execution_count": 83,
   "id": "bcfa3165",
   "metadata": {},
   "outputs": [
    {
     "data": {
      "text/plain": [
       "29.35356877791864"
      ]
     },
     "execution_count": 83,
     "metadata": {},
     "output_type": "execute_result"
    }
   ],
   "source": [
    "a.std()"
   ]
  },
  {
   "cell_type": "code",
   "execution_count": 85,
   "id": "1f9af691",
   "metadata": {},
   "outputs": [
    {
     "data": {
      "text/plain": [
       "48.0"
      ]
     },
     "execution_count": 85,
     "metadata": {},
     "output_type": "execute_result"
    }
   ],
   "source": [
    "np.median(a)"
   ]
  },
  {
   "cell_type": "code",
   "execution_count": 87,
   "id": "c47ef9dd",
   "metadata": {},
   "outputs": [],
   "source": [
    "r = np.random.randn(1000)"
   ]
  },
  {
   "cell_type": "code",
   "execution_count": 89,
   "id": "a6087638",
   "metadata": {},
   "outputs": [
    {
     "data": {
      "text/plain": [
       "-0.0245737385487043"
      ]
     },
     "execution_count": 89,
     "metadata": {},
     "output_type": "execute_result"
    }
   ],
   "source": [
    "r.mean()"
   ]
  },
  {
   "cell_type": "code",
   "execution_count": 90,
   "id": "188d6580",
   "metadata": {},
   "outputs": [
    {
     "data": {
      "text/plain": [
       "1.037487133266891"
      ]
     },
     "execution_count": 90,
     "metadata": {},
     "output_type": "execute_result"
    }
   ],
   "source": [
    "r.std()"
   ]
  },
  {
   "cell_type": "code",
   "execution_count": 91,
   "id": "76e6d600",
   "metadata": {},
   "outputs": [
    {
     "data": {
      "image/png": "[encoded data removed]",
      "text/plain": [
       "<Figure size 432x288 with 1 Axes>"
      ]
     },
     "metadata": {
      "needs_background": "light"
     },
     "output_type": "display_data"
    }
   ],
   "source": [
    "plt.hist(r)\n",
    "plt.show()"
   ]
  },
  {
   "cell_type": "code",
   "execution_count": 92,
   "id": "29221c87",
   "metadata": {},
   "outputs": [
    {
     "data": {
      "image/png": "[encoded data removed]",
      "text/plain": [
       "<Figure size 432x288 with 1 Axes>"
      ]
     },
     "metadata": {
      "needs_background": "light"
     },
     "output_type": "display_data"
    }
   ],
   "source": [
    "plt.boxplot(r)\n",
    "plt.show()"
   ]
  },
  {
   "cell_type": "code",
   "execution_count": 95,
   "id": "dee82b4d",
   "metadata": {},
   "outputs": [
    {
     "data": {
      "text/plain": [
       "array([32,  3, 68, 84, 27, 11, 48, 79, 92, 37, 27, 84, 14, 20, 42, 88, 48])"
      ]
     },
     "execution_count": 95,
     "metadata": {},
     "output_type": "execute_result"
    }
   ],
   "source": [
    "a = np.random.randint(1, 100, 17)\n",
    "a"
   ]
  },
  {
   "cell_type": "code",
   "execution_count": 96,
   "id": "74a585a6",
   "metadata": {},
   "outputs": [
    {
     "data": {
      "text/plain": [
       "47.294117647058826"
      ]
     },
     "execution_count": 96,
     "metadata": {},
     "output_type": "execute_result"
    }
   ],
   "source": [
    "a.mean()"
   ]
  },
  {
   "cell_type": "code",
   "execution_count": 98,
   "id": "a8f8cdd1",
   "metadata": {},
   "outputs": [
    {
     "data": {
      "text/plain": [
       "array([ 3, 11, 14, 20, 27, 27, 32, 37, 42, 48, 48, 68, 79, 84, 84, 88, 92])"
      ]
     },
     "execution_count": 98,
     "metadata": {},
     "output_type": "execute_result"
    }
   ],
   "source": [
    "a.sort()\n",
    "a"
   ]
  },
  {
   "cell_type": "code",
   "execution_count": 101,
   "id": "acedff06",
   "metadata": {},
   "outputs": [
    {
     "data": {
      "text/plain": [
       "42.0"
      ]
     },
     "execution_count": 101,
     "metadata": {},
     "output_type": "execute_result"
    }
   ],
   "source": [
    "np.median(a)"
   ]
  },
  {
   "cell_type": "code",
   "execution_count": 108,
   "id": "a588631f",
   "metadata": {},
   "outputs": [],
   "source": [
    "q1 = np.quantile(r, 0.25)\n",
    "q2 = np.quantile(r, 0.5)\n",
    "q3 = np.quantile(r, 0.75)"
   ]
  },
  {
   "cell_type": "code",
   "execution_count": 109,
   "id": "690ebde2",
   "metadata": {},
   "outputs": [
    {
     "data": {
      "text/plain": [
       "(-0.7337989244228471, -0.039131258585698776, 0.670068024530649)"
      ]
     },
     "execution_count": 109,
     "metadata": {},
     "output_type": "execute_result"
    }
   ],
   "source": [
    "q1, q2, q3"
   ]
  },
  {
   "cell_type": "code",
   "execution_count": 116,
   "id": "50b35f9e",
   "metadata": {},
   "outputs": [
    {
     "data": {
      "text/plain": [
       "500"
      ]
     },
     "execution_count": 116,
     "metadata": {},
     "output_type": "execute_result"
    }
   ],
   "source": [
    "np.sum((r>q1) & (r<q3))"
   ]
  },
  {
   "cell_type": "code",
   "execution_count": 127,
   "id": "dc57b5fc",
   "metadata": {},
   "outputs": [
    {
     "data": {
      "text/plain": [
       "array([ 3.96862857e-01, -6.65063600e-02, -1.68425956e+00, -1.61173971e+00,\n",
       "       -5.21667102e-01,  5.71721591e-01,  4.48080078e-01,  7.98812782e-02,\n",
       "        1.04708826e+00,  1.43394352e+00, -2.12229052e-01,  1.76954283e+00,\n",
       "       -1.11175095e+00,  2.97078633e-01, -6.95902638e-01, -8.59521909e-01,\n",
       "        6.54021155e-01,  1.02237783e+00,  2.84118161e+00,  3.49761060e-01,\n",
       "        1.07545582e+00,  6.97891666e-01, -5.04795187e-01,  6.59223572e-01,\n",
       "        1.31703057e+00,  5.94990673e-01, -2.31473436e+00, -3.24807517e-01,\n",
       "       -4.77648759e-01,  1.91549776e-01, -4.93439601e-01, -5.26066672e-01,\n",
       "       -1.59614163e+00,  1.38815961e+00,  6.17772323e-01, -7.12267162e-01,\n",
       "        5.30946594e-02,  1.97563659e-01,  1.45219901e+00, -4.43257728e-01,\n",
       "        9.18843910e-01,  8.49984260e-01, -1.40162635e+00, -3.70593443e-01,\n",
       "       -1.15395087e+00, -2.55475298e-02, -1.85223171e+00,  1.05318663e+00,\n",
       "       -3.10253342e-01, -9.81925712e-01, -1.28888733e+00, -1.24203271e+00,\n",
       "        3.40279923e-01,  1.09235347e+00, -6.99985158e-02, -5.25868534e-01,\n",
       "        4.03137257e-01,  4.66801695e-01, -2.02335481e+00, -8.25434327e-01,\n",
       "       -1.37100450e+00,  2.75303001e-01,  1.62227345e+00, -4.71473242e-01,\n",
       "        1.99243383e-01, -1.63851150e-01, -5.09111412e-01, -3.92024489e-01,\n",
       "       -1.91893839e-01, -1.18440907e-01, -1.38371962e+00,  2.90191964e-01,\n",
       "       -1.35299777e+00, -1.29326676e+00, -7.65995960e-02,  2.29865185e+00,\n",
       "        3.08781215e-02, -4.61268186e-03, -2.22896621e+00,  1.05205349e-01,\n",
       "       -8.67611489e-01,  1.23767802e-01,  1.80494466e+00,  1.30451050e+00,\n",
       "        4.76106649e-01,  2.04936069e+00,  2.18557462e+00,  3.08094179e-01,\n",
       "       -1.51122942e+00, -3.94835341e-01, -7.60268211e-01,  4.07373461e-01,\n",
       "       -8.88698315e-01,  4.47246058e-01, -7.14858596e-01, -3.97900161e-01,\n",
       "       -2.68252979e-01,  2.55404193e-01, -5.73349816e-01,  1.72348100e+00,\n",
       "        4.86395763e-01,  2.69424252e-01, -8.65684001e-01, -2.14509126e-01,\n",
       "       -2.94511491e-01,  6.76456226e-01,  8.87611367e-01,  8.24004933e-01,\n",
       "        2.11008567e-01,  1.33601741e+00,  1.73682954e+00,  6.70292493e-01,\n",
       "        1.42487660e+00, -1.22386779e+00, -3.77702823e-01,  6.71811789e-01,\n",
       "       -3.58658257e-01, -1.35833651e+00,  2.77235558e-01,  2.53680411e+00,\n",
       "        6.35528855e-01, -1.51156079e-01, -3.96568445e-03, -4.84409251e-01,\n",
       "       -3.21826093e-01, -4.98686407e-01, -1.72058444e+00, -6.78031593e-01,\n",
       "        1.34011073e+00, -9.16307972e-01, -4.62190510e-02,  1.03323587e+00,\n",
       "        2.04892075e-01, -7.90438407e-01, -5.62391918e-01, -1.32759952e+00,\n",
       "        2.52016718e-01, -6.18493480e-01,  5.37137932e-02, -1.11243821e+00,\n",
       "        7.41060421e-01, -1.24887744e+00, -5.22414522e-01,  1.49931427e+00,\n",
       "       -6.55830137e-01, -1.08365920e-01,  1.78663428e+00,  1.58214338e+00,\n",
       "       -9.82728907e-01,  2.72763872e+00,  3.96618892e-01,  1.76981689e-01,\n",
       "        1.83365604e-01,  1.46351947e+00, -1.05731752e+00, -6.30601374e-01,\n",
       "        3.20348109e-01,  1.14491527e+00, -2.38692055e-01,  1.42150176e+00,\n",
       "       -1.40109012e+00, -8.31553972e-02,  7.88261187e-01,  1.84980919e+00,\n",
       "       -1.12628552e+00, -6.71966729e-01, -6.04715289e-02,  9.33338125e-02,\n",
       "        7.66362480e-01,  5.75888753e-01, -2.32323605e+00,  1.24598349e-01,\n",
       "       -1.44011322e-01, -1.50454620e+00,  1.38521103e+00,  6.61958956e-01,\n",
       "        9.38051618e-01,  1.66732253e+00,  6.77013326e-01, -6.62963530e-01,\n",
       "       -1.24118401e+00,  3.30452448e-01,  8.77669946e-01,  2.08950099e-01,\n",
       "       -1.39651776e+00,  3.24960634e+00,  2.91334489e-01,  1.77269975e+00,\n",
       "       -3.73860997e-02,  3.36811324e-01,  1.52547196e+00,  9.04440407e-01,\n",
       "        1.89639048e+00, -8.57677450e-01, -3.93135468e-01, -6.62344969e-01,\n",
       "       -6.58326490e-01,  7.92576922e-01, -2.30844668e+00, -8.52028726e-01,\n",
       "       -1.39866820e+00, -1.40911183e+00,  5.79582878e-01, -1.65781213e+00,\n",
       "       -4.98384584e-01, -1.30765082e+00, -2.34380206e+00, -4.07685025e-02,\n",
       "       -6.68769039e-02, -1.78595447e+00, -4.54455781e-02, -1.31744857e+00,\n",
       "       -1.05192374e+00,  3.86602957e-01,  7.32554932e-01, -7.75939725e-01,\n",
       "        5.27080057e-03, -1.12567249e+00,  1.40762033e-01, -1.04719228e+00,\n",
       "       -1.34952505e+00, -1.65770533e-01, -1.69063504e+00, -3.05715355e-01,\n",
       "        1.63983301e+00, -1.16161030e+00, -1.71685991e-03, -4.15557072e-01,\n",
       "       -8.36394800e-01,  1.30818458e+00, -5.76081539e-01,  7.10473235e-01,\n",
       "        2.55861802e+00,  1.74849867e+00,  1.32670907e+00,  1.88100076e-01,\n",
       "        2.25263701e-01,  3.30185319e+00,  7.67415123e-01, -5.83980929e-01,\n",
       "       -7.67827313e-01, -1.94339109e+00, -1.59648166e-01, -1.84698991e+00,\n",
       "        1.37531186e-01,  6.87064098e-01,  5.50237373e-01, -1.29295077e+00,\n",
       "       -1.77265775e+00, -1.04169038e+00,  1.13701680e+00,  5.78356214e-01,\n",
       "        1.52654341e+00,  3.29038701e+00,  1.61384892e+00, -6.64977398e-01,\n",
       "        2.30114223e-01, -7.46508986e-01,  1.41313212e+00, -1.12003891e-01,\n",
       "       -2.03255011e+00, -1.94144491e+00,  3.20538944e-01,  1.55675291e-01,\n",
       "        4.83532631e-01, -4.44991003e-01,  3.71429067e-01,  1.15185307e-01,\n",
       "        2.70698785e+00, -3.61891773e-01, -3.04633016e-01,  6.94767295e-01,\n",
       "       -1.34914154e+00, -2.24529777e-01, -8.55576479e-02, -1.20522535e+00,\n",
       "        1.19132766e+00, -1.06602341e+00, -3.11820182e-01,  1.12633104e-01,\n",
       "        6.72547445e-01,  4.67627411e-01,  2.58006367e+00, -1.01088861e+00,\n",
       "       -2.42609708e+00, -6.68384550e-01, -1.28315263e+00, -6.50366448e-01,\n",
       "       -1.55077768e+00,  9.10705013e-01,  3.57023517e-01, -1.01470126e+00,\n",
       "       -1.93951100e+00, -9.19556381e-01, -3.84718786e-01,  1.54208378e-01,\n",
       "       -3.09562289e-01, -7.15326919e-01, -1.42728171e+00, -2.24445998e+00,\n",
       "        2.38682027e-01,  3.76710751e-01, -6.62332624e-01,  1.18208665e+00,\n",
       "        5.67485314e-01,  1.17345014e+00,  1.09653371e+00,  9.29925119e-01,\n",
       "       -1.39556956e+00,  2.01201269e-01,  1.66976938e+00, -2.66575217e-01,\n",
       "       -1.40014911e+00,  1.09363525e+00,  6.78879034e-01,  1.25668717e+00,\n",
       "       -1.94380543e+00,  9.99809396e-01,  7.37532866e-02, -9.88642797e-02,\n",
       "        2.35443783e+00, -8.88768724e-01,  4.26217483e-01, -1.73154875e+00,\n",
       "       -1.28372482e+00,  7.54276065e-02, -7.25980835e-01,  1.25268410e+00,\n",
       "        4.20655377e-01, -1.20506586e-01,  3.81342883e-02,  5.86969129e-01,\n",
       "       -1.43178856e+00,  5.93971287e-01,  1.26370255e+00, -8.74412427e-01,\n",
       "        4.04204645e-01, -7.37841564e-01, -4.78718155e-01,  1.15126606e+00,\n",
       "       -3.16988329e-01, -3.23785759e-01, -2.58676807e-01,  8.67021433e-03,\n",
       "       -7.53009035e-01,  2.00373958e-01,  5.98851208e-02,  1.24636246e+00,\n",
       "        6.82422644e-01, -1.06263769e-02,  6.94763166e-01, -4.07099233e-01,\n",
       "       -5.38013706e-01, -1.83123762e-01, -5.67176674e-01, -1.11729723e+00,\n",
       "       -1.43817837e+00, -5.01440046e-02,  5.28649623e-01, -1.00873948e+00,\n",
       "        1.09714481e+00, -1.14434047e+00,  6.66094263e-02, -5.13864742e-01,\n",
       "        1.66205898e+00, -3.42240073e-01,  1.52942548e-01, -3.85130690e-03,\n",
       "        3.47403181e-01,  5.43715603e-01,  1.14364180e+00, -8.82111865e-01,\n",
       "       -8.17555616e-01,  7.13477294e-01,  5.46595094e-01,  6.54035074e-01,\n",
       "       -1.47120334e+00, -7.71645084e-01, -1.09645111e+00,  1.86222565e+00,\n",
       "        3.31721509e-01,  1.97585737e-01, -4.91403572e-01, -8.50792092e-02,\n",
       "       -1.13412698e+00,  9.09017789e-01, -1.31703544e+00, -5.66085807e-01,\n",
       "       -7.72249890e-01, -8.75992885e-01, -3.07853059e+00, -6.89923125e-01,\n",
       "       -3.74940147e-02,  7.86436380e-01, -6.94038955e-01,  1.04276490e+00,\n",
       "        2.29051413e-01, -4.14351491e-01,  3.48127938e-01,  1.10812258e+00,\n",
       "       -8.81937816e-01,  1.55738319e+00,  9.86840220e-01,  1.62326376e-01,\n",
       "       -1.53780841e-01, -1.20671002e-01, -1.13691352e+00, -6.03740035e-01,\n",
       "        9.81508507e-01,  4.68866098e-01,  1.46090392e+00,  1.61293998e+00,\n",
       "       -3.75991803e-01,  7.36584097e-01, -3.93255256e-01,  1.51640228e+00,\n",
       "       -1.44352577e+00, -1.41159130e+00,  1.06588877e-01,  2.52191698e+00,\n",
       "        7.07074009e-02, -7.20342029e-02, -7.06430957e-01, -1.18897784e+00,\n",
       "        2.55279303e-01,  6.44111253e-02,  1.00032067e+00,  5.50593429e-01,\n",
       "        5.77210496e-01, -1.31802705e+00, -2.51510443e-01, -1.59512455e+00,\n",
       "       -8.81007077e-02, -3.37726516e-01, -5.06676554e-01,  1.65272176e-01,\n",
       "        1.22238124e+00, -5.37177667e-01, -1.07701813e+00,  1.48185291e-01,\n",
       "        1.04932201e+00,  1.41360565e+00, -4.38208713e-01,  7.32473067e-01,\n",
       "       -9.96475963e-01,  5.00346148e-01, -3.89789652e-01,  4.91665533e-02,\n",
       "       -7.16512616e-01, -4.47165964e-01,  7.20021962e-01,  6.74047296e-01,\n",
       "        1.28202366e-01,  3.08147386e-01,  1.95563192e-01, -1.22395188e+00,\n",
       "        6.69993202e-01,  8.20175682e-01,  1.27924373e-01,  5.80614372e-01,\n",
       "        5.63972532e-01, -1.55412983e+00,  4.18120742e-01,  1.08739044e+00,\n",
       "        2.25663616e-01,  1.41774270e-01, -1.52359530e-01,  5.59387132e-01,\n",
       "       -1.84568964e-01, -2.01665339e-01,  8.67100443e-01, -1.19187182e+00,\n",
       "        2.58916631e+00, -1.23869769e+00,  3.22285981e-01,  1.12564848e+00,\n",
       "        6.21101955e-01, -4.42686774e-01,  1.02943704e+00, -4.17251381e-02,\n",
       "       -1.96128074e+00,  2.55796363e+00, -7.30675319e-02, -1.17704910e+00,\n",
       "       -2.33821707e-01,  4.40826373e-01, -1.03299183e+00, -3.28097131e-01,\n",
       "       -7.40640917e-01,  1.13983637e-01,  7.96841744e-01,  1.78965473e+00,\n",
       "        1.31082959e+00, -1.11337452e+00, -1.31182779e+00,  9.67740166e-01,\n",
       "       -6.62629436e-01, -8.03240683e-01,  2.14139774e-01, -3.67912983e-02,\n",
       "       -1.72097445e+00, -3.93706851e-01, -3.54662652e-01, -1.78966024e+00,\n",
       "        1.42112210e+00,  1.93669817e-02, -1.16980303e+00,  1.41330989e+00,\n",
       "        6.97187775e-01,  9.32650264e-01,  6.14012097e-03, -3.60166096e-01,\n",
       "       -6.54779290e-01,  9.22676887e-01, -1.50558298e-01, -7.09228571e-01,\n",
       "        1.53539966e+00, -5.51253242e-01, -1.34334774e-01, -4.32330278e-02,\n",
       "       -1.69336658e-01, -5.76522184e-01,  2.20659959e-01, -5.65740094e-01,\n",
       "       -3.01699321e-01, -3.48023254e-01,  1.86556619e+00, -7.75768192e-01,\n",
       "        7.89202975e-01,  8.60793004e-01,  1.25520804e-01,  1.07653343e+00,\n",
       "        1.32250520e+00,  1.21997229e-01,  9.46314803e-02, -8.11591599e-01,\n",
       "       -5.88705847e-01,  5.93578541e-01,  2.43883765e-01, -1.97947981e+00,\n",
       "        4.51780665e-01, -1.49487110e+00,  1.02926325e+00, -1.10844269e+00,\n",
       "        1.35713696e+00,  7.20995578e-03,  8.64107966e-01,  1.43199735e-01,\n",
       "        1.41844065e-01, -5.65906958e-01,  6.59103847e-01,  1.67278536e+00,\n",
       "        6.89982531e-01, -2.09728717e+00, -4.60821180e-01, -1.64338651e+00,\n",
       "        9.71792576e-01, -8.07553182e-01, -1.19575393e-02, -2.44342611e-02,\n",
       "       -7.53920826e-01, -1.99655725e-01, -6.24153906e-01,  1.37415438e+00,\n",
       "       -2.69359302e-01, -8.25428790e-01, -3.91772055e-01, -2.09627370e+00,\n",
       "        1.02754603e+00, -1.66060178e-01, -8.26814279e-01,  1.22998566e+00,\n",
       "       -2.38279244e+00,  1.26746149e+00, -1.23526659e+00,  2.04673073e-01,\n",
       "        2.62101699e-02, -1.68805510e-01, -7.17049472e-01, -1.59192599e+00,\n",
       "        1.19506032e+00, -3.37690072e-01, -9.04088098e-01, -1.53486991e-01,\n",
       "       -1.83984703e+00, -1.93375706e-01, -1.25777038e+00, -3.77260096e-01,\n",
       "        5.60429262e-01,  1.58661311e+00,  5.49143187e-01, -8.26219475e-01,\n",
       "        5.15119109e-01,  1.69392062e+00, -1.67795482e+00, -1.05125369e+00,\n",
       "        1.42797848e+00, -8.57963248e-01,  3.74616421e-01, -3.09646917e-01,\n",
       "       -1.04787698e+00,  2.84141157e-01,  2.31842923e+00, -6.96019460e-01,\n",
       "       -1.77435349e-02,  4.61126729e-01, -8.18516294e-01, -1.77619008e+00,\n",
       "       -3.02413959e+00, -7.39398605e-01, -1.90234014e-01, -1.50551450e+00,\n",
       "        7.74121290e-01,  2.05503682e+00,  1.34488825e+00, -1.04022416e+00,\n",
       "        1.55810249e+00,  3.12195983e-01,  4.22876801e-01, -7.17268492e-01,\n",
       "        1.28172214e+00,  6.80669750e-01,  7.78430697e-01,  8.31192495e-01,\n",
       "       -2.72479446e-01,  3.98719888e-01, -1.93859388e+00,  3.61088392e-01,\n",
       "        2.07511571e-01, -7.57354327e-01, -1.27056652e+00, -2.16427400e+00,\n",
       "       -1.16041509e+00,  8.39051638e-01, -1.06828235e-02, -1.67218334e+00,\n",
       "        9.04319883e-02,  1.83056730e+00, -1.04544646e+00, -2.44730168e-01,\n",
       "       -6.98689214e-01, -7.32451378e-01, -2.56133645e-01,  4.50062162e-01,\n",
       "       -5.64965090e-01, -1.53221394e+00,  7.51066105e-02,  2.21871882e-01,\n",
       "       -2.71592382e-01,  9.84454358e-02, -9.48022240e-01,  3.10770924e-01,\n",
       "        9.60462104e-01, -1.36248437e+00,  1.62945747e-01,  1.13793633e+00,\n",
       "       -1.15403521e+00, -1.31132840e+00, -5.94391162e-01,  1.66578831e+00,\n",
       "       -1.12643615e+00, -1.31236904e-01, -6.83696564e-02,  7.55506070e-01,\n",
       "        1.63240695e+00,  2.06894054e-01,  4.70199714e-01,  3.24432666e-01,\n",
       "       -2.15913735e+00,  1.14460825e+00,  6.75141908e-01,  6.16286302e-01,\n",
       "        6.51772689e-02,  1.42845628e+00, -2.71126377e+00,  1.48897579e-01,\n",
       "        1.10378751e+00, -1.87048336e-01, -1.32672695e-01, -2.03852153e+00,\n",
       "        6.06175256e-01, -1.40576056e+00,  9.33714450e-01,  2.24001419e-01,\n",
       "       -5.51788702e-01,  9.42285199e-01,  2.57599139e-01,  3.07432693e-01,\n",
       "        3.04055975e-01, -2.10533984e-01,  2.38384128e-01, -9.27016410e-02,\n",
       "        1.29653809e+00, -1.39829609e+00,  3.24675335e-01, -6.07148598e-01,\n",
       "       -1.31030040e-01,  2.21849006e+00, -1.99650812e+00,  2.26216170e+00,\n",
       "       -3.59347310e-01,  4.36596459e-01, -7.87782779e-01,  6.26648991e-01,\n",
       "       -1.39024642e-01, -1.51814920e+00, -5.16313622e-01, -8.42588165e-01,\n",
       "       -1.28832222e+00,  6.54647027e-01,  1.66862805e+00,  7.52522632e-01,\n",
       "       -1.05171794e+00,  9.74125057e-01,  1.36657999e+00,  1.42548478e+00,\n",
       "        1.65137836e+00,  3.09346688e-01, -1.80149021e+00,  2.14538858e+00,\n",
       "        3.76302213e-02,  1.39884429e-01, -5.24430624e-01, -9.65730445e-01,\n",
       "       -9.09786345e-01,  2.01724060e-01,  1.11559341e+00,  1.93294087e-01,\n",
       "        2.68225401e-01,  6.53825952e-02,  9.65030149e-01,  1.56877826e+00,\n",
       "       -2.42469659e-01,  8.73867095e-01, -8.09488855e-03,  1.60212175e-02,\n",
       "       -1.26870359e+00,  3.26123279e-01,  9.60776421e-01,  1.55077240e+00,\n",
       "       -1.40882636e-01, -2.72161262e+00, -6.90725459e-01, -1.07432029e+00,\n",
       "       -2.33210700e+00, -4.04423009e-01, -1.89888046e-01, -1.03438663e+00,\n",
       "       -2.49408042e-01,  8.55425966e-01,  1.55772373e+00, -3.90881183e-01,\n",
       "        1.17664508e+00, -1.11575573e+00, -4.62603112e-01,  1.69009551e+00,\n",
       "       -8.43599410e-01, -9.02243564e-01, -4.01310395e-01, -1.06388072e+00,\n",
       "       -9.72644978e-01,  4.35918487e-01,  4.74115135e-01, -1.40577311e+00,\n",
       "       -1.04705340e+00,  1.63256035e-01,  5.60759933e-01,  1.57152762e+00,\n",
       "       -9.27249778e-01, -1.67675558e+00,  1.03645900e+00, -9.44147136e-01,\n",
       "        1.29782765e+00,  3.27661130e-01, -7.66640685e-01,  5.24810834e-02,\n",
       "       -5.56933014e-01,  3.86138573e-01, -2.66394075e-01,  1.33728846e-01,\n",
       "        3.86036097e-01, -1.25480365e-01, -1.97518448e-01, -3.46814675e-01,\n",
       "       -6.09193765e-01, -9.55030098e-01, -2.87512338e-01, -1.88064815e+00,\n",
       "       -1.27316884e+00,  3.46012917e-01, -1.15893844e-02, -6.67601723e-01,\n",
       "        1.58268338e-02, -6.72220281e-02, -4.83668810e-01, -1.97326898e+00,\n",
       "       -1.69679455e+00,  2.65372334e+00,  4.37740116e-02, -4.43404582e-01,\n",
       "        1.17603505e-01,  4.75571390e-02, -3.64237075e-01, -6.55016344e-01,\n",
       "       -1.16326611e-01, -1.15562500e+00, -7.97780837e-01, -5.72995329e-02,\n",
       "        5.21174265e-01,  5.81935677e-01, -4.11213859e-01,  5.28676947e-01,\n",
       "        3.74275779e-01, -3.11531561e-02,  1.10774440e-01, -1.08251021e-01,\n",
       "        1.20291643e+00, -1.52689891e+00,  7.01747127e-01, -7.26692261e-01,\n",
       "       -1.31737033e+00, -9.74720647e-01,  1.03163822e+00, -1.06213356e+00,\n",
       "        1.05470503e+00, -1.07880472e+00, -1.96456908e-01,  1.70124061e+00,\n",
       "       -4.55867223e-01, -9.78758897e-01,  9.39065232e-01,  3.28929347e-01,\n",
       "       -1.03809423e+00,  1.11756851e+00,  7.92104316e-02, -7.14531449e-01,\n",
       "       -1.03857968e+00,  2.13808983e+00,  4.32833954e-01,  4.67709861e-01,\n",
       "        6.18191099e-01, -1.49984499e+00, -1.02065577e+00,  7.11822676e-01,\n",
       "       -1.24757468e+00,  3.26097887e-01,  1.27210827e+00,  9.85328531e-02,\n",
       "        1.22266553e+00, -3.40050481e-01, -3.79760203e-01,  1.44708318e+00,\n",
       "        8.87827887e-01,  5.18944252e-02,  2.95812110e-01, -4.41696447e-01,\n",
       "        2.18465545e-01, -5.24802656e-01,  1.10099374e+00, -8.81065223e-01,\n",
       "       -2.28147620e-01, -6.16716403e-01, -4.33760409e-01, -2.21320666e+00,\n",
       "        1.19316063e+00, -3.06105992e+00, -9.00044825e-02,  1.50524542e+00,\n",
       "       -2.29334051e-01,  1.43355002e+00, -2.01281400e+00,  4.74857599e-01,\n",
       "        1.80357553e+00,  7.20485463e-02,  1.51121403e+00, -5.29137806e-01,\n",
       "        6.85015204e-01,  2.17018467e-01,  1.63280934e+00,  8.36681910e-01,\n",
       "       -3.23859419e-01, -2.09939710e-01, -4.86591496e-01, -1.12475848e+00,\n",
       "       -1.07355160e-01,  1.10014759e+00,  1.59943900e-01,  1.44836369e+00,\n",
       "       -9.44287847e-01, -7.63707255e-01,  5.16214132e-01, -8.28139114e-01,\n",
       "       -1.17709098e+00, -1.38223290e+00,  7.93616793e-01,  1.83483668e-01,\n",
       "        5.29858871e-02, -4.60337813e-01, -6.46949585e-01,  1.82499377e+00,\n",
       "        9.93181969e-01,  2.74138985e+00, -7.37881632e-01, -3.86326811e-01,\n",
       "        2.01267379e-01,  1.27336056e+00,  1.07188772e+00, -4.88965364e-01,\n",
       "        1.90366707e+00,  8.18052495e-01, -2.58028134e+00,  1.49023639e-01,\n",
       "        7.55042093e-01,  6.81913288e-01,  1.49799365e-01,  2.40384950e+00,\n",
       "       -1.19057298e+00,  1.10189468e+00, -1.46705006e-01, -7.11432204e-02,\n",
       "       -4.73235062e-01,  5.25481159e-01,  1.78340371e+00,  2.41127795e-01,\n",
       "        4.19295575e-01, -1.58315252e+00, -7.60069581e-01,  6.04642233e-01,\n",
       "       -8.23983023e-01, -1.01282026e+00, -6.41887980e-01, -1.54832388e+00,\n",
       "        1.81121050e+00, -1.60581690e+00,  6.76417972e-01, -1.83825459e+00,\n",
       "       -1.94569781e+00, -1.98113177e-01, -6.98111882e-01, -5.84753828e-01,\n",
       "       -7.59985430e-01,  1.09311570e+00,  5.46523301e-01,  8.10102077e-01,\n",
       "       -1.05488948e+00,  5.04934346e-01,  4.26825860e-01, -3.45104895e-02,\n",
       "       -1.44755583e-01, -2.72336973e-01,  1.46787800e+00,  4.64273906e-01,\n",
       "        3.79112042e-02, -2.01046118e-01,  1.56917632e+00,  1.83719005e+00,\n",
       "       -2.97011344e-01, -7.63437326e-01, -8.50539415e-02,  7.64309122e-01,\n",
       "       -7.09890457e-01,  1.39316455e-01, -1.22278765e+00, -1.13062986e+00,\n",
       "        1.31707639e+00,  1.78616529e+00, -7.70470610e-01, -1.04944980e+00,\n",
       "        7.86404106e-01, -2.87424553e-01,  7.44328734e-01,  7.27724916e-01,\n",
       "        1.03060401e+00, -5.70726376e-01, -1.86954850e+00, -1.58346861e+00,\n",
       "       -1.86267946e-01, -4.52642657e-01, -8.83408021e-01,  4.48725073e-01,\n",
       "       -1.03004272e-01, -1.68489656e-01, -5.66984148e-01, -5.56510770e-01,\n",
       "       -5.52286351e-01,  4.32166007e-01, -9.58638504e-01, -6.33409030e-01,\n",
       "       -2.20290658e-01,  1.18211898e-01, -9.36968628e-01,  5.65306367e-01,\n",
       "        5.02873204e-01, -1.52355629e+00,  1.64933062e+00,  1.53662530e+00,\n",
       "        2.01656551e-01, -2.56192369e-01, -1.99963660e-01, -5.60433200e-01])"
      ]
     },
     "execution_count": 127,
     "metadata": {},
     "output_type": "execute_result"
    }
   ],
   "source": [
    "r"
   ]
  },
  {
   "cell_type": "code",
   "execution_count": 118,
   "id": "5f86ebd9",
   "metadata": {},
   "outputs": [
    {
     "data": {
      "text/plain": [
       "1.403866948953496"
      ]
     },
     "execution_count": 118,
     "metadata": {},
     "output_type": "execute_result"
    }
   ],
   "source": [
    "iqd = q3 - q1\n",
    "iqd"
   ]
  },
  {
   "cell_type": "code",
   "execution_count": 122,
   "id": "f96f512e",
   "metadata": {},
   "outputs": [],
   "source": [
    "top = q3 + 1.5 * iqd\n",
    "bottom = q1 - 1.5 * iqd"
   ]
  },
  {
   "cell_type": "code",
   "execution_count": 123,
   "id": "b59bbf27",
   "metadata": {},
   "outputs": [
    {
     "data": {
      "text/plain": [
       "(-2.839599347853091, 2.7758684479608933)"
      ]
     },
     "execution_count": 123,
     "metadata": {},
     "output_type": "execute_result"
    }
   ],
   "source": [
    "bottom, top"
   ]
  },
  {
   "cell_type": "code",
   "execution_count": 125,
   "id": "943578e4",
   "metadata": {},
   "outputs": [
    {
     "data": {
      "text/plain": [
       "7"
      ]
     },
     "execution_count": 125,
     "metadata": {},
     "output_type": "execute_result"
    }
   ],
   "source": [
    "np.sum((r < bottom) | (r > top))"
   ]
  },
  {
   "cell_type": "code",
   "execution_count": 126,
   "id": "a740a4bb",
   "metadata": {},
   "outputs": [
    {
     "data": {
      "text/plain": [
       "array([ 2.84118161,  3.24960634,  3.30185319,  3.29038701, -3.07853059,\n",
       "       -3.02413959, -3.06105992])"
      ]
     },
     "execution_count": 126,
     "metadata": {},
     "output_type": "execute_result"
    }
   ],
   "source": [
    "r[(r < bottom) | (r > top)]"
   ]
  },
  {
   "cell_type": "code",
   "execution_count": 133,
   "id": "2866b650",
   "metadata": {},
   "outputs": [
    {
     "data": {
      "text/plain": [
       "array([3., 6., 8., 2., 9.])"
      ]
     },
     "execution_count": 133,
     "metadata": {},
     "output_type": "execute_result"
    }
   ],
   "source": [
    "a1"
   ]
  },
  {
   "cell_type": "code",
   "execution_count": 135,
   "id": "1c23462f",
   "metadata": {},
   "outputs": [],
   "source": [
    "m = m.reshape(4, 8)"
   ]
  },
  {
   "cell_type": "code",
   "execution_count": 136,
   "id": "1e2c67c2",
   "metadata": {},
   "outputs": [
    {
     "data": {
      "text/plain": [
       "array([[ 1,  2,  3,  4,  5,  6,  7,  8],\n",
       "       [ 9, 10, 11, 12, 13, 14, 15, 16],\n",
       "       [17, 18, 19, 20, 21, 22, 23, 24],\n",
       "       [25, 26, 27, 28, 29, 30, 31, 32]])"
      ]
     },
     "execution_count": 136,
     "metadata": {},
     "output_type": "execute_result"
    }
   ],
   "source": [
    "m"
   ]
  },
  {
   "cell_type": "code",
   "execution_count": 139,
   "id": "ed66f833",
   "metadata": {},
   "outputs": [
    {
     "data": {
      "text/plain": [
       "15"
      ]
     },
     "execution_count": 139,
     "metadata": {},
     "output_type": "execute_result"
    }
   ],
   "source": [
    "m[1, 6]"
   ]
  },
  {
   "cell_type": "code",
   "execution_count": 140,
   "id": "317bbd77",
   "metadata": {},
   "outputs": [
    {
     "data": {
      "text/plain": [
       "array([[15, 16],\n",
       "       [23, 24]])"
      ]
     },
     "execution_count": 140,
     "metadata": {},
     "output_type": "execute_result"
    }
   ],
   "source": [
    "m[1:3, 6:]"
   ]
  },
  {
   "cell_type": "code",
   "execution_count": 141,
   "id": "714edeab",
   "metadata": {},
   "outputs": [
    {
     "data": {
      "text/plain": [
       "array([[ 1,  2,  3,  4,  5,  6,  7,  8],\n",
       "       [17, 18, 19, 20, 21, 22, 23, 24]])"
      ]
     },
     "execution_count": 141,
     "metadata": {},
     "output_type": "execute_result"
    }
   ],
   "source": [
    "m[[True, False, True, False]]"
   ]
  },
  {
   "cell_type": "code",
   "execution_count": 143,
   "id": "6e617a54",
   "metadata": {},
   "outputs": [
    {
     "data": {
      "text/plain": [
       "array([ 7, 14, 21, 28])"
      ]
     },
     "execution_count": 143,
     "metadata": {},
     "output_type": "execute_result"
    }
   ],
   "source": [
    "m[m%7==0]"
   ]
  },
  {
   "cell_type": "code",
   "execution_count": 145,
   "id": "635bb9bd",
   "metadata": {},
   "outputs": [
    {
     "data": {
      "text/plain": [
       "array([[25, 26, 27, 28, 29, 30, 31, 32],\n",
       "       [ 1,  2,  3,  4,  5,  6,  7,  8],\n",
       "       [17, 18, 19, 20, 21, 22, 23, 24],\n",
       "       [ 9, 10, 11, 12, 13, 14, 15, 16]])"
      ]
     },
     "execution_count": 145,
     "metadata": {},
     "output_type": "execute_result"
    }
   ],
   "source": [
    "m[[3,0,2,1]]"
   ]
  },
  {
   "cell_type": "code",
   "execution_count": null,
   "id": "a05b1614",
   "metadata": {},
   "outputs": [],
   "source": []
  }
 ],
 "metadata": {
  "kernelspec": {
   "display_name": "Python 3",
   "language": "python",
   "name": "python3"
  },
  "language_info": {
   "codemirror_mode": {
    "name": "ipython",
    "version": 3
   },
   "file_extension": ".py",
   "mimetype": "text/x-python",
   "name": "python",
   "nbconvert_exporter": "python",
   "pygments_lexer": "ipython3",
   "version": "3.8.8"
  }
 },
 "nbformat": 4,
 "nbformat_minor": 5
}
