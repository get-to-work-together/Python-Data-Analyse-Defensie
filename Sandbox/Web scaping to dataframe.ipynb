{
 "cells": [
  {
   "cell_type": "code",
   "execution_count": 1,
   "metadata": {},
   "outputs": [],
   "source": [
    "import re\n",
    "import requests\n",
    "from bs4 import BeautifulSoup\n",
    "\n",
    "import pandas as pd"
   ]
  },
  {
   "cell_type": "code",
   "execution_count": 12,
   "metadata": {},
   "outputs": [],
   "source": [
    "base_url = f'https://www.postnl.nl/over-postnl/werkenbij/vacatures-in-de-postbezorging-sortering/?searchterm=&zipcode=&distance=10'\n",
    "\n",
    "def build_url(page):\n",
    "    return base_url + f'&page={page}'\n"
   ]
  },
  {
   "cell_type": "code",
   "execution_count": 13,
   "metadata": {},
   "outputs": [],
   "source": [
    "def get_page(page):\n",
    "    try:\n",
    "        url = build_url(page)\n",
    "        r = requests.get(url)\n",
    "#         print('Status code:', r.status_code)\n",
    "\n",
    "        if r.status_code == 200:\n",
    "#             print(f'Site found:\\n{url}')\n",
    "            return r\n",
    "        else:\n",
    "            print(f'Error opening:\\n{url}')  \n",
    "\n",
    "    except:\n",
    "        print(f'Cannot open:\\n{url}')\n",
    "        "
   ]
  },
  {
   "cell_type": "code",
   "execution_count": 14,
   "metadata": {},
   "outputs": [],
   "source": [
    "r = get_page(1)"
   ]
  },
  {
   "cell_type": "code",
   "execution_count": 15,
   "metadata": {},
   "outputs": [
    {
     "data": {
      "text/plain": [
       "'\\n<!DOCTYPE html>\\n<html lang=\"nl\" xmlns:og=\"http://ogp.me/ns#\">\\n<head>\\n<title>Vacatures in bezorging en sortering | PostNL</title>\\n<meta name=\"google-site-verification\" content=\"GWGxBXl92bzo7nltDfPaLKbugMtgYNzQ8Rbkuhm6iYk\" />\\n<meta name=\"websiteKey\" content=\"postnl.nl\" />\\n<meta property=\"og:locale\" content=\"nl_NL\" />\\n<meta property=\"og:url\" content=\"https://www.postnl.nl/over-postnl/werkenbij/vacatures-in-de-postbezorging-sortering/?searchterm=&amp;zipcode=&amp;distance=10&amp;page=1\" />\\n<meta property=\"og:site_name\" content=\"PostNL\" />\\n<meta name=\"twitter:image\" content=\"https://www.postnl.nl/img/logo.png\" />\\n<meta property=\"og:image\" content=\"https://www.postnl.nl/img/logo.png\" />\\n<meta property=\"og:title\" content=\"Vacatures bezorgen en sorteren\" />\\n<meta name=\"twitter:title\" content=\"Vacatures bezorgen en sorteren\" />\\n<meta name=\"twitter:description\" content=\"Missing Resource with key: vacancyOverview-production-metaDescription\" />\\n<meta property=\"og:description\" content=\"Missing Resource with key: vacancyOverview-production-metaDescription\" />\\n<meta name=\"twitter:card\" content=\"summary\" />\\n<meta name=\"description\" content=\"Missing Resource with key: vacancyOverview-production-metaDescription\" />\\n<meta name=\"pagelastmodified\" content=\"2020-07-27T11:09:39+00:00\" />\\n<meta name=\"robots\" content=\"index,follow\" />\\n<link rel=\"canonical\" href=\"https://www.postnl.nl/over-postnl/werkenbij/vacatures-in-de-postbezorging-sortering/\" />\\n<meta name=\"personalization:title\" />\\n<meta name=\"personalization:subtitle\" />\\n<meta name=\"personalization:link\" content=\"Meer info\" />\\n<meta name=\"personalization:image\" />\\n<meta name=\"personalization:imagedesktop\" />\\n<meta name=\"personalization:imagemobile\" />\\n<meta name=\"personalization:status\" content=\"Personalized\" />\\n<link rel=\"alternate\" hreflang=\"nl-NL\" href=\"https://www.postnl.nl/over-postnl/werkenbij/vacatures-in-de-postbezorging-sortering/\" />\\n<meta charset=\"utf-8\" />\\n<meta name=\"language\" content=\"nl\" />\\n<meta name=\"publicationID\" content=\"10\" />\\n<meta name=\"viewport\" content=\"width=device-width, initial-scale=1\" />\\n<meta name=\"faq_type\" content=\"None\" />\\n<!-- Apple icons-->\\n<link rel=\"apple-touch-icon-precomposed\" href=\"/img/apple/apple-touch-iphone.png\" />\\n<link rel=\"apple-touch-icon\" href=\"/img/apple/apple-touch-iphone.png\" />\\n<link rel=\"apple-touch-icon\" sizes=\"16x16\" href=\"/img/apple/16x16.png\" />\\n<link rel=\"apple-touch-icon\" sizes=\"32x32\" href=\"/img/apple/32x32.png\" />\\n<link rel=\"apple-touch-icon\" sizes=\"192x192\" href=\"/img/android-chrome-192x192.png\" />\\n<link rel=\"apple-touch-icon\" sizes=\"384x384\" href=\"/img/android-chrome-384x384.png\" />\\n<link rel=\"manifest\" href=\"/manifest.json\" />\\n<link rel=\"mask-icon\" href=\"/img/safari-pinned-tab.svg\" color=\"#ED7000\" />\\n<meta name=\"theme-color\" content=\"#ffffff\" />\\n<!--[if IE]>\\n<meta http-equiv=\"X-UA-Compatible\" content=\"IE=edge\" />\\n<![endif]-->\\n<!-- link href=\"~/node_modules/postnl-uninav/build/css/main-nav.css\" rel=\"stylesheet\" / -->\\n<link href=\"/css/main-PostNL-nav?version=4.6.0.0\" rel=\"stylesheet\" />\\n<!--[if lte IE 9 ]>\\n<script src=\"/js/vendor/respond.js?version=4.6.0.0\"></script>\\n<link rel=\"stylesheet\" href=\"/css/ie.css?version=4.6.0.0\" />\\n<![endif]-->\\n\\n\\n\\n\\n<link href=\"/css/vacancy-production.css?version=4.6.0.0\" rel=\"stylesheet\" />\\n<link rel=\"stylesheet\" href=\"/css/print.css?version=4.6.0.0\" media=\"print\" />\\n<link rel=\"shortcut icon\" type=\"image/x-icon\" href=\"/favicon.ico\" />\\n<script type=\"module\" src=\"/wcdist/pnl/pnl.esm.js\"></script>\\n<script nomodule src=\"/wcdist/pnl.js\"></script>\\n<script>\\nif (document.cookie.split(\\'; \\')\\n.some(function(cookie) {\\nvar\\nname_value = cookie.split(\\'=\\'),\\nname = name_value[0],\\nvalue = name_value[1];\\nreturn name == \\'CookiePermissionInfo\\' &&\\ndecodeURIComponent(value).indexOf(\\'{\"Category\":\"Cat.10\",\"Permission\":true}\\') !== -1;\\n})\\n) {\\nvar script = document.createElement(\\'script\\');\\nscript.src = \"//try.abtasty.com/0c711e9598849bc4b5799dc7bcbbd784.js\";\\ndocument.head.appendChild(script);\\n}\\n</script>\\n<script>\\nvar captchaSiteKey = \\'6Lewj3QUAAAAAL-8a8QPfADFZVlSP5npMxBRK0g-\\';\\n</script>\\n<script src=\"/js/header?version=4.6.0.0\"></script>\\n<!-- Start Innometrics Asynchronous Code PostNL.nl -->\\n<script type=\\'text/javascript\\'>\\n(function (d) {\\nvar apc = d.createElement(\\'script\\'), fs;\\napc.type = \\'text/javascript\\';\\napc.charset = \\'UTF-8\\';\\napc.async = true;\\napc.src = \\'https://apccdn.apsis1.com/live/p/17/05566e28.js\\';\\nfs = d.getElementsByTagName(\\'script\\')[0];\\nfs.parentNode.insertBefore(apc, fs);\\n})(document);\\n</script>\\n<!-- End Innometrics Asynchronous Code -->\\n<!-- Start google Social media information -->\\n<script type=\"application/ld+json\">\\n{\\n\"@context\" : \"http://schema.org\",\\n\"@type\" : \"Organization\",\\n\"name\" : \"PostNL\",\\n\"url\" : \"https://www.postnl.nl\",\\n\"sameAs\" : [\\n\"https://www.facebook.com/PostNL\",\\n\"https://twitter.com/PostNL\",\\n\"https://www.linkedin.com/company/postnl\",\\n\"https://instagram.com/postnl\",\\n\"https://plus.google.com/+PostNLDenHaag\"\\n]\\n}\\n</script>\\n<!-- End google Social media information -->\\n<script type=\"application/ld+json\">\\n{\\n\"@context\": \"http://schema.org\",\\n\"@type\": \"WebSite\",\\n\"url\" : \"https://www.postnl.nl\",\\n\"potentialAction\": {\\n\"@type\": \"SearchAction\",\\n\"target\": \"https://www.postnl.nl/search?q={search_term}&searchsource=googlesitelinksearch\",\\n\"query-input\": \"required name=search_term\"\\n}\\n}\\n</script>\\n<script type=\\'text/javascript\\'>\\nvar appInsights = window.appInsights || function (config) {\\nfunction r(config) { t[config] = function () { var i = arguments; t.queue.push(function () { t[config].apply(t, i) }) } }\\nvar t = { config: config }, u = document, e = window, o = \\'script\\', s = u.createElement(o), i, f; for (s.src = config.url || \\'//az416426.vo.msecnd.net/scripts/a/ai.0.js\\', u.getElementsByTagName(o)[0].parentNode.appendChild(s), t.cookie = u.cookie, t.queue = [], i = [\\'Event\\', \\'Exception\\', \\'Metric\\', \\'PageView\\', \\'Trace\\', \\'Ajax\\']; i.length;)r(\\'track\\' + i.pop()); return r(\\'setAuthenticatedUserContext\\'), r(\\'clearAuthenticatedUserContext\\'), config.disableExceptionTracking || (i = \\'onerror\\', r(\\'_\\' + i), f = e[i], e[i] = function (config, r, u, e, o) { var s = f && f(config, r, u, e, o); return s !== !0 && t[\\'_\\' + i](config, r, u, e, o), s }), t\\n}({\\ninstrumentationKey: \\'8cc116e8-6ea0-4b1d-b1a5-b286b83e257d\\'\\n});\\nwindow.appInsights = appInsights;\\nappInsights.trackPageView();\\n</script>\\n</head>\\n<body class=\"\">\\n<div id=\"cookie-notice\" data-lang=\"nl\" data-url=\"https://jouw.postnl.nl/widgets/cookie-widget/bootstrap.js?\">\\n</div>\\n<!--googleoff: all -->\\n<div id=\"PostNL_globalNav\" class=\"\">\\n<div id=\"PostNL_globalNav_header\">\\n<header class=\"\">\\n<div class=\"header-container\">\\n<div class=\"header-content\">\\n<!-- MOBILE LOGO -->\\n<div class=\"logo-mobile\">\\n<a href=\"/\" title=\"PostNL Home\" class=\"logo-mobile-link\">\\n<img src=\"/img/logo.png?version=4.6.0.0\" alt=\"PostNL Logo\" width=\"40px\" height=\"39px\" class=\"logo-mobile-image\">\\n</a>\\n</div>\\n<!-- MOBILE BUTTONS -->\\n<div class=\"buttons-left\">\\n<div class=\"button mobile-nav\">\\n<span>Menu</span>\\n<div class=\"menu-icon\"></div>\\n</div>\\n</div>\\n<div class=\"navigation-menu\">\\n<!-- SEARCH -->\\n<div class=\"navigation-search\">\\n<form data-publication=\"10\" class=\"new-header-search\" id=\"search-form\" action=\"/search\" method=\"get\"\\ndata-autocomplete-param-name=\"searchEntry\" data-autocomplete-param-value=\"auto-suggest\">\\n<input class=\"gsa-autocomplete autocomplete\"\\ntype=\"search\"\\nname=\"q\"\\nid=\"global-search\"\\ndata-autocomplete-url=\"/search/suggest?version=4.6.0.0\"\\ndata-autocomplete-param=\"q\"\\ndata-autocomplete-host=\"\"\\nplaceholder=\"Zoek op tarieven, verhuisservice, etc\"\\nautocomplete=\"off\">\\n<input type=\"hidden\" name=\"searchEntry\" value=\"searchfield\">\\n<input type=\"hidden\" name=\"boosting_label\">\\n<button type=\"submit\">Zoek</button>\\n<div class=\"suggestion-results small\">\\n<div class=\"gsa-suggestions\"></div>\\n<div class=\"suggestions\"></div>\\n</div>\\n</form>\\n</div>\\n<!-- NAVIGATION -->\\n<nav>\\n<ul>\\n<li class=\"home\">\\n<a href=\"/\" class=\"nav-link\">\\nHome\\n<img src=\"/img/logo.png\" alt=\"Logo PostNL\">\\n</a>\\n</li>\\n<li class=\"backtomenu\">\\n<span>Menu</span>\\n</li>\\n<li class=\"\">\\n<a href=\"/versturen/\" class=\"nav-link\">Versturen</a>\\n<div class=\"submenu\">\\n<ul class=\"general\">\\n<li class=\"\">\\n<a href=\"/versturen/pakket-versturen/\" class=\"nav-link\">\\nPakket versturen</a>\\n</li>\\n<li class=\"\">\\n<a href=\"/versturen/brief-of-kaart-versturen/\" class=\"nav-link\">\\nBrief of kaart versturen</a>\\n</li>\\n<li class=\"\">\\n<a href=\"/versturen/postzegels/\" class=\"nav-link\">\\nPostzegels</a>\\n</li>\\n</ul>\\n<ul class=\"quicklinks\">\\n<li>\\n<a href=\"/tarieven/Brief/NL/0-20g/?pst=sp-pnl-nav-verz-ql1-tarieven\" class=\"nav-link\">\\n<span>Tarieven</span>\\n<img src=\"/Images/Tarieven_tcm10-89906.png\" alt=\"Tarieven\" />\\n</a>\\n</li>\\n<li>\\n<a href=\"https://jouw.postnl.nl/?pst=sp-pnl-nav-verz-ql2-versturen#!/versturen/details\" class=\"nav-link\">\\n<span>Online frankeren</span>\\n<img src=\"/Images/online-frankeren_tcm10-89035.png\" alt=\"Online frankeren\" />\\n</a>\\n</li>\\n<li>\\n<a href=\"https://shop.postnl.nl/webshop/post-en-pakketzegels/?pst=sp-pnl-nav-verz-ql3-shop-zegels\" class=\"nav-link\">\\n<span>Postzegels kopen</span>\\n<img src=\"/Images/postzegels-kopen_tcm10-89036.png\" alt=\"Postzegels kopen\" />\\n</a>\\n</li>\\n<li>\\n<a href=\"https://www.postnl.nl/locatiewijzer/?pst=sp-pnl-nav-verz-ql4-locatiewijzer\" class=\"nav-link\">\\n<span>PostNL-punten</span>\\n<img src=\"/Images/postnl-locaties_tcm10-89034.png\" alt=\"PostNL-punten\" />\\n</a>\\n</li>\\n</ul>\\n</div>\\n</li>\\n<li class=\"\">\\n<a href=\"/ontvangen/\" class=\"nav-link\">Ontvangen</a>\\n<div class=\"submenu\">\\n<ul class=\"general\">\\n<li class=\"\">\\n<a href=\"/ontvangen/post-ontvangen/\" class=\"nav-link\">\\nPost ontvangen</a>\\n</li>\\n<li class=\"\">\\n<a href=\"/ontvangen/pakket-ontvangen/\" class=\"nav-link\">\\nPakket ontvangen</a>\\n</li>\\n<li class=\"\">\\n<a href=\"/ontvangen/post-doorsturen/\" class=\"nav-link\">\\nPost doorsturen</a>\\n</li>\\n</ul>\\n<ul class=\"quicklinks\">\\n<li>\\n<a href=\"https://jouw.postnl.nl/?pst=sp-pnl-nav-ontv-ql1-tracktrace#!/track-and-trace\" class=\"nav-link\">\\n<span>Track &amp; trace</span>\\n<img src=\"/Images/track-trace_tcm10-90134.png\" alt=\"Track &amp; trace\" />\\n</a>\\n</li>\\n<li>\\n<a href=\"/ontvangen/post-doorsturen/verhuisservice/\" class=\"nav-link\">\\n<span>Verhuisservice</span>\\n<img src=\"/Images/Verhuisservice_tcm10-90136.png\" alt=\"Verhuisservice\" />\\n</a>\\n</li>\\n<li>\\n<a href=\"https://portokosten.postnl.nl/?pst=sp-pnl-nav-ontv-ql3-porteninnen\" class=\"nav-link\">\\n<span>Portokosten</span>\\n<img src=\"/Images/porto-innen_tcm10-90135.png\" alt=\"Portokosten\" />\\n</a>\\n</li>\\n<li>\\n<a href=\"https://jouw.postnl.nl/postbusaanvragen/?pst=sp-pnl-nav-ontv-ql4-postbus-aanvragen\" class=\"nav-link\">\\n<span>Postbus aanvragen</span>\\n<img src=\"/Images/postbus-anvragen_tcm10-90137.png\" alt=\"Postbus aanvragen\" />\\n</a>\\n</li>\\n</ul>\\n</div>\\n</li>\\n<li class=\"\">\\n<a href=\"/zakelijke-oplossingen/\" class=\"nav-link\">Zakelijke Oplossingen</a>\\n<div class=\"submenu\">\\n<ul class=\"general\">\\n<li class=\"\">\\n<a href=\"/zakelijke-oplossingen/post-versturen/\" class=\"nav-link\">\\nPost versturen</a>\\n</li>\\n<li class=\"\">\\n<a href=\"/zakelijke-oplossingen/pakket-versturen/\" class=\"nav-link\">\\nPakket versturen</a>\\n</li>\\n<li class=\"\">\\n<a href=\"/zakelijke-oplossingen/logistieke-oplossingen/\" class=\"nav-link\">\\nLogistieke oplossingen</a>\\n</li>\\n<li class=\"\">\\n<a href=\"/zakelijke-oplossingen/ontvangen/\" class=\"nav-link\">\\nOntvangen</a>\\n</li>\\n<li class=\"\">\\n<a href=\"/zakelijke-oplossingen/slimme-dataoplossingen/\" class=\"nav-link\">\\nData oplossingen</a>\\n</li>\\n<li class=\"\">\\n<a href=\"/zakelijke-oplossingen/dossier-e-commerce/\" class=\"nav-link\">\\nDossier e-commerce</a>\\n</li>\\n</ul>\\n</div>\\n</li>\\n<li class=\"\">\\n<a href=\"https://shop.postnl.nl/webshop\" class=\"nav-link\">Webshop</a>\\n<div class=\"submenu\">\\n<ul class=\"general\">\\n<li class=\"\">\\n<a href=\"https://shop.postnl.nl/webshop/post-en-pakketzegels\" class=\"nav-link\">\\nPost- en pakketzegels</a>\\n</li>\\n<li class=\"\">\\n<a href=\"https://shop.postnl.nl/webshop/kantoorartikelen\" class=\"nav-link\">\\nKantoorartikelen</a>\\n</li>\\n<li class=\"\">\\n<a href=\"https://shop.postnl.nl/webshop/cadeaus\" class=\"nav-link\">\\nCadeaus</a>\\n</li>\\n<li class=\"\">\\n<a href=\"https://shop.postnl.nl/webshop/collect-club\" class=\"nav-link\">\\r\\nCollect Club</a>\\n</li>\\n<li class=\"\">\\n<a href=\"https://shop.postnl.nl/webshop/zakelijke-hulpmiddelen\" class=\"nav-link\">\\n<i class=\"icon icon-lock\"></i> Zakelijke hulpmiddelen</a>\\n</li>\\n</ul>\\n</div>\\n</li>\\n<li class=\"\">\\n<a href=\"/klantenservice/\" class=\"nav-link\">Service &amp; Contact</a>\\n</li>\\n</ul>\\n</nav>\\n<div class=\"current-language\" data-language=\"/nl\"></div>\\n</div>\\n<div id=\"account-menu\">\\n<div class=\"account-menu no-mobile widget\">\\n<script>\\n(function() {\\nvar link = document.createElement(\\'link\\');\\nlink.rel = \\'stylesheet\\';\\nlink.href = \\'https://jouw.postnl.nl/services/widgets/styles/postnl-fonts.css\\';\\ndocument.getElementsByTagName(\\'head\\')[0].appendChild(link);\\n})();\\n</script>\\n<script type=\"module\" src=\"https://jouw.postnl.nl/services/widgets/webcomponents/postnl-widgets/postnl-widgets.esm.js\" data-widgets-root></script>\\n<script nomodule src=\"https://jouw.postnl.nl/services/widgets/webcomponents/postnl-widgets/postnl-widgets.js\" data-widgets-root></script>\\n<pnl-user-menu sts-server=\"https://jouw.postnl.nl/identity\"\\nclient-id=\"pnl-postnl-site\"\\ndomain=\"postnl.nl\"\\nsilent-renew-page=\"https://www.postnl.nl/silent-renew.html\"\\nredirect-uri=\"https://www.postnl.nl/\"\\npost-logout-redirect-uri=\"https://www.postnl.nl/\"\\nlanguage=\"nl_NL\"\\nlog-level=\"0\">\\n</pnl-user-menu>\\n<script>\\ndocument.querySelector(\\'pnl-user-menu\\')\\n.addEventListener(\\'onAuthenticationChange\\', function(event) {\\nwindow.userDetails = event.detail;\\n}\\n);\\n</script>\\n</div>\\n</div>\\n<div class=\"carts\">\\n<shop-mini-cart language=\"nl-NL\"></shop-mini-cart>\\n</div>\\n</div>\\n</div>\\n</header>\\n</div>\\n</div>\\n<nav class=\"breadcrumbs\">\\n<h2 class=\"off-screen\">Missing Resource with key: breadcrumbs_you_are_here</h2>\\n<p class=\"content\" itemscope=\"itemscope\" itemtype=\"http://schema.org/BreadcrumbList\"><span class=\"separator\"> &gt; </span><span class=\"child\" itemprop=\"itemListElement\" itemscope=\"itemscope\" itemtype=\"http://schema.org/ListItem\"><a href=\"/over-postnl/\" itemid=\"/over-postnl/\" itemprop=\"item\" itemscope=\"itemscope\" itemtype=\"http://schema.org/Thing\"><span itemprop=\"name\">Over PostNL</span></a><meta content=\"1\" itemprop=\"position\" /></span><span class=\"separator\"> &gt; </span><span class=\"child\" itemprop=\"itemListElement\" itemscope=\"itemscope\" itemtype=\"http://schema.org/ListItem\"><a href=\"/over-postnl/werkenbij/\" itemid=\"/over-postnl/werkenbij/\" itemprop=\"item\" itemscope=\"itemscope\" itemtype=\"http://schema.org/Thing\"><span itemprop=\"name\">Werken bij PostNL</span></a><meta content=\"2\" itemprop=\"position\" /></span><span class=\"separator\"> &gt; </span><span class=\"child\" itemprop=\"itemListElement\" itemscope=\"itemscope\" itemtype=\"http://schema.org/ListItem\"><a class=\"last\" href=\"/over-postnl/werkenbij/vacatures-in-de-postbezorging-sortering/\" itemid=\"/over-postnl/werkenbij/vacatures-in-de-postbezorging-sortering/\" itemprop=\"item\" itemscope=\"itemscope\" itemtype=\"http://schema.org/Thing\"><span itemprop=\"name\">Vacatures in de postbezorging &amp; sortering</span></a><meta content=\"3\" itemprop=\"position\" /></span></p>\\n</nav>\\n<shop-messages></shop-messages>\\n<!--googleon: all -->\\n<main class=\"main\" data-type=\"page\" >\\n<!--googleoff: all -->\\n<!--googleon: all -->\\n<script>\\nvar Info = Info || { page: {}, site: {}, form: {}, visitor: {}, searchresult: {}, items: [], events: [] };\\nInfo.page.type = \\'searchresult\\';\\nInfo.searchresult = {\\nresults: true,\\ntotalResults: 10,\\nzipcode: \\'\\',\\nsearchRange: \\'\\',\\nvacancyType: \\'production\\'\\n};\\nvar isIntrim = \\'no\\'\\n</script>\\n<div class=\"overview-wrapper production\">\\n<div class=\"background-banner\" style=\"background-image: url(\\'/Images/wasikmaarbezorger_overzicht_tcm10-155914.jpg?version=1\\')\"></div>\\n<div class=\"background-banner mobile\" style=\"background-image: url(\\'/Images/wasikmaarbezorger_overzicht_tcm10-155914.jpg?version=1\\')\"></div>\\n<div class=\"overview-sub-wrapper\">\\n<header class=\"page-title\" id=\"vacature-overzicht\">\\n<h1 class=\"title\">Vacatures bezorgen en sorteren</h1>\\n</header>\\n<nav class=\"sub-menu grid-4\">\\n<div class=\"filters vacancy-filters\" id=\"open-filter\" data-vacancyfilters>\\n<div class=\"location-search\">\\n<form class=\"search-form form location\" id=\"zipcode-form\" action=\"#\" method=\"get\">\\n<fieldset>\\n<legend>Vind jouw baan</legend>\\n<input type=\"search\" id=\"vacancy-search-text\" autocomplete=\"off\" name=\"searchterm\" placeholder=\"Zoek vacatures\" class=\"input search\">\\n<input type=\"search\" id=\"vacancy-search-zipcode\" name=\"zipcode\" placeholder=\"Zoek op postcode\" class=\"input zipcode\">\\n<div class=\"select-native\">\\n<select name=\"distance\" id=\"search-range\">\\n<option value=\"1\"\\n>\\n&lt; 1 km\\n</option>\\n<option value=\"3\"\\n>\\n&lt; 3 km\\n</option>\\n<option value=\"5\"\\n>\\n&lt; 5 km\\n</option>\\n<option value=\"10\"\\nselected=\"selected\" >\\n&lt; 10 km\\n</option>\\n<option value=\"15\"\\n>\\n&lt; 15 km\\n</option>\\n<option value=\"50\"\\n>\\n&lt; 50 km\\n</option>\\n</select>\\n<div class=\"caret\"></div>\\n</div>\\n<button class=\"button search submit\" type=\"submit\">Vacatures bekijken</button>\\n</fieldset>\\n</form>\\n</div> <!-- location-search -->\\n<h2 class=\"title\">\\nFilter je zoekopdracht <a href=\"#vacature-overzicht\" class=\"close\">Sluiten</a>\\n</h2>\\n<form class=\"filter-list form\" id=\"filter-form\" method=\"get\">\\n<input type=\"hidden\" name=\"location\" value=\"\" class=\"data-sync\" data-sync-with=\"\">\\n<fieldset class=\"filter-group keep-enabled\">\\n<legend>Wat voor werk zoek je?</legend>\\n<div class=\"form-row checkbox\" data-filter=\"functionType\">\\n<ul class=\"checkboxes field\">\\n<li data-order=\"5\">\\n<input class=\"input\" type=\"checkbox\" data-wp-name=\"Postbezorger\" name=\"functionType\" id=\"009\" value=\"009\" >\\n<label for=\"009\">\\nPostbezorger <span class=\"filter-85485\">\\n(248) </span>\\n</label>\\n</li>\\n<li data-order=\"10\">\\n<input class=\"input\" type=\"checkbox\" data-wp-name=\"Postbezorger op scooter\" name=\"functionType\" id=\"003\" value=\"003\" >\\n<label for=\"003\">\\nPostbezorger op scooter <span class=\"filter-85458\">\\n(34) </span>\\n</label>\\n</li>\\n<li data-order=\"12\">\\n<input class=\"input\" type=\"checkbox\" data-wp-name=\"Postmedewerker op zaterdag\" name=\"functionType\" id=\"008\" value=\"008\" >\\n<label for=\"008\">\\nPostmedewerker op zaterdag <span class=\"filter-85480\">\\n</span>\\n</label>\\n</li>\\n<li data-order=\"15\">\\n<input class=\"input\" type=\"checkbox\" data-wp-name=\"Pakketbezorger\" name=\"functionType\" id=\"017\" value=\"017\" >\\n<label for=\"017\">\\nPakketbezorger <span class=\"filter-85450\">\\n(1) </span>\\n</label>\\n</li>\\n<li data-order=\"20\">\\n<input class=\"input\" type=\"checkbox\" data-wp-name=\"Pakketbezorger op zaterdag\" name=\"functionType\" id=\"021\" value=\"021\" >\\n<label for=\"021\">\\nPakketbezorger op zaterdag <span class=\"filter-85474\">\\n(1) </span>\\n</label>\\n</li>\\n<li data-order=\"25\">\\n<input class=\"input\" type=\"checkbox\" data-wp-name=\"Postvoorbereider\" name=\"functionType\" id=\"005\" value=\"005\" >\\n<label for=\"005\">\\nPostvoorbereider <span class=\"filter-85479\">\\n(7) </span>\\n</label>\\n</li>\\n<li data-order=\"30\">\\n<input class=\"input\" type=\"checkbox\" data-wp-name=\"Postmedewerker sorteren\" name=\"functionType\" id=\"004\" value=\"004\" >\\n<label for=\"004\">\\nPostmedewerker sorteren <span class=\"filter-85477\">\\n(5) </span>\\n</label>\\n</li>\\n<li data-order=\"35\">\\n<input class=\"input\" type=\"checkbox\" data-wp-name=\"Chauffeur voorbereiden &amp; bezorgen\" name=\"functionType\" id=\"015\" value=\"015\" >\\n<label for=\"015\">\\nChauffeur voorbereiden &amp; bezorgen <span class=\"filter-85487\">\\n(1) </span>\\n</label>\\n</li>\\n<li data-order=\"40\">\\n<input class=\"input\" type=\"checkbox\" data-wp-name=\"Chauffeur Tijdgebonden Netwerk\" name=\"functionType\" id=\"006\" value=\"006\" >\\n<label for=\"006\">\\nChauffeur Tijdgebonden Netwerk <span class=\"filter-85489\">\\n(1) </span>\\n</label>\\n</li>\\n<li data-order=\"45\">\\n<input class=\"input\" type=\"checkbox\" data-wp-name=\"Vrachtwagenchauffeur\" name=\"functionType\" id=\"095\" value=\"095\" >\\n<label for=\"095\">\\nVrachtwagenchauffeur <span class=\"filter-85478\">\\n</span>\\n</label>\\n</li>\\n<li data-order=\"50\">\\n<input class=\"input\" type=\"checkbox\" data-wp-name=\"Procesbegeleider\" name=\"functionType\" id=\"027\" value=\"027\" >\\n<label for=\"027\">\\nProcesbegeleider <span class=\"filter-85472\">\\n</span>\\n</label>\\n</li>\\n<li data-order=\"50\">\\n<input class=\"input\" type=\"checkbox\" data-wp-name=\"Distributiemedewerker pakketten\" name=\"functionType\" id=\"022\" value=\"022\" >\\n<label for=\"022\">\\nDistributiemedewerker pakketten <span class=\"filter-85481\">\\n</span>\\n</label>\\n</li>\\n<li data-order=\"100\">\\n<input class=\"input\" type=\"checkbox\" data-wp-name=\"Fietskoerier\" name=\"functionType\" id=\"030\" value=\"030\" >\\n<label for=\"030\">\\nFietskoerier <span class=\"filter-104813\">\\n(1) </span>\\n</label>\\n</li>\\n</ul>\\n</div>\\n</fieldset>\\n<fieldset class=\"filter-group keep-enabled\">\\n<legend>Hoeveel uur wil je per week werken?</legend>\\n<div class=\"form-row checkbox\" data-filter=\"hoursPerWeek\">\\n<ul class=\"checkboxes field\">\\n<li data-order=\"0\">\\n<input class=\"input\" type=\"checkbox\" data-wp-name=\"1 - 5 uur per week\" name=\"hoursPerWeek\" id=\"1..5\" value=\"1..5\" >\\n<label for=\"1..5\">\\n1 - 5 uur per week <span class=\"filter-85464\">\\n(17) </span>\\n</label>\\n</li>\\n<li data-order=\"1\">\\n<input class=\"input\" type=\"checkbox\" data-wp-name=\"6 - 10 uur per week\" name=\"hoursPerWeek\" id=\"6..10\" value=\"6..10\" >\\n<label for=\"6..10\">\\n6 - 10 uur per week <span class=\"filter-85452\">\\n(142) </span>\\n</label>\\n</li>\\n<li data-order=\"2\">\\n<input class=\"input\" type=\"checkbox\" data-wp-name=\"11 - 14 uur per week\" name=\"hoursPerWeek\" id=\"11..14\" value=\"11..14\" >\\n<label for=\"11..14\">\\n11 - 14 uur per week <span class=\"filter-85483\">\\n(58) </span>\\n</label>\\n</li>\\n<li data-order=\"3\">\\n<input class=\"input\" type=\"checkbox\" data-wp-name=\"15+ uur per week\" name=\"hoursPerWeek\" id=\"15..\" value=\"15..\" >\\n<label for=\"15..\">\\n15+ uur per week <span class=\"filter-85454\">\\n(87) </span>\\n</label>\\n</li>\\n</ul>\\n</div>\\n</fieldset>\\n<fieldset class=\"filter-group keep-enabled\">\\n<legend>Welke dagen ben je beschikbaar?</legend>\\n<div class=\"form-row checkbox\" data-filter=\"availability\">\\n<ul class=\"checkboxes field\">\\n<li data-order=\"10\">\\n<input class=\"input\" type=\"checkbox\" data-wp-name=\"Maandag\" name=\"availability\" id=\"Maandag\" value=\"Maandag\" >\\n<label for=\"Maandag\">\\nMaandag <span class=\"filter-85461\">\\n(9) </span>\\n</label>\\n</li>\\n<li data-order=\"20\">\\n<input class=\"input\" type=\"checkbox\" data-wp-name=\"Dinsdag\" name=\"availability\" id=\"Dinsdag\" value=\"Dinsdag\" >\\n<label for=\"Dinsdag\">\\nDinsdag <span class=\"filter-85495\">\\n(275) </span>\\n</label>\\n</li>\\n<li data-order=\"30\">\\n<input class=\"input\" type=\"checkbox\" data-wp-name=\"Woensdag\" name=\"availability\" id=\"Woensdag\" value=\"Woensdag\" >\\n<label for=\"Woensdag\">\\nWoensdag <span class=\"filter-85491\">\\n(278) </span>\\n</label>\\n</li>\\n<li data-order=\"40\">\\n<input class=\"input\" type=\"checkbox\" data-wp-name=\"Donderdag\" name=\"availability\" id=\"Donderdag\" value=\"Donderdag\" >\\n<label for=\"Donderdag\">\\nDonderdag <span class=\"filter-85470\">\\n(276) </span>\\n</label>\\n</li>\\n<li data-order=\"50\">\\n<input class=\"input\" type=\"checkbox\" data-wp-name=\"Vrijdag\" name=\"availability\" id=\"Vrijdag\" value=\"Vrijdag\" >\\n<label for=\"Vrijdag\">\\nVrijdag <span class=\"filter-85475\">\\n(277) </span>\\n</label>\\n</li>\\n<li data-order=\"60\">\\n<input class=\"input\" type=\"checkbox\" data-wp-name=\"Zaterdag\" name=\"availability\" id=\"Zaterdag\" value=\"Zaterdag\" >\\n<label for=\"Zaterdag\">\\nZaterdag <span class=\"filter-85488\">\\n(297) </span>\\n</label>\\n</li>\\n<li data-order=\"70\">\\n<input class=\"input\" type=\"checkbox\" data-wp-name=\"Zondag\" name=\"availability\" id=\"Zondag\" value=\"Zondag\" >\\n<label for=\"Zondag\">\\nZondag <span class=\"filter-85492\">\\n</span>\\n</label>\\n</li>\\n</ul>\\n</div>\\n</fieldset>\\n<fieldset class=\"filter-group keep-enabled\">\\n<legend>Type vacature</legend>\\n<div class=\"form-row checkbox\" data-filter=\"postingChannel\">\\n<ul class=\"checkboxes field\">\\n<li data-order=\"10\">\\n<input class=\"input\" type=\"checkbox\" data-wp-name=\"Vast_werk\" name=\"postingChannel\" id=\"9000\" value=\"9000\" >\\n<label for=\"9000\">\\nReguliere baan <span class=\"filter-85473\">\\n(301) </span>\\n</label>\\n</li>\\n<li data-order=\"20\">\\n<input class=\"input\" type=\"checkbox\" data-wp-name=\"Tijdelijk_werk\" name=\"postingChannel\" id=\"9400\" value=\"9400\" >\\n<label for=\"9400\">\\nTijdelijke baan <span class=\"filter-85498\">\\n(3) </span>\\n</label>\\n</li>\\n</ul>\\n</div>\\n</fieldset>\\n</form>\\n<p class=\"buttons\">\\n<a href=\"#vacature-overzicht\" class=\"full action button\">Toon <span class=\"result -count\"></span> Resultaten</a>\\n</p>\\n</div>\\n</nav>\\n<div id=\"vacancy-result-wrapper\">\\n<div class=\"grid-8 vacancydetails\">\\n<div class=\"grid\">\\n<div class=\"vacancy-list\">\\n<a href=\"#open-filter\" class=\"block trigger-filter\">\\n<span class=\"button inverted inverted--hover-dark\">Filters</span>\\n</a>\\n<div id=\"vacancy-result\" data-vacancy-totalrecords=\"304\" data-vacancy-itemsperpage=\"10\" data-vacancy-page=\"1\" data-zipcode=\"\">\\n<h2 class=\"total-results\" data-vacancy-plural=\"vacatures\" data-vacancy-singular=\"vacature\" data-vacancy-message-noresults=\"Er zijn momenteel helaas geen vacatures bij jou in de buurt.\" data-vacancy-noresults-widerrange=\"De volgende vacatures komen in de buurt van uw wensen (o.b.v. langere afstand).\" data-vacancy-noresults-jobalarm=\"Op de hoogte gehouden worden van nieuwe vacatures? Maak hieronder je jobalarm aan.\" data-vacancy-invalid-zipcode=\"De ingevoerde postcode bestaat niet. Probeer het nog eens.\">\\n304 <span>vacatures gevonden</span>\\n</h2>\\n<div class=\"used-filters hidden\">\\n<span>Gefilterd op:</span>\\n<a class=\"vacancy-reset-filter\">Wis filters</a>\\n</div>\\n<div class=\"text-balloon show-job-alert hidden\">\\n<p>\\nDit zoekresultaat per mail ontvangen?\\n</p>\\n<a class=\"button inverted inverted--hover-dark\">Job Alert aanmaken</a>\\n</div>\\n<div class=\"job-alert\">\\n<form id=\"jobAlertForm\" class=\"filter-list form\" method=\"get\" action=\"/api/vacancy/jobalert/sapwsi\">\\n<h2>\\n<span>Aanmaken Job Alert</span>\\nBlijf op de hoogte van de nieuwste vacatures\\n</h2>\\n<img src=\"/Images/link-email_tcm10-152404.svg?version=1\" alt=\"\" />\\n<p class=\"introduction\">\\nVoor deze kenmerken zullen we je een mail sturen als er een nieuwe vacature beschikbaar is.\\n</p>\\n<div class=\"used-filters hidden\">\\n<span>Gefilterd op:</span>\\n</div>\\n<div class=\"form-row text \">\\n<span class=\"label\">\\n<label for=\"email\">E-mail</label>\\n<!-- info tooltip -->\\n<!-- required -->\\n</span>\\n<span class=\"field\">\\n<input type=\"email\" name=\"email\" id=\"email\" class=\"input email default\" required data-msg-required=\"Een e-mailadres is verplicht.\" data-msg-email=\"Vul een correct e-mailadres in.\" />\\n</span>\\n<!-- error message -->\\n</div>\\n<div class=\"success\" style=\"display: none\">\\nJe bent nu ingeschreven voor het jobalarm.\\n</div>\\n<div class=\"duplicate\" style=\"display: none\">\\nJe bestaande jobalarm is nu aangepast.\\n</div>\\n<div class=\"error\" style=\"display: none\">\\nEr is een fout opgetreden.\\n</div>\\n<div class=\"form-row submit-buttons\">\\n<span class=\"submit button\">\\n<input type=\"submit\" class=\"input\" value=\"Houd me op de hoogte!\">\\n</span>\\n</div>\\n</form>\\n</div>\\n<div class=\"vacancy-results\">\\n<a class=\"block \" href=\"https://www.postnl.nl/over-postnl/werkenbij/vacatures-in-de-postbezorging-sortering/postbezorger-op-scooter-andelst-6673-bw.html?zipcode=&amp;distance=10&amp;page=1\" id=\"vacancy-20016\">\\n<h2 class=\"title\">Postbezorger Op Scooter</h2>\\n<p class=\"intro\">Postbezorger op de scooter is de ideale baan als je houdt van vrijheid en snelheid! Lees meer over deze parttime vacature en solliciteer direct.</p>\\n<ul class=\"icon-list\">\\n<li>\\n<i class=\"postnl-icon-location\"></i>\\n<span>\\n<span itemprop=\"address\" itemscope itemtype=\"http://schema.org/PostalAddress\">\\n<span itemprop=\"addressLocality\">Andelst</span>,\\n(Postcode: <span itemprop=\"postalCode\">6673 BW</span>)\\n</span></span>\\n</li>\\n<li>\\n<i class=\"postnl-icon-calendar\"></i>\\n<span>\\nDinsdag, woensdag, donderdag, vrijdag, zaterdag</span>\\n</li>\\n<li>\\n<i class=\"postnl-icon-time\"></i>\\n<span>\\n3\\nuur per dag,\\n15\\nuur per week</span>\\n</li>\\n</ul>\\n<span class=\"button inverted inverted--hover-dark\">Bekijk vacature</span>\\n</a>\\n<a class=\"block \" href=\"https://www.postnl.nl/over-postnl/werkenbij/vacatures-in-de-postbezorging-sortering/postbezorger-op-scooter-wolphaartsdijk-4471-cg.html?zipcode=&amp;distance=10&amp;page=1\" id=\"vacancy-22239\">\\n<h2 class=\"title\">Postbezorger Op Scooter</h2>\\n<p class=\"intro\">Postbezorger op de scooter is de ideale baan als je houdt van vrijheid en snelheid! Lees meer over deze parttime vacature en solliciteer direct.</p>\\n<ul class=\"icon-list\">\\n<li>\\n<i class=\"postnl-icon-location\"></i>\\n<span>\\n<span itemprop=\"address\" itemscope itemtype=\"http://schema.org/PostalAddress\">\\n<span itemprop=\"addressLocality\">Wolphaartsdijk</span>,\\n(Postcode: <span itemprop=\"postalCode\">4471 CG</span>)\\n</span></span>\\n</li>\\n<li>\\n<i class=\"postnl-icon-calendar\"></i>\\n<span>\\nDinsdag, woensdag, donderdag, vrijdag, zaterdag</span>\\n</li>\\n<li>\\n<i class=\"postnl-icon-time\"></i>\\n<span>\\n3\\nuur per dag,\\n15\\nuur per week</span>\\n</li>\\n</ul>\\n<span class=\"button inverted inverted--hover-dark\">Bekijk vacature</span>\\n</a>\\n<a class=\"block \" href=\"https://www.postnl.nl/over-postnl/werkenbij/vacatures-in-de-postbezorging-sortering/postbezorger-wemeldinge-4424-bb.html?zipcode=&amp;distance=10&amp;page=1\" id=\"vacancy-22479\">\\n<h2 class=\"title\">Postbezorger</h2>\\n<p class=\"intro\">Wil je iets bijverdienen en ben je graag actief bezig? Word parttime postbezorger bij PostNL. Lees meer over deze vacature en solliciteer direct.</p>\\n<ul class=\"icon-list\">\\n<li>\\n<i class=\"postnl-icon-location\"></i>\\n<span>\\n<span itemprop=\"address\" itemscope itemtype=\"http://schema.org/PostalAddress\">\\n<span itemprop=\"addressLocality\">Wemeldinge</span>,\\n(Postcode: <span itemprop=\"postalCode\">4424 BB</span>)\\n</span></span>\\n</li>\\n<li>\\n<i class=\"postnl-icon-calendar\"></i>\\n<span>\\nDinsdag, woensdag, donderdag, vrijdag, zaterdag</span>\\n</li>\\n<li>\\n<i class=\"postnl-icon-time\"></i>\\n<span>\\n2\\nuur per dag,\\n10\\nuur per week</span>\\n</li>\\n</ul>\\n<span class=\"button inverted inverted--hover-dark\">Bekijk vacature</span>\\n</a>\\n<a class=\"block \" href=\"https://www.postnl.nl/over-postnl/werkenbij/vacatures-in-de-postbezorging-sortering/postbezorger-valburg-werkzaamheden-vinden-plaats-in-geheel-valburg-6675-aw.html?zipcode=&amp;distance=10&amp;page=1\" id=\"vacancy-25096\">\\n<h2 class=\"title\">Postbezorger</h2>\\n<p class=\"intro\">Wil je iets bijverdienen en ben je graag actief bezig? Word parttime postbezorger bij PostNL. Lees meer over deze vacature en solliciteer direct.</p>\\n<ul class=\"icon-list\">\\n<li>\\n<i class=\"postnl-icon-location\"></i>\\n<span>\\n<span itemprop=\"address\" itemscope itemtype=\"http://schema.org/PostalAddress\">\\n<span itemprop=\"addressLocality\">Valburg</span>, werkzaamheden vinden plaats in geheel Valburg\\n(Postcode: <span itemprop=\"postalCode\">6675 AW</span>)\\n<span class=\"range-from-search\">9,9 <text>km</text></span>\\n</span></span>\\n</li>\\n<li>\\n<i class=\"postnl-icon-calendar\"></i>\\n<span>\\nDinsdag, woensdag, donderdag, vrijdag, zaterdag</span>\\n</li>\\n<li>\\n<i class=\"postnl-icon-time\"></i>\\n<span>\\n1-2\\nuur per dag,\\n8\\nuur per week</span>\\n</li>\\n</ul>\\n<span class=\"button inverted inverted--hover-dark\">Bekijk vacature</span>\\n</a>\\n<a class=\"block \" href=\"https://www.postnl.nl/over-postnl/werkenbij/vacatures-in-de-postbezorging-sortering/postbezorger-sas-van-gent-4551eh.html?zipcode=&amp;distance=10&amp;page=1\" id=\"vacancy-25145\">\\n<h2 class=\"title\">Postbezorger</h2>\\n<p class=\"intro\">Wil je iets bijverdienen en ben je graag actief bezig? Word parttime postbezorger bij PostNL. Lees meer over deze vacature en solliciteer direct.</p>\\n<ul class=\"icon-list\">\\n<li>\\n<i class=\"postnl-icon-location\"></i>\\n<span>\\n<span itemprop=\"address\" itemscope itemtype=\"http://schema.org/PostalAddress\">\\n<span itemprop=\"addressLocality\">Sas van Gent</span>,\\n(Postcode: <span itemprop=\"postalCode\">4551EH</span>)\\n</span></span>\\n</li>\\n<li>\\n<i class=\"postnl-icon-calendar\"></i>\\n<span>\\nDinsdag, woensdag, donderdag, vrijdag, zaterdag</span>\\n</li>\\n<li>\\n<i class=\"postnl-icon-time\"></i>\\n<span>\\n2-3\\nuur per dag,\\n10\\nuur per week</span>\\n</li>\\n</ul>\\n<span class=\"button inverted inverted--hover-dark\">Bekijk vacature</span>\\n</a>\\n<a class=\"block \" href=\"https://www.postnl.nl/over-postnl/werkenbij/vacatures-in-de-postbezorging-sortering/postbezorger-westdorpe-4554bt-1.html?zipcode=&amp;distance=10&amp;page=1\" id=\"vacancy-25147\">\\n<h2 class=\"title\">Postbezorger</h2>\\n<p class=\"intro\">Wil je iets bijverdienen en ben je graag actief bezig? Word parttime postbezorger bij PostNL. Lees meer over deze vacature en solliciteer direct.</p>\\n<ul class=\"icon-list\">\\n<li>\\n<i class=\"postnl-icon-location\"></i>\\n<span>\\n<span itemprop=\"address\" itemscope itemtype=\"http://schema.org/PostalAddress\">\\n<span itemprop=\"addressLocality\">Westdorpe</span>,\\n(Postcode: <span itemprop=\"postalCode\">4554BT</span>)\\n</span></span>\\n</li>\\n<li>\\n<i class=\"postnl-icon-calendar\"></i>\\n<span>\\nDinsdag, woensdag, donderdag, vrijdag, zaterdag</span>\\n</li>\\n<li>\\n<i class=\"postnl-icon-time\"></i>\\n<span>\\n2-3\\nuur per dag,\\n10\\nuur per week</span>\\n</li>\\n</ul>\\n<span class=\"button inverted inverted--hover-dark\">Bekijk vacature</span>\\n</a>\\n<a class=\"block \" href=\"https://www.postnl.nl/over-postnl/werkenbij/vacatures-in-de-postbezorging-sortering/postbezorger-marken-1156-bk.html?zipcode=&amp;distance=10&amp;page=1\" id=\"vacancy-25725\">\\n<h2 class=\"title\">Postbezorger</h2>\\n<p class=\"intro\">Wil je iets bijverdienen en ben je graag actief bezig? Word parttime postbezorger bij PostNL. Lees meer over deze vacature en solliciteer direct.</p>\\n<ul class=\"icon-list\">\\n<li>\\n<i class=\"postnl-icon-location\"></i>\\n<span>\\n<span itemprop=\"address\" itemscope itemtype=\"http://schema.org/PostalAddress\">\\n<span itemprop=\"addressLocality\">Marken</span>,\\n(Postcode: <span itemprop=\"postalCode\">1156 BK</span>)\\n</span></span>\\n</li>\\n<li>\\n<i class=\"postnl-icon-calendar\"></i>\\n<span>\\nDinsdag, woensdag, donderdag, vrijdag, zaterdag</span>\\n</li>\\n<li>\\n<i class=\"postnl-icon-time\"></i>\\n<span>\\n3-4\\nuur per dag,\\n15\\nuur per week</span>\\n</li>\\n</ul>\\n<span class=\"button inverted inverted--hover-dark\">Bekijk vacature</span>\\n</a>\\n<a class=\"block \" href=\"https://www.postnl.nl/over-postnl/werkenbij/vacatures-in-de-postbezorging-sortering/postbezorger-soest-werkzaamheden-vinden-plaats-in-geheel-soest-3762-ec-1.html?zipcode=&amp;distance=10&amp;page=1\" id=\"vacancy-25944\">\\n<h2 class=\"title\">Postbezorger</h2>\\n<p class=\"intro\">Wil je iets bijverdienen en ben je graag actief bezig? Word parttime postbezorger bij PostNL. Lees meer over deze vacature en solliciteer direct.</p>\\n<ul class=\"icon-list\">\\n<li>\\n<i class=\"postnl-icon-location\"></i>\\n<span>\\n<span itemprop=\"address\" itemscope itemtype=\"http://schema.org/PostalAddress\">\\n<span itemprop=\"addressLocality\">Soest</span>, werkzaamheden vinden plaats in geheel Soest\\n(Postcode: <span itemprop=\"postalCode\">3762 EC</span>)\\n</span></span>\\n</li>\\n<li>\\n<i class=\"postnl-icon-calendar\"></i>\\n<span>\\nDinsdag, woensdag, donderdag, vrijdag, zaterdag</span>\\n</li>\\n<li>\\n<i class=\"postnl-icon-time\"></i>\\n<span>\\n1-3\\nuur per dag,\\n10\\nuur per week</span>\\n</li>\\n</ul>\\n<span class=\"button inverted inverted--hover-dark\">Bekijk vacature</span>\\n</a>\\n<a class=\"block \" href=\"https://www.postnl.nl/over-postnl/werkenbij/vacatures-in-de-postbezorging-sortering/postbezorger-op-scooter-terschuur-3784wz.html?zipcode=&amp;distance=10&amp;page=1\" id=\"vacancy-25955\">\\n<h2 class=\"title\">Postbezorger Op Scooter</h2>\\n<p class=\"intro\">Postbezorger op de scooter is de ideale baan als je houdt van vrijheid en snelheid! Lees meer over deze parttime vacature en solliciteer direct.</p>\\n<ul class=\"icon-list\">\\n<li>\\n<i class=\"postnl-icon-location\"></i>\\n<span>\\n<span itemprop=\"address\" itemscope itemtype=\"http://schema.org/PostalAddress\">\\n<span itemprop=\"addressLocality\">Terschuur</span>,\\n(Postcode: <span itemprop=\"postalCode\">3784WZ</span>)\\n</span></span>\\n</li>\\n<li>\\n<i class=\"postnl-icon-calendar\"></i>\\n<span>\\nDinsdag, woensdag, donderdag, vrijdag, zaterdag</span>\\n</li>\\n<li>\\n<i class=\"postnl-icon-time\"></i>\\n<span>\\n2-3\\nuur per dag,\\n14\\nuur per week</span>\\n</li>\\n</ul>\\n<span class=\"button inverted inverted--hover-dark\">Bekijk vacature</span>\\n</a>\\n<a class=\"block \" href=\"https://www.postnl.nl/over-postnl/werkenbij/vacatures-in-de-postbezorging-sortering/postbezorger-lage-mierde-5094-cb.html?zipcode=&amp;distance=10&amp;page=1\" id=\"vacancy-26305\">\\n<h2 class=\"title\">Postbezorger</h2>\\n<p class=\"intro\">Wil je iets bijverdienen en ben je graag actief bezig? Word parttime postbezorger bij PostNL. Lees meer over deze vacature en solliciteer direct.</p>\\n<ul class=\"icon-list\">\\n<li>\\n<i class=\"postnl-icon-location\"></i>\\n<span>\\n<span itemprop=\"address\" itemscope itemtype=\"http://schema.org/PostalAddress\">\\n<span itemprop=\"addressLocality\">Lage Mierde</span>,\\n(Postcode: <span itemprop=\"postalCode\">5094 CB</span>)\\n</span></span>\\n</li>\\n<li>\\n<i class=\"postnl-icon-calendar\"></i>\\n<span>\\nDinsdag, woensdag, donderdag, vrijdag, zaterdag. Extra dagen mogelijk.</span>\\n</li>\\n<li>\\n<i class=\"postnl-icon-time\"></i>\\n<span>\\n2-3\\nuur per dag,\\n8\\nuur per week</span>\\n</li>\\n</ul>\\n<span class=\"button inverted inverted--hover-dark\">Bekijk vacature</span>\\n</a> </div>\\n<ul class=\"grid-8 pagination\">\\n<li class=\"current\">\\n1\\n</li>\\n<li class=\"page-item\">\\n<a href=\"?zipcode=&amp;distance=10&amp;page=2\">2</a>\\n</li>\\n<li class=\"page-item\">\\n<a href=\"?zipcode=&amp;distance=10&amp;page=3\">3</a>\\n</li>\\n<li class=\"page-item\">\\n<a href=\"?zipcode=&amp;distance=10&amp;page=4\">4</a>\\n</li>\\n<li class=\"page-item\">\\n<a href=\"?zipcode=&amp;distance=10&amp;page=5\">5</a>\\n</li>\\n<li class=\"page-item\">\\n<a href=\"?zipcode=&amp;distance=10&amp;page=6\">6</a>\\n</li>\\n<li class=\"page-item\">\\n<a href=\"?zipcode=&amp;distance=10&amp;page=7\">7</a>\\n</li>\\n<li class=\"page-item\">\\n<a href=\"?zipcode=&amp;distance=10&amp;page=8\">8</a>\\n</li>\\n<li class=\"page-item\">\\n<a href=\"?zipcode=&amp;distance=10&amp;page=9\">9</a>\\n</li>\\n<li class=\"page-item\">\\n<a href=\"?zipcode=&amp;distance=10&amp;page=10\">10</a>\\n</li>\\n<li class=\"page-item\">\\n<a href=\"?zipcode=&amp;distance=10&amp;page=11\">11</a>\\n</li>\\n<li class=\"page-item\">\\n<a href=\"?zipcode=&amp;distance=10&amp;page=12\">12</a>\\n</li>\\n<li class=\"page-item\">\\n<a href=\"?zipcode=&amp;distance=10&amp;page=13\">13</a>\\n</li>\\n<li class=\"page-item\">\\n<a href=\"?zipcode=&amp;distance=10&amp;page=14\">14</a>\\n</li>\\n<li class=\"page-item\">\\n<a href=\"?zipcode=&amp;distance=10&amp;page=15\">15</a>\\n</li>\\n<li class=\"page-item\">\\n<a href=\"?zipcode=&amp;distance=10&amp;page=16\">16</a>\\n</li>\\n<li class=\"page-item\">\\n<a href=\"?zipcode=&amp;distance=10&amp;page=17\">17</a>\\n</li>\\n<li class=\"page-item\">\\n<a href=\"?zipcode=&amp;distance=10&amp;page=18\">18</a>\\n</li>\\n<li class=\"page-item\">\\n<a href=\"?zipcode=&amp;distance=10&amp;page=19\">19</a>\\n</li>\\n<li class=\"page-item\">\\n<a href=\"?zipcode=&amp;distance=10&amp;page=20\">20</a>\\n</li>\\n<li class=\"page-item\">\\n<a href=\"?zipcode=&amp;distance=10&amp;page=21\">21</a>\\n</li>\\n<li class=\"page-item\">\\n<a href=\"?zipcode=&amp;distance=10&amp;page=22\">22</a>\\n</li>\\n<li class=\"page-item\">\\n<a href=\"?zipcode=&amp;distance=10&amp;page=23\">23</a>\\n</li>\\n<li class=\"page-item\">\\n<a href=\"?zipcode=&amp;distance=10&amp;page=24\">24</a>\\n</li>\\n<li class=\"page-item\">\\n<a href=\"?zipcode=&amp;distance=10&amp;page=25\">25</a>\\n</li>\\n<li class=\"page-item\">\\n<a href=\"?zipcode=&amp;distance=10&amp;page=26\">26</a>\\n</li>\\n<li class=\"page-item\">\\n<a href=\"?zipcode=&amp;distance=10&amp;page=27\">27</a>\\n</li>\\n<li class=\"page-item\">\\n<a href=\"?zipcode=&amp;distance=10&amp;page=28\">28</a>\\n</li>\\n<li class=\"page-item\">\\n<a href=\"?zipcode=&amp;distance=10&amp;page=29\">29</a>\\n</li>\\n<li class=\"page-item\">\\n<a href=\"?zipcode=&amp;distance=10&amp;page=30\">30</a>\\n</li>\\n<li class=\"page-item\">\\n<a href=\"?zipcode=&amp;distance=10&amp;page=31\">31</a>\\n</li>\\n<li class=\"next\">\\n<a href=\"?zipcode=&amp;distance=10&amp;page=2\" rel=\"next\" title=\"Volgende resultatenpagina\">Volgende resultatenpagina</a>\\n</li>\\n</ul>\\n</div>\\n</div>\\n</div>\\n</div>\\n</div>\\n</div>\\n</div> <!--googleoff: all -->\\n</main>\\n<!--googleoff: all -->\\n<footer>\\n<div id=\"PostNL_globalNav\">\\n<div id=\"PostNL_globalNav_footer_variable\">\\n<div id=\"PostNL_globalNav_footer_variable_content\">\\n<ul>\\n<li>\\n<div data-role=\"collapsible\">\\n<span data-role=\"trigger\">Versturen</span>\\n</div>\\n<ul data-role=\"content\">\\n<li><a href=\"https://www.postnl.nl/versturen/pakket-versturen/\">Pakket versturen</a></li>\\n<li><a href=\"https://www.postnl.nl/versturen/brief-of-kaart-versturen/\">Brief of kaart versturen</a></li>\\n<li><a href=\"https://www.postnl.nl/versturen/postzegels/\">Postzegels</a></li>\\n</ul>\\n</li>\\n<li>\\n<div data-role=\"collapsible\">\\n<span data-role=\"trigger\">Ontvangen</span>\\n</div>\\n<ul data-role=\"content\">\\n<li><a href=\"https://www.postnl.nl/ontvangen/post-ontvangen/\">Post ontvangen</a></li>\\n<li><a href=\"https://www.postnl.nl/ontvangen/pakket-ontvangen/\">Pakket ontvangen</a></li>\\n<li><a href=\"https://www.postnl.nl/ontvangen/post-doorsturen/\">Post doorsturen</a></li>\\n</ul>\\n</li>\\n<li>\\n<div data-role=\"collapsible\">\\n<span data-role=\"trigger\">Zakelijke oplossingen</span>\\n</div>\\n<ul data-role=\"content\">\\n<li><a href=\"https://www.postnl.nl/zakelijke-oplossingen/post-versturen/\">Post versturen</a></li>\\n<li><a href=\"https://www.postnl.nl/zakelijke-oplossingen/pakket-versturen/\">Pakket versturen</a></li>\\n<li><a href=\"https://www.postnl.nl/zakelijke-oplossingen/ontvangen/\">Ontvangen</a></li>\\n<li><a href=\"https://www.postnl.nl/zakelijke-oplossingen/logistieke-oplossingen/\">Logistieke oplossingen</a></li>\\n<li><a href=\"https://www.postnl.nl/zakelijke-oplossingen/postvervoerders/\">Postvervoerders</a></li>\\n</ul>\\n</li>\\n<li>\\n<div data-role=\"collapsible\">\\n<span data-role=\"trigger\">Webshop</span>\\n</div>\\n<ul data-role=\"content\">\\n<li><a href=\"https://shop.postnl.nl/webshop/post-en-pakketzegels\">Post- en pakketzegels</a></li>\\n<li><a href=\"https://shop.postnl.nl/webshop/kantoorartikelen\">Kantoorartikelen</a></li>\\n<li><a href=\"https://shop.postnl.nl/webshop/cadeaus\">Cadeaus</a></li>\\n<li><a href=\"https://shop.postnl.nl/webshop/collect-club\">Collect Club</a></li>\\n<li><a href=\"https://shop.postnl.nl/webshop/zakelijke-hulpmiddelen\">Zakelijke hulpmiddelen</a></li>\\n</ul>\\n</li>\\n</ul>\\n</div>\\n</div>\\n</div>\\n<div id=\"PostNL_globalNav\">\\n<div id=\"PostNL_globalNav_footer_fixed\">\\n<div id=\"PostNL_globalNav_footer_fixed_content\">\\n<ul>\\n<li>\\n<div data-role=\"collapsible\">\\n<span data-role=\"trigger\">Direct regelen</span>\\n</div>\\n<ul data-role=\"content\">\\n<li><a href=\"https://jouw.postnl.nl/#!/track-en-trace/zoeken\">Track &amp; trace</a></li>\\n<li><a href=\"https://www.postnl.nl/postcode-zoeken/\">Postcode zoeken</a></li>\\n<li><a href=\"https://jouw.postnl.nl/#!/overzicht\">Versturen</a></li>\\n<li><a href=\"https://www.postnl.nl/locatiewijzer/\">PostNL-punten</a></li>\\n</ul>\\n</li>\\n<li>\\n<div data-role=\"collapsible\">\\n<span data-role=\"trigger\">PostNL-app</span>\\n</div>\\n<ul data-role=\"content\">\\n<li><a href=\"https://itunes.apple.com/app/apple-store/id513218878?pt=111198872&amp;ct=pnl-footer&amp;mt=8\"><img src=\"/Images/ios_tcm10-129036.svg?version=2\" alt=\"iOS\" />iOS</a></li>\\n<li><a href=\"https://play.google.com/store/apps/details?id=nl.tpp.mobile.android&amp;referrer=utm_source%3Dpostnl.nl%26utm_campaign%3Dpnl-footer\"><img src=\"/Images/android_tcm10-129035.svg?version=1\" alt=\"Android\" />Android</a></li>\\n</ul>\\n</li>\\n<li>\\n<div data-role=\"collapsible\">\\n<span data-role=\"trigger\">Hulp</span>\\n</div>\\n<ul data-role=\"content\">\\n<li><a href=\"https://www.postnl.nl/klantenservice/\">Service en contact</a></li>\\n<li><a href=\"https://www.postnl.nl/privacy-verklaring/\">Privacy</a></li>\\n<li><a href=\"https://www.postnl.nl/cookie-verklaring/\">Cookies</a></li>\\n<li><a href=\"https://www.postnl.nl/algemene-voorwaarden/\">Algemene voorwaarden</a></li>\\n</ul>\\n</li>\\n<li>\\n<div data-role=\"collapsible\">\\n<span data-role=\"trigger\">Over PostNL</span>\\n</div>\\n<ul data-role=\"content\">\\n<li><a href=\"https://www.postnl.nl/over-postnl/over-ons/\">Over ons</a></li>\\n<li><a href=\"https://www.postnl.nl/over-postnl/beleggers/\">Beleggers</a></li>\\n<li><a href=\"https://www.postnl.nl/over-postnl/pers-nieuws/\">Pers en nieuws</a></li>\\n<li><a href=\"/over-postnl/werkenbij/\">Werken bij PostNL</a></li>\\n</ul>\\n</li>\\n</ul>\\n</div>\\n</div>\\n</div>\\n<div id=\"PostNL_globalNav\">\\n<div id=\"PostNL_globalNav_footer_legal\">\\n<div id=\"PostNL_globalNav_footer_legal_content\">\\n<ul>\\n<li><a href=\"/\"><img src=\"/Images/logo-grey_tcm10-123987.svg?version=3\" alt=\"Logo PostNL\" />&#169; PostNL Holding B.V.</a></li>\\n<li><a href=\"https://www.postnl.nl/privacy-verklaring/\">Privacy</a></li>\\n<li><a href=\"https://www.postnl.nl/cookie-verklaring/\">Cookies</a></li>\\n<li><a href=\"https://www.postnl.nl/gebruiksvoorwaarden/\">Gebruiksvoorwaarden</a></li>\\n<li><a href=\"https://www.postnl.nl/algemene-voorwaarden/\">Algemene Voorwaarden</a></li>\\n</ul>\\n</div>\\n</div>\\n</div>\\n</footer>\\n<div id=\"fb-root\"></div>\\n<script src=\"/js/jquery?version=4.6.0.0\"></script>\\n\\n\\n\\n\\n\\n\\n\\n\\n\\n\\n\\n\\n\\n\\n\\n\\n\\n\\n\\n\\n\\n\\n\\n<script defer=\"true\" src=\"/js/vendor/moment.js?version=4.6.0.0&amp;version=4.6.0.0\"></script>\\n<script defer=\"true\" src=\"/js/vendor/moment.locale.nl.js?version=4.6.0.0&amp;version=4.6.0.0\"></script>\\n<script defer=\"true\" src=\"/js/vendor/jquery.validate.min.js?version=4.6.0.0&amp;version=4.6.0.0\"></script>\\n\\n\\n\\n\\n\\n\\n\\n\\n\\n\\n\\n\\n\\n\\n\\n\\n\\n\\n\\n\\n\\n\\n<script defer=\"true\" src=\"/js/specific/vacancy-overview-production.js?version=4.6.0.0&amp;version=4.6.0.0\"></script>\\n<script defer=\"true\" src=\"https://shop.postnl.nl/webcomponents/loader.js\"></script>\\n<script defer=\"true\" src=\"/js/mainnav?version=4.6.0.0\"></script>\\n<script defer=\"true\" src=\"/sitemap.js?version=4.6.0.0\"></script>\\n<script defer=\"true\" src=\"/i18n/translations.js\"></script>\\n<script defer=\"true\" src=\"/js/xpm\"></script>\\n<!--[if lte IE 8 ]>\\n<script src=\"/js/vendor/matchmedia-ie8-polyfill.js?version=4.6.0.0\"></script>\\n<![endif]-->\\n<script>\\nvar Info = Info || { page: {}, site: {}, form: {}, visitor: {}, transaction: {}, items: [], events: [] };\\nif(Object.assign) { Object.assign(Info, {portal: {}}); Info.portal.name =\"www.postnl.nl/\"; Info.portal.language= \"NL\"; Info.portal.country = \"NL\" }\\n</script>\\n<shop-toastr language=\"nl\"></shop-toastr>\\n</body>\\n<!--\\nProduction\\n-->\\n</html>\\n'"
      ]
     },
     "execution_count": 15,
     "metadata": {},
     "output_type": "execute_result"
    }
   ],
   "source": [
    "r.text"
   ]
  },
  {
   "cell_type": "code",
   "execution_count": 16,
   "metadata": {},
   "outputs": [],
   "source": [
    "soup = BeautifulSoup(r.text)"
   ]
  },
  {
   "cell_type": "code",
   "execution_count": 17,
   "metadata": {},
   "outputs": [],
   "source": [
    "blocks = soup.find_all(id=re.compile('vacancy-\\d+'))"
   ]
  },
  {
   "cell_type": "code",
   "execution_count": 18,
   "metadata": {},
   "outputs": [
    {
     "data": {
      "text/plain": [
       "10"
      ]
     },
     "execution_count": 18,
     "metadata": {},
     "output_type": "execute_result"
    }
   ],
   "source": [
    "len(blocks)"
   ]
  },
  {
   "cell_type": "code",
   "execution_count": 19,
   "metadata": {},
   "outputs": [
    {
     "data": {
      "text/plain": [
       "'20016'"
      ]
     },
     "execution_count": 19,
     "metadata": {},
     "output_type": "execute_result"
    }
   ],
   "source": [
    "blocks[0]['id'].split('-')[1]"
   ]
  },
  {
   "cell_type": "code",
   "execution_count": 20,
   "metadata": {},
   "outputs": [],
   "source": [
    "def get_jobs(r):\n",
    "    soup = BeautifulSoup(r.text)\n",
    "    \n",
    "    blocks = soup.find_all(id=re.compile('vacancy-\\d+'))\n",
    "\n",
    "    jobs = []\n",
    "    for block in blocks:\n",
    "        d = {}\n",
    "        d['nr'] = block['id'].split('-')[1]\n",
    "        d['title'] = block.find(class_='title').get_text()\n",
    "        d['intro'] = block.find(class_='intro').get_text()\n",
    "        d['plaats'] = block.find(itemprop='addressLocality').get_text()\n",
    "        d['postcode'] = block.find(itemprop='postalCode').get_text()\n",
    "\n",
    "        jobs.append(d)\n",
    "\n",
    "    return jobs"
   ]
  },
  {
   "cell_type": "code",
   "execution_count": 21,
   "metadata": {},
   "outputs": [
    {
     "data": {
      "text/plain": [
       "[{'nr': '20016',\n",
       "  'title': 'Postbezorger Op Scooter',\n",
       "  'intro': 'Postbezorger op de scooter is de ideale baan als je houdt van vrijheid en snelheid! Lees meer over deze parttime vacature en solliciteer direct.',\n",
       "  'plaats': 'Andelst',\n",
       "  'postcode': '6673 BW'},\n",
       " {'nr': '22239',\n",
       "  'title': 'Postbezorger Op Scooter',\n",
       "  'intro': 'Postbezorger op de scooter is de ideale baan als je houdt van vrijheid en snelheid! Lees meer over deze parttime vacature en solliciteer direct.',\n",
       "  'plaats': 'Wolphaartsdijk',\n",
       "  'postcode': '4471 CG'},\n",
       " {'nr': '22479',\n",
       "  'title': 'Postbezorger',\n",
       "  'intro': 'Wil je iets bijverdienen en ben je graag actief bezig? Word parttime postbezorger bij PostNL. Lees meer over deze vacature en solliciteer direct.',\n",
       "  'plaats': 'Wemeldinge',\n",
       "  'postcode': '4424 BB'},\n",
       " {'nr': '25096',\n",
       "  'title': 'Postbezorger',\n",
       "  'intro': 'Wil je iets bijverdienen en ben je graag actief bezig? Word parttime postbezorger bij PostNL. Lees meer over deze vacature en solliciteer direct.',\n",
       "  'plaats': 'Valburg',\n",
       "  'postcode': '6675 AW'},\n",
       " {'nr': '25145',\n",
       "  'title': 'Postbezorger',\n",
       "  'intro': 'Wil je iets bijverdienen en ben je graag actief bezig? Word parttime postbezorger bij PostNL. Lees meer over deze vacature en solliciteer direct.',\n",
       "  'plaats': 'Sas van Gent',\n",
       "  'postcode': '4551EH'},\n",
       " {'nr': '25147',\n",
       "  'title': 'Postbezorger',\n",
       "  'intro': 'Wil je iets bijverdienen en ben je graag actief bezig? Word parttime postbezorger bij PostNL. Lees meer over deze vacature en solliciteer direct.',\n",
       "  'plaats': 'Westdorpe',\n",
       "  'postcode': '4554BT'},\n",
       " {'nr': '25725',\n",
       "  'title': 'Postbezorger',\n",
       "  'intro': 'Wil je iets bijverdienen en ben je graag actief bezig? Word parttime postbezorger bij PostNL. Lees meer over deze vacature en solliciteer direct.',\n",
       "  'plaats': 'Marken',\n",
       "  'postcode': '1156 BK'},\n",
       " {'nr': '25944',\n",
       "  'title': 'Postbezorger',\n",
       "  'intro': 'Wil je iets bijverdienen en ben je graag actief bezig? Word parttime postbezorger bij PostNL. Lees meer over deze vacature en solliciteer direct.',\n",
       "  'plaats': 'Soest',\n",
       "  'postcode': '3762 EC'},\n",
       " {'nr': '25955',\n",
       "  'title': 'Postbezorger Op Scooter',\n",
       "  'intro': 'Postbezorger op de scooter is de ideale baan als je houdt van vrijheid en snelheid! Lees meer over deze parttime vacature en solliciteer direct.',\n",
       "  'plaats': 'Terschuur',\n",
       "  'postcode': '3784WZ'},\n",
       " {'nr': '26305',\n",
       "  'title': 'Postbezorger',\n",
       "  'intro': 'Wil je iets bijverdienen en ben je graag actief bezig? Word parttime postbezorger bij PostNL. Lees meer over deze vacature en solliciteer direct.',\n",
       "  'plaats': 'Lage Mierde',\n",
       "  'postcode': '5094 CB'}]"
      ]
     },
     "execution_count": 21,
     "metadata": {},
     "output_type": "execute_result"
    }
   ],
   "source": [
    "get_jobs(r)"
   ]
  },
  {
   "cell_type": "code",
   "execution_count": 22,
   "metadata": {
    "scrolled": false
   },
   "outputs": [
    {
     "name": "stdout",
     "output_type": "stream",
     "text": [
      "Scraping page 1\n",
      "Scraping page 2\n",
      "Scraping page 3\n",
      "Scraping page 4\n",
      "Scraping page 5\n",
      "Scraping page 6\n",
      "Scraping page 7\n",
      "Scraping page 8\n",
      "Scraping page 9\n",
      "Scraping page 10\n",
      "Scraping page 11\n",
      "Scraping page 12\n",
      "Scraping page 13\n",
      "Scraping page 14\n",
      "Scraping page 15\n",
      "Scraping page 16\n",
      "Scraping page 17\n",
      "Scraping page 18\n",
      "Scraping page 19\n",
      "Scraping page 20\n",
      "Scraping page 21\n",
      "Scraping page 22\n",
      "Scraping page 23\n",
      "Scraping page 24\n",
      "Scraping page 25\n",
      "Scraping page 26\n",
      "Scraping page 27\n",
      "Scraping page 28\n",
      "Scraping page 29\n",
      "Scraping page 30\n",
      "Scraping page 31\n",
      "Scraping page 32\n",
      "Done\n"
     ]
    }
   ],
   "source": [
    "jobs = []\n",
    "    \n",
    "try:\n",
    "     \n",
    "    for page in range(1, 50):\n",
    "        print(f'Scraping page {page}')\n",
    "        r = get_page(page)\n",
    "\n",
    "        jobs_on_page = get_jobs(r)\n",
    "#         print(f'{len(jobs_on_page)} jobs found.')\n",
    "\n",
    "        if len(jobs_on_page) == 0:\n",
    "            break\n",
    "        \n",
    "        jobs.extend( jobs_on_page )\n",
    "                \n",
    "except:\n",
    "    print('Done by exception')\n",
    "    \n",
    "finally:\n",
    "    print('Done')\n",
    "    "
   ]
  },
  {
   "cell_type": "code",
   "execution_count": 23,
   "metadata": {},
   "outputs": [
    {
     "data": {
      "text/plain": [
       "304"
      ]
     },
     "execution_count": 23,
     "metadata": {},
     "output_type": "execute_result"
    }
   ],
   "source": [
    "len(jobs)"
   ]
  },
  {
   "cell_type": "code",
   "execution_count": 24,
   "metadata": {},
   "outputs": [
    {
     "data": {
      "text/html": [
       "<div>\n",
       "<style scoped>\n",
       "    .dataframe tbody tr th:only-of-type {\n",
       "        vertical-align: middle;\n",
       "    }\n",
       "\n",
       "    .dataframe tbody tr th {\n",
       "        vertical-align: top;\n",
       "    }\n",
       "\n",
       "    .dataframe thead th {\n",
       "        text-align: right;\n",
       "    }\n",
       "</style>\n",
       "<table border=\"1\" class=\"dataframe\">\n",
       "  <thead>\n",
       "    <tr style=\"text-align: right;\">\n",
       "      <th></th>\n",
       "      <th>title</th>\n",
       "      <th>intro</th>\n",
       "      <th>plaats</th>\n",
       "      <th>postcode</th>\n",
       "    </tr>\n",
       "    <tr>\n",
       "      <th>nr</th>\n",
       "      <th></th>\n",
       "      <th></th>\n",
       "      <th></th>\n",
       "      <th></th>\n",
       "    </tr>\n",
       "  </thead>\n",
       "  <tbody>\n",
       "    <tr>\n",
       "      <th>20016</th>\n",
       "      <td>Postbezorger Op Scooter</td>\n",
       "      <td>Postbezorger op de scooter is de ideale baan a...</td>\n",
       "      <td>Andelst</td>\n",
       "      <td>6673 BW</td>\n",
       "    </tr>\n",
       "    <tr>\n",
       "      <th>22239</th>\n",
       "      <td>Postbezorger Op Scooter</td>\n",
       "      <td>Postbezorger op de scooter is de ideale baan a...</td>\n",
       "      <td>Wolphaartsdijk</td>\n",
       "      <td>4471 CG</td>\n",
       "    </tr>\n",
       "    <tr>\n",
       "      <th>22479</th>\n",
       "      <td>Postbezorger</td>\n",
       "      <td>Wil je iets bijverdienen en ben je graag actie...</td>\n",
       "      <td>Wemeldinge</td>\n",
       "      <td>4424 BB</td>\n",
       "    </tr>\n",
       "    <tr>\n",
       "      <th>25096</th>\n",
       "      <td>Postbezorger</td>\n",
       "      <td>Wil je iets bijverdienen en ben je graag actie...</td>\n",
       "      <td>Valburg</td>\n",
       "      <td>6675 AW</td>\n",
       "    </tr>\n",
       "    <tr>\n",
       "      <th>25145</th>\n",
       "      <td>Postbezorger</td>\n",
       "      <td>Wil je iets bijverdienen en ben je graag actie...</td>\n",
       "      <td>Sas van Gent</td>\n",
       "      <td>4551EH</td>\n",
       "    </tr>\n",
       "    <tr>\n",
       "      <th>...</th>\n",
       "      <td>...</td>\n",
       "      <td>...</td>\n",
       "      <td>...</td>\n",
       "      <td>...</td>\n",
       "    </tr>\n",
       "    <tr>\n",
       "      <th>29957</th>\n",
       "      <td>Postbezorger</td>\n",
       "      <td>Wil je iets bijverdienen en ben je graag actie...</td>\n",
       "      <td>Genemuiden</td>\n",
       "      <td>8281 AT</td>\n",
       "    </tr>\n",
       "    <tr>\n",
       "      <th>29702</th>\n",
       "      <td>Postbezorger</td>\n",
       "      <td>Wil je iets bijverdienen en ben je graag actie...</td>\n",
       "      <td>'s-Gravenhage</td>\n",
       "      <td>2544 EX</td>\n",
       "    </tr>\n",
       "    <tr>\n",
       "      <th>29963</th>\n",
       "      <td>Postbezorger</td>\n",
       "      <td>Wil je iets bijverdienen en ben je graag actie...</td>\n",
       "      <td>'s-Gravenhage</td>\n",
       "      <td>2512 VX</td>\n",
       "    </tr>\n",
       "    <tr>\n",
       "      <th>28397</th>\n",
       "      <td>Postbezorger</td>\n",
       "      <td>Wil je iets bijverdienen en ben je graag actie...</td>\n",
       "      <td>Maastricht</td>\n",
       "      <td>6212BL</td>\n",
       "    </tr>\n",
       "    <tr>\n",
       "      <th>29948</th>\n",
       "      <td>Pakketbezorger Op Zaterdag</td>\n",
       "      <td>Maak je graag mensen blij, ben je een echte aa...</td>\n",
       "      <td>Born</td>\n",
       "      <td>6121 RE</td>\n",
       "    </tr>\n",
       "  </tbody>\n",
       "</table>\n",
       "<p>304 rows × 4 columns</p>\n",
       "</div>"
      ],
      "text/plain": [
       "                            title  \\\n",
       "nr                                  \n",
       "20016     Postbezorger Op Scooter   \n",
       "22239     Postbezorger Op Scooter   \n",
       "22479                Postbezorger   \n",
       "25096                Postbezorger   \n",
       "25145                Postbezorger   \n",
       "...                           ...   \n",
       "29957                Postbezorger   \n",
       "29702                Postbezorger   \n",
       "29963                Postbezorger   \n",
       "28397                Postbezorger   \n",
       "29948  Pakketbezorger Op Zaterdag   \n",
       "\n",
       "                                                   intro          plaats  \\\n",
       "nr                                                                         \n",
       "20016  Postbezorger op de scooter is de ideale baan a...         Andelst   \n",
       "22239  Postbezorger op de scooter is de ideale baan a...  Wolphaartsdijk   \n",
       "22479  Wil je iets bijverdienen en ben je graag actie...      Wemeldinge   \n",
       "25096  Wil je iets bijverdienen en ben je graag actie...         Valburg   \n",
       "25145  Wil je iets bijverdienen en ben je graag actie...    Sas van Gent   \n",
       "...                                                  ...             ...   \n",
       "29957  Wil je iets bijverdienen en ben je graag actie...      Genemuiden   \n",
       "29702  Wil je iets bijverdienen en ben je graag actie...   's-Gravenhage   \n",
       "29963  Wil je iets bijverdienen en ben je graag actie...   's-Gravenhage   \n",
       "28397  Wil je iets bijverdienen en ben je graag actie...      Maastricht   \n",
       "29948  Maak je graag mensen blij, ben je een echte aa...            Born   \n",
       "\n",
       "      postcode  \n",
       "nr              \n",
       "20016  6673 BW  \n",
       "22239  4471 CG  \n",
       "22479  4424 BB  \n",
       "25096  6675 AW  \n",
       "25145   4551EH  \n",
       "...        ...  \n",
       "29957  8281 AT  \n",
       "29702  2544 EX  \n",
       "29963  2512 VX  \n",
       "28397   6212BL  \n",
       "29948  6121 RE  \n",
       "\n",
       "[304 rows x 4 columns]"
      ]
     },
     "execution_count": 24,
     "metadata": {},
     "output_type": "execute_result"
    }
   ],
   "source": [
    "df = pd.DataFrame(jobs)\n",
    "df.set_index('nr', inplace=True)\n",
    "df"
   ]
  },
  {
   "cell_type": "code",
   "execution_count": 27,
   "metadata": {},
   "outputs": [
    {
     "data": {
      "text/html": [
       "<div>\n",
       "<style scoped>\n",
       "    .dataframe tbody tr th:only-of-type {\n",
       "        vertical-align: middle;\n",
       "    }\n",
       "\n",
       "    .dataframe tbody tr th {\n",
       "        vertical-align: top;\n",
       "    }\n",
       "\n",
       "    .dataframe thead th {\n",
       "        text-align: right;\n",
       "    }\n",
       "</style>\n",
       "<table border=\"1\" class=\"dataframe\">\n",
       "  <thead>\n",
       "    <tr style=\"text-align: right;\">\n",
       "      <th></th>\n",
       "      <th>title</th>\n",
       "      <th>intro</th>\n",
       "      <th>plaats</th>\n",
       "      <th>postcode</th>\n",
       "    </tr>\n",
       "    <tr>\n",
       "      <th>nr</th>\n",
       "      <th></th>\n",
       "      <th></th>\n",
       "      <th></th>\n",
       "      <th></th>\n",
       "    </tr>\n",
       "  </thead>\n",
       "  <tbody>\n",
       "    <tr>\n",
       "      <th>29843</th>\n",
       "      <td>Postbezorger</td>\n",
       "      <td>Wil je iets bijverdienen en ben je graag actie...</td>\n",
       "      <td>Maastricht</td>\n",
       "      <td>6229 PM</td>\n",
       "    </tr>\n",
       "    <tr>\n",
       "      <th>28397</th>\n",
       "      <td>Postbezorger</td>\n",
       "      <td>Wil je iets bijverdienen en ben je graag actie...</td>\n",
       "      <td>Maastricht</td>\n",
       "      <td>6212BL</td>\n",
       "    </tr>\n",
       "  </tbody>\n",
       "</table>\n",
       "</div>"
      ],
      "text/plain": [
       "              title                                              intro  \\\n",
       "nr                                                                       \n",
       "29843  Postbezorger  Wil je iets bijverdienen en ben je graag actie...   \n",
       "28397  Postbezorger  Wil je iets bijverdienen en ben je graag actie...   \n",
       "\n",
       "           plaats postcode  \n",
       "nr                          \n",
       "29843  Maastricht  6229 PM  \n",
       "28397  Maastricht   6212BL  "
      ]
     },
     "execution_count": 27,
     "metadata": {},
     "output_type": "execute_result"
    }
   ],
   "source": [
    "df[df['plaats']=='Maastricht']"
   ]
  },
  {
   "cell_type": "code",
   "execution_count": 28,
   "metadata": {},
   "outputs": [
    {
     "data": {
      "text/html": [
       "<div>\n",
       "<style scoped>\n",
       "    .dataframe tbody tr th:only-of-type {\n",
       "        vertical-align: middle;\n",
       "    }\n",
       "\n",
       "    .dataframe tbody tr th {\n",
       "        vertical-align: top;\n",
       "    }\n",
       "\n",
       "    .dataframe thead th {\n",
       "        text-align: right;\n",
       "    }\n",
       "</style>\n",
       "<table border=\"1\" class=\"dataframe\">\n",
       "  <thead>\n",
       "    <tr style=\"text-align: right;\">\n",
       "      <th></th>\n",
       "      <th>title</th>\n",
       "      <th>intro</th>\n",
       "      <th>postcode</th>\n",
       "    </tr>\n",
       "    <tr>\n",
       "      <th>plaats</th>\n",
       "      <th></th>\n",
       "      <th></th>\n",
       "      <th></th>\n",
       "    </tr>\n",
       "  </thead>\n",
       "  <tbody>\n",
       "    <tr>\n",
       "      <th>Nieuwegein</th>\n",
       "      <td>8</td>\n",
       "      <td>8</td>\n",
       "      <td>8</td>\n",
       "    </tr>\n",
       "    <tr>\n",
       "      <th>Zwolle</th>\n",
       "      <td>7</td>\n",
       "      <td>7</td>\n",
       "      <td>7</td>\n",
       "    </tr>\n",
       "    <tr>\n",
       "      <th>Haarlem</th>\n",
       "      <td>5</td>\n",
       "      <td>5</td>\n",
       "      <td>5</td>\n",
       "    </tr>\n",
       "    <tr>\n",
       "      <th>Breda</th>\n",
       "      <td>5</td>\n",
       "      <td>5</td>\n",
       "      <td>5</td>\n",
       "    </tr>\n",
       "    <tr>\n",
       "      <th>Oosterhout</th>\n",
       "      <td>4</td>\n",
       "      <td>4</td>\n",
       "      <td>4</td>\n",
       "    </tr>\n",
       "    <tr>\n",
       "      <th>Baarn</th>\n",
       "      <td>3</td>\n",
       "      <td>3</td>\n",
       "      <td>3</td>\n",
       "    </tr>\n",
       "    <tr>\n",
       "      <th>Wijchen</th>\n",
       "      <td>3</td>\n",
       "      <td>3</td>\n",
       "      <td>3</td>\n",
       "    </tr>\n",
       "    <tr>\n",
       "      <th>Utrecht</th>\n",
       "      <td>3</td>\n",
       "      <td>3</td>\n",
       "      <td>3</td>\n",
       "    </tr>\n",
       "    <tr>\n",
       "      <th>Tilburg</th>\n",
       "      <td>3</td>\n",
       "      <td>3</td>\n",
       "      <td>3</td>\n",
       "    </tr>\n",
       "    <tr>\n",
       "      <th>Soest</th>\n",
       "      <td>3</td>\n",
       "      <td>3</td>\n",
       "      <td>3</td>\n",
       "    </tr>\n",
       "  </tbody>\n",
       "</table>\n",
       "</div>"
      ],
      "text/plain": [
       "            title  intro  postcode\n",
       "plaats                            \n",
       "Nieuwegein      8      8         8\n",
       "Zwolle          7      7         7\n",
       "Haarlem         5      5         5\n",
       "Breda           5      5         5\n",
       "Oosterhout      4      4         4\n",
       "Baarn           3      3         3\n",
       "Wijchen         3      3         3\n",
       "Utrecht         3      3         3\n",
       "Tilburg         3      3         3\n",
       "Soest           3      3         3"
      ]
     },
     "execution_count": 28,
     "metadata": {},
     "output_type": "execute_result"
    }
   ],
   "source": [
    "df.groupby('plaats').count().sort_values('title', ascending=False).head(10)"
   ]
  },
  {
   "cell_type": "code",
   "execution_count": 193,
   "metadata": {},
   "outputs": [
    {
     "data": {
      "text/html": [
       "<div>\n",
       "<style scoped>\n",
       "    .dataframe tbody tr th:only-of-type {\n",
       "        vertical-align: middle;\n",
       "    }\n",
       "\n",
       "    .dataframe tbody tr th {\n",
       "        vertical-align: top;\n",
       "    }\n",
       "\n",
       "    .dataframe thead th {\n",
       "        text-align: right;\n",
       "    }\n",
       "</style>\n",
       "<table border=\"1\" class=\"dataframe\">\n",
       "  <thead>\n",
       "    <tr style=\"text-align: right;\">\n",
       "      <th></th>\n",
       "      <th>variable</th>\n",
       "      <th>value</th>\n",
       "    </tr>\n",
       "  </thead>\n",
       "  <tbody>\n",
       "    <tr>\n",
       "      <th>0</th>\n",
       "      <td>title</td>\n",
       "      <td>Postbezorger Op Scooter</td>\n",
       "    </tr>\n",
       "    <tr>\n",
       "      <th>1</th>\n",
       "      <td>title</td>\n",
       "      <td>Postbezorger Op Scooter</td>\n",
       "    </tr>\n",
       "    <tr>\n",
       "      <th>2</th>\n",
       "      <td>title</td>\n",
       "      <td>Postbezorger</td>\n",
       "    </tr>\n",
       "    <tr>\n",
       "      <th>3</th>\n",
       "      <td>title</td>\n",
       "      <td>Postbezorger</td>\n",
       "    </tr>\n",
       "    <tr>\n",
       "      <th>4</th>\n",
       "      <td>title</td>\n",
       "      <td>Postbezorger</td>\n",
       "    </tr>\n",
       "    <tr>\n",
       "      <th>...</th>\n",
       "      <td>...</td>\n",
       "      <td>...</td>\n",
       "    </tr>\n",
       "    <tr>\n",
       "      <th>1415</th>\n",
       "      <td>postcode</td>\n",
       "      <td>2315 VC</td>\n",
       "    </tr>\n",
       "    <tr>\n",
       "      <th>1416</th>\n",
       "      <td>postcode</td>\n",
       "      <td>2341 VX</td>\n",
       "    </tr>\n",
       "    <tr>\n",
       "      <th>1417</th>\n",
       "      <td>postcode</td>\n",
       "      <td>2341 VX</td>\n",
       "    </tr>\n",
       "    <tr>\n",
       "      <th>1418</th>\n",
       "      <td>postcode</td>\n",
       "      <td>6815 GD</td>\n",
       "    </tr>\n",
       "    <tr>\n",
       "      <th>1419</th>\n",
       "      <td>postcode</td>\n",
       "      <td>5311 GH</td>\n",
       "    </tr>\n",
       "  </tbody>\n",
       "</table>\n",
       "<p>1420 rows × 2 columns</p>\n",
       "</div>"
      ],
      "text/plain": [
       "      variable                    value\n",
       "0        title  Postbezorger Op Scooter\n",
       "1        title  Postbezorger Op Scooter\n",
       "2        title             Postbezorger\n",
       "3        title             Postbezorger\n",
       "4        title             Postbezorger\n",
       "...        ...                      ...\n",
       "1415  postcode                  2315 VC\n",
       "1416  postcode                  2341 VX\n",
       "1417  postcode                  2341 VX\n",
       "1418  postcode                  6815 GD\n",
       "1419  postcode                  5311 GH\n",
       "\n",
       "[1420 rows x 2 columns]"
      ]
     },
     "execution_count": 193,
     "metadata": {},
     "output_type": "execute_result"
    }
   ],
   "source": [
    "pd.DataFrame(df.melt())"
   ]
  },
  {
   "cell_type": "markdown",
   "metadata": {},
   "source": [
    "# Using Scrapy"
   ]
  },
  {
   "cell_type": "code",
   "execution_count": 92,
   "metadata": {},
   "outputs": [],
   "source": [
    "import scrapy\n",
    "\n",
    "\n",
    "class WerkenBijPostNlSpider(scrapy.Spider):\n",
    "\n",
    "    name = 'jobs'\n",
    "    \n",
    "    start_urls = [\n",
    "        build_url(1),\n",
    "    ]\n",
    "\n",
    "    def parse(self, response):\n",
    "        for block in response.css('.block'):\n",
    "            yield {\n",
    "                'title': block.css('.title::text').get(),\n",
    "                'intro': block.css('.class::text').get(),\n",
    "                'plaats': block.css('*[itemprop=\"addressLocality\"]::text').get(),\n",
    "                'postcode': block.css('*[itemprop=\"postalCode\"]::text').get(),\n",
    "            }\n",
    "\n"
   ]
  },
  {
   "cell_type": "code",
   "execution_count": 93,
   "metadata": {},
   "outputs": [],
   "source": [
    "scraper = WerkenBijPostNlSpider()"
   ]
  },
  {
   "cell_type": "code",
   "execution_count": null,
   "metadata": {},
   "outputs": [],
   "source": [
    "scraper."
   ]
  }
 ],
 "metadata": {
  "kernelspec": {
   "display_name": "Python 3",
   "language": "python",
   "name": "python3"
  },
  "language_info": {
   "codemirror_mode": {
    "name": "ipython",
    "version": 3
   },
   "file_extension": ".py",
   "mimetype": "text/x-python",
   "name": "python",
   "nbconvert_exporter": "python",
   "pygments_lexer": "ipython3",
   "version": "3.8.5"
  }
 },
 "nbformat": 4,
 "nbformat_minor": 4
}
