{
 "cells": [
  {
   "cell_type": "code",
   "execution_count": null,
   "id": "a9ab273f",
   "metadata": {},
   "outputs": [],
   "source": []
  },
  {
   "cell_type": "markdown",
   "id": "627eac79",
   "metadata": {},
   "source": [
    "## 1.1 Color text"
   ]
  },
  {
   "cell_type": "markdown",
   "id": "098aeed7",
   "metadata": {},
   "source": [
    "We can change the colour of the text using the html <font> tag. "
   ]
  },
  {
   "cell_type": "markdown",
   "id": "424ecdb3",
   "metadata": {},
   "source": [
    "```html\n",
    "Example: <font color=green>green text</font>, <font color=blue>*blue italised text*</font> and <font color=#FF0000>**red bold text**</font>.\n",
    "```"
   ]
  },
  {
   "cell_type": "markdown",
   "id": "4c28416c",
   "metadata": {},
   "source": [
    "Example: <font color=green>green text</font>, <font color=blue>*blue italised text*</font> and <font color=#FF0000>**red bold text**</font>."
   ]
  },
  {
   "cell_type": "markdown",
   "id": "6c284d78",
   "metadata": {},
   "source": [
    "## 1.2 Highlight text"
   ]
  },
  {
   "cell_type": "markdown",
   "id": "2792bc33",
   "metadata": {},
   "source": [
    "We can also highlight text with the html <mark> tag:"
   ]
  },
  {
   "cell_type": "markdown",
   "id": "a7c45088",
   "metadata": {},
   "source": [
    "```html\n",
    "In addition, we can also <mark>highlight text</mark>.\n",
    "```"
   ]
  },
  {
   "cell_type": "markdown",
   "id": "ac5f17bc",
   "metadata": {},
   "source": [
    "In addition, we can also <mark>highlight text</mark>."
   ]
  },
  {
   "cell_type": "markdown",
   "id": "6ca95069",
   "metadata": {},
   "source": [
    "## 1.3 Bootstrap alert"
   ]
  },
  {
   "cell_type": "markdown",
   "id": "fe9da676",
   "metadata": {},
   "source": [
    "Lastly, we can format the background and font colour using bootstrap alert to make the text documentation more engaging to read:"
   ]
  },
  {
   "cell_type": "markdown",
   "id": "aaa07a25",
   "metadata": {},
   "source": [
    "```html\n",
    "<div class=\"alert alert-info\">Example text highlighted in blue background.</div>\n",
    "<div class=\"alert alert-success\">Example text highlighted in green background.</div>\n",
    "<div class=\"alert alert-warning\">Example text highlighted in yellow background.</div>\n",
    "<div class=\"alert alert-danger\">Example text highlighted in red background.</div>\n",
    "```"
   ]
  },
  {
   "cell_type": "markdown",
   "id": "cddc65f7",
   "metadata": {},
   "source": [
    "<div class=\"alert alert-info\">Example text highlighted in blue background.</div>\n",
    "<div class=\"alert alert-success\">Example text highlighted in green background.</div>\n",
    "<div class=\"alert alert-warning\">Example text highlighted in yellow background.</div>\n",
    "<div class=\"alert alert-danger\">Example text highlighted in red background.</div>"
   ]
  },
  {
   "cell_type": "code",
   "execution_count": null,
   "id": "7e8595d2",
   "metadata": {},
   "outputs": [],
   "source": []
  }
 ],
 "metadata": {
  "kernelspec": {
   "display_name": "Python 3 (ipykernel)",
   "language": "python",
   "name": "python3"
  },
  "language_info": {
   "codemirror_mode": {
    "name": "ipython",
    "version": 3
   },
   "file_extension": ".py",
   "mimetype": "text/x-python",
   "name": "python",
   "nbconvert_exporter": "python",
   "pygments_lexer": "ipython3",
   "version": "3.9.10"
  }
 },
 "nbformat": 4,
 "nbformat_minor": 5
}
