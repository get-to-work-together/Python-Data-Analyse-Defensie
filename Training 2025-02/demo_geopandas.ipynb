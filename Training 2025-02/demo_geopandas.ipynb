{
 "cells": [
  {
   "cell_type": "markdown",
   "metadata": {},
   "source": [
    "# GeoPandas"
   ]
  },
  {
   "cell_type": "code",
   "execution_count": 1,
   "metadata": {},
   "outputs": [],
   "source": [
    "import geopandas as gpd"
   ]
  },
  {
   "cell_type": "code",
   "execution_count": 2,
   "metadata": {},
   "outputs": [],
   "source": [
    "filename = '/Users/peter/Computrain/_InCompany/Defensie/Python Data Analyse/Opdrachten/datasets/WijkBuurtkaart_2023_v2/wijkenbuurten_2023_v2.gpkg'"
   ]
  },
  {
   "cell_type": "code",
   "execution_count": 5,
   "metadata": {},
   "outputs": [
    {
     "name": "stderr",
     "output_type": "stream",
     "text": [
      "/opt/homebrew/Caskroom/miniforge/base/envs/geopandas/lib/python3.12/site-packages/pyogrio/geopandas.py:261: UserWarning: More than one layer found in 'wijkenbuurten_2023_v2.gpkg': 'buurten' (default), 'gemeenten', 'wijken'. Specify layer parameter to avoid this warning.\n",
      "  result = read_func(\n"
     ]
    }
   ],
   "source": [
    "df = gpd.read_file(filename)"
   ]
  },
  {
   "cell_type": "code",
   "execution_count": 8,
   "metadata": {},
   "outputs": [
    {
     "data": {
      "text/html": [
       "<div>\n",
       "<style scoped>\n",
       "    .dataframe tbody tr th:only-of-type {\n",
       "        vertical-align: middle;\n",
       "    }\n",
       "\n",
       "    .dataframe tbody tr th {\n",
       "        vertical-align: top;\n",
       "    }\n",
       "\n",
       "    .dataframe thead th {\n",
       "        text-align: right;\n",
       "    }\n",
       "</style>\n",
       "<table border=\"1\" class=\"dataframe\">\n",
       "  <thead>\n",
       "    <tr style=\"text-align: right;\">\n",
       "      <th></th>\n",
       "      <th>buurtcode</th>\n",
       "      <th>buurtnaam</th>\n",
       "      <th>wijkcode</th>\n",
       "      <th>gemeentecode</th>\n",
       "      <th>gemeentenaam</th>\n",
       "      <th>indelingswijziging_wijken_en_buurten</th>\n",
       "      <th>water</th>\n",
       "      <th>meest_voorkomende_postcode</th>\n",
       "      <th>dekkingspercentage</th>\n",
       "      <th>omgevingsadressendichtheid</th>\n",
       "      <th>...</th>\n",
       "      <th>afstand_tot_open_nat_natuurlijk_terrein</th>\n",
       "      <th>afstand_tot_semiopenbaar_groen_totaal</th>\n",
       "      <th>afstand_tot_sportterrein</th>\n",
       "      <th>afstand_tot_volkstuin</th>\n",
       "      <th>afstand_tot_verblijfsrecreatief_terrein</th>\n",
       "      <th>afstand_tot_recreatief_binnenwater</th>\n",
       "      <th>afstand_tot_begraafplaats</th>\n",
       "      <th>jrstatcode</th>\n",
       "      <th>jaar</th>\n",
       "      <th>geometry</th>\n",
       "    </tr>\n",
       "  </thead>\n",
       "  <tbody>\n",
       "  </tbody>\n",
       "</table>\n",
       "<p>0 rows × 224 columns</p>\n",
       "</div>"
      ],
      "text/plain": [
       "Empty GeoDataFrame\n",
       "Columns: [buurtcode, buurtnaam, wijkcode, gemeentecode, gemeentenaam, indelingswijziging_wijken_en_buurten, water, meest_voorkomende_postcode, dekkingspercentage, omgevingsadressendichtheid, stedelijkheid_adressen_per_km2, bevolkingsdichtheid_inwoners_per_km2, aantal_inwoners, mannen, vrouwen, percentage_personen_0_tot_15_jaar, percentage_personen_15_tot_25_jaar, percentage_personen_25_tot_45_jaar, percentage_personen_45_tot_65_jaar, percentage_personen_65_jaar_en_ouder, percentage_ongehuwd, percentage_gehuwd, percentage_gescheid, percentage_verweduwd, geboorte_totaal, geboortes_per_1000_inwoners, sterfte_totaal, sterfte_relatief, aantal_huishoudens, percentage_eenpersoonshuishoudens, percentage_huishoudens_zonder_kinderen, percentage_huishoudens_met_kinderen, gemiddelde_huishoudsgrootte, percentage_met_herkomstland_nederland, percentage_met_herkomstland_uit_europa_excl_nl, percentage_met_herkomstland_buiten_europa, percentage_geb_in_nl_met_herkomstland_nederland, perc_geb_in_nl_met_herkomstland_in_europa_ex_nl, perc_geb_in_nl_met_herkomstland_buiten_europa, perc_geb_buiten_nl_met_herkomstlnd_in_europa_ex_nl, perc_geb_buiten_nl_met_herkomstlnd_buiten_europa, aantal_bedrijven_landbouw_bosbouw_visserij, aantal_bedrijven_nijverheid_energie, aantal_bedrijven_handel_en_horeca, aantal_bedrijven_vervoer_informatie_communicatie, aantal_bedrijven_financieel_onroerend_goed, aantal_bedrijven_zakelijke_dienstverlening, aantal_bedrijven_overheid_onderwijs_en_zorg, aantal_bedrijven_cultuur_recreatie_overige, aantal_bedrijfsvestigingen, woningvoorraad, gemiddelde_woningwaarde, percentage_eengezinswoning, percentage_meergezinswoning, percentage_bewoond, percentage_koopwoningen, percentage_huurwoningen, perc_huurwoningen_in_bezit_woningcorporaties, perc_huurwoningen_in_bezit_overige_verhuurders, percentage_woningen_met_eigendom_onbekend, percentage_bouwjaarklasse_tot_2000, percentage_bouwjaarklasse_vanaf_2000, percentage_leegstand_woningen, gemiddeld_gasverbruik_totaal, gemiddeld_gasverbruik_appartement, gemiddeld_gasverbruik_tussenwoning, gemiddeld_gasverbruik_hoekwoning, gemiddeld_gasverbruik_2_onder_1_kap_woning, gemiddeld_gasverbruik_vrijstaande_woning, gemiddeld_gasverbruik_huurwoning, gemiddeld_gasverbruikkoopwoning, gemiddeld_elektriciteitsverbruik_totaal, gemiddeld_elektriciteitsverbruik_appartement, gemiddeld_elektriciteitsverbruik_tussenwoning, gemiddeld_elektriciteitsverbruik_hoekwoning, gem_elektriciteitsverbruik_2_onder_1_kap_woning, gem_elektriciteitsverbruik_vrijstaande_woning, gemiddeld_elektriciteitsverbruik_huurwoning, gemiddeld_elektriciteitsverbruikkoopwoning, percentage_woningen_met_stadsverwarming, opleidingsniveau_laag, opleidingsniveau_middelbaar, opleidingsniveau_hoog, netto_arbeidsparticipatie, percentage_werknemers, percentage_zelfstandigen, aantal_inkomensontvangers, gemiddeld_inkomen_per_inkomensontvanger, gemiddeld_inkomen_per_inwoner, percentage_personen_met_hoog_inkomen, percentage_personen_met_laag_inkomen, percentage_huishoudens_met_hoog_inkomen, percentage_huishoudens_met_laag_inkomen, percentage_huishoudens_met_laagste_inkomen, percentage_huishoudens_onder_of_rond_sociaal_minimum, aantal_personen_met_een_ao_uitkering_totaal, aantal_personen_met_een_ww_uitkering_totaal, aantal_personen_met_een_alg_bijstandsuitkering_tot, aantal_personen_met_een_aow_uitkering_totaal, gemiddeld_gestandaardiseerd_inkomen_van_huishoudens, ...]\n",
       "Index: []\n",
       "\n",
       "[0 rows x 224 columns]"
      ]
     },
     "execution_count": 8,
     "metadata": {},
     "output_type": "execute_result"
    }
   ],
   "source": [
    "df[df['buurtcode']=='']"
   ]
  },
  {
   "cell_type": "code",
   "execution_count": null,
   "metadata": {},
   "outputs": [],
   "source": []
  }
 ],
 "metadata": {
  "kernelspec": {
   "display_name": "geopandas",
   "language": "python",
   "name": "python3"
  },
  "language_info": {
   "codemirror_mode": {
    "name": "ipython",
    "version": 3
   },
   "file_extension": ".py",
   "mimetype": "text/x-python",
   "name": "python",
   "nbconvert_exporter": "python",
   "pygments_lexer": "ipython3",
   "version": "3.12.4"
  }
 },
 "nbformat": 4,
 "nbformat_minor": 2
}
