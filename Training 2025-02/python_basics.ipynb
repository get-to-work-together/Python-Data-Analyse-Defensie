{
 "cells": [
  {
   "cell_type": "markdown",
   "metadata": {},
   "source": [
    "# Python Basics"
   ]
  },
  {
   "cell_type": "code",
   "execution_count": 10,
   "metadata": {},
   "outputs": [
    {
     "name": "stdout",
     "output_type": "stream",
     "text": [
      "11.8\n",
      "11\n",
      "4\n",
      "714924299\n"
     ]
    }
   ],
   "source": [
    "getal1 = 59\n",
    "getal2 = 5\n",
    "\n",
    "print(getal1 / getal2)      # division\n",
    "print(getal1 // getal2)     # floored division\n",
    "print(getal1 % getal2)      # remainder of modulo\n",
    "\n",
    "print(getal1 ** getal2)      # power\n"
   ]
  },
  {
   "cell_type": "code",
   "execution_count": 15,
   "metadata": {},
   "outputs": [
    {
     "name": "stdout",
     "output_type": "stream",
     "text": [
      "125268125.14285715\n",
      "False\n"
     ]
    }
   ],
   "source": [
    "getal = 876876876\n",
    "\n",
    "print(getal / 7)\n",
    "\n",
    "is_deelbaar_door_7 = getal % 7 == 0\n",
    "\n",
    "print(is_deelbaar_door_7)"
   ]
  },
  {
   "cell_type": "code",
   "execution_count": 16,
   "metadata": {},
   "outputs": [
    {
     "data": {
      "text/plain": [
       "'abcdef'"
      ]
     },
     "execution_count": 16,
     "metadata": {},
     "output_type": "execute_result"
    }
   ],
   "source": [
    "'abc' + 'def'"
   ]
  },
  {
   "cell_type": "code",
   "execution_count": 80,
   "metadata": {},
   "outputs": [],
   "source": [
    "s = 'De KAT krabt de krullen van de trap'"
   ]
  },
  {
   "cell_type": "code",
   "execution_count": 22,
   "metadata": {},
   "outputs": [
    {
     "data": {
      "text/plain": [
       "2"
      ]
     },
     "execution_count": 22,
     "metadata": {},
     "output_type": "execute_result"
    }
   ],
   "source": [
    "s.lower().count('a', 16)"
   ]
  },
  {
   "cell_type": "code",
   "execution_count": 27,
   "metadata": {},
   "outputs": [
    {
     "data": {
      "text/plain": [
       "'trap'"
      ]
     },
     "execution_count": 27,
     "metadata": {},
     "output_type": "execute_result"
    }
   ],
   "source": [
    "s[-4:]"
   ]
  },
  {
   "cell_type": "code",
   "execution_count": 25,
   "metadata": {},
   "outputs": [
    {
     "data": {
      "text/plain": [
       "' '"
      ]
     },
     "execution_count": 25,
     "metadata": {},
     "output_type": "execute_result"
    }
   ],
   "source": [
    "s[23]"
   ]
  },
  {
   "cell_type": "code",
   "execution_count": 30,
   "metadata": {},
   "outputs": [
    {
     "name": "stdout",
     "output_type": "stream",
     "text": [
      "⊂\n",
      "⊂\n"
     ]
    }
   ],
   "source": [
    "s = '\\u2282'\n",
    "print(s)\n",
    "\n",
    "print('⊂')"
   ]
  },
  {
   "cell_type": "code",
   "execution_count": 42,
   "metadata": {},
   "outputs": [
    {
     "name": "stdout",
     "output_type": "stream",
     "text": [
      "1\n",
      "2\n",
      "3\n",
      "4\n",
      "5\n",
      "6\n"
     ]
    }
   ],
   "source": [
    "i = 1\n",
    "while i <= 10:\n",
    "    if i == 7:\n",
    "        break\n",
    "    print(i)\n",
    "    i += 1"
   ]
  },
  {
   "cell_type": "code",
   "execution_count": 49,
   "metadata": {},
   "outputs": [
    {
     "name": "stdout",
     "output_type": "stream",
     "text": [
      "1\n",
      "2\n",
      "3\n",
      "4\n",
      "5\n",
      "6\n",
      "8\n",
      "9\n",
      "10\n"
     ]
    }
   ],
   "source": [
    "for item in range(1, 11):\n",
    "    if item == 7:\n",
    "        continue\n",
    "    print(item)\n",
    "    "
   ]
  },
  {
   "cell_type": "code",
   "execution_count": 79,
   "metadata": {},
   "outputs": [],
   "source": [
    "def add_numbers(*args, factor = 1, **kwargs):\n",
    "    total = 0\n",
    "    for n in args:\n",
    "        total += n\n",
    "    return total * factor"
   ]
  },
  {
   "cell_type": "code",
   "execution_count": 78,
   "metadata": {},
   "outputs": [
    {
     "data": {
      "text/plain": [
       "100"
      ]
     },
     "execution_count": 78,
     "metadata": {},
     "output_type": "execute_result"
    }
   ],
   "source": [
    "add_numbers(2, 5, 3, factor = 10)"
   ]
  },
  {
   "cell_type": "code",
   "execution_count": 69,
   "metadata": {},
   "outputs": [
    {
     "data": {
      "text/plain": [
       "7"
      ]
     },
     "execution_count": 69,
     "metadata": {},
     "output_type": "execute_result"
    }
   ],
   "source": [
    "add_numbers(2, 5)"
   ]
  },
  {
   "cell_type": "code",
   "execution_count": 70,
   "metadata": {},
   "outputs": [
    {
     "data": {
      "text/plain": [
       "27"
      ]
     },
     "execution_count": 70,
     "metadata": {},
     "output_type": "execute_result"
    }
   ],
   "source": [
    "add_numbers(3, 4, 7, 5, 8)"
   ]
  },
  {
   "cell_type": "code",
   "execution_count": 90,
   "metadata": {},
   "outputs": [
    {
     "data": {
      "text/plain": [
       "['de', 'kat', 'krabt', 'de', 'krullen', 'van', 'de', 'trap']"
      ]
     },
     "execution_count": 90,
     "metadata": {},
     "output_type": "execute_result"
    }
   ],
   "source": [
    "words = s.lower().split()\n",
    "words"
   ]
  },
  {
   "cell_type": "code",
   "execution_count": 91,
   "metadata": {},
   "outputs": [
    {
     "data": {
      "text/plain": [
       "['de', 'de', 'de', 'kat', 'krabt', 'krullen', 'trap', 'van']"
      ]
     },
     "execution_count": 91,
     "metadata": {},
     "output_type": "execute_result"
    }
   ],
   "source": [
    "sorted(words)"
   ]
  },
  {
   "cell_type": "code",
   "execution_count": 94,
   "metadata": {},
   "outputs": [
    {
     "data": {
      "text/plain": [
       "['krullen', 'krabt', 'trap', 'kat', 'van', 'de', 'de', 'de']"
      ]
     },
     "execution_count": 94,
     "metadata": {},
     "output_type": "execute_result"
    }
   ],
   "source": [
    "sorted(words, key=len)"
   ]
  },
  {
   "cell_type": "code",
   "execution_count": 96,
   "metadata": {},
   "outputs": [],
   "source": [
    "def count_e(word):\n",
    "    return word.count('e')"
   ]
  },
  {
   "cell_type": "code",
   "execution_count": 99,
   "metadata": {},
   "outputs": [
    {
     "data": {
      "text/plain": [
       "<function __main__.<lambda>(word)>"
      ]
     },
     "execution_count": 99,
     "metadata": {},
     "output_type": "execute_result"
    }
   ],
   "source": [
    "lambda word: word.count('e')"
   ]
  },
  {
   "cell_type": "code",
   "execution_count": 97,
   "metadata": {},
   "outputs": [
    {
     "data": {
      "text/plain": [
       "3"
      ]
     },
     "execution_count": 97,
     "metadata": {},
     "output_type": "execute_result"
    }
   ],
   "source": [
    "count_e('eendenkooi')"
   ]
  },
  {
   "cell_type": "code",
   "execution_count": 103,
   "metadata": {},
   "outputs": [
    {
     "data": {
      "text/plain": [
       "['de', 'de', 'van', 'de', 'trap', 'kat', 'krabt', 'krullen']"
      ]
     },
     "execution_count": 103,
     "metadata": {},
     "output_type": "execute_result"
    }
   ],
   "source": [
    "sorted(words, key=lambda word: word.count('k'))"
   ]
  },
  {
   "cell_type": "code",
   "execution_count": 120,
   "metadata": {},
   "outputs": [
    {
     "name": "stdout",
     "output_type": "stream",
     "text": [
      "['id', 'name', 'value', 'comment']\n",
      "{'id': '1', 'name': 'abc', 'value': '23.5', 'comment': 'OK'}\n",
      "{'id': '2', 'name': 'sfd', 'value': '233.5', 'comment': 'OK'}\n",
      "{'id': '3', 'name': 'abc', 'value': '23.5', 'comment': 'OK'}\n",
      "{'id': '4', 'name': 'absdc', 'value': '3.5', 'comment': 'error'}\n",
      "{'id': '5', 'name': 'sdf', 'value': '5.5', 'comment': 'OK'}\n",
      "{'id': '6', 'name': 'sd', 'value': '73.5', 'comment': 'OK'}\n",
      "{'id': '17', 'name': 'sd', 'value': '23.5', 'comment': 'error'}\n",
      "17 23.5\n"
     ]
    }
   ],
   "source": [
    "with open('data.csv') as f:\n",
    "\n",
    "    headers = f.readline().strip().split(',')\n",
    "    print(headers)\n",
    "\n",
    "    for line in f.readlines():\n",
    "        values = line.rstrip('\\n').split(',')\n",
    "        d = dict(zip(headers, values))\n",
    "        print(d)\n",
    "        value = float(d['value'])\n",
    "        if 'error' in line and value > 20:\n",
    "            print(d['id'], value)\n"
   ]
  },
  {
   "cell_type": "code",
   "execution_count": 124,
   "metadata": {},
   "outputs": [
    {
     "name": "stdout",
     "output_type": "stream",
     "text": [
      "[23, 45, 67, 98, 99]\n",
      "<class 'list'>\n"
     ]
    }
   ],
   "source": [
    "numbers = [23, 45, 67, 98]\n",
    "numbers.append(99)\n",
    "print(numbers)\n",
    "print(type(numbers))"
   ]
  },
  {
   "cell_type": "code",
   "execution_count": 127,
   "metadata": {},
   "outputs": [
    {
     "name": "stdout",
     "output_type": "stream",
     "text": [
      "<class 'tuple'>\n"
     ]
    }
   ],
   "source": [
    "record = (6, 'abcde', 3.5, 'OK')\n",
    "print(type(record))"
   ]
  },
  {
   "cell_type": "code",
   "execution_count": 138,
   "metadata": {},
   "outputs": [
    {
     "name": "stdout",
     "output_type": "stream",
     "text": [
      "(2, 4.0, 9)\n",
      "(2, 3.25, 6)\n",
      "(3, 5.375, 9)\n"
     ]
    }
   ],
   "source": [
    "def min_mean_max(*numbers):\n",
    "    minimum = numbers[0]\n",
    "    maximum = numbers[0]\n",
    "    total = 0\n",
    "    for number in numbers[1:]:\n",
    "        if number < minimum:\n",
    "            minimum = number\n",
    "        if number > maximum:\n",
    "            maximum = number\n",
    "        total += number\n",
    "        mean = total / len(numbers)\n",
    "    return minimum, mean, maximum\n",
    "\n",
    "\n",
    "print(min_mean_max(2,6,3,4,9,2))\n",
    "print(min_mean_max(2,6,3,4))\n",
    "print(min_mean_max(3,4,9,8,7,6,5,4))\n",
    "\n",
    "    \n",
    "\n"
   ]
  },
  {
   "cell_type": "code",
   "execution_count": 155,
   "metadata": {},
   "outputs": [
    {
     "name": "stdout",
     "output_type": "stream",
     "text": [
      "[83, 75, 69, 43, 44, 49, 51, 23, 90, 60, 45, 80, 22, 83, 51, 13, 59, 27, 16, 58, 54, 30, 44, 51, 66, 68, 6, 37, 51, 60, 30, 72, 46, 13, 98, 25, 50, 94, 71, 95, 11, 27, 42, 95, 76, 1, 70, 38, 53, 80, 36, 33, 37, 5, 78, 84, 64, 98, 39, 47, 39, 5, 13, 31, 9, 39, 50, 93, 85, 65, 28, 1, 15, 23, 59, 43, 83, 59, 75, 58, 29, 68, 10, 43, 47, 64, 87, 14, 6, 99, 18, 75, 75, 3, 48, 38, 56, 45, 92, 99]\n",
      "1\n",
      "5005\n",
      "100\n",
      "99\n",
      "50.05\n"
     ]
    }
   ],
   "source": [
    "import statistics as stat\n",
    "\n",
    "print(numbers)\n",
    "print(min(numbers))\n",
    "print(sum(numbers))\n",
    "print(len(numbers))\n",
    "print(max(numbers))\n",
    "\n",
    "print(stat.mean(numbers))\n",
    "\n"
   ]
  },
  {
   "cell_type": "code",
   "execution_count": 150,
   "metadata": {},
   "outputs": [
    {
     "data": {
      "text/plain": [
       "array([83, 75, 69, 43, 44, 49, 51, 23, 90, 60, 45, 80, 22, 83, 51, 13, 59,\n",
       "       27, 16, 58, 54, 30, 44, 51, 66, 68,  6, 37, 51, 60, 30, 72, 46, 13,\n",
       "       98, 25, 50, 94, 71, 95, 11, 27, 42, 95, 76,  1, 70, 38, 53, 80, 36,\n",
       "       33, 37,  5, 78, 84, 64, 98, 39, 47, 39,  5, 13, 31,  9, 39, 50, 93,\n",
       "       85, 65, 28,  1, 15, 23, 59, 43, 83, 59, 75, 58, 29, 68, 10, 43, 47,\n",
       "       64, 87, 14,  6, 99, 18, 75, 75,  3, 48, 38, 56, 45, 92, 99])"
      ]
     },
     "execution_count": 150,
     "metadata": {},
     "output_type": "execute_result"
    }
   ],
   "source": [
    "import numpy as np\n",
    "\n",
    "anumbers = np.random.randint(1, 100, 100)\n",
    "numbers = list(map(int, anumbers))\n",
    "\n",
    "anumbers"
   ]
  },
  {
   "cell_type": "code",
   "execution_count": 159,
   "metadata": {},
   "outputs": [
    {
     "name": "stdout",
     "output_type": "stream",
     "text": [
      "12 μs ± 218 ns per loop (mean ± std. dev. of 7 runs, 100,000 loops each)\n"
     ]
    }
   ],
   "source": [
    "%timeit stat.mean(numbers)"
   ]
  },
  {
   "cell_type": "code",
   "execution_count": 160,
   "metadata": {},
   "outputs": [
    {
     "name": "stdout",
     "output_type": "stream",
     "text": [
      "1.81 μs ± 4.23 ns per loop (mean ± std. dev. of 7 runs, 100,000 loops each)\n"
     ]
    }
   ],
   "source": [
    "%timeit anumbers.mean()"
   ]
  },
  {
   "cell_type": "code",
   "execution_count": 165,
   "metadata": {},
   "outputs": [
    {
     "name": "stdout",
     "output_type": "stream",
     "text": [
      "<class 'set'>\n",
      "64\n"
     ]
    }
   ],
   "source": [
    "unique = set(numbers)\n",
    "print(type(unique))\n",
    "print(len(unique))"
   ]
  },
  {
   "cell_type": "code",
   "execution_count": 166,
   "metadata": {},
   "outputs": [
    {
     "data": {
      "text/plain": [
       "100"
      ]
     },
     "execution_count": 166,
     "metadata": {},
     "output_type": "execute_result"
    }
   ],
   "source": [
    "len(numbers)"
   ]
  },
  {
   "cell_type": "code",
   "execution_count": 168,
   "metadata": {},
   "outputs": [
    {
     "name": "stdout",
     "output_type": "stream",
     "text": [
      "<class 'dict'>\n"
     ]
    }
   ],
   "source": [
    "d = {'nl': '+31', 'b':'+32','f':'+34'}\n",
    "\n",
    "print(type(d))"
   ]
  },
  {
   "cell_type": "code",
   "execution_count": 177,
   "metadata": {},
   "outputs": [
    {
     "data": {
      "text/plain": [
       "'onbekend'"
      ]
     },
     "execution_count": 177,
     "metadata": {},
     "output_type": "execute_result"
    }
   ],
   "source": [
    "d.get('d', 'onbekend')"
   ]
  },
  {
   "cell_type": "code",
   "execution_count": 184,
   "metadata": {},
   "outputs": [
    {
     "name": "stdout",
     "output_type": "stream",
     "text": [
      "nl        : +31\n",
      "b         : +32\n",
      "f         : +34\n",
      "uk        : +44\n"
     ]
    }
   ],
   "source": [
    "for k, v in d.items():\n",
    "    print(f'{k:10}: {v}')"
   ]
  },
  {
   "cell_type": "code",
   "execution_count": 185,
   "metadata": {},
   "outputs": [
    {
     "data": {
      "text/plain": [
       "'ABCD EGGDJ SJHG'"
      ]
     },
     "execution_count": 185,
     "metadata": {},
     "output_type": "execute_result"
    }
   ],
   "source": [
    "s = 'abcd eggdj sjhg'\n",
    "s.upper()"
   ]
  },
  {
   "cell_type": "code",
   "execution_count": 186,
   "metadata": {},
   "outputs": [],
   "source": [
    "numbers = [1,2,3]\n",
    "numbers.append(9)"
   ]
  },
  {
   "cell_type": "code",
   "execution_count": 188,
   "metadata": {},
   "outputs": [
    {
     "name": "stdout",
     "output_type": "stream",
     "text": [
      "I am Peter and I live in Lhee.\n",
      "I am Peter and I live in Soesterberg.\n"
     ]
    }
   ],
   "source": [
    "class Person:\n",
    "\n",
    "    # initialize attributes\n",
    "    def __init__(self, name, residence):\n",
    "        self.name = name\n",
    "        self.residence = residence\n",
    "\n",
    "    # methods\n",
    "    def tell(self):\n",
    "        return f'I am {self.name} and I live in {self.residence}.'\n",
    "    \n",
    "    def move(self, new_resdence):\n",
    "        self.residence = new_resdence\n",
    "        \n",
    "# -------------------------------------------------\n",
    "\n",
    "p = Person('Peter', 'Lhee')\n",
    "\n",
    "print(p.tell())\n",
    "p.move('Soesterberg')\n",
    "print(p.tell())\n",
    "\n",
    "s = 'abc'\n",
    "print(s.upper())\n"
   ]
  },
  {
   "cell_type": "markdown",
   "metadata": {},
   "source": []
  },
  {
   "cell_type": "code",
   "execution_count": 191,
   "metadata": {},
   "outputs": [
    {
     "data": {
      "text/plain": [
       "[16, 25, 36, 49, 64, 81, 100]"
      ]
     },
     "execution_count": 191,
     "metadata": {},
     "output_type": "execute_result"
    }
   ],
   "source": [
    "[n ** 2 for n in range(1, 11) if n >= 4]  # list comprehension"
   ]
  },
  {
   "cell_type": "code",
   "execution_count": null,
   "metadata": {},
   "outputs": [],
   "source": []
  }
 ],
 "metadata": {
  "kernelspec": {
   "display_name": "base",
   "language": "python",
   "name": "python3"
  },
  "language_info": {
   "codemirror_mode": {
    "name": "ipython",
    "version": 3
   },
   "file_extension": ".py",
   "mimetype": "text/x-python",
   "name": "python",
   "nbconvert_exporter": "python",
   "pygments_lexer": "ipython3",
   "version": "3.11.11"
  }
 },
 "nbformat": 4,
 "nbformat_minor": 2
}
