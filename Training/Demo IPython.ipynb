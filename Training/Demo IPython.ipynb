{
 "cells": [
  {
   "cell_type": "markdown",
   "id": "87bd78ba-1bac-4215-a4a0-ac899299bef4",
   "metadata": {},
   "source": [
    "# Demo IPython"
   ]
  },
  {
   "cell_type": "code",
   "execution_count": 1,
   "id": "c31e9a07-8d16-4fe0-b432-fc917051d8c5",
   "metadata": {},
   "outputs": [
    {
     "name": "stdout",
     "output_type": "stream",
     "text": [
      "Demo IPython.ipynb          First notebook.ipynb\n",
      "Demo Jupyter Notebook.ipynb\n"
     ]
    }
   ],
   "source": [
    "# !dir\n",
    "\n",
    "!ls"
   ]
  },
  {
   "cell_type": "code",
   "execution_count": 2,
   "id": "6f0aabf5-14dd-4d42-b2e4-453b0a7f6bac",
   "metadata": {},
   "outputs": [
    {
     "name": "stdout",
     "output_type": "stream",
     "text": [
      "71 ns ± 0.49 ns per loop (mean ± std. dev. of 7 runs, 10,000,000 loops each)\n"
     ]
    }
   ],
   "source": [
    "%timeit 'Het getal is' + str(42)"
   ]
  },
  {
   "cell_type": "code",
   "execution_count": 3,
   "id": "fe86ab1d-7299-4f6a-b510-d66cc5987aff",
   "metadata": {},
   "outputs": [
    {
     "name": "stdout",
     "output_type": "stream",
     "text": [
      "71.5 ns ± 0.324 ns per loop (mean ± std. dev. of 7 runs, 10,000,000 loops each)\n"
     ]
    }
   ],
   "source": [
    "%timeit f'Het getal is {42}'"
   ]
  },
  {
   "cell_type": "code",
   "execution_count": 5,
   "id": "514a496e-9f44-439f-89e2-dc00558088db",
   "metadata": {},
   "outputs": [
    {
     "data": {
      "text/plain": [
       "235551"
      ]
     },
     "execution_count": 5,
     "metadata": {},
     "output_type": "execute_result"
    }
   ],
   "source": [
    "234987 + 564"
   ]
  },
  {
   "cell_type": "code",
   "execution_count": 8,
   "id": "c58f0037-6b85-4a28-a0d0-7e4bf43e9094",
   "metadata": {},
   "outputs": [
    {
     "name": "stdout",
     "output_type": "stream",
     "text": [
      "# !dir\n",
      "\n",
      "!ls\n",
      "%timeit 'Het getal is' + str(42)\n",
      "%timeit f'Het getal is {42}'\n",
      "_\n",
      "234987 + 564\n",
      "_\n",
      "_In5\n",
      "%hist\n"
     ]
    }
   ],
   "source": [
    "%hist"
   ]
  },
  {
   "cell_type": "code",
   "execution_count": 9,
   "id": "7f5ecd8c-2cd7-46cf-b9a0-4ef098ed83d1",
   "metadata": {},
   "outputs": [
    {
     "data": {
      "text/plain": [
       "'234987 + 564'"
      ]
     },
     "execution_count": 9,
     "metadata": {},
     "output_type": "execute_result"
    }
   ],
   "source": [
    "In[5]"
   ]
  },
  {
   "cell_type": "code",
   "execution_count": 10,
   "id": "e3a3aa04-c5a0-4649-97e3-92cc87d62528",
   "metadata": {},
   "outputs": [
    {
     "data": {
      "text/plain": [
       "235551"
      ]
     },
     "execution_count": 10,
     "metadata": {},
     "output_type": "execute_result"
    }
   ],
   "source": [
    "Out[5]"
   ]
  },
  {
   "cell_type": "code",
   "execution_count": null,
   "id": "6f274028-0829-4ee8-938b-02a0c38440aa",
   "metadata": {},
   "outputs": [],
   "source": []
  }
 ],
 "metadata": {
  "kernelspec": {
   "display_name": "Python 3 (ipykernel)",
   "language": "python",
   "name": "python3"
  },
  "language_info": {
   "codemirror_mode": {
    "name": "ipython",
    "version": 3
   },
   "file_extension": ".py",
   "mimetype": "text/x-python",
   "name": "python",
   "nbconvert_exporter": "python",
   "pygments_lexer": "ipython3",
   "version": "3.11.4"
  }
 },
 "nbformat": 4,
 "nbformat_minor": 5
}
