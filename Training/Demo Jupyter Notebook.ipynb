{
 "cells": [
  {
   "cell_type": "markdown",
   "id": "653225f0-89db-4599-b4ee-94f0297d4f00",
   "metadata": {},
   "source": [
    "# Demo Jupyter Notebook"
   ]
  },
  {
   "cell_type": "code",
   "execution_count": 1,
   "id": "63a10828-5dd7-4680-b8d0-3dc2630587da",
   "metadata": {},
   "outputs": [],
   "source": [
    "import numpy as np"
   ]
  },
  {
   "cell_type": "markdown",
   "id": "d9216cfa-2cdc-40ab-89a3-612eab8273af",
   "metadata": {},
   "source": [
    "# Heading 1\n",
    "## Heading 2\n",
    "### Heading 3\n",
    "#### Heading 4\n",
    "##### Heading 5\n",
    "###### Heading 6\n"
   ]
  },
  {
   "cell_type": "markdown",
   "id": "ceb617e5-366d-4562-a3a8-db4eb0f6e7e8",
   "metadata": {},
   "source": [
    "See: https://jupyter.org"
   ]
  },
  {
   "cell_type": "markdown",
   "id": "8d2a404b-a21a-426e-b9d9-c788fe748a7f",
   "metadata": {},
   "source": [
    "### Lists\n",
    "\n",
    "* AAA\n",
    "* BBBB\n",
    "* CCCCC\n",
    "* D\n",
    "\n",
    "### or\n",
    "\n",
    "1. Een\n",
    "2. Twee\n",
    "3. Drie\n"
   ]
  },
  {
   "cell_type": "markdown",
   "id": "d06afee0-cd8a-4fe2-800b-0950c5730e6f",
   "metadata": {},
   "source": [
    "### Data Science Hankbook - Jake Vanderplas\n",
    "\n",
    "https://jakevdp.github.io/PythonDataScienceHandbook/"
   ]
  },
  {
   "cell_type": "code",
   "execution_count": 5,
   "id": "a4ea092c-69b8-492a-bbf0-d1d042170c4b",
   "metadata": {},
   "outputs": [
    {
     "name": "stdout",
     "output_type": "stream",
     "text": [
      "8\n"
     ]
    }
   ],
   "source": [
    "numbers = [23,45,67,78,34,45,76,78]\n",
    "print(len(numbers))"
   ]
  },
  {
   "cell_type": "code",
   "execution_count": null,
   "id": "85eaa038-c557-4175-b938-7f4d853cb5bb",
   "metadata": {},
   "outputs": [],
   "source": []
  }
 ],
 "metadata": {
  "kernelspec": {
   "display_name": "Python 3 (ipykernel)",
   "language": "python",
   "name": "python3"
  },
  "language_info": {
   "codemirror_mode": {
    "name": "ipython",
    "version": 3
   },
   "file_extension": ".py",
   "mimetype": "text/x-python",
   "name": "python",
   "nbconvert_exporter": "python",
   "pygments_lexer": "ipython3",
   "version": "3.11.4"
  }
 },
 "nbformat": 4,
 "nbformat_minor": 5
}
