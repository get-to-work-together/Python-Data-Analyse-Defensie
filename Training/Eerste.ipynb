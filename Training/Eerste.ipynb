{
 "cells": [
  {
   "cell_type": "markdown",
   "id": "ef5ceca6-9c5b-4e52-a4a5-ef11aa3240a2",
   "metadata": {},
   "source": [
    "# Eerste Notebook\n",
    "\n",
    "https://github.com/get-to-work-together/Python-Data-Analyse-Defensie"
   ]
  },
  {
   "cell_type": "code",
   "execution_count": 15,
   "id": "c154d596-9d3f-44c4-95d1-2df0e9b9b56b",
   "metadata": {},
   "outputs": [],
   "source": [
    "import numpy as np\n",
    "import pandas as pd\n",
    "import matplotlib.pyplot as plt\n",
    "import seaborn as sns\n",
    "import scipy\n",
    "import sklearn"
   ]
  },
  {
   "cell_type": "code",
   "execution_count": 2,
   "id": "ba8b71e3-6abd-4236-b011-9cf5ee6e917e",
   "metadata": {},
   "outputs": [
    {
     "name": "stdout",
     "output_type": "stream",
     "text": [
      "Hello world\n"
     ]
    }
   ],
   "source": [
    "print('Hello world')"
   ]
  },
  {
   "cell_type": "markdown",
   "id": "fb49bda5-7530-45d7-992f-454d89e2a332",
   "metadata": {},
   "source": [
    "### Numeriek"
   ]
  },
  {
   "cell_type": "code",
   "execution_count": 3,
   "id": "6f107fd2-37ff-48da-8304-b23cd6125798",
   "metadata": {},
   "outputs": [
    {
     "data": {
      "text/plain": [
       "4362543"
      ]
     },
     "execution_count": 3,
     "metadata": {},
     "output_type": "execute_result"
    }
   ],
   "source": [
    "3879246 + 483297"
   ]
  },
  {
   "cell_type": "code",
   "execution_count": 5,
   "id": "deafa764-2404-4a7a-a81b-cf26cea6fcca",
   "metadata": {},
   "outputs": [
    {
     "data": {
      "text/plain": [
       "27981136"
      ]
     },
     "execution_count": 5,
     "metadata": {},
     "output_type": "execute_result"
    }
   ],
   "source": [
    "var = 3098 * 9032\n",
    "var"
   ]
  },
  {
   "cell_type": "code",
   "execution_count": 14,
   "id": "bc6a33a8-14a9-40ca-8259-936453849d3f",
   "metadata": {},
   "outputs": [
    {
     "data": {
      "text/plain": [
       "'ABCDEFG'"
      ]
     },
     "execution_count": 14,
     "metadata": {},
     "output_type": "execute_result"
    }
   ],
   "source": [
    "s = 'abcdefg'\n",
    "s.upper()    # tab!!!"
   ]
  },
  {
   "cell_type": "code",
   "execution_count": null,
   "id": "33193d9e-7ebe-4ac5-913d-39009eeba425",
   "metadata": {},
   "outputs": [],
   "source": []
  }
 ],
 "metadata": {
  "kernelspec": {
   "display_name": "Python 3 (ipykernel)",
   "language": "python",
   "name": "python3"
  },
  "language_info": {
   "codemirror_mode": {
    "name": "ipython",
    "version": 3
   },
   "file_extension": ".py",
   "mimetype": "text/x-python",
   "name": "python",
   "nbconvert_exporter": "python",
   "pygments_lexer": "ipython3",
   "version": "3.10.13"
  }
 },
 "nbformat": 4,
 "nbformat_minor": 5
}
