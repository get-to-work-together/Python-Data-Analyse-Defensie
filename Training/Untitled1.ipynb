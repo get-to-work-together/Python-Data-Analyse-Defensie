{
 "cells": [
  {
   "cell_type": "code",
   "execution_count": 1,
   "id": "3375dbb2-295e-4059-b265-e2c3bd814391",
   "metadata": {},
   "outputs": [],
   "source": [
    "import random"
   ]
  },
  {
   "cell_type": "code",
   "execution_count": 3,
   "id": "230c89b7-c0c9-407f-a041-7ae640469220",
   "metadata": {},
   "outputs": [
    {
     "data": {
      "text/plain": [
       "[22,\n",
       " 72,\n",
       " 18,\n",
       " 73,\n",
       " 39,\n",
       " 78,\n",
       " 18,\n",
       " 57,\n",
       " 45,\n",
       " 15,\n",
       " 29,\n",
       " 69,\n",
       " 54,\n",
       " 84,\n",
       " 92,\n",
       " 88,\n",
       " 63,\n",
       " 79,\n",
       " 52,\n",
       " 44]"
      ]
     },
     "execution_count": 3,
     "metadata": {},
     "output_type": "execute_result"
    }
   ],
   "source": [
    "numbers = [random.randint(1, 100) for _ in range(20)]\n",
    "numbers"
   ]
  },
  {
   "cell_type": "code",
   "execution_count": 76,
   "id": "994861ea-4490-45d5-8692-a2f6cdd00b5d",
   "metadata": {},
   "outputs": [],
   "source": [
    "numbers = [55, 86, 98, 13, 51, 46, 9, 60, 22, 69, 56, 17, 29, 86, 26, 88]"
   ]
  },
  {
   "cell_type": "code",
   "execution_count": 77,
   "id": "68e8b234-c55d-4ee5-9cf1-3b88e71564a7",
   "metadata": {},
   "outputs": [
    {
     "data": {
      "text/plain": [
       "50.6875"
      ]
     },
     "execution_count": 77,
     "metadata": {},
     "output_type": "execute_result"
    }
   ],
   "source": [
    "mean = sum(numbers) / len(numbers)\n",
    "mean"
   ]
  },
  {
   "cell_type": "code",
   "execution_count": 78,
   "id": "60b6ed60-9a23-4150-8b78-de43730d11bf",
   "metadata": {},
   "outputs": [
    {
     "data": {
      "text/plain": [
       "[9, 13, 17, 22, 26, 29, 46, 51, 55, 56, 60, 69, 86, 86, 88, 98]"
      ]
     },
     "execution_count": 78,
     "metadata": {},
     "output_type": "execute_result"
    }
   ],
   "source": [
    "sorted(numbers)"
   ]
  },
  {
   "cell_type": "code",
   "execution_count": 79,
   "id": "940705ff-1875-4311-b068-e8294a4f7a0a",
   "metadata": {},
   "outputs": [],
   "source": [
    "import statistics"
   ]
  },
  {
   "cell_type": "code",
   "execution_count": 80,
   "id": "537539a2-042b-432c-9ce0-e72a7f8b74a1",
   "metadata": {},
   "outputs": [
    {
     "data": {
      "text/plain": [
       "53.0"
      ]
     },
     "execution_count": 80,
     "metadata": {},
     "output_type": "execute_result"
    }
   ],
   "source": [
    "median = statistics.median(numbers)\n",
    "median"
   ]
  },
  {
   "cell_type": "code",
   "execution_count": 81,
   "id": "7c343276-c67c-4bb2-ba62-4ebee4dd0ef6",
   "metadata": {},
   "outputs": [
    {
     "name": "stdout",
     "output_type": "stream",
     "text": [
      "Eerste kwartiel 23.0\n",
      "Derde kwartiel 81.75\n"
     ]
    }
   ],
   "source": [
    "q1, q2, q3 = statistics.quantiles(numbers)\n",
    "\n",
    "print('Eerste kwartiel', q1)\n",
    "print('Derde kwartiel', q3)"
   ]
  },
  {
   "cell_type": "code",
   "execution_count": 88,
   "id": "f6e45423-a1c5-4e0c-8cdd-76c79b947be5",
   "metadata": {},
   "outputs": [],
   "source": [
    "numbers.append(200)"
   ]
  },
  {
   "cell_type": "code",
   "execution_count": 86,
   "id": "a05bcc4f-47bf-4dfe-9374-d47098e9a544",
   "metadata": {},
   "outputs": [],
   "source": [
    "def analyze_numbers(numbers: list[{int, float}]) -> dict:\n",
    "    \"\"\"Analyse the given list of numbers\n",
    "\n",
    "    Determine various metrics: \n",
    "        count\n",
    "        minimum\n",
    "        maximum\n",
    "        sum\n",
    "        mean\n",
    "        median\n",
    "        first quantile (Q1)\n",
    "        third quantile (Q3)\n",
    "        interquntaile range (IQR)\n",
    "        list of outliers according to Turkey's algorithm\n",
    "\n",
    "    arguments:\n",
    "        numbers: a list of numeric (int or float) values\n",
    "    \n",
    "    return value:\n",
    "        dictionary with analyzed metrics\n",
    "    \"\"\"\n",
    "    \n",
    "    n = len(numbers)\n",
    "    total = sum(numbers)\n",
    "    q1, median, q3 = statistics.quantiles(numbers)\n",
    "    iqr = q3 - q1\n",
    "    lower = q1 - 1.5 * iqr\n",
    "    upper = q3 + 1.5 * iqr\n",
    "    outliers = [n for n in numbers if n < lower or n > upper]\n",
    "    \n",
    "    d = {\n",
    "        'count': n,\n",
    "        'minimum': min(numbers),\n",
    "        'maximum': max(numbers),\n",
    "        'sum': total,\n",
    "        'mean': total / n,\n",
    "        'median': median,\n",
    "        'Q1': q1,\n",
    "        'Q3': q3,\n",
    "        'IQR': iqr,\n",
    "        'lower bound': lower,\n",
    "        'upper bound': upper,\n",
    "        'outliers': outliers\n",
    "    }\n",
    "    return d"
   ]
  },
  {
   "cell_type": "code",
   "execution_count": 89,
   "id": "5652813c-1c51-42a7-8a18-d7fbe9a25fa1",
   "metadata": {},
   "outputs": [
    {
     "data": {
      "text/plain": [
       "{'count': 17,\n",
       " 'minimum': 9,\n",
       " 'maximum': 200,\n",
       " 'sum': 1011,\n",
       " 'mean': 59.470588235294116,\n",
       " 'median': 55.0,\n",
       " 'Q1': 24.0,\n",
       " 'Q3': 86.0,\n",
       " 'IQR': 62.0,\n",
       " 'lower bound': -69.0,\n",
       " 'upper bound': 179.0,\n",
       " 'outliers': [200]}"
      ]
     },
     "execution_count": 89,
     "metadata": {},
     "output_type": "execute_result"
    }
   ],
   "source": [
    "analyze_numbers(numbers)"
   ]
  },
  {
   "cell_type": "code",
   "execution_count": 92,
   "id": "da2c6b59-e67e-4b9f-8266-ce94b1cd4139",
   "metadata": {},
   "outputs": [
    {
     "name": "stdout",
     "output_type": "stream",
     "text": [
      "{'IQR': 62.0,\n",
      " 'Q1': 24.0,\n",
      " 'Q3': 86.0,\n",
      " 'count': 17,\n",
      " 'lower bound': -69.0,\n",
      " 'maximum': 200,\n",
      " 'mean': 59.470588235294116,\n",
      " 'median': 55.0,\n",
      " 'minimum': 9,\n",
      " 'outliers': [200],\n",
      " 'sum': 1011,\n",
      " 'upper bound': 179.0}\n"
     ]
    }
   ],
   "source": [
    "from pprint import pprint\n",
    "\n",
    "pprint(analyze_numbers(numbers))"
   ]
  },
  {
   "cell_type": "code",
   "execution_count": 91,
   "id": "dd0ac6c1-3a32-440a-8a46-de76bd4cc0e1",
   "metadata": {},
   "outputs": [
    {
     "name": "stdout",
     "output_type": "stream",
     "text": [
      "Help on function analyze_numbers in module __main__:\n",
      "\n",
      "analyze_numbers(numbers: list[{<class 'int'>, <class 'float'>}]) -> dict\n",
      "    Analyse the given list of numbers\n",
      "    \n",
      "    Determine various metrics: \n",
      "        count\n",
      "        minimum\n",
      "        maximum\n",
      "        sum\n",
      "        mean\n",
      "        median\n",
      "        first quantile (Q1)\n",
      "        third quantile (Q3)\n",
      "        interquntaile range (IQR)\n",
      "        list of outliers according to Turkey's algorithm\n",
      "    \n",
      "    arguments:\n",
      "        numbers: a list of numeric (int or float) values\n",
      "    \n",
      "    return value:\n",
      "        dictionary with analyzed metrics\n",
      "\n"
     ]
    }
   ],
   "source": [
    "help(analyze_numbers)"
   ]
  },
  {
   "cell_type": "code",
   "execution_count": 82,
   "id": "897ca954-f6c6-4d81-91c0-414ea110224c",
   "metadata": {},
   "outputs": [],
   "source": [
    "import matplotlib.pyplot as plt"
   ]
  },
  {
   "cell_type": "code",
   "execution_count": 90,
   "id": "3d6942d8-e52d-4ae7-9ce7-a2e382242d40",
   "metadata": {},
   "outputs": [
    {
     "data": {
      "image/png": "[encoded data removed]",
      "text/plain": [
       "<Figure size 640x480 with 1 Axes>"
      ]
     },
     "metadata": {},
     "output_type": "display_data"
    }
   ],
   "source": [
    "plt.boxplot(numbers)\n",
    "plt.show()"
   ]
  },
  {
   "cell_type": "code",
   "execution_count": 62,
   "id": "a967adf1-d3b0-473f-890e-ab355d974891",
   "metadata": {},
   "outputs": [
    {
     "data": {
      "image/png": "[encoded data removed]",
      "text/plain": [
       "<Figure size 640x480 with 1 Axes>"
      ]
     },
     "metadata": {},
     "output_type": "display_data"
    }
   ],
   "source": [
    "plt.violinplot(numbers)\n",
    "plt.show()"
   ]
  },
  {
   "cell_type": "code",
   "execution_count": null,
   "id": "2942e500-1e68-478e-8015-5ae85c0c7512",
   "metadata": {},
   "outputs": [],
   "source": []
  }
 ],
 "metadata": {
  "kernelspec": {
   "display_name": "Python 3 (ipykernel)",
   "language": "python",
   "name": "python3"
  },
  "language_info": {
   "codemirror_mode": {
    "name": "ipython",
    "version": 3
   },
   "file_extension": ".py",
   "mimetype": "text/x-python",
   "name": "python",
   "nbconvert_exporter": "python",
   "pygments_lexer": "ipython3",
   "version": "3.11.4"
  }
 },
 "nbformat": 4,
 "nbformat_minor": 5
}
